{
  "cells": [
    {
      "cell_type": "markdown",
      "metadata": {
        "id": "view-in-github",
        "colab_type": "text"
      },
      "source": [
        "<a href=\"https://colab.research.google.com/github/Aakriti555/Nammi-task3/blob/main/NAAMII_Task_3_Bone_segmentation.ipynb\" target=\"_parent\"><img src=\"https://colab.research.google.com/assets/colab-badge.svg\" alt=\"Open In Colab\"/></a>"
      ]
    },
    {
      "cell_type": "code",
      "execution_count": 215,
      "metadata": {
        "colab": {
          "base_uri": "https://localhost:8080/"
        },
        "id": "Slg8VxTMJ6wQ",
        "outputId": "a3d6dd7b-15d7-40e5-f117-6035750a4457"
      },
      "outputs": [
        {
          "output_type": "stream",
          "name": "stdout",
          "text": [
            "Requirement already satisfied: nibabel in /usr/local/lib/python3.11/dist-packages (5.3.2)\n",
            "Requirement already satisfied: importlib-resources>=5.12 in /usr/local/lib/python3.11/dist-packages (from nibabel) (6.5.2)\n",
            "Requirement already satisfied: numpy>=1.22 in /usr/local/lib/python3.11/dist-packages (from nibabel) (2.0.2)\n",
            "Requirement already satisfied: packaging>=20 in /usr/local/lib/python3.11/dist-packages (from nibabel) (25.0)\n",
            "Requirement already satisfied: typing-extensions>=4.6 in /usr/local/lib/python3.11/dist-packages (from nibabel) (4.14.0)\n"
          ]
        }
      ],
      "source": [
        "!pip install nibabel"
      ]
    },
    {
      "cell_type": "code",
      "execution_count": 216,
      "metadata": {
        "id": "lld6xUYNeTL1"
      },
      "outputs": [],
      "source": [
        "import os\n",
        "import numpy as np\n",
        "import pandas as pd\n",
        "import matplotlib.pyplot as plt\n",
        "%matplotlib inline\n",
        "import nibabel as nib # common way of importing nibabel\n",
        "from skimage.feature import peak_local_max\n",
        "from collections import deque"
      ]
    },
    {
      "cell_type": "code",
      "execution_count": 217,
      "metadata": {
        "colab": {
          "base_uri": "https://localhost:8080/",
          "height": 122
        },
        "id": "KAnbtGCWSpwv",
        "outputId": "48a25272-6650-4a9c-a89e-226f184233c2"
      },
      "outputs": [
        {
          "output_type": "stream",
          "name": "stderr",
          "text": [
            "Downloading...\n",
            "From (original): https://drive.google.com/uc?id=1NR7OEboARP_fpseIZOY0Wy8Ir1NEYfL5\n",
            "From (redirected): https://drive.google.com/uc?id=1NR7OEboARP_fpseIZOY0Wy8Ir1NEYfL5&confirm=t&uuid=130b5082-70db-4ced-9ad3-94c627513c96\n",
            "To: /content/3702_left_knee.nii.gz\n",
            "100%|██████████| 26.2M/26.2M [00:00<00:00, 242MB/s]\n"
          ]
        },
        {
          "output_type": "execute_result",
          "data": {
            "text/plain": [
              "'3702_left_knee.nii.gz'"
            ],
            "application/vnd.google.colaboratory.intrinsic+json": {
              "type": "string"
            }
          },
          "metadata": {},
          "execution_count": 217
        }
      ],
      "source": [
        "import gdown\n",
        "gdown.download(url=\"https://drive.google.com/file/d/1NR7OEboARP_fpseIZOY0Wy8Ir1NEYfL5/edit\", output=\"3702_left_knee.nii.gz\", fuzzy=True)"
      ]
    },
    {
      "cell_type": "code",
      "execution_count": 218,
      "metadata": {
        "id": "RY44uSfwf6an",
        "colab": {
          "base_uri": "https://localhost:8080/"
        },
        "outputId": "dba99627-632f-42d0-8f0c-57a9f95a33fc"
      },
      "outputs": [
        {
          "output_type": "stream",
          "name": "stdout",
          "text": [
            "<class 'nibabel.nifti1.Nifti1Image'>\n"
          ]
        }
      ],
      "source": [
        "mri_file = '/content/3702_left_knee.nii.gz'\n",
        "img = nib.load(mri_file)\n",
        "print(type(img))"
      ]
    },
    {
      "cell_type": "code",
      "execution_count": 219,
      "metadata": {
        "colab": {
          "base_uri": "https://localhost:8080/"
        },
        "id": "1Q5P0l2dgGhv",
        "outputId": "b6f61a0e-e546-4e5e-d643-a9479830c671"
      },
      "outputs": [
        {
          "output_type": "stream",
          "name": "stdout",
          "text": [
            "(512, 512, 216)\n"
          ]
        }
      ],
      "source": [
        "print(img.shape)"
      ]
    },
    {
      "cell_type": "code",
      "execution_count": 220,
      "metadata": {
        "id": "UarOHi6NhZzx"
      },
      "outputs": [],
      "source": [
        "# here, we're storing the header attribute in a new variable, hdr, for easy of use\n",
        "hdr = img.header"
      ]
    },
    {
      "cell_type": "code",
      "execution_count": 221,
      "metadata": {
        "colab": {
          "base_uri": "https://localhost:8080/"
        },
        "id": "Gp797O1bi0mu",
        "outputId": "03102dc3-1d3d-469c-b1dc-97d0f73b1573"
      },
      "outputs": [
        {
          "output_type": "execute_result",
          "data": {
            "text/plain": [
              "(np.float32(0.869141), np.float32(0.869141), np.float32(2.0))"
            ]
          },
          "metadata": {},
          "execution_count": 221
        }
      ],
      "source": [
        "hdr.get_zooms()  # it's a 1x1x1 mm MRI file!"
      ]
    },
    {
      "cell_type": "code",
      "execution_count": 222,
      "metadata": {
        "id": "Q5N2oh9TjVR5"
      },
      "outputs": [],
      "source": [
        "img_data = img.get_fdata()"
      ]
    },
    {
      "cell_type": "code",
      "execution_count": 223,
      "metadata": {
        "colab": {
          "base_uri": "https://localhost:8080/"
        },
        "id": "dfu8X7VNjY3Z",
        "outputId": "ded72fd4-d13c-4b34-9904-b8c8ae1755fa"
      },
      "outputs": [
        {
          "output_type": "stream",
          "name": "stdout",
          "text": [
            "(512, 216)\n"
          ]
        }
      ],
      "source": [
        "slice_index = 260  # adjust as needed\n",
        "mid_slice_x = img_data[:,slice_index, :]\n",
        "print(mid_slice_x.shape)"
      ]
    },
    {
      "cell_type": "code",
      "execution_count": 224,
      "metadata": {
        "colab": {
          "base_uri": "https://localhost:8080/",
          "height": 465
        },
        "id": "aAnMP2iMjhM3",
        "outputId": "6297d5ed-96c8-4fc8-98ce-845fd9772d16"
      },
      "outputs": [
        {
          "output_type": "display_data",
          "data": {
            "text/plain": [
              "<Figure size 2000x500 with 2 Axes>"
            ],
            "image/png": "[encoded data removed]"
          },
          "metadata": {}
        }
      ],
      "source": [
        "# Note that the transpose the slice (using the .T attribute).\n",
        "# This is because imshow plots the first dimension on the y-axis and the\n",
        "# second on the x-axis, but we'd like to plot the first on the x-axis and the\n",
        "# second on the y-axis. Also, the origin to \"lower\", as the data was saved in\n",
        "# \"cartesian\" coordinates.\n",
        "plt.imshow(mid_slice_x.T, cmap='gray', origin='lower')\n",
        "plt.xlabel('First axis')\n",
        "plt.ylabel('Second axis')\n",
        "plt.colorbar(label='Signal intensity')\n",
        "plt.rcParams[\"figure.figsize\"] = (20,5)\n",
        "plt.show()"
      ]
    },
    {
      "cell_type": "markdown",
      "source": [
        "## Segmentation"
      ],
      "metadata": {
        "id": "f2LSW4Fd_GND"
      }
    },
    {
      "cell_type": "code",
      "source": [
        "from skimage.segmentation import clear_border\n",
        "from skimage import measure\n",
        "from skimage.measure import label,regionprops\n",
        "from scipy import ndimage as ndi\n",
        "from scipy.ndimage import measurements, center_of_mass, binary_dilation, zoom\n",
        "import plotly.graph_objects as go\n",
        "\n",
        "import ipywidgets as widgets\n",
        "from IPython.display import display\n",
        "import cv2"
      ],
      "metadata": {
        "id": "ceNx4T6anwze"
      },
      "execution_count": 225,
      "outputs": []
    },
    {
      "cell_type": "code",
      "source": [
        "# Get the data as a NumPy array\n",
        "\n",
        "img = img.get_fdata()"
      ],
      "metadata": {
        "id": "LnaOeRRb_TiL"
      },
      "execution_count": 226,
      "outputs": []
    },
    {
      "cell_type": "code",
      "source": [
        "img = img.transpose(1, 0, 2)\n",
        "img = np.rot90(img, k=3, axes=(1, 2))"
      ],
      "metadata": {
        "id": "Ih1-rFhB_NPZ"
      },
      "execution_count": 227,
      "outputs": []
    },
    {
      "cell_type": "code",
      "source": [
        "# Function to update the plot\n",
        "def update_ct_display_slice(slice_index):\n",
        "    plt.figure()\n",
        "    plt.xlabel('First axis')\n",
        "    plt.ylabel('Second axis')\n",
        "    plt.pcolormesh(img[slice_index])\n",
        "    plt.colorbar()\n",
        "    plt.show()\n",
        "\n",
        "# Create a slider\n",
        "slider = widgets.IntSlider(value=0, min=200, max=320, step=1, description='Slice:')\n",
        "widgets.interact(update_ct_display_slice, slice_index=slider)"
      ],
      "metadata": {
        "colab": {
          "base_uri": "https://localhost:8080/",
          "height": 515,
          "referenced_widgets": [
            "f24173f1915e4cab9e7fec935a2a1114",
            "9b7f420c697b4d83a34c5f10fd1e8df0",
            "8c75f9ddddec46c29fb1f89225aac56a",
            "0506e7c055d740aea890f2d6008b6298",
            "fa80bb4d1ce04d1b89a66f3eeb64c462",
            "06169b4d906e4e40845232f848b2a287",
            "3da3603c295040a7825d032725f29e42"
          ]
        },
        "id": "49hsxU61_Pct",
        "outputId": "14dfe663-3975-44f5-fb6b-82e68bee2e65"
      },
      "execution_count": 228,
      "outputs": [
        {
          "output_type": "display_data",
          "data": {
            "text/plain": [
              "interactive(children=(IntSlider(value=200, description='Slice:', max=320, min=200), Output()), _dom_classes=('…"
            ],
            "application/vnd.jupyter.widget-view+json": {
              "version_major": 2,
              "version_minor": 0,
              "model_id": "f24173f1915e4cab9e7fec935a2a1114"
            }
          },
          "metadata": {}
        },
        {
          "output_type": "execute_result",
          "data": {
            "text/plain": [
              "<function __main__.update_ct_display_slice(slice_index)>"
            ],
            "text/html": [
              "<div style=\"max-width:800px; border: 1px solid var(--colab-border-color);\"><style>\n",
              "      pre.function-repr-contents {\n",
              "        overflow-x: auto;\n",
              "        padding: 8px 12px;\n",
              "        max-height: 500px;\n",
              "      }\n",
              "\n",
              "      pre.function-repr-contents.function-repr-contents-collapsed {\n",
              "        cursor: pointer;\n",
              "        max-height: 100px;\n",
              "      }\n",
              "    </style>\n",
              "    <pre style=\"white-space: initial; background:\n",
              "         var(--colab-secondary-surface-color); padding: 8px 12px;\n",
              "         border-bottom: 1px solid var(--colab-border-color);\"><b>update_ct_display_slice</b><br/>def update_ct_display_slice(slice_index)</pre><pre class=\"function-repr-contents function-repr-contents-collapsed\" style=\"\"><a class=\"filepath\" style=\"display:none\" href=\"#\">/content/&lt;ipython-input-228-3488772094&gt;</a>&lt;no docstring&gt;</pre></div>"
            ]
          },
          "metadata": {},
          "execution_count": 228
        }
      ]
    },
    {
      "cell_type": "markdown",
      "source": [
        "# Separating Bone from Background"
      ],
      "metadata": {
        "id": "2NO1mTCKBbEl"
      }
    },
    {
      "cell_type": "code",
      "source": [
        "threshold = 120\n",
        "\n",
        "# Set all values below threshold to 0\n",
        "img_bones = np.where(img >= threshold, img, 0)\n",
        "img_background = np.where(img < threshold, img, 0)"
      ],
      "metadata": {
        "id": "Ajg6tyvbBfg9"
      },
      "execution_count": 229,
      "outputs": []
    },
    {
      "cell_type": "code",
      "source": [
        "# Function to update the plot\n",
        "def update_ct_display_slice(slice_index):\n",
        "\n",
        "    plt.figure()\n",
        "    plt.pcolormesh(img_bones[slice_index])\n",
        "    plt.colorbar()\n",
        "    plt.title(f\"Bone Only Slice {slice_index}\")\n",
        "    plt.show()\n",
        "\n",
        "# Create a slider\n",
        "slider = widgets.IntSlider(value=260, min=200, max=320, step=1, description='Slice:')\n",
        "widgets.interact(update_ct_display_slice, slice_index=slider)"
      ],
      "metadata": {
        "colab": {
          "base_uri": "https://localhost:8080/",
          "height": 526,
          "referenced_widgets": [
            "350072831d5a4f97992719945647b5a5",
            "7207a3ff4b4a4fc9adfe12a6b5989b97",
            "a42a5c2b4f5b4f0da6ac2d8d19b6a8f5",
            "cc25ff4006c54a6aa08ce0afea572262",
            "6f4cc73edfa44fd49f71932ce9cc24b2",
            "09eca43e584844deadea37c3d34b21e8",
            "00f0d265096a44b58bbbcfa34538c767"
          ]
        },
        "id": "nz9krUJPCFCi",
        "outputId": "2b21127d-c74b-499d-ceb2-5f52f089c75b"
      },
      "execution_count": 230,
      "outputs": [
        {
          "output_type": "display_data",
          "data": {
            "text/plain": [
              "interactive(children=(IntSlider(value=260, description='Slice:', max=320, min=200), Output()), _dom_classes=('…"
            ],
            "application/vnd.jupyter.widget-view+json": {
              "version_major": 2,
              "version_minor": 0,
              "model_id": "350072831d5a4f97992719945647b5a5"
            }
          },
          "metadata": {}
        },
        {
          "output_type": "execute_result",
          "data": {
            "text/plain": [
              "<function __main__.update_ct_display_slice(slice_index)>"
            ],
            "text/html": [
              "<div style=\"max-width:800px; border: 1px solid var(--colab-border-color);\"><style>\n",
              "      pre.function-repr-contents {\n",
              "        overflow-x: auto;\n",
              "        padding: 8px 12px;\n",
              "        max-height: 500px;\n",
              "      }\n",
              "\n",
              "      pre.function-repr-contents.function-repr-contents-collapsed {\n",
              "        cursor: pointer;\n",
              "        max-height: 100px;\n",
              "      }\n",
              "    </style>\n",
              "    <pre style=\"white-space: initial; background:\n",
              "         var(--colab-secondary-surface-color); padding: 8px 12px;\n",
              "         border-bottom: 1px solid var(--colab-border-color);\"><b>update_ct_display_slice</b><br/>def update_ct_display_slice(slice_index)</pre><pre class=\"function-repr-contents function-repr-contents-collapsed\" style=\"\"><a class=\"filepath\" style=\"display:none\" href=\"#\">/content/&lt;ipython-input-230-2792568984&gt;</a>&lt;no docstring&gt;</pre></div>"
            ]
          },
          "metadata": {},
          "execution_count": 230
        }
      ]
    },
    {
      "cell_type": "code",
      "source": [
        "# Visualizing the Background\n",
        "\n",
        "def update_ct_display_slice(slice_index):\n",
        "\n",
        "    plt.figure()\n",
        "    plt.pcolormesh(img_background[slice_index])\n",
        "    plt.colorbar()\n",
        "    plt.title(f\"Bone Only Slice {slice_index}\")\n",
        "    plt.show()\n",
        "\n",
        "# Create a slider\n",
        "slider = widgets.IntSlider(value=0, min=200, max=320, step=1, description='Slice:')\n",
        "widgets.interact(update_ct_display_slice, slice_index=slider)"
      ],
      "metadata": {
        "colab": {
          "base_uri": "https://localhost:8080/",
          "height": 523,
          "referenced_widgets": [
            "4675c481f8b04819a8a14b8f545174ce",
            "601f2017a2314b80a42ef7721a2d4477",
            "a072c9476a2349feac1980993727b50a",
            "5cab55b9dd9449c0b4f4fb16813e6bf5",
            "0b8ec5a566664043b47cfec7ad4c99ca",
            "69179d632bb743c59f8fd904e36db071",
            "53c4ba993957453780e5481c1d2fed47"
          ]
        },
        "id": "akf8RR8uCR63",
        "outputId": "0643ee31-bf5c-4e02-f2e0-daf7f96baeac"
      },
      "execution_count": 231,
      "outputs": [
        {
          "output_type": "display_data",
          "data": {
            "text/plain": [
              "interactive(children=(IntSlider(value=200, description='Slice:', max=320, min=200), Output()), _dom_classes=('…"
            ],
            "application/vnd.jupyter.widget-view+json": {
              "version_major": 2,
              "version_minor": 0,
              "model_id": "4675c481f8b04819a8a14b8f545174ce"
            }
          },
          "metadata": {}
        },
        {
          "output_type": "execute_result",
          "data": {
            "text/plain": [
              "<function __main__.update_ct_display_slice(slice_index)>"
            ],
            "text/html": [
              "<div style=\"max-width:800px; border: 1px solid var(--colab-border-color);\"><style>\n",
              "      pre.function-repr-contents {\n",
              "        overflow-x: auto;\n",
              "        padding: 8px 12px;\n",
              "        max-height: 500px;\n",
              "      }\n",
              "\n",
              "      pre.function-repr-contents.function-repr-contents-collapsed {\n",
              "        cursor: pointer;\n",
              "        max-height: 100px;\n",
              "      }\n",
              "    </style>\n",
              "    <pre style=\"white-space: initial; background:\n",
              "         var(--colab-secondary-surface-color); padding: 8px 12px;\n",
              "         border-bottom: 1px solid var(--colab-border-color);\"><b>update_ct_display_slice</b><br/>def update_ct_display_slice(slice_index)</pre><pre class=\"function-repr-contents function-repr-contents-collapsed\" style=\"\"><a class=\"filepath\" style=\"display:none\" href=\"#\">/content/&lt;ipython-input-231-421095249&gt;</a>&lt;no docstring&gt;</pre></div>"
            ]
          },
          "metadata": {},
          "execution_count": 231
        }
      ]
    },
    {
      "cell_type": "code",
      "source": [
        "from scipy.ndimage import gaussian_filter, median_filter\n",
        "\n",
        "# Edge enhancement with unsharp masking\n",
        "blurred = gaussian_filter(img_bones, sigma=2)\n",
        "img_edges = img_bones + (img_bones - blurred) * 2  # Adjust multiplier for edge strength"
      ],
      "metadata": {
        "id": "R0iYXdEEFWBd"
      },
      "execution_count": 232,
      "outputs": []
    },
    {
      "cell_type": "code",
      "source": [
        "# Function to update the plot\n",
        "def update_ct_display_slice(slice_index):\n",
        "\n",
        "    plt.figure()\n",
        "    plt.pcolormesh(img_edges[slice_index])\n",
        "    plt.colorbar()\n",
        "    plt.title(f\"Edge Enhanced Slice {slice_index}\")\n",
        "    plt.show()\n",
        "\n",
        "# Create a slider\n",
        "slider = widgets.IntSlider(value=0, min=200, max=300, step=1, description='Slice:')\n",
        "widgets.interact(update_ct_display_slice, slice_index=slider)"
      ],
      "metadata": {
        "colab": {
          "base_uri": "https://localhost:8080/",
          "height": 525,
          "referenced_widgets": [
            "9b667e4820b147a89ecd8c8c365f0a09",
            "c780c7218ee9453d951e4aa715b5251d",
            "0b691c0dfa5e4fd3adc70c494ae81bfd",
            "04fec3e07d234fb28f4b1dc394d635fb",
            "c3fa3b4d99ee487e84b14d55ab38615e",
            "74c909a690cc43a4852b8eaa68140eee",
            "55828ec4bde44ddaadde7ff0ccc33274"
          ]
        },
        "id": "T7p-iO8BGsgA",
        "outputId": "ec8008b3-8b7e-49db-afd3-7ebdcc08e4e0"
      },
      "execution_count": 233,
      "outputs": [
        {
          "output_type": "display_data",
          "data": {
            "text/plain": [
              "interactive(children=(IntSlider(value=200, description='Slice:', max=300, min=200), Output()), _dom_classes=('…"
            ],
            "application/vnd.jupyter.widget-view+json": {
              "version_major": 2,
              "version_minor": 0,
              "model_id": "9b667e4820b147a89ecd8c8c365f0a09"
            }
          },
          "metadata": {}
        },
        {
          "output_type": "execute_result",
          "data": {
            "text/plain": [
              "<function __main__.update_ct_display_slice(slice_index)>"
            ],
            "text/html": [
              "<div style=\"max-width:800px; border: 1px solid var(--colab-border-color);\"><style>\n",
              "      pre.function-repr-contents {\n",
              "        overflow-x: auto;\n",
              "        padding: 8px 12px;\n",
              "        max-height: 500px;\n",
              "      }\n",
              "\n",
              "      pre.function-repr-contents.function-repr-contents-collapsed {\n",
              "        cursor: pointer;\n",
              "        max-height: 100px;\n",
              "      }\n",
              "    </style>\n",
              "    <pre style=\"white-space: initial; background:\n",
              "         var(--colab-secondary-surface-color); padding: 8px 12px;\n",
              "         border-bottom: 1px solid var(--colab-border-color);\"><b>update_ct_display_slice</b><br/>def update_ct_display_slice(slice_index)</pre><pre class=\"function-repr-contents function-repr-contents-collapsed\" style=\"\"><a class=\"filepath\" style=\"display:none\" href=\"#\">/content/&lt;ipython-input-233-666324503&gt;</a>&lt;no docstring&gt;</pre></div>"
            ]
          },
          "metadata": {},
          "execution_count": 233
        }
      ]
    },
    {
      "cell_type": "code",
      "source": [
        "mask = img_edges > 250\n",
        "def update_segmentation_slice(slice_index):\n",
        "    plt.figure()\n",
        "    plt.pcolormesh(mask[slice_index])\n",
        "    plt.colorbar()\n",
        "    plt.title(f\"Masked Slice {slice_index}\")\n",
        "    plt.show()\n",
        "\n",
        "slider = widgets.IntSlider(value=0, min=200, max=300, step=1, description='Slice:')\n",
        "widgets.interact(update_segmentation_slice, slice_index=slider)"
      ],
      "metadata": {
        "id": "7JlXr1q3YL_J",
        "colab": {
          "base_uri": "https://localhost:8080/",
          "height": 529,
          "referenced_widgets": [
            "155f69cf67624c868facf9611259e157",
            "6888fc2d31414fcd96bf956ea8a7f755",
            "172041542f5447868670e2421cc24375",
            "c2c2ae2abf3a4a63a514bbbd5d135eb9",
            "45181d380eff4bd0ae46f2575e71dc8f",
            "b13cc8a2a8ae4c728266241b4729984b",
            "86dafd12d8d846ddb4192fc113b49792"
          ]
        },
        "outputId": "66445c1d-16a3-479d-decd-ea948fda211c"
      },
      "execution_count": 234,
      "outputs": [
        {
          "output_type": "display_data",
          "data": {
            "text/plain": [
              "interactive(children=(IntSlider(value=200, description='Slice:', max=300, min=200), Output()), _dom_classes=('…"
            ],
            "application/vnd.jupyter.widget-view+json": {
              "version_major": 2,
              "version_minor": 0,
              "model_id": "155f69cf67624c868facf9611259e157"
            }
          },
          "metadata": {}
        },
        {
          "output_type": "execute_result",
          "data": {
            "text/plain": [
              "<function __main__.update_segmentation_slice(slice_index)>"
            ],
            "text/html": [
              "<div style=\"max-width:800px; border: 1px solid var(--colab-border-color);\"><style>\n",
              "      pre.function-repr-contents {\n",
              "        overflow-x: auto;\n",
              "        padding: 8px 12px;\n",
              "        max-height: 500px;\n",
              "      }\n",
              "\n",
              "      pre.function-repr-contents.function-repr-contents-collapsed {\n",
              "        cursor: pointer;\n",
              "        max-height: 100px;\n",
              "      }\n",
              "    </style>\n",
              "    <pre style=\"white-space: initial; background:\n",
              "         var(--colab-secondary-surface-color); padding: 8px 12px;\n",
              "         border-bottom: 1px solid var(--colab-border-color);\"><b>update_segmentation_slice</b><br/>def update_segmentation_slice(slice_index)</pre><pre class=\"function-repr-contents function-repr-contents-collapsed\" style=\"\"><a class=\"filepath\" style=\"display:none\" href=\"#\">/content/&lt;ipython-input-234-3741583932&gt;</a>&lt;no docstring&gt;</pre></div>"
            ]
          },
          "metadata": {},
          "execution_count": 234
        }
      ]
    },
    {
      "cell_type": "code",
      "source": [
        "from skimage.morphology import remove_small_objects\n",
        "from scipy.ndimage import binary_fill_holes\n",
        "\n",
        "# Remove small connected components (3D-aware)\n",
        "cleaned_mask = remove_small_objects(mask, min_size=2000, connectivity=1)\n",
        "\n",
        "# First pass: fill holes in axial slices (XY planes)\n",
        "filled_mask = np.zeros_like(cleaned_mask, dtype=bool)\n",
        "for i in range(cleaned_mask.shape[0]):\n",
        "    filled_mask[i] = binary_fill_holes(cleaned_mask[i])\n",
        "\n",
        "# Second pass: fill holes in sagittal slices (YZ planes)\n",
        "for j in range(filled_mask.shape[2]):\n",
        "    filled_mask[:, :, j] = binary_fill_holes(filled_mask[:, :, j])"
      ],
      "metadata": {
        "id": "kK7cHM6QFj3p"
      },
      "execution_count": 235,
      "outputs": []
    },
    {
      "cell_type": "code",
      "source": [
        "def update_segmentation_slice(slice_index):\n",
        "    plt.figure()\n",
        "    plt.pcolormesh(filled_mask[slice_index])\n",
        "    plt.colorbar()\n",
        "    plt.title(f\"Partially Filled and Noise Free Slice {slice_index}\")\n",
        "    plt.show()\n",
        "\n",
        "slider = widgets.IntSlider(value=0, min=200, max=300, step=1, description='Slice:')\n",
        "widgets.interact(update_segmentation_slice, slice_index=slider)"
      ],
      "metadata": {
        "colab": {
          "base_uri": "https://localhost:8080/",
          "height": 529,
          "referenced_widgets": [
            "7e12c781bfb04a898c989bee19eb7691",
            "ec27ab573272433c8682cae4f1b3923c",
            "41888005676c4a9dbaeea9396d78637a",
            "0ccd6c1325a54ee99a726f1048928b9e",
            "75579d354f5349c4b208368b5d70e305",
            "bcd204b06ade49e78017eb0b08499d3b",
            "2d54d9f4c7da4ebe8b813cb781598786"
          ]
        },
        "id": "okVspMX8Fm96",
        "outputId": "82b054cd-b8be-49e1-c00c-237e192ac3ac"
      },
      "execution_count": 236,
      "outputs": [
        {
          "output_type": "display_data",
          "data": {
            "text/plain": [
              "interactive(children=(IntSlider(value=200, description='Slice:', max=300, min=200), Output()), _dom_classes=('…"
            ],
            "application/vnd.jupyter.widget-view+json": {
              "version_major": 2,
              "version_minor": 0,
              "model_id": "7e12c781bfb04a898c989bee19eb7691"
            }
          },
          "metadata": {}
        },
        {
          "output_type": "execute_result",
          "data": {
            "text/plain": [
              "<function __main__.update_segmentation_slice(slice_index)>"
            ],
            "text/html": [
              "<div style=\"max-width:800px; border: 1px solid var(--colab-border-color);\"><style>\n",
              "      pre.function-repr-contents {\n",
              "        overflow-x: auto;\n",
              "        padding: 8px 12px;\n",
              "        max-height: 500px;\n",
              "      }\n",
              "\n",
              "      pre.function-repr-contents.function-repr-contents-collapsed {\n",
              "        cursor: pointer;\n",
              "        max-height: 100px;\n",
              "      }\n",
              "    </style>\n",
              "    <pre style=\"white-space: initial; background:\n",
              "         var(--colab-secondary-surface-color); padding: 8px 12px;\n",
              "         border-bottom: 1px solid var(--colab-border-color);\"><b>update_segmentation_slice</b><br/>def update_segmentation_slice(slice_index)</pre><pre class=\"function-repr-contents function-repr-contents-collapsed\" style=\"\"><a class=\"filepath\" style=\"display:none\" href=\"#\">/content/&lt;ipython-input-236-4124721543&gt;</a>&lt;no docstring&gt;</pre></div>"
            ]
          },
          "metadata": {},
          "execution_count": 236
        }
      ]
    },
    {
      "cell_type": "markdown",
      "source": [
        "## Separate Femur from Tibia"
      ],
      "metadata": {
        "id": "UM4WZA7NFwZU"
      }
    },
    {
      "cell_type": "code",
      "source": [
        "# from scipy.ndimage import label, center_of_mass\n",
        "\n",
        "# # filled_mask is a 2D boolean mask where both bones are connected regions\n",
        "\n",
        "# # Label connected components\n",
        "# labeled_mask, num_labels = label(filled_mask)\n",
        "\n",
        "# # Compute vertical (y-axis) centroids\n",
        "# centroids = center_of_mass(filled_mask, labeled_mask, range(1, num_labels + 1))\n",
        "# centroids_y = [c[0] for c in centroids]  # y-coordinates (row)\n",
        "\n",
        "# # Sort labels by vertical position (top = femur, bottom = tibia)\n",
        "# sorted_labels = [label_idx for _, label_idx in sorted(zip(centroids_y, range(1, num_labels + 1)))]\n",
        "\n",
        "# # Create masks\n",
        "# femur_mask = (labeled_mask == sorted_labels[0]) | (labeled_mask == sorted_labels[1])\n",
        "# tibia_mask = labeled_mask == sorted_labels[2]\n"
      ],
      "metadata": {
        "id": "OehGPil8FuIV"
      },
      "execution_count": 237,
      "outputs": []
    },
    {
      "cell_type": "code",
      "source": [
        "# def update_segmentation_slice(slice_index):\n",
        "#     fig, axs = plt.subplots(1, 2, figsize=(12, 5))\n",
        "\n",
        "#     im1 = axs[0].pcolormesh(tibia_mask[slice_index])\n",
        "#     axs[0].set_title(f\"Tibia Mask Slice {slice_index}\")\n",
        "#     plt.colorbar(im1, ax=axs[0])\n",
        "\n",
        "#     im2 = axs[1].pcolormesh(femur_mask[slice_index])\n",
        "#     axs[1].set_title(f\"Femur Mask Slice {slice_index}\")\n",
        "#     plt.colorbar(im2, ax=axs[1])\n",
        "\n",
        "#     plt.show()\n",
        "\n",
        "# slider = widgets.IntSlider(value=0, min=200, max=300, step=1, description='Slice:')\n",
        "# widgets.interact(update_segmentation_slice, slice_index=slider)"
      ],
      "metadata": {
        "id": "03nXRkNvF1w8"
      },
      "execution_count": 238,
      "outputs": []
    },
    {
      "cell_type": "markdown",
      "source": [
        "## Filling the internal gaps"
      ],
      "metadata": {
        "id": "bQi8vcZBHJmN"
      }
    },
    {
      "cell_type": "code",
      "source": [
        "# def apply_mask_coloring(mask_bool, kernel_size=15, iterations=2):\n",
        "#     # Convert boolean mask to uint8 for cv2 operations (0 and 255)\n",
        "#     mask_uint8 = mask_bool.astype(np.uint8) * 255\n",
        "\n",
        "#     kernel = cv2.getStructuringElement(cv2.MORPH_ELLIPSE, (kernel_size, kernel_size))\n",
        "#     closed = cv2.morphologyEx(mask_uint8, cv2.MORPH_CLOSE, kernel, iterations=iterations)\n",
        "\n",
        "#     # Convert back to boolean for filling holes\n",
        "#     closed_bool = closed.astype(bool)\n",
        "\n",
        "#     # Fill holes on the boolean mask\n",
        "#     filled = binary_fill_holes(closed_bool)\n",
        "\n",
        "#     return filled\n",
        "\n",
        "# # Apply separately\n",
        "# femur_mask_filled = apply_mask_coloring(femur_mask)\n",
        "# tibia_mask_filled = apply_mask_coloring(tibia_mask)"
      ],
      "metadata": {
        "id": "QLo06juGF4pn"
      },
      "execution_count": 239,
      "outputs": []
    },
    {
      "cell_type": "code",
      "source": [
        "# def update_segmentation_slice(slice_index):\n",
        "#     fig, axs = plt.subplots(1, 2, figsize=(12, 5))\n",
        "\n",
        "#     im1 = axs[0].pcolormesh(tibia_mask_filled[slice_index])\n",
        "#     axs[0].set_title(f\"Tibia Filled Slice {slice_index}\")\n",
        "#     plt.colorbar(im1, ax=axs[0])\n",
        "\n",
        "#     im2 = axs[1].pcolormesh(femur_mask_filled[slice_index])\n",
        "#     axs[1].set_title(f\"Femur Filled Slice {slice_index}\")\n",
        "#     plt.colorbar(im2, ax=axs[1])\n",
        "\n",
        "#     plt.show()\n",
        "\n",
        "# slider = widgets.IntSlider(value=0, min=200, max=300, step=1, description='Slice:')\n",
        "# widgets.interact(update_segmentation_slice, slice_index=slider)"
      ],
      "metadata": {
        "id": "fkDLqGl-HRtf"
      },
      "execution_count": 240,
      "outputs": []
    },
    {
      "cell_type": "code",
      "source": [
        "# femur_segment = img * femur_mask_filled\n",
        "# tibia_segment = img * tibia_mask_filled\n",
        "# overall_mask = femur_mask_filled | tibia_mask_filled\n",
        "# overall_segment = img * overall_mask"
      ],
      "metadata": {
        "id": "fFSz6kvzHhof"
      },
      "execution_count": 241,
      "outputs": []
    },
    {
      "cell_type": "code",
      "source": [
        "# def update_segmentation_slice(slice_index):\n",
        "#     fig, axs = plt.subplots(1, 3, figsize=(18, 5))\n",
        "\n",
        "#     im1 = axs[0].pcolormesh(femur_segment[slice_index])\n",
        "#     axs[0].set_title(f\"Femur Segment Slice {slice_index}\")\n",
        "#     plt.colorbar(im1, ax=axs[0])\n",
        "\n",
        "#     im2 = axs[1].pcolormesh(tibia_segment[slice_index])\n",
        "#     axs[1].set_title(f\"Tibia Segment Slice {slice_index}\")\n",
        "#     plt.colorbar(im2, ax=axs[1])\n",
        "\n",
        "#     im3 = axs[2].pcolormesh(overall_segment[slice_index])\n",
        "#     axs[2].set_title(f\"Overall Segment Slice {slice_index}\")\n",
        "#     plt.colorbar(im3, ax=axs[2])\n",
        "\n",
        "#     plt.tight_layout()\n",
        "#     plt.show()\n",
        "\n",
        "# slider = widgets.IntSlider(value=0, min=200, max=300, step=1, description='Slice:')\n",
        "# widgets.interact(update_segmentation_slice, slice_index=slider)\n"
      ],
      "metadata": {
        "id": "8Q2w53uZHliq"
      },
      "execution_count": 242,
      "outputs": []
    },
    {
      "cell_type": "code",
      "source": [
        "# start_slice = 200\n",
        "# end_slice = 300\n",
        "\n",
        "# # Cropped femur and tibia segments\n",
        "# femur_segment_cropped = femur_segment[start_slice:end_slice]\n",
        "# tibia_segment_cropped = tibia_segment[start_slice:end_slice]\n"
      ],
      "metadata": {
        "id": "N9jA0igyBELN"
      },
      "execution_count": 243,
      "outputs": []
    },
    {
      "cell_type": "code",
      "execution_count": 244,
      "metadata": {
        "id": "1nXQFKtZXOwE"
      },
      "outputs": [],
      "source": [
        "# # Optional visualization\n",
        "# plt.figure(figsize=(10, 4))\n",
        "# plt.subplot(1, 2, 1)\n",
        "# plt.imshow(femur_mask[:, 255, :].T, cmap='gray', origin='lower')\n",
        "# plt.title('Femur Mask')\n",
        "\n",
        "# plt.subplot(1, 2, 2)\n",
        "# plt.imshow(tibia_mask[:, 267, :].T, cmap='gray', origin='lower')\n",
        "# plt.title('Tibia Mask')\n",
        "# plt.show()"
      ]
    },
    {
      "cell_type": "markdown",
      "source": [
        "# 2. Conversion of 2D Pretrained Model to 3D"
      ],
      "metadata": {
        "id": "-ejLW5kUI9X4"
      }
    },
    {
      "cell_type": "code",
      "source": [
        "# import torch\n",
        "# import torch.nn as nn\n",
        "# import torchvision.models as models\n",
        "# import torch.nn.functional as F\n",
        "# import torchvision.models as models\n",
        "# from collections import OrderedDict\n",
        "# import copy"
      ],
      "metadata": {
        "id": "XuCVs9ioajjG"
      },
      "execution_count": 245,
      "outputs": []
    },
    {
      "cell_type": "code",
      "source": [
        "# def inflate_conv_layer_2d_to_3d(conv2d, depth=3):\n",
        "#     \"\"\"\n",
        "#     Inflate a Conv2d to Conv3d by repeating the weights along a new depth\n",
        "#     dimension and padding so that D is preserved.\n",
        "#     \"\"\"\n",
        "#     w2d = conv2d.weight.data\n",
        "#     w3d = w2d.unsqueeze(2).repeat(1, 1, depth, 1, 1) / depth\n",
        "\n",
        "#     pad_d = depth // 2\n",
        "\n",
        "#     conv3d = nn.Conv3d(\n",
        "#         in_channels=conv2d.in_channels,\n",
        "#         out_channels=conv2d.out_channels,\n",
        "#         kernel_size=(depth, *conv2d.kernel_size),\n",
        "#         stride=(1, *conv2d.stride),\n",
        "#         padding=(pad_d, *conv2d.padding),\n",
        "#         bias=(conv2d.bias is not None)\n",
        "#     )\n",
        "#     conv3d.weight.data = w3d\n",
        "#     if conv2d.bias is not None:\n",
        "#         conv3d.bias.data = conv2d.bias.data.clone()\n",
        "#     return conv3d\n",
        "\n",
        "\n",
        "# def pad_to_match(x, target):\n",
        "#     \"\"\"Pad tensor `x` to match the spatial shape of `target`.\"\"\"\n",
        "#     diff = [t - s for s, t in zip(x.shape[2:], target.shape[2:])]\n",
        "#     pad = [p for d in reversed(diff) for p in (0, d)]  # [W, H, D]\n",
        "#     return F.pad(x, pad)\n",
        "\n",
        "\n",
        "\n",
        "# def convert_densenet2d_to_3d(model2d, depth=3):\n",
        "#     model3d = copy.deepcopy(model2d)\n",
        "\n",
        "#     def recursively_convert(module):\n",
        "#         for name, child in list(module.named_children()):\n",
        "#             if isinstance(child, nn.Conv2d):\n",
        "#                 setattr(module, name, inflate_conv_layer_2d_to_3d(child, depth))\n",
        "#             elif isinstance(child, nn.BatchNorm2d):\n",
        "#                 new_bn = nn.BatchNorm3d(child.num_features)\n",
        "#                 new_bn.weight.data = child.weight.data.clone()\n",
        "#                 new_bn.bias.data = child.bias.data.clone()\n",
        "#                 new_bn.running_mean = child.running_mean.clone()\n",
        "#                 new_bn.running_var = child.running_var.clone()\n",
        "#                 setattr(module, name, new_bn)\n",
        "#             elif isinstance(child, nn.AdaptiveAvgPool2d):\n",
        "#                 setattr(module, name, nn.AdaptiveAvgPool3d((1, 1, 1)))\n",
        "#             elif isinstance(child, nn.MaxPool2d):\n",
        "#                 setattr(module, name, nn.MaxPool3d(kernel_size=(1, 2, 2), stride=(1, 2, 2)))\n",
        "#             elif isinstance(child, nn.AvgPool2d):\n",
        "#                 setattr(module, name, nn.AvgPool3d(kernel_size=(1, 2, 2), stride=(1, 2, 2)))\n",
        "#             else:\n",
        "#                 recursively_convert(child)\n",
        "\n",
        "#     recursively_convert(model3d.features)\n",
        "#     return model3d"
      ],
      "metadata": {
        "id": "hD9LNccRpEAM"
      },
      "execution_count": 246,
      "outputs": []
    },
    {
      "cell_type": "code",
      "source": [
        "# model2d = models.densenet121(pretrained=True)\n",
        "# model3d = convert_densenet2d_to_3d(model2d)\n",
        "# model3d.eval()\n",
        "# print(\"Done\")"
      ],
      "metadata": {
        "id": "Ny-kSizUpEx9"
      },
      "execution_count": 247,
      "outputs": []
    },
    {
      "cell_type": "code",
      "source": [
        "# def extract_gap_features_from_layer(model, volume_tensor):\n",
        "#     with torch.no_grad():\n",
        "#         x = model.features(volume_tensor)\n",
        "#         print(\"feature map shape:\", x.shape)      #torch.Size([1, 1024, D', H', W'])\n",
        "#         pooled = F.adaptive_avg_pool3d(x, (1, 1, 1))\n",
        "#         print(\"after pooling:\", pooled.shape)\n",
        "#         vector = pooled.view(pooled.size(0), -1).cpu().numpy()\n",
        "#     return vector"
      ],
      "metadata": {
        "id": "Wiy7FNVMpJQM"
      },
      "execution_count": 248,
      "outputs": []
    },
    {
      "cell_type": "code",
      "source": [
        "# from collections import OrderedDict\n",
        "\n",
        "# feat_maps = OrderedDict()\n",
        "\n",
        "# conv_layers = []\n",
        "# for name, module in model3d.features.named_modules():\n",
        "#     if isinstance(module, torch.nn.Conv3d):\n",
        "#         conv_layers.append(name)\n",
        "\n",
        "# # Pick indices: last (-1), third-last (-3), fifth-last (-5)\n",
        "# targets = {\n",
        "#     'last':   conv_layers[-1],\n",
        "#     'third':  conv_layers[-3],\n",
        "#     'fifth':  conv_layers[-5],\n",
        "# }\n",
        "\n",
        "# # Register hooks\n",
        "# for key, layer_name in targets.items():\n",
        "#     module = dict(model3d.features.named_modules())[layer_name]\n",
        "#     module.register_forward_hook(\n",
        "#         lambda self, input, output, k=key: feat_maps.__setitem__(k, output)\n",
        "#     )"
      ],
      "metadata": {
        "id": "Zj1AhVqyuKfL"
      },
      "execution_count": 249,
      "outputs": []
    },
    {
      "cell_type": "code",
      "source": [
        "# def preprocess_ct_volume(volume, hu_min=-1000, hu_max=1000):\n",
        "#     clipped = np.clip(volume, hu_min, hu_max)\n",
        "#     normed = (clipped - hu_min) / (hu_max - hu_min)\n",
        "#     tensor = torch.tensor(normed[None, None], dtype=torch.float32)  # (1,1,D,H,W)\n",
        "#     # Reduce the input dimensions\n",
        "#     tensor = F.interpolate(tensor, size=(256, 128, 256), mode='trilinear', align_corners=False)\n",
        "#     tensor = tensor.repeat(1, 3, 1, 1, 1)  # (1,3,D,H,W)\n",
        "\n",
        "#     # _, _, d, h, w = tensor.shape\n",
        "#     # pad_d = (32 - d % 32) % 32\n",
        "#     # pad_h = (32 - h % 32) % 32\n",
        "#     # pad_w = (32 - w % 32) % 32\n",
        "\n",
        "#     # padding = (0, pad_w, 0, pad_h, 0, pad_d)\n",
        "#     # tensor = F.pad(tensor, padding)\n",
        "\n",
        "#     return tensor\n",
        "\n",
        "\n",
        "\n",
        "# tibia_tensor = preprocess_ct_volume(tibia_segment_cropped)\n",
        "# femur_tensor = preprocess_ct_volume(femur_segment_cropped)\n",
        "# background_tensor = preprocess_ct_volume(img_background)"
      ],
      "metadata": {
        "id": "pJyPfs6gua6W"
      },
      "execution_count": 250,
      "outputs": []
    },
    {
      "cell_type": "code",
      "source": [
        "# from torch.nn import CosineSimilarity\n",
        "# import torch.nn.functional as F\n",
        "\n",
        "# cos = CosineSimilarity(dim=1, eps=1e-6)\n",
        "\n",
        "# def extract_features_per_region(volume_tensor):\n",
        "#     \"\"\"\n",
        "#     volume_tensor: torch.Tensor shape (1,3,D,H,W) on CPU\n",
        "#     returns dict: {'last': torch.Tensor, 'third': torch.Tensor, 'fifth': torch.Tensor}\n",
        "#     \"\"\"\n",
        "#     feat_maps.clear()\n",
        "#     with torch.no_grad():\n",
        "#         _ = model3d.features(volume_tensor)   # forward through features\n",
        "\n",
        "#     vectors = {}\n",
        "#     for key, fmap in feat_maps.items():\n",
        "#         # Global average pooling to (1, C, 1, 1, 1)\n",
        "#         pooled = F.adaptive_avg_pool3d(fmap, (1,1,1))\n",
        "#         vec = pooled.view(pooled.size(0), -1)  # (1, C)\n",
        "#         vectors[key] = vec\n",
        "#     return vectors"
      ],
      "metadata": {
        "id": "NZia4cOSuNnU"
      },
      "execution_count": 251,
      "outputs": []
    },
    {
      "cell_type": "code",
      "source": [
        "# regions = {\n",
        "#     'tibia': tibia_tensor,\n",
        "#     'femur': femur_tensor,\n",
        "#     'background': background_tensor\n",
        "# }\n",
        "\n",
        "# rows = []\n",
        "# pairs = [('tibia','femur'), ('tibia','background'), ('femur','background')]\n",
        "\n",
        "# layers = ['last','third','fifth']\n",
        "\n",
        "# # Precompute features per region\n",
        "# region_feats = {r: extract_features_per_region(t) for r, t in regions.items()}\n",
        "\n",
        "# for img_idx in [0]:\n",
        "#     for (r1, r2) in pairs:\n",
        "#         feats1 = region_feats[r1]\n",
        "#         feats2 = region_feats[r2]\n",
        "#         row = {\n",
        "#             'image': img_idx,\n",
        "#             'pair': f\"{r1}_{r2}\"\n",
        "#         }\n",
        "#         for layer in layers:\n",
        "#             sim = cos(feats1[layer], feats2[layer]).item()\n",
        "#             row[f\"cos_{layer}\"] = sim\n",
        "#         rows.append(row)\n",
        "\n",
        "# df = pd.DataFrame(rows)\n",
        "# csv_path = \"knee_region_cosine_similarities.csv\"\n",
        "# df.to_csv(csv_path, index=False)\n",
        "# print(f\"Saved similarities to {csv_path}\")\n"
      ],
      "metadata": {
        "id": "rkl-txbeuuYJ"
      },
      "execution_count": 252,
      "outputs": []
    },
    {
      "cell_type": "code",
      "source": [
        "# df"
      ],
      "metadata": {
        "id": "cYiv7XO5JzHn"
      },
      "execution_count": 253,
      "outputs": []
    },
    {
      "cell_type": "code",
      "source": [],
      "metadata": {
        "id": "MTVHBwTeJ0IB"
      },
      "execution_count": 253,
      "outputs": []
    },
    {
      "cell_type": "code",
      "metadata": {
        "colab": {
          "base_uri": "https://localhost:8080/"
        },
        "id": "f9537d1e",
        "outputId": "0b0c025f-f0ce-49f3-c35b-384319ffad37"
      },
      "source": [
        "!pip install opencv-python"
      ],
      "execution_count": 254,
      "outputs": [
        {
          "output_type": "stream",
          "name": "stdout",
          "text": [
            "Requirement already satisfied: opencv-python in /usr/local/lib/python3.11/dist-packages (4.11.0.86)\n",
            "Requirement already satisfied: numpy>=1.21.2 in /usr/local/lib/python3.11/dist-packages (from opencv-python) (2.0.2)\n"
          ]
        }
      ]
    },
    {
      "cell_type": "code",
      "source": [],
      "metadata": {
        "id": "u2g4bKHLaJuh"
      },
      "execution_count": 254,
      "outputs": []
    }
  ],
  "metadata": {
    "colab": {
      "provenance": [],
      "gpuType": "V28",
      "include_colab_link": true
    },
    "kernelspec": {
      "display_name": "Python 3",
      "name": "python3"
    },
    "language_info": {
      "name": "python"
    },
    "accelerator": "TPU",
    "widgets": {
      "application/vnd.jupyter.widget-state+json": {
        "f24173f1915e4cab9e7fec935a2a1114": {
          "model_module": "@jupyter-widgets/controls",
          "model_name": "VBoxModel",
          "model_module_version": "1.5.0",
          "state": {
            "_dom_classes": [
              "widget-interact"
            ],
            "_model_module": "@jupyter-widgets/controls",
            "_model_module_version": "1.5.0",
            "_model_name": "VBoxModel",
            "_view_count": null,
            "_view_module": "@jupyter-widgets/controls",
            "_view_module_version": "1.5.0",
            "_view_name": "VBoxView",
            "box_style": "",
            "children": [
              "IPY_MODEL_9b7f420c697b4d83a34c5f10fd1e8df0",
              "IPY_MODEL_8c75f9ddddec46c29fb1f89225aac56a"
            ],
            "layout": "IPY_MODEL_0506e7c055d740aea890f2d6008b6298"
          }
        },
        "9b7f420c697b4d83a34c5f10fd1e8df0": {
          "model_module": "@jupyter-widgets/controls",
          "model_name": "IntSliderModel",
          "model_module_version": "1.5.0",
          "state": {
            "_dom_classes": [],
            "_model_module": "@jupyter-widgets/controls",
            "_model_module_version": "1.5.0",
            "_model_name": "IntSliderModel",
            "_view_count": null,
            "_view_module": "@jupyter-widgets/controls",
            "_view_module_version": "1.5.0",
            "_view_name": "IntSliderView",
            "continuous_update": true,
            "description": "Slice:",
            "description_tooltip": null,
            "disabled": false,
            "layout": "IPY_MODEL_fa80bb4d1ce04d1b89a66f3eeb64c462",
            "max": 320,
            "min": 200,
            "orientation": "horizontal",
            "readout": true,
            "readout_format": "d",
            "step": 1,
            "style": "IPY_MODEL_06169b4d906e4e40845232f848b2a287",
            "value": 200
          }
        },
        "8c75f9ddddec46c29fb1f89225aac56a": {
          "model_module": "@jupyter-widgets/output",
          "model_name": "OutputModel",
          "model_module_version": "1.0.0",
          "state": {
            "_dom_classes": [],
            "_model_module": "@jupyter-widgets/output",
            "_model_module_version": "1.0.0",
            "_model_name": "OutputModel",
            "_view_count": null,
            "_view_module": "@jupyter-widgets/output",
            "_view_module_version": "1.0.0",
            "_view_name": "OutputView",
            "layout": "IPY_MODEL_3da3603c295040a7825d032725f29e42",
            "msg_id": "",
            "outputs": [
              {
                "output_type": "display_data",
                "data": {
                  "text/plain": "<Figure size 2000x500 with 2 Axes>",
                  "image/png": "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\n"
                },
                "metadata": {}
              }
            ]
          }
        },
        "0506e7c055d740aea890f2d6008b6298": {
          "model_module": "@jupyter-widgets/base",
          "model_name": "LayoutModel",
          "model_module_version": "1.2.0",
          "state": {
            "_model_module": "@jupyter-widgets/base",
            "_model_module_version": "1.2.0",
            "_model_name": "LayoutModel",
            "_view_count": null,
            "_view_module": "@jupyter-widgets/base",
            "_view_module_version": "1.2.0",
            "_view_name": "LayoutView",
            "align_content": null,
            "align_items": null,
            "align_self": null,
            "border": null,
            "bottom": null,
            "display": null,
            "flex": null,
            "flex_flow": null,
            "grid_area": null,
            "grid_auto_columns": null,
            "grid_auto_flow": null,
            "grid_auto_rows": null,
            "grid_column": null,
            "grid_gap": null,
            "grid_row": null,
            "grid_template_areas": null,
            "grid_template_columns": null,
            "grid_template_rows": null,
            "height": null,
            "justify_content": null,
            "justify_items": null,
            "left": null,
            "margin": null,
            "max_height": null,
            "max_width": null,
            "min_height": null,
            "min_width": null,
            "object_fit": null,
            "object_position": null,
            "order": null,
            "overflow": null,
            "overflow_x": null,
            "overflow_y": null,
            "padding": null,
            "right": null,
            "top": null,
            "visibility": null,
            "width": null
          }
        },
        "fa80bb4d1ce04d1b89a66f3eeb64c462": {
          "model_module": "@jupyter-widgets/base",
          "model_name": "LayoutModel",
          "model_module_version": "1.2.0",
          "state": {
            "_model_module": "@jupyter-widgets/base",
            "_model_module_version": "1.2.0",
            "_model_name": "LayoutModel",
            "_view_count": null,
            "_view_module": "@jupyter-widgets/base",
            "_view_module_version": "1.2.0",
            "_view_name": "LayoutView",
            "align_content": null,
            "align_items": null,
            "align_self": null,
            "border": null,
            "bottom": null,
            "display": null,
            "flex": null,
            "flex_flow": null,
            "grid_area": null,
            "grid_auto_columns": null,
            "grid_auto_flow": null,
            "grid_auto_rows": null,
            "grid_column": null,
            "grid_gap": null,
            "grid_row": null,
            "grid_template_areas": null,
            "grid_template_columns": null,
            "grid_template_rows": null,
            "height": null,
            "justify_content": null,
            "justify_items": null,
            "left": null,
            "margin": null,
            "max_height": null,
            "max_width": null,
            "min_height": null,
            "min_width": null,
            "object_fit": null,
            "object_position": null,
            "order": null,
            "overflow": null,
            "overflow_x": null,
            "overflow_y": null,
            "padding": null,
            "right": null,
            "top": null,
            "visibility": null,
            "width": null
          }
        },
        "06169b4d906e4e40845232f848b2a287": {
          "model_module": "@jupyter-widgets/controls",
          "model_name": "SliderStyleModel",
          "model_module_version": "1.5.0",
          "state": {
            "_model_module": "@jupyter-widgets/controls",
            "_model_module_version": "1.5.0",
            "_model_name": "SliderStyleModel",
            "_view_count": null,
            "_view_module": "@jupyter-widgets/base",
            "_view_module_version": "1.2.0",
            "_view_name": "StyleView",
            "description_width": "",
            "handle_color": null
          }
        },
        "3da3603c295040a7825d032725f29e42": {
          "model_module": "@jupyter-widgets/base",
          "model_name": "LayoutModel",
          "model_module_version": "1.2.0",
          "state": {
            "_model_module": "@jupyter-widgets/base",
            "_model_module_version": "1.2.0",
            "_model_name": "LayoutModel",
            "_view_count": null,
            "_view_module": "@jupyter-widgets/base",
            "_view_module_version": "1.2.0",
            "_view_name": "LayoutView",
            "align_content": null,
            "align_items": null,
            "align_self": null,
            "border": null,
            "bottom": null,
            "display": null,
            "flex": null,
            "flex_flow": null,
            "grid_area": null,
            "grid_auto_columns": null,
            "grid_auto_flow": null,
            "grid_auto_rows": null,
            "grid_column": null,
            "grid_gap": null,
            "grid_row": null,
            "grid_template_areas": null,
            "grid_template_columns": null,
            "grid_template_rows": null,
            "height": null,
            "justify_content": null,
            "justify_items": null,
            "left": null,
            "margin": null,
            "max_height": null,
            "max_width": null,
            "min_height": null,
            "min_width": null,
            "object_fit": null,
            "object_position": null,
            "order": null,
            "overflow": null,
            "overflow_x": null,
            "overflow_y": null,
            "padding": null,
            "right": null,
            "top": null,
            "visibility": null,
            "width": null
          }
        },
        "350072831d5a4f97992719945647b5a5": {
          "model_module": "@jupyter-widgets/controls",
          "model_name": "VBoxModel",
          "model_module_version": "1.5.0",
          "state": {
            "_dom_classes": [
              "widget-interact"
            ],
            "_model_module": "@jupyter-widgets/controls",
            "_model_module_version": "1.5.0",
            "_model_name": "VBoxModel",
            "_view_count": null,
            "_view_module": "@jupyter-widgets/controls",
            "_view_module_version": "1.5.0",
            "_view_name": "VBoxView",
            "box_style": "",
            "children": [
              "IPY_MODEL_7207a3ff4b4a4fc9adfe12a6b5989b97",
              "IPY_MODEL_a42a5c2b4f5b4f0da6ac2d8d19b6a8f5"
            ],
            "layout": "IPY_MODEL_cc25ff4006c54a6aa08ce0afea572262"
          }
        },
        "7207a3ff4b4a4fc9adfe12a6b5989b97": {
          "model_module": "@jupyter-widgets/controls",
          "model_name": "IntSliderModel",
          "model_module_version": "1.5.0",
          "state": {
            "_dom_classes": [],
            "_model_module": "@jupyter-widgets/controls",
            "_model_module_version": "1.5.0",
            "_model_name": "IntSliderModel",
            "_view_count": null,
            "_view_module": "@jupyter-widgets/controls",
            "_view_module_version": "1.5.0",
            "_view_name": "IntSliderView",
            "continuous_update": true,
            "description": "Slice:",
            "description_tooltip": null,
            "disabled": false,
            "layout": "IPY_MODEL_6f4cc73edfa44fd49f71932ce9cc24b2",
            "max": 320,
            "min": 200,
            "orientation": "horizontal",
            "readout": true,
            "readout_format": "d",
            "step": 1,
            "style": "IPY_MODEL_09eca43e584844deadea37c3d34b21e8",
            "value": 260
          }
        },
        "a42a5c2b4f5b4f0da6ac2d8d19b6a8f5": {
          "model_module": "@jupyter-widgets/output",
          "model_name": "OutputModel",
          "model_module_version": "1.0.0",
          "state": {
            "_dom_classes": [],
            "_model_module": "@jupyter-widgets/output",
            "_model_module_version": "1.0.0",
            "_model_name": "OutputModel",
            "_view_count": null,
            "_view_module": "@jupyter-widgets/output",
            "_view_module_version": "1.0.0",
            "_view_name": "OutputView",
            "layout": "IPY_MODEL_00f0d265096a44b58bbbcfa34538c767",
            "msg_id": "",
            "outputs": [
              {
                "output_type": "display_data",
                "data": {
                  "text/plain": "<Figure size 2000x500 with 2 Axes>",
                  "image/png": "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\n"
                },
                "metadata": {}
              }
            ]
          }
        },
        "cc25ff4006c54a6aa08ce0afea572262": {
          "model_module": "@jupyter-widgets/base",
          "model_name": "LayoutModel",
          "model_module_version": "1.2.0",
          "state": {
            "_model_module": "@jupyter-widgets/base",
            "_model_module_version": "1.2.0",
            "_model_name": "LayoutModel",
            "_view_count": null,
            "_view_module": "@jupyter-widgets/base",
            "_view_module_version": "1.2.0",
            "_view_name": "LayoutView",
            "align_content": null,
            "align_items": null,
            "align_self": null,
            "border": null,
            "bottom": null,
            "display": null,
            "flex": null,
            "flex_flow": null,
            "grid_area": null,
            "grid_auto_columns": null,
            "grid_auto_flow": null,
            "grid_auto_rows": null,
            "grid_column": null,
            "grid_gap": null,
            "grid_row": null,
            "grid_template_areas": null,
            "grid_template_columns": null,
            "grid_template_rows": null,
            "height": null,
            "justify_content": null,
            "justify_items": null,
            "left": null,
            "margin": null,
            "max_height": null,
            "max_width": null,
            "min_height": null,
            "min_width": null,
            "object_fit": null,
            "object_position": null,
            "order": null,
            "overflow": null,
            "overflow_x": null,
            "overflow_y": null,
            "padding": null,
            "right": null,
            "top": null,
            "visibility": null,
            "width": null
          }
        },
        "6f4cc73edfa44fd49f71932ce9cc24b2": {
          "model_module": "@jupyter-widgets/base",
          "model_name": "LayoutModel",
          "model_module_version": "1.2.0",
          "state": {
            "_model_module": "@jupyter-widgets/base",
            "_model_module_version": "1.2.0",
            "_model_name": "LayoutModel",
            "_view_count": null,
            "_view_module": "@jupyter-widgets/base",
            "_view_module_version": "1.2.0",
            "_view_name": "LayoutView",
            "align_content": null,
            "align_items": null,
            "align_self": null,
            "border": null,
            "bottom": null,
            "display": null,
            "flex": null,
            "flex_flow": null,
            "grid_area": null,
            "grid_auto_columns": null,
            "grid_auto_flow": null,
            "grid_auto_rows": null,
            "grid_column": null,
            "grid_gap": null,
            "grid_row": null,
            "grid_template_areas": null,
            "grid_template_columns": null,
            "grid_template_rows": null,
            "height": null,
            "justify_content": null,
            "justify_items": null,
            "left": null,
            "margin": null,
            "max_height": null,
            "max_width": null,
            "min_height": null,
            "min_width": null,
            "object_fit": null,
            "object_position": null,
            "order": null,
            "overflow": null,
            "overflow_x": null,
            "overflow_y": null,
            "padding": null,
            "right": null,
            "top": null,
            "visibility": null,
            "width": null
          }
        },
        "09eca43e584844deadea37c3d34b21e8": {
          "model_module": "@jupyter-widgets/controls",
          "model_name": "SliderStyleModel",
          "model_module_version": "1.5.0",
          "state": {
            "_model_module": "@jupyter-widgets/controls",
            "_model_module_version": "1.5.0",
            "_model_name": "SliderStyleModel",
            "_view_count": null,
            "_view_module": "@jupyter-widgets/base",
            "_view_module_version": "1.2.0",
            "_view_name": "StyleView",
            "description_width": "",
            "handle_color": null
          }
        },
        "00f0d265096a44b58bbbcfa34538c767": {
          "model_module": "@jupyter-widgets/base",
          "model_name": "LayoutModel",
          "model_module_version": "1.2.0",
          "state": {
            "_model_module": "@jupyter-widgets/base",
            "_model_module_version": "1.2.0",
            "_model_name": "LayoutModel",
            "_view_count": null,
            "_view_module": "@jupyter-widgets/base",
            "_view_module_version": "1.2.0",
            "_view_name": "LayoutView",
            "align_content": null,
            "align_items": null,
            "align_self": null,
            "border": null,
            "bottom": null,
            "display": null,
            "flex": null,
            "flex_flow": null,
            "grid_area": null,
            "grid_auto_columns": null,
            "grid_auto_flow": null,
            "grid_auto_rows": null,
            "grid_column": null,
            "grid_gap": null,
            "grid_row": null,
            "grid_template_areas": null,
            "grid_template_columns": null,
            "grid_template_rows": null,
            "height": null,
            "justify_content": null,
            "justify_items": null,
            "left": null,
            "margin": null,
            "max_height": null,
            "max_width": null,
            "min_height": null,
            "min_width": null,
            "object_fit": null,
            "object_position": null,
            "order": null,
            "overflow": null,
            "overflow_x": null,
            "overflow_y": null,
            "padding": null,
            "right": null,
            "top": null,
            "visibility": null,
            "width": null
          }
        },
        "4675c481f8b04819a8a14b8f545174ce": {
          "model_module": "@jupyter-widgets/controls",
          "model_name": "VBoxModel",
          "model_module_version": "1.5.0",
          "state": {
            "_dom_classes": [
              "widget-interact"
            ],
            "_model_module": "@jupyter-widgets/controls",
            "_model_module_version": "1.5.0",
            "_model_name": "VBoxModel",
            "_view_count": null,
            "_view_module": "@jupyter-widgets/controls",
            "_view_module_version": "1.5.0",
            "_view_name": "VBoxView",
            "box_style": "",
            "children": [
              "IPY_MODEL_601f2017a2314b80a42ef7721a2d4477",
              "IPY_MODEL_a072c9476a2349feac1980993727b50a"
            ],
            "layout": "IPY_MODEL_5cab55b9dd9449c0b4f4fb16813e6bf5"
          }
        },
        "601f2017a2314b80a42ef7721a2d4477": {
          "model_module": "@jupyter-widgets/controls",
          "model_name": "IntSliderModel",
          "model_module_version": "1.5.0",
          "state": {
            "_dom_classes": [],
            "_model_module": "@jupyter-widgets/controls",
            "_model_module_version": "1.5.0",
            "_model_name": "IntSliderModel",
            "_view_count": null,
            "_view_module": "@jupyter-widgets/controls",
            "_view_module_version": "1.5.0",
            "_view_name": "IntSliderView",
            "continuous_update": true,
            "description": "Slice:",
            "description_tooltip": null,
            "disabled": false,
            "layout": "IPY_MODEL_0b8ec5a566664043b47cfec7ad4c99ca",
            "max": 320,
            "min": 200,
            "orientation": "horizontal",
            "readout": true,
            "readout_format": "d",
            "step": 1,
            "style": "IPY_MODEL_69179d632bb743c59f8fd904e36db071",
            "value": 200
          }
        },
        "a072c9476a2349feac1980993727b50a": {
          "model_module": "@jupyter-widgets/output",
          "model_name": "OutputModel",
          "model_module_version": "1.0.0",
          "state": {
            "_dom_classes": [],
            "_model_module": "@jupyter-widgets/output",
            "_model_module_version": "1.0.0",
            "_model_name": "OutputModel",
            "_view_count": null,
            "_view_module": "@jupyter-widgets/output",
            "_view_module_version": "1.0.0",
            "_view_name": "OutputView",
            "layout": "IPY_MODEL_53c4ba993957453780e5481c1d2fed47",
            "msg_id": "",
            "outputs": [
              {
                "output_type": "display_data",
                "data": {
                  "text/plain": "<Figure size 2000x500 with 2 Axes>",
                  "image/png": "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\n"
                },
                "metadata": {}
              }
            ]
          }
        },
        "5cab55b9dd9449c0b4f4fb16813e6bf5": {
          "model_module": "@jupyter-widgets/base",
          "model_name": "LayoutModel",
          "model_module_version": "1.2.0",
          "state": {
            "_model_module": "@jupyter-widgets/base",
            "_model_module_version": "1.2.0",
            "_model_name": "LayoutModel",
            "_view_count": null,
            "_view_module": "@jupyter-widgets/base",
            "_view_module_version": "1.2.0",
            "_view_name": "LayoutView",
            "align_content": null,
            "align_items": null,
            "align_self": null,
            "border": null,
            "bottom": null,
            "display": null,
            "flex": null,
            "flex_flow": null,
            "grid_area": null,
            "grid_auto_columns": null,
            "grid_auto_flow": null,
            "grid_auto_rows": null,
            "grid_column": null,
            "grid_gap": null,
            "grid_row": null,
            "grid_template_areas": null,
            "grid_template_columns": null,
            "grid_template_rows": null,
            "height": null,
            "justify_content": null,
            "justify_items": null,
            "left": null,
            "margin": null,
            "max_height": null,
            "max_width": null,
            "min_height": null,
            "min_width": null,
            "object_fit": null,
            "object_position": null,
            "order": null,
            "overflow": null,
            "overflow_x": null,
            "overflow_y": null,
            "padding": null,
            "right": null,
            "top": null,
            "visibility": null,
            "width": null
          }
        },
        "0b8ec5a566664043b47cfec7ad4c99ca": {
          "model_module": "@jupyter-widgets/base",
          "model_name": "LayoutModel",
          "model_module_version": "1.2.0",
          "state": {
            "_model_module": "@jupyter-widgets/base",
            "_model_module_version": "1.2.0",
            "_model_name": "LayoutModel",
            "_view_count": null,
            "_view_module": "@jupyter-widgets/base",
            "_view_module_version": "1.2.0",
            "_view_name": "LayoutView",
            "align_content": null,
            "align_items": null,
            "align_self": null,
            "border": null,
            "bottom": null,
            "display": null,
            "flex": null,
            "flex_flow": null,
            "grid_area": null,
            "grid_auto_columns": null,
            "grid_auto_flow": null,
            "grid_auto_rows": null,
            "grid_column": null,
            "grid_gap": null,
            "grid_row": null,
            "grid_template_areas": null,
            "grid_template_columns": null,
            "grid_template_rows": null,
            "height": null,
            "justify_content": null,
            "justify_items": null,
            "left": null,
            "margin": null,
            "max_height": null,
            "max_width": null,
            "min_height": null,
            "min_width": null,
            "object_fit": null,
            "object_position": null,
            "order": null,
            "overflow": null,
            "overflow_x": null,
            "overflow_y": null,
            "padding": null,
            "right": null,
            "top": null,
            "visibility": null,
            "width": null
          }
        },
        "69179d632bb743c59f8fd904e36db071": {
          "model_module": "@jupyter-widgets/controls",
          "model_name": "SliderStyleModel",
          "model_module_version": "1.5.0",
          "state": {
            "_model_module": "@jupyter-widgets/controls",
            "_model_module_version": "1.5.0",
            "_model_name": "SliderStyleModel",
            "_view_count": null,
            "_view_module": "@jupyter-widgets/base",
            "_view_module_version": "1.2.0",
            "_view_name": "StyleView",
            "description_width": "",
            "handle_color": null
          }
        },
        "53c4ba993957453780e5481c1d2fed47": {
          "model_module": "@jupyter-widgets/base",
          "model_name": "LayoutModel",
          "model_module_version": "1.2.0",
          "state": {
            "_model_module": "@jupyter-widgets/base",
            "_model_module_version": "1.2.0",
            "_model_name": "LayoutModel",
            "_view_count": null,
            "_view_module": "@jupyter-widgets/base",
            "_view_module_version": "1.2.0",
            "_view_name": "LayoutView",
            "align_content": null,
            "align_items": null,
            "align_self": null,
            "border": null,
            "bottom": null,
            "display": null,
            "flex": null,
            "flex_flow": null,
            "grid_area": null,
            "grid_auto_columns": null,
            "grid_auto_flow": null,
            "grid_auto_rows": null,
            "grid_column": null,
            "grid_gap": null,
            "grid_row": null,
            "grid_template_areas": null,
            "grid_template_columns": null,
            "grid_template_rows": null,
            "height": null,
            "justify_content": null,
            "justify_items": null,
            "left": null,
            "margin": null,
            "max_height": null,
            "max_width": null,
            "min_height": null,
            "min_width": null,
            "object_fit": null,
            "object_position": null,
            "order": null,
            "overflow": null,
            "overflow_x": null,
            "overflow_y": null,
            "padding": null,
            "right": null,
            "top": null,
            "visibility": null,
            "width": null
          }
        },
        "9b667e4820b147a89ecd8c8c365f0a09": {
          "model_module": "@jupyter-widgets/controls",
          "model_name": "VBoxModel",
          "model_module_version": "1.5.0",
          "state": {
            "_dom_classes": [
              "widget-interact"
            ],
            "_model_module": "@jupyter-widgets/controls",
            "_model_module_version": "1.5.0",
            "_model_name": "VBoxModel",
            "_view_count": null,
            "_view_module": "@jupyter-widgets/controls",
            "_view_module_version": "1.5.0",
            "_view_name": "VBoxView",
            "box_style": "",
            "children": [
              "IPY_MODEL_c780c7218ee9453d951e4aa715b5251d",
              "IPY_MODEL_0b691c0dfa5e4fd3adc70c494ae81bfd"
            ],
            "layout": "IPY_MODEL_04fec3e07d234fb28f4b1dc394d635fb"
          }
        },
        "c780c7218ee9453d951e4aa715b5251d": {
          "model_module": "@jupyter-widgets/controls",
          "model_name": "IntSliderModel",
          "model_module_version": "1.5.0",
          "state": {
            "_dom_classes": [],
            "_model_module": "@jupyter-widgets/controls",
            "_model_module_version": "1.5.0",
            "_model_name": "IntSliderModel",
            "_view_count": null,
            "_view_module": "@jupyter-widgets/controls",
            "_view_module_version": "1.5.0",
            "_view_name": "IntSliderView",
            "continuous_update": true,
            "description": "Slice:",
            "description_tooltip": null,
            "disabled": false,
            "layout": "IPY_MODEL_c3fa3b4d99ee487e84b14d55ab38615e",
            "max": 300,
            "min": 200,
            "orientation": "horizontal",
            "readout": true,
            "readout_format": "d",
            "step": 1,
            "style": "IPY_MODEL_74c909a690cc43a4852b8eaa68140eee",
            "value": 200
          }
        },
        "0b691c0dfa5e4fd3adc70c494ae81bfd": {
          "model_module": "@jupyter-widgets/output",
          "model_name": "OutputModel",
          "model_module_version": "1.0.0",
          "state": {
            "_dom_classes": [],
            "_model_module": "@jupyter-widgets/output",
            "_model_module_version": "1.0.0",
            "_model_name": "OutputModel",
            "_view_count": null,
            "_view_module": "@jupyter-widgets/output",
            "_view_module_version": "1.0.0",
            "_view_name": "OutputView",
            "layout": "IPY_MODEL_55828ec4bde44ddaadde7ff0ccc33274",
            "msg_id": "",
            "outputs": [
              {
                "output_type": "display_data",
                "data": {
                  "text/plain": "<Figure size 2000x500 with 2 Axes>",
                  "image/png": "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\n"
                },
                "metadata": {}
              }
            ]
          }
        },
        "04fec3e07d234fb28f4b1dc394d635fb": {
          "model_module": "@jupyter-widgets/base",
          "model_name": "LayoutModel",
          "model_module_version": "1.2.0",
          "state": {
            "_model_module": "@jupyter-widgets/base",
            "_model_module_version": "1.2.0",
            "_model_name": "LayoutModel",
            "_view_count": null,
            "_view_module": "@jupyter-widgets/base",
            "_view_module_version": "1.2.0",
            "_view_name": "LayoutView",
            "align_content": null,
            "align_items": null,
            "align_self": null,
            "border": null,
            "bottom": null,
            "display": null,
            "flex": null,
            "flex_flow": null,
            "grid_area": null,
            "grid_auto_columns": null,
            "grid_auto_flow": null,
            "grid_auto_rows": null,
            "grid_column": null,
            "grid_gap": null,
            "grid_row": null,
            "grid_template_areas": null,
            "grid_template_columns": null,
            "grid_template_rows": null,
            "height": null,
            "justify_content": null,
            "justify_items": null,
            "left": null,
            "margin": null,
            "max_height": null,
            "max_width": null,
            "min_height": null,
            "min_width": null,
            "object_fit": null,
            "object_position": null,
            "order": null,
            "overflow": null,
            "overflow_x": null,
            "overflow_y": null,
            "padding": null,
            "right": null,
            "top": null,
            "visibility": null,
            "width": null
          }
        },
        "c3fa3b4d99ee487e84b14d55ab38615e": {
          "model_module": "@jupyter-widgets/base",
          "model_name": "LayoutModel",
          "model_module_version": "1.2.0",
          "state": {
            "_model_module": "@jupyter-widgets/base",
            "_model_module_version": "1.2.0",
            "_model_name": "LayoutModel",
            "_view_count": null,
            "_view_module": "@jupyter-widgets/base",
            "_view_module_version": "1.2.0",
            "_view_name": "LayoutView",
            "align_content": null,
            "align_items": null,
            "align_self": null,
            "border": null,
            "bottom": null,
            "display": null,
            "flex": null,
            "flex_flow": null,
            "grid_area": null,
            "grid_auto_columns": null,
            "grid_auto_flow": null,
            "grid_auto_rows": null,
            "grid_column": null,
            "grid_gap": null,
            "grid_row": null,
            "grid_template_areas": null,
            "grid_template_columns": null,
            "grid_template_rows": null,
            "height": null,
            "justify_content": null,
            "justify_items": null,
            "left": null,
            "margin": null,
            "max_height": null,
            "max_width": null,
            "min_height": null,
            "min_width": null,
            "object_fit": null,
            "object_position": null,
            "order": null,
            "overflow": null,
            "overflow_x": null,
            "overflow_y": null,
            "padding": null,
            "right": null,
            "top": null,
            "visibility": null,
            "width": null
          }
        },
        "74c909a690cc43a4852b8eaa68140eee": {
          "model_module": "@jupyter-widgets/controls",
          "model_name": "SliderStyleModel",
          "model_module_version": "1.5.0",
          "state": {
            "_model_module": "@jupyter-widgets/controls",
            "_model_module_version": "1.5.0",
            "_model_name": "SliderStyleModel",
            "_view_count": null,
            "_view_module": "@jupyter-widgets/base",
            "_view_module_version": "1.2.0",
            "_view_name": "StyleView",
            "description_width": "",
            "handle_color": null
          }
        },
        "55828ec4bde44ddaadde7ff0ccc33274": {
          "model_module": "@jupyter-widgets/base",
          "model_name": "LayoutModel",
          "model_module_version": "1.2.0",
          "state": {
            "_model_module": "@jupyter-widgets/base",
            "_model_module_version": "1.2.0",
            "_model_name": "LayoutModel",
            "_view_count": null,
            "_view_module": "@jupyter-widgets/base",
            "_view_module_version": "1.2.0",
            "_view_name": "LayoutView",
            "align_content": null,
            "align_items": null,
            "align_self": null,
            "border": null,
            "bottom": null,
            "display": null,
            "flex": null,
            "flex_flow": null,
            "grid_area": null,
            "grid_auto_columns": null,
            "grid_auto_flow": null,
            "grid_auto_rows": null,
            "grid_column": null,
            "grid_gap": null,
            "grid_row": null,
            "grid_template_areas": null,
            "grid_template_columns": null,
            "grid_template_rows": null,
            "height": null,
            "justify_content": null,
            "justify_items": null,
            "left": null,
            "margin": null,
            "max_height": null,
            "max_width": null,
            "min_height": null,
            "min_width": null,
            "object_fit": null,
            "object_position": null,
            "order": null,
            "overflow": null,
            "overflow_x": null,
            "overflow_y": null,
            "padding": null,
            "right": null,
            "top": null,
            "visibility": null,
            "width": null
          }
        },
        "155f69cf67624c868facf9611259e157": {
          "model_module": "@jupyter-widgets/controls",
          "model_name": "VBoxModel",
          "model_module_version": "1.5.0",
          "state": {
            "_dom_classes": [
              "widget-interact"
            ],
            "_model_module": "@jupyter-widgets/controls",
            "_model_module_version": "1.5.0",
            "_model_name": "VBoxModel",
            "_view_count": null,
            "_view_module": "@jupyter-widgets/controls",
            "_view_module_version": "1.5.0",
            "_view_name": "VBoxView",
            "box_style": "",
            "children": [
              "IPY_MODEL_6888fc2d31414fcd96bf956ea8a7f755",
              "IPY_MODEL_172041542f5447868670e2421cc24375"
            ],
            "layout": "IPY_MODEL_c2c2ae2abf3a4a63a514bbbd5d135eb9"
          }
        },
        "6888fc2d31414fcd96bf956ea8a7f755": {
          "model_module": "@jupyter-widgets/controls",
          "model_name": "IntSliderModel",
          "model_module_version": "1.5.0",
          "state": {
            "_dom_classes": [],
            "_model_module": "@jupyter-widgets/controls",
            "_model_module_version": "1.5.0",
            "_model_name": "IntSliderModel",
            "_view_count": null,
            "_view_module": "@jupyter-widgets/controls",
            "_view_module_version": "1.5.0",
            "_view_name": "IntSliderView",
            "continuous_update": true,
            "description": "Slice:",
            "description_tooltip": null,
            "disabled": false,
            "layout": "IPY_MODEL_45181d380eff4bd0ae46f2575e71dc8f",
            "max": 300,
            "min": 200,
            "orientation": "horizontal",
            "readout": true,
            "readout_format": "d",
            "step": 1,
            "style": "IPY_MODEL_b13cc8a2a8ae4c728266241b4729984b",
            "value": 200
          }
        },
        "172041542f5447868670e2421cc24375": {
          "model_module": "@jupyter-widgets/output",
          "model_name": "OutputModel",
          "model_module_version": "1.0.0",
          "state": {
            "_dom_classes": [],
            "_model_module": "@jupyter-widgets/output",
            "_model_module_version": "1.0.0",
            "_model_name": "OutputModel",
            "_view_count": null,
            "_view_module": "@jupyter-widgets/output",
            "_view_module_version": "1.0.0",
            "_view_name": "OutputView",
            "layout": "IPY_MODEL_86dafd12d8d846ddb4192fc113b49792",
            "msg_id": "",
            "outputs": [
              {
                "output_type": "display_data",
                "data": {
                  "text/plain": "<Figure size 2000x500 with 2 Axes>",
                  "image/png": "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\n"
                },
                "metadata": {}
              }
            ]
          }
        },
        "c2c2ae2abf3a4a63a514bbbd5d135eb9": {
          "model_module": "@jupyter-widgets/base",
          "model_name": "LayoutModel",
          "model_module_version": "1.2.0",
          "state": {
            "_model_module": "@jupyter-widgets/base",
            "_model_module_version": "1.2.0",
            "_model_name": "LayoutModel",
            "_view_count": null,
            "_view_module": "@jupyter-widgets/base",
            "_view_module_version": "1.2.0",
            "_view_name": "LayoutView",
            "align_content": null,
            "align_items": null,
            "align_self": null,
            "border": null,
            "bottom": null,
            "display": null,
            "flex": null,
            "flex_flow": null,
            "grid_area": null,
            "grid_auto_columns": null,
            "grid_auto_flow": null,
            "grid_auto_rows": null,
            "grid_column": null,
            "grid_gap": null,
            "grid_row": null,
            "grid_template_areas": null,
            "grid_template_columns": null,
            "grid_template_rows": null,
            "height": null,
            "justify_content": null,
            "justify_items": null,
            "left": null,
            "margin": null,
            "max_height": null,
            "max_width": null,
            "min_height": null,
            "min_width": null,
            "object_fit": null,
            "object_position": null,
            "order": null,
            "overflow": null,
            "overflow_x": null,
            "overflow_y": null,
            "padding": null,
            "right": null,
            "top": null,
            "visibility": null,
            "width": null
          }
        },
        "45181d380eff4bd0ae46f2575e71dc8f": {
          "model_module": "@jupyter-widgets/base",
          "model_name": "LayoutModel",
          "model_module_version": "1.2.0",
          "state": {
            "_model_module": "@jupyter-widgets/base",
            "_model_module_version": "1.2.0",
            "_model_name": "LayoutModel",
            "_view_count": null,
            "_view_module": "@jupyter-widgets/base",
            "_view_module_version": "1.2.0",
            "_view_name": "LayoutView",
            "align_content": null,
            "align_items": null,
            "align_self": null,
            "border": null,
            "bottom": null,
            "display": null,
            "flex": null,
            "flex_flow": null,
            "grid_area": null,
            "grid_auto_columns": null,
            "grid_auto_flow": null,
            "grid_auto_rows": null,
            "grid_column": null,
            "grid_gap": null,
            "grid_row": null,
            "grid_template_areas": null,
            "grid_template_columns": null,
            "grid_template_rows": null,
            "height": null,
            "justify_content": null,
            "justify_items": null,
            "left": null,
            "margin": null,
            "max_height": null,
            "max_width": null,
            "min_height": null,
            "min_width": null,
            "object_fit": null,
            "object_position": null,
            "order": null,
            "overflow": null,
            "overflow_x": null,
            "overflow_y": null,
            "padding": null,
            "right": null,
            "top": null,
            "visibility": null,
            "width": null
          }
        },
        "b13cc8a2a8ae4c728266241b4729984b": {
          "model_module": "@jupyter-widgets/controls",
          "model_name": "SliderStyleModel",
          "model_module_version": "1.5.0",
          "state": {
            "_model_module": "@jupyter-widgets/controls",
            "_model_module_version": "1.5.0",
            "_model_name": "SliderStyleModel",
            "_view_count": null,
            "_view_module": "@jupyter-widgets/base",
            "_view_module_version": "1.2.0",
            "_view_name": "StyleView",
            "description_width": "",
            "handle_color": null
          }
        },
        "86dafd12d8d846ddb4192fc113b49792": {
          "model_module": "@jupyter-widgets/base",
          "model_name": "LayoutModel",
          "model_module_version": "1.2.0",
          "state": {
            "_model_module": "@jupyter-widgets/base",
            "_model_module_version": "1.2.0",
            "_model_name": "LayoutModel",
            "_view_count": null,
            "_view_module": "@jupyter-widgets/base",
            "_view_module_version": "1.2.0",
            "_view_name": "LayoutView",
            "align_content": null,
            "align_items": null,
            "align_self": null,
            "border": null,
            "bottom": null,
            "display": null,
            "flex": null,
            "flex_flow": null,
            "grid_area": null,
            "grid_auto_columns": null,
            "grid_auto_flow": null,
            "grid_auto_rows": null,
            "grid_column": null,
            "grid_gap": null,
            "grid_row": null,
            "grid_template_areas": null,
            "grid_template_columns": null,
            "grid_template_rows": null,
            "height": null,
            "justify_content": null,
            "justify_items": null,
            "left": null,
            "margin": null,
            "max_height": null,
            "max_width": null,
            "min_height": null,
            "min_width": null,
            "object_fit": null,
            "object_position": null,
            "order": null,
            "overflow": null,
            "overflow_x": null,
            "overflow_y": null,
            "padding": null,
            "right": null,
            "top": null,
            "visibility": null,
            "width": null
          }
        },
        "7e12c781bfb04a898c989bee19eb7691": {
          "model_module": "@jupyter-widgets/controls",
          "model_name": "VBoxModel",
          "model_module_version": "1.5.0",
          "state": {
            "_dom_classes": [
              "widget-interact"
            ],
            "_model_module": "@jupyter-widgets/controls",
            "_model_module_version": "1.5.0",
            "_model_name": "VBoxModel",
            "_view_count": null,
            "_view_module": "@jupyter-widgets/controls",
            "_view_module_version": "1.5.0",
            "_view_name": "VBoxView",
            "box_style": "",
            "children": [
              "IPY_MODEL_ec27ab573272433c8682cae4f1b3923c",
              "IPY_MODEL_41888005676c4a9dbaeea9396d78637a"
            ],
            "layout": "IPY_MODEL_0ccd6c1325a54ee99a726f1048928b9e"
          }
        },
        "ec27ab573272433c8682cae4f1b3923c": {
          "model_module": "@jupyter-widgets/controls",
          "model_name": "IntSliderModel",
          "model_module_version": "1.5.0",
          "state": {
            "_dom_classes": [],
            "_model_module": "@jupyter-widgets/controls",
            "_model_module_version": "1.5.0",
            "_model_name": "IntSliderModel",
            "_view_count": null,
            "_view_module": "@jupyter-widgets/controls",
            "_view_module_version": "1.5.0",
            "_view_name": "IntSliderView",
            "continuous_update": true,
            "description": "Slice:",
            "description_tooltip": null,
            "disabled": false,
            "layout": "IPY_MODEL_75579d354f5349c4b208368b5d70e305",
            "max": 300,
            "min": 200,
            "orientation": "horizontal",
            "readout": true,
            "readout_format": "d",
            "step": 1,
            "style": "IPY_MODEL_bcd204b06ade49e78017eb0b08499d3b",
            "value": 200
          }
        },
        "41888005676c4a9dbaeea9396d78637a": {
          "model_module": "@jupyter-widgets/output",
          "model_name": "OutputModel",
          "model_module_version": "1.0.0",
          "state": {
            "_dom_classes": [],
            "_model_module": "@jupyter-widgets/output",
            "_model_module_version": "1.0.0",
            "_model_name": "OutputModel",
            "_view_count": null,
            "_view_module": "@jupyter-widgets/output",
            "_view_module_version": "1.0.0",
            "_view_name": "OutputView",
            "layout": "IPY_MODEL_2d54d9f4c7da4ebe8b813cb781598786",
            "msg_id": "",
            "outputs": [
              {
                "output_type": "display_data",
                "data": {
                  "text/plain": "<Figure size 2000x500 with 2 Axes>",
                  "image/png": "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\n"
                },
                "metadata": {}
              }
            ]
          }
        },
        "0ccd6c1325a54ee99a726f1048928b9e": {
          "model_module": "@jupyter-widgets/base",
          "model_name": "LayoutModel",
          "model_module_version": "1.2.0",
          "state": {
            "_model_module": "@jupyter-widgets/base",
            "_model_module_version": "1.2.0",
            "_model_name": "LayoutModel",
            "_view_count": null,
            "_view_module": "@jupyter-widgets/base",
            "_view_module_version": "1.2.0",
            "_view_name": "LayoutView",
            "align_content": null,
            "align_items": null,
            "align_self": null,
            "border": null,
            "bottom": null,
            "display": null,
            "flex": null,
            "flex_flow": null,
            "grid_area": null,
            "grid_auto_columns": null,
            "grid_auto_flow": null,
            "grid_auto_rows": null,
            "grid_column": null,
            "grid_gap": null,
            "grid_row": null,
            "grid_template_areas": null,
            "grid_template_columns": null,
            "grid_template_rows": null,
            "height": null,
            "justify_content": null,
            "justify_items": null,
            "left": null,
            "margin": null,
            "max_height": null,
            "max_width": null,
            "min_height": null,
            "min_width": null,
            "object_fit": null,
            "object_position": null,
            "order": null,
            "overflow": null,
            "overflow_x": null,
            "overflow_y": null,
            "padding": null,
            "right": null,
            "top": null,
            "visibility": null,
            "width": null
          }
        },
        "75579d354f5349c4b208368b5d70e305": {
          "model_module": "@jupyter-widgets/base",
          "model_name": "LayoutModel",
          "model_module_version": "1.2.0",
          "state": {
            "_model_module": "@jupyter-widgets/base",
            "_model_module_version": "1.2.0",
            "_model_name": "LayoutModel",
            "_view_count": null,
            "_view_module": "@jupyter-widgets/base",
            "_view_module_version": "1.2.0",
            "_view_name": "LayoutView",
            "align_content": null,
            "align_items": null,
            "align_self": null,
            "border": null,
            "bottom": null,
            "display": null,
            "flex": null,
            "flex_flow": null,
            "grid_area": null,
            "grid_auto_columns": null,
            "grid_auto_flow": null,
            "grid_auto_rows": null,
            "grid_column": null,
            "grid_gap": null,
            "grid_row": null,
            "grid_template_areas": null,
            "grid_template_columns": null,
            "grid_template_rows": null,
            "height": null,
            "justify_content": null,
            "justify_items": null,
            "left": null,
            "margin": null,
            "max_height": null,
            "max_width": null,
            "min_height": null,
            "min_width": null,
            "object_fit": null,
            "object_position": null,
            "order": null,
            "overflow": null,
            "overflow_x": null,
            "overflow_y": null,
            "padding": null,
            "right": null,
            "top": null,
            "visibility": null,
            "width": null
          }
        },
        "bcd204b06ade49e78017eb0b08499d3b": {
          "model_module": "@jupyter-widgets/controls",
          "model_name": "SliderStyleModel",
          "model_module_version": "1.5.0",
          "state": {
            "_model_module": "@jupyter-widgets/controls",
            "_model_module_version": "1.5.0",
            "_model_name": "SliderStyleModel",
            "_view_count": null,
            "_view_module": "@jupyter-widgets/base",
            "_view_module_version": "1.2.0",
            "_view_name": "StyleView",
            "description_width": "",
            "handle_color": null
          }
        },
        "2d54d9f4c7da4ebe8b813cb781598786": {
          "model_module": "@jupyter-widgets/base",
          "model_name": "LayoutModel",
          "model_module_version": "1.2.0",
          "state": {
            "_model_module": "@jupyter-widgets/base",
            "_model_module_version": "1.2.0",
            "_model_name": "LayoutModel",
            "_view_count": null,
            "_view_module": "@jupyter-widgets/base",
            "_view_module_version": "1.2.0",
            "_view_name": "LayoutView",
            "align_content": null,
            "align_items": null,
            "align_self": null,
            "border": null,
            "bottom": null,
            "display": null,
            "flex": null,
            "flex_flow": null,
            "grid_area": null,
            "grid_auto_columns": null,
            "grid_auto_flow": null,
            "grid_auto_rows": null,
            "grid_column": null,
            "grid_gap": null,
            "grid_row": null,
            "grid_template_areas": null,
            "grid_template_columns": null,
            "grid_template_rows": null,
            "height": null,
            "justify_content": null,
            "justify_items": null,
            "left": null,
            "margin": null,
            "max_height": null,
            "max_width": null,
            "min_height": null,
            "min_width": null,
            "object_fit": null,
            "object_position": null,
            "order": null,
            "overflow": null,
            "overflow_x": null,
            "overflow_y": null,
            "padding": null,
            "right": null,
            "top": null,
            "visibility": null,
            "width": null
          }
        }
      }
    }
  },
  "nbformat": 4,
  "nbformat_minor": 0
}