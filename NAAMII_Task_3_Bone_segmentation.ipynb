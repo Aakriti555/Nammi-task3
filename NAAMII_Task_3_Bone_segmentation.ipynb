{
  "cells": [
    {
      "cell_type": "markdown",
      "metadata": {
        "id": "view-in-github",
        "colab_type": "text"
      },
      "source": [
        "<a href=\"https://colab.research.google.com/github/Aakriti555/Nammi-task3/blob/main/NAAMII_Task_3_Bone_segmentation.ipynb\" target=\"_parent\"><img src=\"https://colab.research.google.com/assets/colab-badge.svg\" alt=\"Open In Colab\"/></a>"
      ]
    },
    {
      "cell_type": "code",
      "execution_count": 148,
      "metadata": {
        "colab": {
          "base_uri": "https://localhost:8080/"
        },
        "id": "Slg8VxTMJ6wQ",
        "outputId": "5067cf52-ddcc-4eca-bac8-25d30ef14595"
      },
      "outputs": [
        {
          "output_type": "stream",
          "name": "stdout",
          "text": [
            "Requirement already satisfied: nibabel in /usr/local/lib/python3.11/dist-packages (5.3.2)\n",
            "Requirement already satisfied: importlib-resources>=5.12 in /usr/local/lib/python3.11/dist-packages (from nibabel) (6.5.2)\n",
            "Requirement already satisfied: numpy>=1.22 in /usr/local/lib/python3.11/dist-packages (from nibabel) (2.0.2)\n",
            "Requirement already satisfied: packaging>=20 in /usr/local/lib/python3.11/dist-packages (from nibabel) (25.0)\n",
            "Requirement already satisfied: typing-extensions>=4.6 in /usr/local/lib/python3.11/dist-packages (from nibabel) (4.14.0)\n"
          ]
        }
      ],
      "source": [
        "!pip install nibabel"
      ]
    },
    {
      "cell_type": "code",
      "execution_count": 149,
      "metadata": {
        "id": "lld6xUYNeTL1"
      },
      "outputs": [],
      "source": [
        "import os\n",
        "import numpy as np\n",
        "import pandas as pd\n",
        "import matplotlib.pyplot as plt\n",
        "%matplotlib inline\n",
        "import nibabel as nib # common way of importing nibabel\n",
        "from skimage.feature import peak_local_max\n",
        "from collections import deque"
      ]
    },
    {
      "cell_type": "code",
      "execution_count": 150,
      "metadata": {
        "colab": {
          "base_uri": "https://localhost:8080/",
          "height": 122
        },
        "id": "KAnbtGCWSpwv",
        "outputId": "d4c2686a-dbfe-45ee-c2d7-aaf02378ebf5"
      },
      "outputs": [
        {
          "output_type": "stream",
          "name": "stderr",
          "text": [
            "Downloading...\n",
            "From (original): https://drive.google.com/uc?id=1NR7OEboARP_fpseIZOY0Wy8Ir1NEYfL5\n",
            "From (redirected): https://drive.google.com/uc?id=1NR7OEboARP_fpseIZOY0Wy8Ir1NEYfL5&confirm=t&uuid=81b33f7e-bafd-4dce-9bed-e74746bf8901\n",
            "To: /content/3702_left_knee.nii.gz\n",
            "100%|██████████| 26.2M/26.2M [00:00<00:00, 69.8MB/s]\n"
          ]
        },
        {
          "output_type": "execute_result",
          "data": {
            "text/plain": [
              "'3702_left_knee.nii.gz'"
            ],
            "application/vnd.google.colaboratory.intrinsic+json": {
              "type": "string"
            }
          },
          "metadata": {},
          "execution_count": 150
        }
      ],
      "source": [
        "import gdown\n",
        "gdown.download(url=\"https://drive.google.com/file/d/1NR7OEboARP_fpseIZOY0Wy8Ir1NEYfL5/edit\", output=\"3702_left_knee.nii.gz\", fuzzy=True)"
      ]
    },
    {
      "cell_type": "code",
      "execution_count": 151,
      "metadata": {
        "id": "RY44uSfwf6an",
        "colab": {
          "base_uri": "https://localhost:8080/"
        },
        "outputId": "a74cf9a6-9702-4046-af60-865801ae7c37"
      },
      "outputs": [
        {
          "output_type": "stream",
          "name": "stdout",
          "text": [
            "<class 'nibabel.nifti1.Nifti1Image'>\n"
          ]
        }
      ],
      "source": [
        "mri_file = '/content/3702_left_knee.nii.gz'\n",
        "img = nib.load(mri_file)\n",
        "print(type(img))"
      ]
    },
    {
      "cell_type": "code",
      "execution_count": 152,
      "metadata": {
        "colab": {
          "base_uri": "https://localhost:8080/"
        },
        "id": "1Q5P0l2dgGhv",
        "outputId": "02ed41c0-c90f-48cf-fe16-2c1292698bbf"
      },
      "outputs": [
        {
          "output_type": "stream",
          "name": "stdout",
          "text": [
            "(512, 512, 216)\n"
          ]
        }
      ],
      "source": [
        "print(img.shape)"
      ]
    },
    {
      "cell_type": "code",
      "execution_count": 153,
      "metadata": {
        "id": "UarOHi6NhZzx"
      },
      "outputs": [],
      "source": [
        "# here, we're storing the header attribute in a new variable, hdr, for easy of use\n",
        "hdr = img.header"
      ]
    },
    {
      "cell_type": "code",
      "execution_count": 154,
      "metadata": {
        "colab": {
          "base_uri": "https://localhost:8080/"
        },
        "id": "Gp797O1bi0mu",
        "outputId": "a18f7919-498f-47c0-ff68-30da7aa69f14"
      },
      "outputs": [
        {
          "output_type": "execute_result",
          "data": {
            "text/plain": [
              "(np.float32(0.869141), np.float32(0.869141), np.float32(2.0))"
            ]
          },
          "metadata": {},
          "execution_count": 154
        }
      ],
      "source": [
        "hdr.get_zooms()  # it's a 1x1x1 mm MRI file!"
      ]
    },
    {
      "cell_type": "code",
      "execution_count": 155,
      "metadata": {
        "id": "Q5N2oh9TjVR5"
      },
      "outputs": [],
      "source": [
        "img_data = img.get_fdata()"
      ]
    },
    {
      "cell_type": "code",
      "execution_count": 156,
      "metadata": {
        "colab": {
          "base_uri": "https://localhost:8080/"
        },
        "id": "dfu8X7VNjY3Z",
        "outputId": "3f2b1fa3-91cb-43ee-95f4-05ebcb17d229"
      },
      "outputs": [
        {
          "output_type": "stream",
          "name": "stdout",
          "text": [
            "(512, 216)\n"
          ]
        }
      ],
      "source": [
        "slice_index = 260  # adjust as needed\n",
        "mid_slice_x = img_data[:,slice_index, :]\n",
        "print(mid_slice_x.shape)"
      ]
    },
    {
      "cell_type": "code",
      "execution_count": 157,
      "metadata": {
        "colab": {
          "base_uri": "https://localhost:8080/",
          "height": 465
        },
        "id": "aAnMP2iMjhM3",
        "outputId": "a70c22fa-6825-44b8-f9f7-158b2438ab8f"
      },
      "outputs": [
        {
          "output_type": "display_data",
          "data": {
            "text/plain": [
              "<Figure size 2000x500 with 2 Axes>"
            ],
            "image/png": "[encoded data removed]"
          },
          "metadata": {}
        }
      ],
      "source": [
        "# Note that the transpose the slice (using the .T attribute).\n",
        "# This is because imshow plots the first dimension on the y-axis and the\n",
        "# second on the x-axis, but we'd like to plot the first on the x-axis and the\n",
        "# second on the y-axis. Also, the origin to \"lower\", as the data was saved in\n",
        "# \"cartesian\" coordinates.\n",
        "plt.imshow(mid_slice_x.T, cmap='gray', origin='lower')\n",
        "plt.xlabel('First axis')\n",
        "plt.ylabel('Second axis')\n",
        "plt.colorbar(label='Signal intensity')\n",
        "plt.rcParams[\"figure.figsize\"] = (20,5)\n",
        "plt.show()"
      ]
    },
    {
      "cell_type": "markdown",
      "source": [
        "## Segmentation"
      ],
      "metadata": {
        "id": "f2LSW4Fd_GND"
      }
    },
    {
      "cell_type": "code",
      "source": [
        "# from skimage.segmentation import clear_border\n",
        "# from skimage import measure\n",
        "# from skimage.measure import label,regionprops\n",
        "# from scipy import ndimage as ndi\n",
        "# from scipy.ndimage import measurements, center_of_mass, binary_dilation, zoom\n",
        "# import plotly.graph_objects as go\n",
        "\n",
        "# import ipywidgets as widgets\n",
        "# from IPython.display import display\n",
        "# import cv2"
      ],
      "metadata": {
        "id": "ceNx4T6anwze"
      },
      "execution_count": 158,
      "outputs": []
    },
    {
      "cell_type": "code",
      "source": [
        "# Get the data as a NumPy array\n",
        "\n",
        "# img = img.get_fdata()"
      ],
      "metadata": {
        "id": "LnaOeRRb_TiL"
      },
      "execution_count": 159,
      "outputs": []
    },
    {
      "cell_type": "code",
      "source": [
        "# img = img.transpose(1, 0, 2)\n",
        "# img = np.rot90(img, k=3, axes=(1, 2))"
      ],
      "metadata": {
        "id": "Ih1-rFhB_NPZ"
      },
      "execution_count": 160,
      "outputs": []
    },
    {
      "cell_type": "code",
      "source": [
        "# # Function to update the plot\n",
        "# def update_ct_display_slice(slice_index):\n",
        "#     plt.figure()\n",
        "#     plt.xlabel('First axis')\n",
        "#     plt.ylabel('Second axis')\n",
        "#     plt.pcolormesh(img[slice_index])\n",
        "#     plt.colorbar()\n",
        "#     plt.show()\n",
        "\n",
        "# # Create a slider\n",
        "# slider = widgets.IntSlider(value=0, min=200, max=320, step=1, description='Slice:')\n",
        "# widgets.interact(update_ct_display_slice, slice_index=slider)"
      ],
      "metadata": {
        "id": "49hsxU61_Pct"
      },
      "execution_count": 161,
      "outputs": []
    },
    {
      "cell_type": "markdown",
      "source": [
        "# Separating Bone from Background"
      ],
      "metadata": {
        "id": "2NO1mTCKBbEl"
      }
    },
    {
      "cell_type": "code",
      "source": [
        "# threshold = 120\n",
        "\n",
        "# # Set all values below threshold to 0\n",
        "# img_bones = np.where(img >= threshold, img, 0)\n",
        "# img_background = np.where(img < threshold, img, 0)"
      ],
      "metadata": {
        "id": "Ajg6tyvbBfg9"
      },
      "execution_count": 162,
      "outputs": []
    },
    {
      "cell_type": "code",
      "source": [
        "# Function to update the plot\n",
        "# def update_ct_display_slice(slice_index):\n",
        "\n",
        "#     plt.figure()\n",
        "#     plt.pcolormesh(img_bones[slice_index])\n",
        "#     plt.colorbar()\n",
        "#     plt.title(f\"Bone Only Slice {slice_index}\")\n",
        "#     plt.show()\n",
        "\n",
        "# # Create a slider\n",
        "# slider = widgets.IntSlider(value=260, min=200, max=320, step=1, description='Slice:')\n",
        "# widgets.interact(update_ct_display_slice, slice_index=slider)"
      ],
      "metadata": {
        "id": "nz9krUJPCFCi"
      },
      "execution_count": 163,
      "outputs": []
    },
    {
      "cell_type": "code",
      "source": [
        "# Visualizing the Background\n",
        "\n",
        "# def update_ct_display_slice(slice_index):\n",
        "\n",
        "#     plt.figure()\n",
        "#     plt.pcolormesh(img_background[slice_index])\n",
        "#     plt.colorbar()\n",
        "#     plt.title(f\"Bone Only Slice {slice_index}\")\n",
        "#     plt.show()\n",
        "\n",
        "# # Create a slider\n",
        "# slider = widgets.IntSlider(value=0, min=200, max=320, step=1, description='Slice:')\n",
        "# widgets.interact(update_ct_display_slice, slice_index=slider)"
      ],
      "metadata": {
        "id": "akf8RR8uCR63"
      },
      "execution_count": 164,
      "outputs": []
    },
    {
      "cell_type": "code",
      "source": [
        "# from scipy.ndimage import gaussian_filter, median_filter\n",
        "\n",
        "# # Edge enhancement with unsharp masking\n",
        "# blurred = gaussian_filter(img_bones, sigma=2)\n",
        "# img_edges = img_bones + (img_bones - blurred) * 2  # Adjust multiplier for edge strength"
      ],
      "metadata": {
        "id": "R0iYXdEEFWBd"
      },
      "execution_count": 165,
      "outputs": []
    },
    {
      "cell_type": "code",
      "source": [
        "# # Function to update the plot\n",
        "# def update_ct_display_slice(slice_index):\n",
        "\n",
        "#     plt.figure()\n",
        "#     plt.pcolormesh(img_edges[slice_index])\n",
        "#     plt.colorbar()\n",
        "#     plt.title(f\"Edge Enhanced Slice {slice_index}\")\n",
        "#     plt.show()\n",
        "\n",
        "# # Create a slider\n",
        "# slider = widgets.IntSlider(value=0, min=200, max=300, step=1, description='Slice:')\n",
        "# widgets.interact(update_ct_display_slice, slice_index=slider)"
      ],
      "metadata": {
        "id": "T7p-iO8BGsgA"
      },
      "execution_count": 166,
      "outputs": []
    },
    {
      "cell_type": "code",
      "source": [
        "# mask = img_edges > 250\n",
        "# def update_segmentation_slice(slice_index):\n",
        "#     plt.figure()\n",
        "#     plt.pcolormesh(mask[slice_index])\n",
        "#     plt.colorbar()\n",
        "#     plt.title(f\"Masked Slice {slice_index}\")\n",
        "#     plt.show()\n",
        "\n",
        "# slider = widgets.IntSlider(value=0, min=200, max=300, step=1, description='Slice:')\n",
        "# widgets.interact(update_segmentation_slice, slice_index=slider)"
      ],
      "metadata": {
        "id": "7JlXr1q3YL_J"
      },
      "execution_count": 167,
      "outputs": []
    },
    {
      "cell_type": "code",
      "source": [
        "# from skimage.morphology import remove_small_objects\n",
        "# from scipy.ndimage import binary_fill_holes\n",
        "\n",
        "# # Remove small connected components (3D-aware)\n",
        "# cleaned_mask = remove_small_objects(mask, min_size=2000, connectivity=1)\n",
        "\n",
        "# # First pass: fill holes in axial slices (XY planes)\n",
        "# filled_mask = np.zeros_like(cleaned_mask, dtype=bool)\n",
        "# for i in range(cleaned_mask.shape[0]):\n",
        "#     filled_mask[i] = binary_fill_holes(cleaned_mask[i])\n",
        "\n",
        "# # Second pass: fill holes in sagittal slices (YZ planes)\n",
        "# for j in range(filled_mask.shape[2]):\n",
        "#     filled_mask[:, :, j] = binary_fill_holes(filled_mask[:, :, j])"
      ],
      "metadata": {
        "id": "kK7cHM6QFj3p"
      },
      "execution_count": 168,
      "outputs": []
    },
    {
      "cell_type": "code",
      "source": [
        "# def update_segmentation_slice(slice_index):\n",
        "#     plt.figure()\n",
        "#     plt.pcolormesh(filled_mask[slice_index])\n",
        "#     plt.colorbar()\n",
        "#     plt.title(f\"Partially Filled and Noise Free Slice {slice_index}\")\n",
        "#     plt.show()\n",
        "\n",
        "# slider = widgets.IntSlider(value=0, min=200, max=300, step=1, description='Slice:')\n",
        "# widgets.interact(update_segmentation_slice, slice_index=slider)"
      ],
      "metadata": {
        "id": "okVspMX8Fm96"
      },
      "execution_count": 169,
      "outputs": []
    },
    {
      "cell_type": "markdown",
      "source": [
        "## Separate Femur from Tibia"
      ],
      "metadata": {
        "id": "UM4WZA7NFwZU"
      }
    },
    {
      "cell_type": "code",
      "source": [
        "# from scipy.ndimage import label, center_of_mass\n",
        "\n",
        "# # filled_mask is a 2D boolean mask where both bones are connected regions\n",
        "\n",
        "# # Label connected components\n",
        "# labeled_mask, num_labels = label(filled_mask)\n",
        "\n",
        "# # Compute vertical (y-axis) centroids\n",
        "# centroids = center_of_mass(filled_mask, labeled_mask, range(1, num_labels + 1))\n",
        "# centroids_y = [c[0] for c in centroids]  # y-coordinates (row)\n",
        "\n",
        "# # Sort labels by vertical position (top = femur, bottom = tibia)\n",
        "# sorted_labels = [label_idx for _, label_idx in sorted(zip(centroids_y, range(1, num_labels + 1)))]\n",
        "\n",
        "# # Create masks\n",
        "# femur_mask = (labeled_mask == sorted_labels[0]) | (labeled_mask == sorted_labels[1])\n",
        "# tibia_mask = labeled_mask == sorted_labels[2]\n"
      ],
      "metadata": {
        "id": "OehGPil8FuIV"
      },
      "execution_count": 170,
      "outputs": []
    },
    {
      "cell_type": "code",
      "source": [
        "# def update_segmentation_slice(slice_index):\n",
        "#     fig, axs = plt.subplots(1, 2, figsize=(12, 5))\n",
        "\n",
        "#     im1 = axs[0].pcolormesh(tibia_mask[slice_index])\n",
        "#     axs[0].set_title(f\"Tibia Mask Slice {slice_index}\")\n",
        "#     plt.colorbar(im1, ax=axs[0])\n",
        "\n",
        "#     im2 = axs[1].pcolormesh(femur_mask[slice_index])\n",
        "#     axs[1].set_title(f\"Femur Mask Slice {slice_index}\")\n",
        "#     plt.colorbar(im2, ax=axs[1])\n",
        "\n",
        "#     plt.show()\n",
        "\n",
        "# slider = widgets.IntSlider(value=0, min=200, max=300, step=1, description='Slice:')\n",
        "# widgets.interact(update_segmentation_slice, slice_index=slider)"
      ],
      "metadata": {
        "id": "03nXRkNvF1w8"
      },
      "execution_count": 171,
      "outputs": []
    },
    {
      "cell_type": "markdown",
      "source": [
        "## Filling the internal gaps"
      ],
      "metadata": {
        "id": "bQi8vcZBHJmN"
      }
    },
    {
      "cell_type": "code",
      "source": [
        "# def apply_mask_coloring(mask_bool, kernel_size=15, iterations=2):\n",
        "#     # Convert boolean mask to uint8 for cv2 operations (0 and 255)\n",
        "#     mask_uint8 = mask_bool.astype(np.uint8) * 255\n",
        "\n",
        "#     kernel = cv2.getStructuringElement(cv2.MORPH_ELLIPSE, (kernel_size, kernel_size))\n",
        "#     closed = cv2.morphologyEx(mask_uint8, cv2.MORPH_CLOSE, kernel, iterations=iterations)\n",
        "\n",
        "#     # Convert back to boolean for filling holes\n",
        "#     closed_bool = closed.astype(bool)\n",
        "\n",
        "#     # Fill holes on the boolean mask\n",
        "#     filled = binary_fill_holes(closed_bool)\n",
        "\n",
        "#     return filled\n",
        "\n",
        "# # Apply separately\n",
        "# femur_mask_filled = apply_mask_coloring(femur_mask)\n",
        "# tibia_mask_filled = apply_mask_coloring(tibia_mask)"
      ],
      "metadata": {
        "id": "QLo06juGF4pn"
      },
      "execution_count": 172,
      "outputs": []
    },
    {
      "cell_type": "code",
      "source": [
        "# def update_segmentation_slice(slice_index):\n",
        "#     fig, axs = plt.subplots(1, 2, figsize=(12, 5))\n",
        "\n",
        "#     im1 = axs[0].pcolormesh(tibia_mask_filled[slice_index])\n",
        "#     axs[0].set_title(f\"Tibia Filled Slice {slice_index}\")\n",
        "#     plt.colorbar(im1, ax=axs[0])\n",
        "\n",
        "#     im2 = axs[1].pcolormesh(femur_mask_filled[slice_index])\n",
        "#     axs[1].set_title(f\"Femur Filled Slice {slice_index}\")\n",
        "#     plt.colorbar(im2, ax=axs[1])\n",
        "\n",
        "#     plt.show()\n",
        "\n",
        "# slider = widgets.IntSlider(value=0, min=200, max=300, step=1, description='Slice:')\n",
        "# widgets.interact(update_segmentation_slice, slice_index=slider)"
      ],
      "metadata": {
        "id": "fkDLqGl-HRtf"
      },
      "execution_count": 173,
      "outputs": []
    },
    {
      "cell_type": "code",
      "source": [
        "# femur_segment = img * femur_mask_filled\n",
        "# tibia_segment = img * tibia_mask_filled\n",
        "# overall_mask = femur_mask_filled | tibia_mask_filled\n",
        "# overall_segment = img * overall_mask"
      ],
      "metadata": {
        "id": "fFSz6kvzHhof"
      },
      "execution_count": 174,
      "outputs": []
    },
    {
      "cell_type": "code",
      "source": [
        "# def update_segmentation_slice(slice_index):\n",
        "#     fig, axs = plt.subplots(1, 3, figsize=(18, 5))\n",
        "\n",
        "#     im1 = axs[0].pcolormesh(femur_segment[slice_index])\n",
        "#     axs[0].set_title(f\"Femur Segment Slice {slice_index}\")\n",
        "#     plt.colorbar(im1, ax=axs[0])\n",
        "\n",
        "#     im2 = axs[1].pcolormesh(tibia_segment[slice_index])\n",
        "#     axs[1].set_title(f\"Tibia Segment Slice {slice_index}\")\n",
        "#     plt.colorbar(im2, ax=axs[1])\n",
        "\n",
        "#     im3 = axs[2].pcolormesh(overall_segment[slice_index])\n",
        "#     axs[2].set_title(f\"Overall Segment Slice {slice_index}\")\n",
        "#     plt.colorbar(im3, ax=axs[2])\n",
        "\n",
        "#     plt.tight_layout()\n",
        "#     plt.show()\n",
        "\n",
        "# slider = widgets.IntSlider(value=0, min=200, max=300, step=1, description='Slice:')\n",
        "# widgets.interact(update_segmentation_slice, slice_index=slider)\n"
      ],
      "metadata": {
        "id": "8Q2w53uZHliq"
      },
      "execution_count": 175,
      "outputs": []
    },
    {
      "cell_type": "code",
      "source": [
        "# start_slice = 200\n",
        "# end_slice = 300\n",
        "\n",
        "# # Cropped femur and tibia segments\n",
        "# femur_segment_cropped = femur_segment[start_slice:end_slice]\n",
        "# tibia_segment_cropped = tibia_segment[start_slice:end_slice]\n"
      ],
      "metadata": {
        "id": "N9jA0igyBELN"
      },
      "execution_count": 176,
      "outputs": []
    },
    {
      "cell_type": "code",
      "execution_count": 177,
      "metadata": {
        "id": "1nXQFKtZXOwE"
      },
      "outputs": [],
      "source": [
        "# # Optional visualization\n",
        "# plt.figure(figsize=(10, 4))\n",
        "# plt.subplot(1, 2, 1)\n",
        "# plt.imshow(femur_mask[:, 255, :].T, cmap='gray', origin='lower')\n",
        "# plt.title('Femur Mask')\n",
        "\n",
        "# plt.subplot(1, 2, 2)\n",
        "# plt.imshow(tibia_mask[:, 267, :].T, cmap='gray', origin='lower')\n",
        "# plt.title('Tibia Mask')\n",
        "# plt.show()"
      ]
    },
    {
      "cell_type": "markdown",
      "source": [
        "# 2. Conversion of 2D Pretrained Model to 3D"
      ],
      "metadata": {
        "id": "-ejLW5kUI9X4"
      }
    },
    {
      "cell_type": "code",
      "source": [
        "# import torch\n",
        "# import torch.nn as nn\n",
        "# import torchvision.models as models\n",
        "# import torch.nn.functional as F\n",
        "# import torchvision.models as models\n",
        "# from collections import OrderedDict\n",
        "# import copy"
      ],
      "metadata": {
        "id": "XuCVs9ioajjG"
      },
      "execution_count": 178,
      "outputs": []
    },
    {
      "cell_type": "code",
      "source": [
        "# def inflate_conv_layer_2d_to_3d(conv2d, depth=3):\n",
        "#     \"\"\"\n",
        "#     Inflate a Conv2d to Conv3d by repeating the weights along a new depth\n",
        "#     dimension and padding so that D is preserved.\n",
        "#     \"\"\"\n",
        "#     w2d = conv2d.weight.data\n",
        "#     w3d = w2d.unsqueeze(2).repeat(1, 1, depth, 1, 1) / depth\n",
        "\n",
        "#     pad_d = depth // 2\n",
        "\n",
        "#     conv3d = nn.Conv3d(\n",
        "#         in_channels=conv2d.in_channels,\n",
        "#         out_channels=conv2d.out_channels,\n",
        "#         kernel_size=(depth, *conv2d.kernel_size),\n",
        "#         stride=(1, *conv2d.stride),\n",
        "#         padding=(pad_d, *conv2d.padding),\n",
        "#         bias=(conv2d.bias is not None)\n",
        "#     )\n",
        "#     conv3d.weight.data = w3d\n",
        "#     if conv2d.bias is not None:\n",
        "#         conv3d.bias.data = conv2d.bias.data.clone()\n",
        "#     return conv3d\n",
        "\n",
        "\n",
        "# def pad_to_match(x, target):\n",
        "#     \"\"\"Pad tensor `x` to match the spatial shape of `target`.\"\"\"\n",
        "#     diff = [t - s for s, t in zip(x.shape[2:], target.shape[2:])]\n",
        "#     pad = [p for d in reversed(diff) for p in (0, d)]  # [W, H, D]\n",
        "#     return F.pad(x, pad)\n",
        "\n",
        "\n",
        "\n",
        "# def convert_densenet2d_to_3d(model2d, depth=3):\n",
        "#     model3d = copy.deepcopy(model2d)\n",
        "\n",
        "#     def recursively_convert(module):\n",
        "#         for name, child in list(module.named_children()):\n",
        "#             if isinstance(child, nn.Conv2d):\n",
        "#                 setattr(module, name, inflate_conv_layer_2d_to_3d(child, depth))\n",
        "#             elif isinstance(child, nn.BatchNorm2d):\n",
        "#                 new_bn = nn.BatchNorm3d(child.num_features)\n",
        "#                 new_bn.weight.data = child.weight.data.clone()\n",
        "#                 new_bn.bias.data = child.bias.data.clone()\n",
        "#                 new_bn.running_mean = child.running_mean.clone()\n",
        "#                 new_bn.running_var = child.running_var.clone()\n",
        "#                 setattr(module, name, new_bn)\n",
        "#             elif isinstance(child, nn.AdaptiveAvgPool2d):\n",
        "#                 setattr(module, name, nn.AdaptiveAvgPool3d((1, 1, 1)))\n",
        "#             elif isinstance(child, nn.MaxPool2d):\n",
        "#                 setattr(module, name, nn.MaxPool3d(kernel_size=(1, 2, 2), stride=(1, 2, 2)))\n",
        "#             elif isinstance(child, nn.AvgPool2d):\n",
        "#                 setattr(module, name, nn.AvgPool3d(kernel_size=(1, 2, 2), stride=(1, 2, 2)))\n",
        "#             else:\n",
        "#                 recursively_convert(child)\n",
        "\n",
        "#     recursively_convert(model3d.features)\n",
        "#     return model3d"
      ],
      "metadata": {
        "id": "hD9LNccRpEAM"
      },
      "execution_count": 179,
      "outputs": []
    },
    {
      "cell_type": "code",
      "source": [
        "# model2d = models.densenet121(pretrained=True)\n",
        "# model3d = convert_densenet2d_to_3d(model2d)\n",
        "# model3d.eval()\n",
        "# print(\"Done\")"
      ],
      "metadata": {
        "id": "Ny-kSizUpEx9"
      },
      "execution_count": 180,
      "outputs": []
    },
    {
      "cell_type": "code",
      "source": [
        "# def extract_gap_features_from_layer(model, volume_tensor):\n",
        "#     with torch.no_grad():\n",
        "#         x = model.features(volume_tensor)\n",
        "#         print(\"feature map shape:\", x.shape)      #torch.Size([1, 1024, D', H', W'])\n",
        "#         pooled = F.adaptive_avg_pool3d(x, (1, 1, 1))\n",
        "#         print(\"after pooling:\", pooled.shape)\n",
        "#         vector = pooled.view(pooled.size(0), -1).cpu().numpy()\n",
        "#     return vector"
      ],
      "metadata": {
        "id": "Wiy7FNVMpJQM"
      },
      "execution_count": 181,
      "outputs": []
    },
    {
      "cell_type": "code",
      "source": [
        "# from collections import OrderedDict\n",
        "\n",
        "# feat_maps = OrderedDict()\n",
        "\n",
        "# conv_layers = []\n",
        "# for name, module in model3d.features.named_modules():\n",
        "#     if isinstance(module, torch.nn.Conv3d):\n",
        "#         conv_layers.append(name)\n",
        "\n",
        "# # Pick indices: last (-1), third-last (-3), fifth-last (-5)\n",
        "# targets = {\n",
        "#     'last':   conv_layers[-1],\n",
        "#     'third':  conv_layers[-3],\n",
        "#     'fifth':  conv_layers[-5],\n",
        "# }\n",
        "\n",
        "# # Register hooks\n",
        "# for key, layer_name in targets.items():\n",
        "#     module = dict(model3d.features.named_modules())[layer_name]\n",
        "#     module.register_forward_hook(\n",
        "#         lambda self, input, output, k=key: feat_maps.__setitem__(k, output)\n",
        "#     )"
      ],
      "metadata": {
        "id": "Zj1AhVqyuKfL"
      },
      "execution_count": 182,
      "outputs": []
    },
    {
      "cell_type": "code",
      "source": [
        "# def preprocess_ct_volume(volume, hu_min=-1000, hu_max=1000):\n",
        "#     clipped = np.clip(volume, hu_min, hu_max)\n",
        "#     normed = (clipped - hu_min) / (hu_max - hu_min)\n",
        "#     tensor = torch.tensor(normed[None, None], dtype=torch.float32)  # (1,1,D,H,W)\n",
        "#     # Reduce the input dimensions\n",
        "#     tensor = F.interpolate(tensor, size=(256, 128, 256), mode='trilinear', align_corners=False)\n",
        "#     tensor = tensor.repeat(1, 3, 1, 1, 1)  # (1,3,D,H,W)\n",
        "\n",
        "#     # _, _, d, h, w = tensor.shape\n",
        "#     # pad_d = (32 - d % 32) % 32\n",
        "#     # pad_h = (32 - h % 32) % 32\n",
        "#     # pad_w = (32 - w % 32) % 32\n",
        "\n",
        "#     # padding = (0, pad_w, 0, pad_h, 0, pad_d)\n",
        "#     # tensor = F.pad(tensor, padding)\n",
        "\n",
        "#     return tensor\n",
        "\n",
        "\n",
        "\n",
        "# tibia_tensor = preprocess_ct_volume(tibia_segment_cropped)\n",
        "# femur_tensor = preprocess_ct_volume(femur_segment_cropped)\n",
        "# background_tensor = preprocess_ct_volume(img_background)"
      ],
      "metadata": {
        "id": "pJyPfs6gua6W"
      },
      "execution_count": 183,
      "outputs": []
    },
    {
      "cell_type": "code",
      "source": [
        "# from torch.nn import CosineSimilarity\n",
        "# import torch.nn.functional as F\n",
        "\n",
        "# cos = CosineSimilarity(dim=1, eps=1e-6)\n",
        "\n",
        "# def extract_features_per_region(volume_tensor):\n",
        "#     \"\"\"\n",
        "#     volume_tensor: torch.Tensor shape (1,3,D,H,W) on CPU\n",
        "#     returns dict: {'last': torch.Tensor, 'third': torch.Tensor, 'fifth': torch.Tensor}\n",
        "#     \"\"\"\n",
        "#     feat_maps.clear()\n",
        "#     with torch.no_grad():\n",
        "#         _ = model3d.features(volume_tensor)   # forward through features\n",
        "\n",
        "#     vectors = {}\n",
        "#     for key, fmap in feat_maps.items():\n",
        "#         # Global average pooling to (1, C, 1, 1, 1)\n",
        "#         pooled = F.adaptive_avg_pool3d(fmap, (1,1,1))\n",
        "#         vec = pooled.view(pooled.size(0), -1)  # (1, C)\n",
        "#         vectors[key] = vec\n",
        "#     return vectors"
      ],
      "metadata": {
        "id": "NZia4cOSuNnU"
      },
      "execution_count": 184,
      "outputs": []
    },
    {
      "cell_type": "code",
      "source": [
        "# regions = {\n",
        "#     'tibia': tibia_tensor,\n",
        "#     'femur': femur_tensor,\n",
        "#     'background': background_tensor\n",
        "# }\n",
        "\n",
        "# rows = []\n",
        "# pairs = [('tibia','femur'), ('tibia','background'), ('femur','background')]\n",
        "\n",
        "# layers = ['last','third','fifth']\n",
        "\n",
        "# # Precompute features per region\n",
        "# region_feats = {r: extract_features_per_region(t) for r, t in regions.items()}\n",
        "\n",
        "# for img_idx in [0]:\n",
        "#     for (r1, r2) in pairs:\n",
        "#         feats1 = region_feats[r1]\n",
        "#         feats2 = region_feats[r2]\n",
        "#         row = {\n",
        "#             'image': img_idx,\n",
        "#             'pair': f\"{r1}_{r2}\"\n",
        "#         }\n",
        "#         for layer in layers:\n",
        "#             sim = cos(feats1[layer], feats2[layer]).item()\n",
        "#             row[f\"cos_{layer}\"] = sim\n",
        "#         rows.append(row)\n",
        "\n",
        "# df = pd.DataFrame(rows)\n",
        "# csv_path = \"knee_region_cosine_similarities.csv\"\n",
        "# df.to_csv(csv_path, index=False)\n",
        "# print(f\"Saved similarities to {csv_path}\")\n"
      ],
      "metadata": {
        "id": "rkl-txbeuuYJ"
      },
      "execution_count": 185,
      "outputs": []
    },
    {
      "cell_type": "code",
      "source": [
        "# df"
      ],
      "metadata": {
        "id": "cYiv7XO5JzHn"
      },
      "execution_count": 186,
      "outputs": []
    },
    {
      "cell_type": "code",
      "source": [],
      "metadata": {
        "id": "MTVHBwTeJ0IB"
      },
      "execution_count": 186,
      "outputs": []
    },
    {
      "cell_type": "code",
      "metadata": {
        "colab": {
          "base_uri": "https://localhost:8080/"
        },
        "id": "f9537d1e",
        "outputId": "97875bda-21cd-440c-c74c-1fd6e6a5209d"
      },
      "source": [
        "!pip install opencv-python"
      ],
      "execution_count": 187,
      "outputs": [
        {
          "output_type": "stream",
          "name": "stdout",
          "text": [
            "Requirement already satisfied: opencv-python in /usr/local/lib/python3.11/dist-packages (4.11.0.86)\n",
            "Requirement already satisfied: numpy>=1.21.2 in /usr/local/lib/python3.11/dist-packages (from opencv-python) (2.0.2)\n"
          ]
        }
      ]
    },
    {
      "cell_type": "code",
      "source": [],
      "metadata": {
        "id": "u2g4bKHLaJuh"
      },
      "execution_count": 187,
      "outputs": []
    }
  ],
  "metadata": {
    "colab": {
      "provenance": [],
      "gpuType": "V28",
      "include_colab_link": true
    },
    "kernelspec": {
      "display_name": "Python 3",
      "name": "python3"
    },
    "language_info": {
      "name": "python"
    },
    "accelerator": "TPU"
  },
  "nbformat": 4,
  "nbformat_minor": 0
}