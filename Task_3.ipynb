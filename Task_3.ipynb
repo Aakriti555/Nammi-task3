{
  "nbformat": 4,
  "nbformat_minor": 0,
  "metadata": {
    "colab": {
      "provenance": [],
      "gpuType": "T4",
      "include_colab_link": true
    },
    "kernelspec": {
      "name": "python3",
      "display_name": "Python 3"
    },
    "language_info": {
      "name": "python"
    },
    "accelerator": "GPU"
  },
  "cells": [
    {
      "cell_type": "markdown",
      "metadata": {
        "id": "view-in-github",
        "colab_type": "text"
      },
      "source": [
        "<a href=\"https://colab.research.google.com/github/Aakriti555/Nammi-task3/blob/main/Task_3.ipynb\" target=\"_parent\"><img src=\"https://colab.research.google.com/assets/colab-badge.svg\" alt=\"Open In Colab\"/></a>"
      ]
    },
    {
      "cell_type": "markdown",
      "source": [
        "<h1 style=\"text-align: center;\">Task 3: Feature Extraction and Comparison</h1>\n",
        "\n",
        "\n",
        "**Overview**: Build pipeline for feature extraction and comparison from knee CT scan. Use the CT scan file\n",
        "provided in Task 1 for this exercise.\n"
      ],
      "metadata": {
        "id": "2bc-hEIVJqIu"
      }
    },
    {
      "cell_type": "markdown",
      "source": [
        "# Importing Libraries"
      ],
      "metadata": {
        "id": "TFUmAa98J995"
      }
    },
    {
      "cell_type": "code",
      "source": [
        "import torch\n",
        "import torch.nn as nn\n",
        "import torchvision.models as models\n",
        "import numpy as np\n",
        "import nibabel as nib\n",
        "import matplotlib.pyplot as plt\n",
        "from scipy.ndimage import label, binary_fill_holes\n",
        "import torch.nn.functional as F\n",
        "import pandas as pd\n",
        "import os\n",
        "from collections import OrderedDict"
      ],
      "metadata": {
        "id": "CpScY-k8KqrQ"
      },
      "execution_count": 1,
      "outputs": []
    },
    {
      "cell_type": "code",
      "source": [
        "# Set device to GPU if available, otherwise CPU\n",
        "device = torch.device(\"cuda\" if torch.cuda.is_available() else \"cpu\")\n",
        "print(f\"Using device: {device}\")"
      ],
      "metadata": {
        "colab": {
          "base_uri": "https://localhost:8080/"
        },
        "id": "YU9HzwOQdOws",
        "outputId": "eac990eb-352e-4152-e41d-657cf9fd4a53"
      },
      "execution_count": 2,
      "outputs": [
        {
          "output_type": "stream",
          "name": "stdout",
          "text": [
            "Using device: cuda\n"
          ]
        }
      ]
    },
    {
      "cell_type": "markdown",
      "source": [
        "# Loading the data"
      ],
      "metadata": {
        "id": "S8juZlPSKtT8"
      }
    },
    {
      "cell_type": "code",
      "source": [
        "file_path = '/content/3702_left_knee.nii.gz'"
      ],
      "metadata": {
        "id": "QMYKaCi_LVng"
      },
      "execution_count": 3,
      "outputs": []
    },
    {
      "cell_type": "code",
      "source": [
        "# Load the NIfTI file\n",
        "img = nib.load(file_path)\n",
        "img_data = img.get_fdata()\n",
        "\n",
        "print(f\"Loaded CT Scan. Shape: {img_data.shape}\")"
      ],
      "metadata": {
        "colab": {
          "base_uri": "https://localhost:8080/"
        },
        "id": "YlTJf05DdyQv",
        "outputId": "4faa1fda-ce59-45bf-a0fb-46453aa7df71"
      },
      "execution_count": 4,
      "outputs": [
        {
          "output_type": "stream",
          "name": "stdout",
          "text": [
            "Loaded CT Scan. Shape: (512, 512, 216)\n"
          ]
        }
      ]
    },
    {
      "cell_type": "markdown",
      "source": [
        "# 1. Segmentation-Based Splitting"
      ],
      "metadata": {
        "id": "UGpKDd-nLaEt"
      }
    },
    {
      "cell_type": "code",
      "source": [
        "# Apply a threshold to segment high-intensity regions (bones)\n",
        "threshold = 350\n",
        "bone_mask = img_data > threshold\n",
        "\n",
        "# Label connected components in the binary mask\n",
        "labeled_array, num_features = label(bone_mask)\n",
        "print(f\"Found {num_features} connected components after thresholding.\")\n",
        "\n",
        "# Identify the two largest components as Femur and Tibia\n",
        "if num_features < 2:\n",
        "    print(\"Error: Could not find at least two distinct bone components. Try adjusting the threshold.\")\n",
        "    exit()\n",
        "\n",
        "component_sizes = [(labeled_array == i).sum() for i in range(1, num_features + 1)]\n",
        "sorted_indices = np.argsort(component_sizes)[::-1]  # Sort in descending order\n",
        "\n",
        "# Assign the largest component to Femur and the second largest to Tibia\n",
        "femur_label = sorted_indices[0] + 1\n",
        "tibia_label = sorted_indices[1] + 1\n",
        "femur_mask = (labeled_array == femur_label)\n",
        "tibia_mask = (labeled_array == tibia_label)\n",
        "\n",
        "# The given image shows Femur as the upper bone. Let's verify by centroid.\n",
        "# The z-axis (axis 2) typically represents the superior-inferior direction.\n",
        "femur_centroid_z = np.mean(np.argwhere(femur_mask)[:, 2])\n",
        "tibia_centroid_z = np.mean(np.argwhere(tibia_mask)[:, 2])\n",
        "\n",
        "if femur_centroid_z < tibia_centroid_z:\n",
        "    # The component we labeled Femur is inferior to the Tibia, so they are swapped.\n",
        "    print(\"Swapping Femur and Tibia masks based on z-axis centroid.\")\n",
        "    femur_mask, tibia_mask = tibia_mask, femur_mask\n",
        "\n",
        "# Create the background mask (non-femur and non-tibia)\n",
        "background_mask = ~ (femur_mask | tibia_mask)\n",
        "\n",
        "print(\"Successfully created masks for Femur, Tibia, and Background.\")"
      ],
      "metadata": {
        "colab": {
          "base_uri": "https://localhost:8080/"
        },
        "id": "dhObZv40W-hm",
        "outputId": "6e6c7a73-d226-4922-aacc-eb63530f579c"
      },
      "execution_count": 5,
      "outputs": [
        {
          "output_type": "stream",
          "name": "stdout",
          "text": [
            "Found 511 connected components after thresholding.\n",
            "Successfully created masks for Femur, Tibia, and Background.\n"
          ]
        }
      ]
    },
    {
      "cell_type": "markdown",
      "source": [
        "## Visualisation of regions\n",
        "\n",
        "- Tibia region (green)\n",
        "- Femur region (red)\n",
        "- Background / non-bone region"
      ],
      "metadata": {
        "id": "6UbPjCXWLelK"
      }
    },
    {
      "cell_type": "code",
      "source": [
        "# Visualize the segmentation on a central slice\n",
        "slice_index = img_data.shape[1] // 2\n",
        "base_slice = img_data[:, slice_index, :]\n",
        "femur_slice = femur_mask[:, slice_index, :]\n",
        "tibia_slice = tibia_mask[:, slice_index, :]\n",
        "\n",
        "base_norm = (base_slice - np.min(base_slice)) / (np.max(base_slice) - np.min(base_slice))\n",
        "base_rgb = np.stack([base_norm] * 3, axis=-1)\n",
        "base_rgb[femur_slice] = [1.0, 0.0, 0.0]  # Red for Femur\n",
        "base_rgb[tibia_slice] = [0.0, 1.0, 0.0]  # Green for Tibia\n",
        "plt.figure(figsize=(7, 7))\n",
        "plt.imshow(np.transpose(base_rgb, (1, 0, 2)), origin='lower')\n",
        "plt.title('Step 1 Result: Segmented Femur (Red) and Tibia (Green)')\n",
        "plt.axis('off')\n",
        "plt.show()\n"
      ],
      "metadata": {
        "colab": {
          "base_uri": "https://localhost:8080/",
          "height": 288
        },
        "id": "JIgx-GgzeVY1",
        "outputId": "29aaa1ee-c837-422a-a131-d7a5dbebfe55"
      },
      "execution_count": 6,
      "outputs": [
        {
          "output_type": "display_data",
          "data": {
            "text/plain": [
              "<Figure size 700x700 with 1 Axes>"
            ],
            "image/png": "[encoded data removed]"
          },
          "metadata": {}
        }
      ]
    },
    {
      "cell_type": "markdown",
      "source": [
        "# 2. Convert 2D Pretrained Model to 3D:"
      ],
      "metadata": {
        "id": "gxtoE_qHLvyA"
      }
    },
    {
      "cell_type": "code",
      "source": [
        "import torch\n",
        "import torch.nn as nn\n",
        "import torchvision.models as models\n",
        "import copy\n",
        "\n",
        "def inflate_conv2d_to_conv3d(conv2d_layer, depth=16):\n",
        "    \"\"\"\n",
        "    Convert a Conv2d layer to Conv3d by inflating weights along depth dimension\n",
        "\n",
        "    Args:\n",
        "        conv2d_layer: nn.Conv2d layer to convert\n",
        "        depth: depth dimension for the 3D convolution\n",
        "\n",
        "    Returns:\n",
        "        nn.Conv3d layer with inflated weights\n",
        "    \"\"\"\n",
        "    # Get parameters from 2D layer\n",
        "    in_channels = conv2d_layer.in_channels\n",
        "    out_channels = conv2d_layer.out_channels\n",
        "    kernel_size_2d = conv2d_layer.kernel_size\n",
        "    stride_2d = conv2d_layer.stride\n",
        "    padding_2d = conv2d_layer.padding\n",
        "    dilation_2d = conv2d_layer.dilation\n",
        "    groups = conv2d_layer.groups\n",
        "    bias = conv2d_layer.bias is not None\n",
        "\n",
        "    # Convert 2D parameters to 3D\n",
        "    if isinstance(kernel_size_2d, int):\n",
        "        kernel_size_3d = (3, kernel_size_2d, kernel_size_2d)  # Default depth kernel = 3\n",
        "    else:\n",
        "        kernel_size_3d = (3, kernel_size_2d[0], kernel_size_2d[1])\n",
        "\n",
        "    if isinstance(stride_2d, int):\n",
        "        stride_3d = (1, stride_2d, stride_2d)  # No stride along depth\n",
        "    else:\n",
        "        stride_3d = (1, stride_2d[0], stride_2d[1])\n",
        "\n",
        "    if isinstance(padding_2d, int):\n",
        "        padding_3d = (1, padding_2d, padding_2d)  # Padding of 1 along depth\n",
        "    else:\n",
        "        padding_3d = (1, padding_2d[0], padding_2d[1])\n",
        "\n",
        "    if isinstance(dilation_2d, int):\n",
        "        dilation_3d = (1, dilation_2d, dilation_2d)  # No dilation along depth\n",
        "    else:\n",
        "        dilation_3d = (1, dilation_2d[0], dilation_2d[1])\n",
        "\n",
        "    # Create 3D convolution layer\n",
        "    conv3d_layer = nn.Conv3d(\n",
        "        in_channels=in_channels,\n",
        "        out_channels=out_channels,\n",
        "        kernel_size=kernel_size_3d,\n",
        "        stride=stride_3d,\n",
        "        padding=padding_3d,\n",
        "        dilation=dilation_3d,\n",
        "        groups=groups,\n",
        "        bias=bias\n",
        "    )\n",
        "\n",
        "    # Inflate 2D weights to 3D\n",
        "    with torch.no_grad():\n",
        "        # Get 2D weights: (out_channels, in_channels, height, width)\n",
        "        weights_2d = conv2d_layer.weight.data\n",
        "\n",
        "        # Repeat along new depth dimension and normalize\n",
        "        # Shape becomes: (out_channels, in_channels, depth, height, width)\n",
        "        depth_kernel = kernel_size_3d[0]\n",
        "        weights_3d = weights_2d.unsqueeze(2).repeat(1, 1, depth_kernel, 1, 1)\n",
        "\n",
        "        # Normalize by depth to maintain consistent scaling\n",
        "        weights_3d = weights_3d / depth_kernel\n",
        "\n",
        "        # Assign inflated weights\n",
        "        conv3d_layer.weight.data = weights_3d\n",
        "\n",
        "        # Copy bias if it exists\n",
        "        if bias:\n",
        "            conv3d_layer.bias.data = conv2d_layer.bias.data.clone()\n",
        "\n",
        "    return conv3d_layer\n",
        "\n",
        "def inflate_batchnorm2d_to_batchnorm3d(bn2d_layer):\n",
        "    \"\"\"\n",
        "    Convert BatchNorm2d to BatchNorm3d (parameters remain the same)\n",
        "    \"\"\"\n",
        "    bn3d_layer = nn.BatchNorm3d(\n",
        "        num_features=bn2d_layer.num_features,\n",
        "        eps=bn2d_layer.eps,\n",
        "        momentum=bn2d_layer.momentum,\n",
        "        affine=bn2d_layer.affine,\n",
        "        track_running_stats=bn2d_layer.track_running_stats\n",
        "    )\n",
        "\n",
        "    # Copy parameters\n",
        "    with torch.no_grad():\n",
        "        if bn2d_layer.affine:\n",
        "            bn3d_layer.weight.data = bn2d_layer.weight.data.clone()\n",
        "            bn3d_layer.bias.data = bn2d_layer.bias.data.clone()\n",
        "        if bn2d_layer.track_running_stats:\n",
        "            bn3d_layer.running_mean.data = bn2d_layer.running_mean.data.clone()\n",
        "            bn3d_layer.running_var.data = bn2d_layer.running_var.data.clone()\n",
        "            bn3d_layer.num_batches_tracked.data = bn2d_layer.num_batches_tracked.data.clone()\n",
        "\n",
        "    return bn3d_layer\n",
        "\n",
        "def convert_layer_2d_to_3d(layer):\n",
        "    \"\"\"\n",
        "    Recursively convert layers from 2D to 3D\n",
        "    \"\"\"\n",
        "    if isinstance(layer, nn.Conv2d):\n",
        "        return inflate_conv2d_to_conv3d(layer)\n",
        "    elif isinstance(layer, nn.BatchNorm2d):\n",
        "        return inflate_batchnorm2d_to_batchnorm3d(layer)\n",
        "    elif isinstance(layer, nn.AdaptiveAvgPool2d):\n",
        "        # Convert 2D adaptive pooling to 3D\n",
        "        output_size = layer.output_size\n",
        "        if isinstance(output_size, int):\n",
        "            output_size_3d = (1, output_size, output_size)\n",
        "        else:\n",
        "            output_size_3d = (1, output_size[0], output_size[1])\n",
        "        return nn.AdaptiveAvgPool3d(output_size_3d)\n",
        "    elif isinstance(layer, nn.AvgPool2d):\n",
        "        # Convert 2D average pooling to 3D\n",
        "        kernel_size = layer.kernel_size\n",
        "        stride = layer.stride\n",
        "        padding = layer.padding\n",
        "        ceil_mode = layer.ceil_mode\n",
        "        count_include_pad = layer.count_include_pad\n",
        "\n",
        "        if isinstance(kernel_size, int):\n",
        "            kernel_size_3d = (1, kernel_size, kernel_size)\n",
        "        else:\n",
        "            kernel_size_3d = (1, kernel_size[0], kernel_size[1])\n",
        "\n",
        "        if stride is None:\n",
        "            stride_3d = None\n",
        "        elif isinstance(stride, int):\n",
        "            stride_3d = (1, stride, stride)\n",
        "        else:\n",
        "            stride_3d = (1, stride[0], stride[1])\n",
        "\n",
        "        if isinstance(padding, int):\n",
        "            padding_3d = (0, padding, padding)\n",
        "        else:\n",
        "            padding_3d = (0, padding[0], padding[1])\n",
        "\n",
        "        return nn.AvgPool3d(\n",
        "            kernel_size=kernel_size_3d,\n",
        "            stride=stride_3d,\n",
        "            padding=padding_3d,\n",
        "            ceil_mode=ceil_mode,\n",
        "            count_include_pad=count_include_pad\n",
        "        )\n",
        "    elif isinstance(layer, nn.MaxPool2d):\n",
        "        # Convert 2D max pooling to 3D\n",
        "        kernel_size = layer.kernel_size\n",
        "        stride = layer.stride\n",
        "        padding = layer.padding\n",
        "        dilation = layer.dilation\n",
        "        return_indices = layer.return_indices\n",
        "        ceil_mode = layer.ceil_mode\n",
        "\n",
        "        if isinstance(kernel_size, int):\n",
        "            kernel_size_3d = (1, kernel_size, kernel_size)\n",
        "        else:\n",
        "            kernel_size_3d = (1, kernel_size[0], kernel_size[1])\n",
        "\n",
        "        if stride is None:\n",
        "            stride_3d = None\n",
        "        elif isinstance(stride, int):\n",
        "            stride_3d = (1, stride, stride)\n",
        "        else:\n",
        "            stride_3d = (1, stride[0], stride[1])\n",
        "\n",
        "        if isinstance(padding, int):\n",
        "            padding_3d = (0, padding, padding)\n",
        "        else:\n",
        "            padding_3d = (0, padding[0], padding[1])\n",
        "\n",
        "        if isinstance(dilation, int):\n",
        "            dilation_3d = (1, dilation, dilation)\n",
        "        else:\n",
        "            dilation_3d = (1, dilation[0], dilation[1])\n",
        "\n",
        "        return nn.MaxPool3d(\n",
        "            kernel_size=kernel_size_3d,\n",
        "            stride=stride_3d,\n",
        "            padding=padding_3d,\n",
        "            dilation=dilation_3d,\n",
        "            return_indices=return_indices,\n",
        "            ceil_mode=ceil_mode\n",
        "        )\n",
        "    elif hasattr(layer, 'children') and len(list(layer.children())) > 0:\n",
        "        # Recursively convert child layers\n",
        "        new_layer = copy.deepcopy(layer)\n",
        "        for name, child in layer.named_children():\n",
        "            setattr(new_layer, name, convert_layer_2d_to_3d(child))\n",
        "        return new_layer\n",
        "    else:\n",
        "        # Return layer as-is if no conversion needed\n",
        "        return copy.deepcopy(layer)\n",
        "\n",
        "def convert_densenet121_2d_to_3d():\n",
        "    \"\"\"\n",
        "    Convert a pretrained 2D DenseNet121 to 3D\n",
        "    \"\"\"\n",
        "    print(\"Loading pretrained DenseNet121...\")\n",
        "    # Use the new weights parameter instead of pretrained\n",
        "    model_2d = models.densenet121(weights=models.DenseNet121_Weights.IMAGENET1K_V1)\n",
        "\n",
        "    print(\"Converting 2D layers to 3D...\")\n",
        "\n",
        "    # Create a new DenseNet-like structure for 3D\n",
        "    class DenseNet3D(nn.Module):\n",
        "        def __init__(self, features, classifier):\n",
        "            super(DenseNet3D, self).__init__()\n",
        "            self.features = features\n",
        "            self.classifier = classifier\n",
        "\n",
        "        def forward(self, x):\n",
        "            features = self.features(x)\n",
        "            out = nn.functional.relu(features, inplace=True)\n",
        "            out = nn.functional.adaptive_avg_pool3d(out, (1, 1, 1))\n",
        "            out = torch.flatten(out, 1)\n",
        "            out = self.classifier(out)\n",
        "            return out\n",
        "\n",
        "    # Convert features (convolutional layers)\n",
        "    features_3d = convert_layer_2d_to_3d(model_2d.features)\n",
        "\n",
        "    # Keep classifier the same (it's just Linear layers)\n",
        "    classifier_3d = copy.deepcopy(model_2d.classifier)\n",
        "\n",
        "    # Create the 3D model\n",
        "    model_3d = DenseNet3D(features_3d, classifier_3d)\n",
        "\n",
        "    return model_3d\n",
        "\n",
        "def test_conversion():\n",
        "    \"\"\"\n",
        "    Test the 2D to 3D conversion\n",
        "    \"\"\"\n",
        "    print(\"=\"*50)\n",
        "    print(\"Testing 2D to 3D DenseNet121 Conversion\")\n",
        "    print(\"=\"*50)\n",
        "\n",
        "    # Convert model\n",
        "    model_3d = convert_densenet121_2d_to_3d()\n",
        "\n",
        "    # Test with dummy input\n",
        "    batch_size = 2\n",
        "    channels = 3\n",
        "    depth = 16\n",
        "    height = 224\n",
        "    width = 224\n",
        "\n",
        "    dummy_input = torch.randn(batch_size, channels, depth, height, width)\n",
        "\n",
        "    print(f\"Input shape: {dummy_input.shape}\")\n",
        "\n",
        "    # Set model to evaluation mode\n",
        "    model_3d.eval()\n",
        "\n",
        "    with torch.no_grad():\n",
        "        output = model_3d(dummy_input)\n",
        "        print(f\"Output shape: {output.shape}\")\n",
        "        print(f\"Output (first 5 values): {output[0, :5].tolist()}\")\n",
        "\n",
        "    # Print model summary\n",
        "    print(\"\\nModel conversion completed successfully!\")\n",
        "    print(f\"Number of parameters: {sum(p.numel() for p in model_3d.parameters()):,}\")\n",
        "\n",
        "    return model_3d\n",
        "\n",
        "if __name__ == \"__main__\":\n",
        "    # Run the conversion and test\n",
        "    model_3d = test_conversion()\n",
        "\n",
        "    # Example of how to access converted layers\n",
        "    print(\"\\nExample: Checking first conv layer conversion\")\n",
        "    first_conv = model_3d.features.conv0\n",
        "    print(f\"First conv layer: {first_conv}\")\n",
        "    print(f\"Weight shape: {first_conv.weight.shape}\")\n",
        "    print(f\"Kernel size: {first_conv.kernel_size}\")\n",
        "    print(f\"Stride: {first_conv.stride}\")\n",
        "    print(f\"Padding: {first_conv.padding}\")"
      ],
      "metadata": {
        "id": "aC1KhH6YL3x2",
        "colab": {
          "base_uri": "https://localhost:8080/"
        },
        "outputId": "9c305d06-26a9-499f-bcd7-5fad47205462"
      },
      "execution_count": 7,
      "outputs": [
        {
          "output_type": "stream",
          "name": "stdout",
          "text": [
            "==================================================\n",
            "Testing 2D to 3D DenseNet121 Conversion\n",
            "==================================================\n",
            "Loading pretrained DenseNet121...\n"
          ]
        },
        {
          "output_type": "stream",
          "name": "stderr",
          "text": [
            "Downloading: \"https://download.pytorch.org/models/densenet121-a639ec97.pth\" to /root/.cache/torch/hub/checkpoints/densenet121-a639ec97.pth\n",
            "100%|██████████| 30.8M/30.8M [00:00<00:00, 109MB/s] \n"
          ]
        },
        {
          "output_type": "stream",
          "name": "stdout",
          "text": [
            "Converting 2D layers to 3D...\n",
            "Input shape: torch.Size([2, 3, 16, 224, 224])\n",
            "Output shape: torch.Size([2, 1000])\n",
            "Output (first 5 values): [-0.2688390910625458, 0.30544012784957886, 1.272519588470459, -0.21241387724876404, 1.5863898992538452]\n",
            "\n",
            "Model conversion completed successfully!\n",
            "Number of parameters: 21,719,272\n",
            "\n",
            "Example: Checking first conv layer conversion\n",
            "First conv layer: Conv3d(3, 64, kernel_size=(3, 7, 7), stride=(1, 2, 2), padding=(1, 3, 3), bias=False)\n",
            "Weight shape: torch.Size([64, 3, 3, 7, 7])\n",
            "Kernel size: (3, 7, 7)\n",
            "Stride: (1, 2, 2)\n",
            "Padding: (1, 3, 3)\n"
          ]
        }
      ]
    },
    {
      "cell_type": "code",
      "source": [],
      "metadata": {
        "id": "5AKNBX59hzAG"
      },
      "execution_count": 7,
      "outputs": []
    },
    {
      "cell_type": "markdown",
      "source": [
        "# 3. Feature Extraction"
      ],
      "metadata": {
        "id": "-zyo_m4wMQkO"
      }
    },
    {
      "cell_type": "markdown",
      "source": [
        "## Inference"
      ],
      "metadata": {
        "id": "ZV_tRJXdSP9T"
      }
    },
    {
      "cell_type": "code",
      "source": [
        "# extracting 3D CNN features for each input 3D volume and region.\n",
        "# run the model for each input.\n"
      ],
      "metadata": {
        "id": "Pok2qYb5MZP7"
      },
      "execution_count": 8,
      "outputs": []
    },
    {
      "cell_type": "markdown",
      "source": [
        "## Feature maps from Last convolution layer"
      ],
      "metadata": {
        "id": "Z6sLFUdlMxQP"
      }
    },
    {
      "cell_type": "code",
      "source": [],
      "metadata": {
        "id": "QvQZ1T8KM2tA"
      },
      "execution_count": 8,
      "outputs": []
    },
    {
      "cell_type": "markdown",
      "source": [
        "### Visualisation"
      ],
      "metadata": {
        "id": "g_AIJyunM4Vm"
      }
    },
    {
      "cell_type": "code",
      "source": [],
      "metadata": {
        "id": "mU05jJpcM7jL"
      },
      "execution_count": 8,
      "outputs": []
    },
    {
      "cell_type": "markdown",
      "source": [
        "## Feature maps from third-Last convolution layer"
      ],
      "metadata": {
        "id": "5tlNseajM_R1"
      }
    },
    {
      "cell_type": "markdown",
      "source": [
        "### Visualisation"
      ],
      "metadata": {
        "id": "d_YVvHzCNBBW"
      }
    },
    {
      "cell_type": "markdown",
      "source": [
        "## Feature maps from fifth-last convolution layer"
      ],
      "metadata": {
        "id": "w3njfcMENE39"
      }
    },
    {
      "cell_type": "markdown",
      "source": [
        "### Visualisation"
      ],
      "metadata": {
        "id": "teEsrF72NJL5"
      }
    },
    {
      "cell_type": "markdown",
      "source": [
        "## Global average pooling"
      ],
      "metadata": {
        "id": "DlSgPqD5NLVW"
      }
    },
    {
      "cell_type": "code",
      "source": [
        "# Apply global average pooling (GAP) to each extracted feature map to produce a\n",
        "# fixed N-dimensional feature vector\n",
        "\n"
      ],
      "metadata": {
        "id": "_CBVNIiyNRbf"
      },
      "execution_count": 9,
      "outputs": []
    },
    {
      "cell_type": "markdown",
      "source": [
        "# 4. Feature Comparison"
      ],
      "metadata": {
        "id": "RQbtdXuKNlOC"
      }
    },
    {
      "cell_type": "code",
      "source": [],
      "metadata": {
        "id": "UVeZ4bkSStdg"
      },
      "execution_count": 9,
      "outputs": []
    },
    {
      "cell_type": "markdown",
      "source": [
        "# 5. Results Organisation"
      ],
      "metadata": {
        "id": "ZjVuzU5eNuW2"
      }
    },
    {
      "cell_type": "code",
      "source": [],
      "metadata": {
        "id": "DJ3icumVN0dW"
      },
      "execution_count": 9,
      "outputs": []
    }
  ]
}