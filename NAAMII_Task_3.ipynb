{
  "cells": [
    {
      "cell_type": "markdown",
      "metadata": {
        "id": "view-in-github",
        "colab_type": "text"
      },
      "source": [
        "<a href=\"https://colab.research.google.com/github/Aakriti555/Nammi-task3/blob/main/NAAMII_Task_3.ipynb\" target=\"_parent\"><img src=\"https://colab.research.google.com/assets/colab-badge.svg\" alt=\"Open In Colab\"/></a>"
      ]
    },
    {
      "cell_type": "code",
      "execution_count": null,
      "metadata": {
        "colab": {
          "base_uri": "https://localhost:8080/"
        },
        "id": "Slg8VxTMJ6wQ",
        "outputId": "d236035b-1963-4368-eb96-caa6a6002f94"
      },
      "outputs": [
        {
          "output_type": "stream",
          "name": "stdout",
          "text": [
            "Requirement already satisfied: nibabel in /usr/local/lib/python3.11/dist-packages (5.3.2)\n",
            "Requirement already satisfied: importlib-resources>=5.12 in /usr/local/lib/python3.11/dist-packages (from nibabel) (6.5.2)\n",
            "Requirement already satisfied: numpy>=1.22 in /usr/local/lib/python3.11/dist-packages (from nibabel) (2.0.2)\n",
            "Requirement already satisfied: packaging>=20 in /usr/local/lib/python3.11/dist-packages (from nibabel) (24.2)\n",
            "Requirement already satisfied: typing-extensions>=4.6 in /usr/local/lib/python3.11/dist-packages (from nibabel) (4.14.0)\n"
          ]
        }
      ],
      "source": [
        "!pip install nibabel"
      ]
    },
    {
      "cell_type": "code",
      "execution_count": null,
      "metadata": {
        "id": "lld6xUYNeTL1"
      },
      "outputs": [],
      "source": [
        "import os\n",
        "import numpy as np\n",
        "import pandas as pd\n",
        "import matplotlib.pyplot as plt\n",
        "%matplotlib inline\n",
        "import nibabel as nib # common way of importing nibabel\n",
        "from skimage.feature import peak_local_max\n",
        "from collections import deque"
      ]
    },
    {
      "cell_type": "code",
      "execution_count": null,
      "metadata": {
        "colab": {
          "base_uri": "https://localhost:8080/",
          "height": 142
        },
        "id": "KAnbtGCWSpwv",
        "outputId": "f3e62895-60a2-433a-df79-8ff8c6db3e46"
      },
      "outputs": [
        {
          "output_type": "stream",
          "name": "stderr",
          "text": [
            "Downloading...\n",
            "From (original): https://drive.google.com/uc?id=1NR7OEboARP_fpseIZOY0Wy8Ir1NEYfL5\n",
            "From (redirected): https://drive.google.com/uc?id=1NR7OEboARP_fpseIZOY0Wy8Ir1NEYfL5&confirm=t&uuid=5b8f5f0a-3153-431f-a45d-e15f86bd86dd\n",
            "To: /content/3702_left_knee.nii.gz\n",
            "100%|██████████| 26.2M/26.2M [00:00<00:00, 65.9MB/s]\n"
          ]
        },
        {
          "output_type": "execute_result",
          "data": {
            "text/plain": [
              "'3702_left_knee.nii.gz'"
            ],
            "application/vnd.google.colaboratory.intrinsic+json": {
              "type": "string"
            }
          },
          "metadata": {},
          "execution_count": 3
        }
      ],
      "source": [
        "import gdown\n",
        "gdown.download(url=\"https://drive.google.com/file/d/1NR7OEboARP_fpseIZOY0Wy8Ir1NEYfL5/edit\", output=\"3702_left_knee.nii.gz\", fuzzy=True)"
      ]
    },
    {
      "cell_type": "code",
      "execution_count": null,
      "metadata": {
        "id": "RY44uSfwf6an"
      },
      "outputs": [],
      "source": [
        "mri_file = '/content/3702_left_knee.nii.gz'\n",
        "img = nib.load(mri_file)\n",
        "print(type(img))"
      ]
    },
    {
      "cell_type": "code",
      "execution_count": null,
      "metadata": {
        "colab": {
          "base_uri": "https://localhost:8080/"
        },
        "id": "1Q5P0l2dgGhv",
        "outputId": "752ddec7-2f10-49b4-8a68-5c56c80cf57b"
      },
      "outputs": [
        {
          "output_type": "stream",
          "name": "stdout",
          "text": [
            "(512, 512, 216)\n"
          ]
        }
      ],
      "source": [
        "print(img.shape)"
      ]
    },
    {
      "cell_type": "code",
      "execution_count": null,
      "metadata": {
        "id": "UarOHi6NhZzx"
      },
      "outputs": [],
      "source": [
        "# here, we're storing the header attribute in a new variable, hdr, for easy of use\n",
        "hdr = img.header"
      ]
    },
    {
      "cell_type": "code",
      "execution_count": null,
      "metadata": {
        "colab": {
          "base_uri": "https://localhost:8080/"
        },
        "id": "Gp797O1bi0mu",
        "outputId": "afe260cb-9800-43ba-add1-b2a8e9d22797"
      },
      "outputs": [
        {
          "output_type": "execute_result",
          "data": {
            "text/plain": [
              "(np.float32(0.869141), np.float32(0.869141), np.float32(2.0))"
            ]
          },
          "metadata": {},
          "execution_count": 8
        }
      ],
      "source": [
        "hdr.get_zooms()  # it's a 1x1x1 mm MRI file!"
      ]
    },
    {
      "cell_type": "code",
      "execution_count": null,
      "metadata": {
        "colab": {
          "base_uri": "https://localhost:8080/"
        },
        "id": "Q5N2oh9TjVR5",
        "outputId": "3b120c5d-73e5-42e8-8af0-44ea087db409"
      },
      "outputs": [
        {
          "output_type": "stream",
          "name": "stdout",
          "text": [
            "<class 'numpy.ndarray'>\n",
            "(512, 512, 216)\n"
          ]
        }
      ],
      "source": [
        "img_data = img.get_fdata()"
      ]
    },
    {
      "cell_type": "code",
      "execution_count": null,
      "metadata": {
        "colab": {
          "base_uri": "https://localhost:8080/"
        },
        "id": "dfu8X7VNjY3Z",
        "outputId": "7318b561-5e6d-455e-cf83-d1d4379c5a15"
      },
      "outputs": [
        {
          "output_type": "stream",
          "name": "stdout",
          "text": [
            "(512, 216)\n"
          ]
        }
      ],
      "source": [
        "slice_index = 260  # adjust as needed\n",
        "mid_slice_x = img_data[:,slice_index, :]\n",
        "print(mid_slice_x.shape)"
      ]
    },
    {
      "cell_type": "code",
      "execution_count": null,
      "metadata": {
        "colab": {
          "base_uri": "https://localhost:8080/",
          "height": 411
        },
        "id": "aAnMP2iMjhM3",
        "outputId": "ac271824-c212-4bc8-eaa2-68ddb35adde7"
      },
      "outputs": [
        {
          "output_type": "display_data",
          "data": {
            "text/plain": [
              "<Figure size 640x480 with 2 Axes>"
            ],
            "image/png": "[encoded data removed]"
          },
          "metadata": {}
        }
      ],
      "source": [
        "# Note that the transpose the slice (using the .T attribute).\n",
        "# This is because imshow plots the first dimension on the y-axis and the\n",
        "# second on the x-axis, but we'd like to plot the first on the x-axis and the\n",
        "# second on the y-axis. Also, the origin to \"lower\", as the data was saved in\n",
        "# \"cartesian\" coordinates.\n",
        "plt.imshow(mid_slice_x.T, cmap='gray', origin='lower')\n",
        "plt.xlabel('First axis')\n",
        "plt.ylabel('Second axis')\n",
        "plt.colorbar(label='Signal intensity')\n",
        "plt.rcParams[\"figure.figsize\"] = (20,5)\n",
        "plt.show()"
      ]
    },
    {
      "cell_type": "markdown",
      "source": [
        "## Segmentation"
      ],
      "metadata": {
        "id": "f2LSW4Fd_GND"
      }
    },
    {
      "cell_type": "code",
      "source": [
        "from skimage.segmentation import clear_border\n",
        "from skimage import measure\n",
        "from skimage.measure import label,regionprops\n",
        "from scipy import ndimage as ndi\n",
        "from scipy.ndimage import measurements, center_of_mass, binary_dilation, zoom\n",
        "import plotly.graph_objects as go\n",
        "\n",
        "import ipywidgets as widgets\n",
        "from IPython.display import display\n",
        "import cv2"
      ],
      "metadata": {
        "id": "ceNx4T6anwze"
      },
      "execution_count": null,
      "outputs": []
    },
    {
      "cell_type": "code",
      "source": [
        "# Get the data as a NumPy array\n",
        "\n",
        "img = img.get_fdata()"
      ],
      "metadata": {
        "id": "LnaOeRRb_TiL"
      },
      "execution_count": null,
      "outputs": []
    },
    {
      "cell_type": "code",
      "source": [
        "img = img.transpose(1, 0, 2)\n",
        "img = np.rot90(img, k=3, axes=(1, 2))"
      ],
      "metadata": {
        "id": "Ih1-rFhB_NPZ"
      },
      "execution_count": null,
      "outputs": []
    },
    {
      "cell_type": "code",
      "source": [
        "# Function to update the plot\n",
        "def update_slice(slice_index):\n",
        "    plt.figure()\n",
        "    plt.xlabel('First axis')\n",
        "    plt.ylabel('Second axis')\n",
        "    plt.pcolormesh(img[slice_index])\n",
        "    plt.colorbar()\n",
        "    plt.show()\n",
        "\n",
        "# Create a slider\n",
        "slider = widgets.IntSlider(value=0, min=200, max=320, step=1, description='Slice:')\n",
        "widgets.interact(update_slice, slice_index=slider)"
      ],
      "metadata": {
        "colab": {
          "base_uri": "https://localhost:8080/",
          "height": 327,
          "referenced_widgets": [
            "1d8a53c83b0c4ab39277377ec42264ad",
            "5413270e820f4be88c3c272c29cdfd16",
            "dc0048412c404649bbbb763ec00063e5",
            "a811c7a5295b4669b1aa03a1be38e25d",
            "daa4a195cab04b3fbb906d9a53468877",
            "22062dd866e44bfdba5dcc4dc0cdb397",
            "6655de202fd54785b39ff9afe49754bb"
          ]
        },
        "id": "49hsxU61_Pct",
        "outputId": "3ccda702-99c9-4c7e-c09c-307f8f846f09"
      },
      "execution_count": null,
      "outputs": [
        {
          "output_type": "display_data",
          "data": {
            "text/plain": [
              "interactive(children=(IntSlider(value=200, description='Slice:', max=320, min=200), Output()), _dom_classes=('…"
            ],
            "application/vnd.jupyter.widget-view+json": {
              "version_major": 2,
              "version_minor": 0,
              "model_id": "1d8a53c83b0c4ab39277377ec42264ad"
            }
          },
          "metadata": {}
        },
        {
          "output_type": "execute_result",
          "data": {
            "text/plain": [
              "<function __main__.update_slice(slice_index)>"
            ],
            "text/html": [
              "<div style=\"max-width:800px; border: 1px solid var(--colab-border-color);\"><style>\n",
              "      pre.function-repr-contents {\n",
              "        overflow-x: auto;\n",
              "        padding: 8px 12px;\n",
              "        max-height: 500px;\n",
              "      }\n",
              "\n",
              "      pre.function-repr-contents.function-repr-contents-collapsed {\n",
              "        cursor: pointer;\n",
              "        max-height: 100px;\n",
              "      }\n",
              "    </style>\n",
              "    <pre style=\"white-space: initial; background:\n",
              "         var(--colab-secondary-surface-color); padding: 8px 12px;\n",
              "         border-bottom: 1px solid var(--colab-border-color);\"><b>update_slice</b><br/>def update_slice(slice_index)</pre><pre class=\"function-repr-contents function-repr-contents-collapsed\" style=\"\"><a class=\"filepath\" style=\"display:none\" href=\"#\">/content/&lt;ipython-input-17-4235939557&gt;</a>&lt;no docstring&gt;</pre></div>"
            ]
          },
          "metadata": {},
          "execution_count": 17
        }
      ]
    },
    {
      "cell_type": "markdown",
      "source": [
        "# Separating Bone from Background"
      ],
      "metadata": {
        "id": "2NO1mTCKBbEl"
      }
    },
    {
      "cell_type": "code",
      "source": [
        "threshold = 120\n",
        "\n",
        "# Set all values below threshold to 0\n",
        "img_bones = np.where(img >= threshold, img, 0)\n",
        "img_background = np.where(img < threshold, img, 0)"
      ],
      "metadata": {
        "id": "Ajg6tyvbBfg9"
      },
      "execution_count": null,
      "outputs": []
    },
    {
      "cell_type": "code",
      "source": [
        "# Function to update the plot\n",
        "def update_slice(slice_index):\n",
        "\n",
        "    plt.figure()\n",
        "    plt.pcolormesh(img_bones[slice_index])\n",
        "    plt.colorbar()\n",
        "    plt.title(f\"Bone Only Slice {slice_index}\")\n",
        "    plt.show()\n",
        "\n",
        "# Create a slider\n",
        "slider = widgets.IntSlider(value=260, min=200, max=320, step=1, description='Slice:')\n",
        "widgets.interact(update_slice, slice_index=slider)"
      ],
      "metadata": {
        "colab": {
          "base_uri": "https://localhost:8080/",
          "height": 332,
          "referenced_widgets": [
            "37e4b17b49aa405ebc5b9461b1e130a6",
            "0dc401539c394633ab2377e9ba6e5062",
            "4a979f7a36f34c4381184a3fa4e81c15",
            "f4619e1c9cbb4c9a8354650df6ad1159",
            "16a0a490d4284e1580969e5a5db9818f",
            "74fdad86555d45a7bfd8fcd4720238e3",
            "cbe47bc5495f4d6599d294bc3839b887"
          ]
        },
        "id": "nz9krUJPCFCi",
        "outputId": "72057571-45e9-4d15-d12a-926982b14bb6"
      },
      "execution_count": null,
      "outputs": [
        {
          "output_type": "display_data",
          "data": {
            "text/plain": [
              "interactive(children=(IntSlider(value=260, description='Slice:', max=320, min=200), Output()), _dom_classes=('…"
            ],
            "application/vnd.jupyter.widget-view+json": {
              "version_major": 2,
              "version_minor": 0,
              "model_id": "37e4b17b49aa405ebc5b9461b1e130a6"
            }
          },
          "metadata": {}
        },
        {
          "output_type": "execute_result",
          "data": {
            "text/plain": [
              "<function __main__.update_slice(slice_index)>"
            ],
            "text/html": [
              "<div style=\"max-width:800px; border: 1px solid var(--colab-border-color);\"><style>\n",
              "      pre.function-repr-contents {\n",
              "        overflow-x: auto;\n",
              "        padding: 8px 12px;\n",
              "        max-height: 500px;\n",
              "      }\n",
              "\n",
              "      pre.function-repr-contents.function-repr-contents-collapsed {\n",
              "        cursor: pointer;\n",
              "        max-height: 100px;\n",
              "      }\n",
              "    </style>\n",
              "    <pre style=\"white-space: initial; background:\n",
              "         var(--colab-secondary-surface-color); padding: 8px 12px;\n",
              "         border-bottom: 1px solid var(--colab-border-color);\"><b>update_slice</b><br/>def update_slice(slice_index)</pre><pre class=\"function-repr-contents function-repr-contents-collapsed\" style=\"\"><a class=\"filepath\" style=\"display:none\" href=\"#\">/content/&lt;ipython-input-19-2650925161&gt;</a>&lt;no docstring&gt;</pre></div>"
            ]
          },
          "metadata": {},
          "execution_count": 19
        }
      ]
    },
    {
      "cell_type": "code",
      "source": [
        "# Visualizing the Background\n",
        "\n",
        "def update_slice(slice_index):\n",
        "\n",
        "    plt.figure()\n",
        "    plt.pcolormesh(img_background[slice_index])\n",
        "    plt.colorbar()\n",
        "    plt.title(f\"Bone Only Slice {slice_index}\")\n",
        "    plt.show()\n",
        "\n",
        "# Create a slider\n",
        "slider = widgets.IntSlider(value=0, min=200, max=320, step=1, description='Slice:')\n",
        "widgets.interact(update_slice, slice_index=slider)"
      ],
      "metadata": {
        "colab": {
          "base_uri": "https://localhost:8080/",
          "height": 331,
          "referenced_widgets": [
            "267e45c375144fcb95e6ca2d55e97ea7",
            "2c8bc92c0ff44bab874835089d4aae42",
            "75847493f9c44da2b13777f8291a7155",
            "71179a0c150f4372ac1fddd3832694e3",
            "714b73ee7f364fd08a36928a7aa033ca",
            "090510ed4fb94621af792a3ea4a95f36",
            "e39713aeb6b34c66982c439bd5a90a80"
          ]
        },
        "id": "akf8RR8uCR63",
        "outputId": "a88c1cd8-b3d0-42e0-ba67-89c870cc1bfb"
      },
      "execution_count": null,
      "outputs": [
        {
          "output_type": "display_data",
          "data": {
            "text/plain": [
              "interactive(children=(IntSlider(value=200, description='Slice:', max=320, min=200), Output()), _dom_classes=('…"
            ],
            "application/vnd.jupyter.widget-view+json": {
              "version_major": 2,
              "version_minor": 0,
              "model_id": "267e45c375144fcb95e6ca2d55e97ea7"
            }
          },
          "metadata": {}
        },
        {
          "output_type": "execute_result",
          "data": {
            "text/plain": [
              "<function __main__.update_slice(slice_index)>"
            ],
            "text/html": [
              "<div style=\"max-width:800px; border: 1px solid var(--colab-border-color);\"><style>\n",
              "      pre.function-repr-contents {\n",
              "        overflow-x: auto;\n",
              "        padding: 8px 12px;\n",
              "        max-height: 500px;\n",
              "      }\n",
              "\n",
              "      pre.function-repr-contents.function-repr-contents-collapsed {\n",
              "        cursor: pointer;\n",
              "        max-height: 100px;\n",
              "      }\n",
              "    </style>\n",
              "    <pre style=\"white-space: initial; background:\n",
              "         var(--colab-secondary-surface-color); padding: 8px 12px;\n",
              "         border-bottom: 1px solid var(--colab-border-color);\"><b>update_slice</b><br/>def update_slice(slice_index)</pre><pre class=\"function-repr-contents function-repr-contents-collapsed\" style=\"\"><a class=\"filepath\" style=\"display:none\" href=\"#\">/content/&lt;ipython-input-20-3471949073&gt;</a>&lt;no docstring&gt;</pre></div>"
            ]
          },
          "metadata": {},
          "execution_count": 20
        }
      ]
    },
    {
      "cell_type": "code",
      "source": [
        "from scipy.ndimage import gaussian_filter, median_filter\n",
        "\n",
        "# Edge enhancement with unsharp masking\n",
        "blurred = gaussian_filter(img_bones, sigma=2)\n",
        "img_edges = img_bones + (img_bones - blurred) * 2  # Adjust multiplier for edge strength"
      ],
      "metadata": {
        "id": "R0iYXdEEFWBd"
      },
      "execution_count": null,
      "outputs": []
    },
    {
      "cell_type": "code",
      "source": [
        "# Function to update the plot\n",
        "def update_slice(slice_index):\n",
        "\n",
        "    plt.figure()\n",
        "    plt.pcolormesh(img_edges[slice_index])\n",
        "    plt.colorbar()\n",
        "    plt.title(f\"Edge Enhanced Slice {slice_index}\")\n",
        "    plt.show()\n",
        "\n",
        "# Create a slider\n",
        "slider = widgets.IntSlider(value=0, min=200, max=300, step=1, description='Slice:')\n",
        "widgets.interact(update_slice, slice_index=slider)"
      ],
      "metadata": {
        "colab": {
          "base_uri": "https://localhost:8080/",
          "height": 332,
          "referenced_widgets": [
            "fa352b0b2cbf4253b7869129fb8b7a3b",
            "16130eb538d24926b910e203120fefce",
            "926a846c06c74c56ad26054307caa1ee",
            "2cf6c598b1434ef49660fb4b5d4378bb",
            "5738eba289464c46853723126fe8ca13",
            "ca370106c9fe436db85d8e3130068732",
            "a73192156c554bf1af7ccee7c47d1f03"
          ]
        },
        "id": "T7p-iO8BGsgA",
        "outputId": "11e3df76-2f0a-4a60-9313-31aac9461bca"
      },
      "execution_count": null,
      "outputs": [
        {
          "output_type": "display_data",
          "data": {
            "text/plain": [
              "interactive(children=(IntSlider(value=200, description='Slice:', max=300, min=200), Output()), _dom_classes=('…"
            ],
            "application/vnd.jupyter.widget-view+json": {
              "version_major": 2,
              "version_minor": 0,
              "model_id": "fa352b0b2cbf4253b7869129fb8b7a3b"
            }
          },
          "metadata": {}
        },
        {
          "output_type": "execute_result",
          "data": {
            "text/plain": [
              "<function __main__.update_slice(slice_index)>"
            ],
            "text/html": [
              "<div style=\"max-width:800px; border: 1px solid var(--colab-border-color);\"><style>\n",
              "      pre.function-repr-contents {\n",
              "        overflow-x: auto;\n",
              "        padding: 8px 12px;\n",
              "        max-height: 500px;\n",
              "      }\n",
              "\n",
              "      pre.function-repr-contents.function-repr-contents-collapsed {\n",
              "        cursor: pointer;\n",
              "        max-height: 100px;\n",
              "      }\n",
              "    </style>\n",
              "    <pre style=\"white-space: initial; background:\n",
              "         var(--colab-secondary-surface-color); padding: 8px 12px;\n",
              "         border-bottom: 1px solid var(--colab-border-color);\"><b>update_slice</b><br/>def update_slice(slice_index)</pre><pre class=\"function-repr-contents function-repr-contents-collapsed\" style=\"\"><a class=\"filepath\" style=\"display:none\" href=\"#\">/content/&lt;ipython-input-22-712442091&gt;</a>&lt;no docstring&gt;</pre></div>"
            ]
          },
          "metadata": {},
          "execution_count": 22
        }
      ]
    },
    {
      "cell_type": "code",
      "source": [
        "mask = img_edges > 250\n",
        "def update_mask_slice(slice_index):\n",
        "    plt.figure()\n",
        "    plt.pcolormesh(mask[slice_index])\n",
        "    plt.colorbar()\n",
        "    plt.title(f\"Masked Slice {slice_index}\")\n",
        "    plt.show()\n",
        "\n",
        "slider = widgets.IntSlider(value=0, min=200, max=300, step=1, description='Slice:')\n",
        "widgets.interact(update_mask_slice, slice_index=slider)"
      ],
      "metadata": {
        "id": "7JlXr1q3YL_J",
        "colab": {
          "base_uri": "https://localhost:8080/",
          "height": 334,
          "referenced_widgets": [
            "8e3734e3b65e4e6b8081c120c5f1ced8",
            "38624251f0c24154ac30a3547f6431c9",
            "67b41b9fd7b342f88bb81b60f19508c5",
            "dc273b0f52e8420386d7f57687982e60",
            "d7a25d37146d421f9e550d0fb57295b0",
            "3ecb807ad48b48d7b2f5538e43d1c50c",
            "62798845690d445b974d088616a04df3"
          ]
        },
        "outputId": "8678bc0d-0810-4f2c-ef2e-adcba22e4edf"
      },
      "execution_count": null,
      "outputs": [
        {
          "output_type": "display_data",
          "data": {
            "text/plain": [
              "interactive(children=(IntSlider(value=200, description='Slice:', max=300, min=200), Output()), _dom_classes=('…"
            ],
            "application/vnd.jupyter.widget-view+json": {
              "version_major": 2,
              "version_minor": 0,
              "model_id": "8e3734e3b65e4e6b8081c120c5f1ced8"
            }
          },
          "metadata": {}
        },
        {
          "output_type": "execute_result",
          "data": {
            "text/plain": [
              "<function __main__.update_mask_slice(slice_index)>"
            ],
            "text/html": [
              "<div style=\"max-width:800px; border: 1px solid var(--colab-border-color);\"><style>\n",
              "      pre.function-repr-contents {\n",
              "        overflow-x: auto;\n",
              "        padding: 8px 12px;\n",
              "        max-height: 500px;\n",
              "      }\n",
              "\n",
              "      pre.function-repr-contents.function-repr-contents-collapsed {\n",
              "        cursor: pointer;\n",
              "        max-height: 100px;\n",
              "      }\n",
              "    </style>\n",
              "    <pre style=\"white-space: initial; background:\n",
              "         var(--colab-secondary-surface-color); padding: 8px 12px;\n",
              "         border-bottom: 1px solid var(--colab-border-color);\"><b>update_mask_slice</b><br/>def update_mask_slice(slice_index)</pre><pre class=\"function-repr-contents function-repr-contents-collapsed\" style=\"\"><a class=\"filepath\" style=\"display:none\" href=\"#\">/content/&lt;ipython-input-23-971383404&gt;</a>&lt;no docstring&gt;</pre></div>"
            ]
          },
          "metadata": {},
          "execution_count": 23
        }
      ]
    },
    {
      "cell_type": "code",
      "source": [
        "from skimage.morphology import remove_small_objects\n",
        "from scipy.ndimage import binary_fill_holes\n",
        "\n",
        "# Remove small connected components (3D-aware)\n",
        "cleaned_mask = remove_small_objects(mask, min_size=2000, connectivity=1)\n",
        "\n",
        "# First pass: fill holes in axial slices (XY planes)\n",
        "filled_mask = np.zeros_like(cleaned_mask, dtype=bool)\n",
        "for i in range(cleaned_mask.shape[0]):\n",
        "    filled_mask[i] = binary_fill_holes(cleaned_mask[i])\n",
        "\n",
        "# Second pass: fill holes in sagittal slices (YZ planes)\n",
        "for j in range(filled_mask.shape[2]):\n",
        "    filled_mask[:, :, j] = binary_fill_holes(filled_mask[:, :, j])"
      ],
      "metadata": {
        "id": "kK7cHM6QFj3p"
      },
      "execution_count": null,
      "outputs": []
    },
    {
      "cell_type": "code",
      "source": [
        "def update_mask_slice(slice_index):\n",
        "    plt.figure()\n",
        "    plt.pcolormesh(filled_mask[slice_index])\n",
        "    plt.colorbar()\n",
        "    plt.title(f\"Partially Filled and Noise Free Slice {slice_index}\")\n",
        "    plt.show()\n",
        "\n",
        "slider = widgets.IntSlider(value=0, min=200, max=300, step=1, description='Slice:')\n",
        "widgets.interact(update_mask_slice, slice_index=slider)"
      ],
      "metadata": {
        "colab": {
          "base_uri": "https://localhost:8080/",
          "height": 334,
          "referenced_widgets": [
            "d0e8ba348b064e67a5c258a7b49df05f",
            "354288a7c3fc46119301a43c315634a4",
            "03976b9e7bb441b3904fc505bd06387e",
            "52f1932e64254aff8f01b1e3583d602e",
            "e4ba911d9d634330a04ab67e6b363f16",
            "9104f35d7d36419a9eaad17e0327851a",
            "3cb6c68573f94ce0ab4f15ead8d64f18"
          ]
        },
        "id": "okVspMX8Fm96",
        "outputId": "20d3bd88-2a06-4cb3-8baa-b045f269cbd0"
      },
      "execution_count": null,
      "outputs": [
        {
          "output_type": "display_data",
          "data": {
            "text/plain": [
              "interactive(children=(IntSlider(value=200, description='Slice:', max=300, min=200), Output()), _dom_classes=('…"
            ],
            "application/vnd.jupyter.widget-view+json": {
              "version_major": 2,
              "version_minor": 0,
              "model_id": "d0e8ba348b064e67a5c258a7b49df05f"
            }
          },
          "metadata": {}
        },
        {
          "output_type": "execute_result",
          "data": {
            "text/plain": [
              "<function __main__.update_mask_slice(slice_index)>"
            ],
            "text/html": [
              "<div style=\"max-width:800px; border: 1px solid var(--colab-border-color);\"><style>\n",
              "      pre.function-repr-contents {\n",
              "        overflow-x: auto;\n",
              "        padding: 8px 12px;\n",
              "        max-height: 500px;\n",
              "      }\n",
              "\n",
              "      pre.function-repr-contents.function-repr-contents-collapsed {\n",
              "        cursor: pointer;\n",
              "        max-height: 100px;\n",
              "      }\n",
              "    </style>\n",
              "    <pre style=\"white-space: initial; background:\n",
              "         var(--colab-secondary-surface-color); padding: 8px 12px;\n",
              "         border-bottom: 1px solid var(--colab-border-color);\"><b>update_mask_slice</b><br/>def update_mask_slice(slice_index)</pre><pre class=\"function-repr-contents function-repr-contents-collapsed\" style=\"\"><a class=\"filepath\" style=\"display:none\" href=\"#\">/content/&lt;ipython-input-25-1097239160&gt;</a>&lt;no docstring&gt;</pre></div>"
            ]
          },
          "metadata": {},
          "execution_count": 25
        }
      ]
    },
    {
      "cell_type": "markdown",
      "source": [
        "## Separate Femur from Tibia"
      ],
      "metadata": {
        "id": "UM4WZA7NFwZU"
      }
    },
    {
      "cell_type": "code",
      "source": [
        "from scipy.ndimage import label, center_of_mass\n",
        "\n",
        "# filled_mask is a 2D boolean mask where both bones are connected regions\n",
        "\n",
        "# Label connected components\n",
        "labeled_mask, num_labels = label(filled_mask)\n",
        "\n",
        "# Compute vertical (y-axis) centroids\n",
        "centroids = center_of_mass(filled_mask, labeled_mask, range(1, num_labels + 1))\n",
        "centroids_y = [c[0] for c in centroids]  # y-coordinates (row)\n",
        "\n",
        "# Sort labels by vertical position (top = femur, bottom = tibia)\n",
        "sorted_labels = [label_idx for _, label_idx in sorted(zip(centroids_y, range(1, num_labels + 1)))]\n",
        "\n",
        "# Create masks\n",
        "femur_mask = (labeled_mask == sorted_labels[0]) | (labeled_mask == sorted_labels[1])\n",
        "tibia_mask = labeled_mask == sorted_labels[2]\n"
      ],
      "metadata": {
        "id": "OehGPil8FuIV"
      },
      "execution_count": null,
      "outputs": []
    },
    {
      "cell_type": "code",
      "source": [
        "def update_mask_slice(slice_index):\n",
        "    fig, axs = plt.subplots(1, 2, figsize=(12, 5))\n",
        "\n",
        "    im1 = axs[0].pcolormesh(tibia_mask[slice_index])\n",
        "    axs[0].set_title(f\"Tibia Mask Slice {slice_index}\")\n",
        "    plt.colorbar(im1, ax=axs[0])\n",
        "\n",
        "    im2 = axs[1].pcolormesh(femur_mask[slice_index])\n",
        "    axs[1].set_title(f\"Femur Mask Slice {slice_index}\")\n",
        "    plt.colorbar(im2, ax=axs[1])\n",
        "\n",
        "    plt.show()\n",
        "\n",
        "slider = widgets.IntSlider(value=0, min=200, max=300, step=1, description='Slice:')\n",
        "widgets.interact(update_mask_slice, slice_index=slider)"
      ],
      "metadata": {
        "colab": {
          "base_uri": "https://localhost:8080/",
          "height": 426,
          "referenced_widgets": [
            "fba7b245246a42fcab3fc3fdd94e3dc0",
            "6553390008064b36b05041c4db1ca4ba",
            "9ae90642d8f04b22be6b1b6bb4d471f5",
            "0409106798534eeca8131bb4537fdcd4",
            "da73d1d6583f41e3bfec777787c6b240",
            "c533530aa28a4c7494a10255721ddbfc",
            "4f99c4e9f6f74f6188ee21fe826c18ae"
          ]
        },
        "id": "03nXRkNvF1w8",
        "outputId": "4ef5aff8-b32a-421d-9135-2327f49af0ba"
      },
      "execution_count": null,
      "outputs": [
        {
          "output_type": "display_data",
          "data": {
            "text/plain": [
              "interactive(children=(IntSlider(value=200, description='Slice:', max=300, min=200), Output()), _dom_classes=('…"
            ],
            "application/vnd.jupyter.widget-view+json": {
              "version_major": 2,
              "version_minor": 0,
              "model_id": "fba7b245246a42fcab3fc3fdd94e3dc0"
            }
          },
          "metadata": {}
        },
        {
          "output_type": "execute_result",
          "data": {
            "text/plain": [
              "<function __main__.update_mask_slice(slice_index)>"
            ],
            "text/html": [
              "<div style=\"max-width:800px; border: 1px solid var(--colab-border-color);\"><style>\n",
              "      pre.function-repr-contents {\n",
              "        overflow-x: auto;\n",
              "        padding: 8px 12px;\n",
              "        max-height: 500px;\n",
              "      }\n",
              "\n",
              "      pre.function-repr-contents.function-repr-contents-collapsed {\n",
              "        cursor: pointer;\n",
              "        max-height: 100px;\n",
              "      }\n",
              "    </style>\n",
              "    <pre style=\"white-space: initial; background:\n",
              "         var(--colab-secondary-surface-color); padding: 8px 12px;\n",
              "         border-bottom: 1px solid var(--colab-border-color);\"><b>update_mask_slice</b><br/>def update_mask_slice(slice_index)</pre><pre class=\"function-repr-contents function-repr-contents-collapsed\" style=\"\"><a class=\"filepath\" style=\"display:none\" href=\"#\">/content/&lt;ipython-input-27-2230720458&gt;</a>&lt;no docstring&gt;</pre></div>"
            ]
          },
          "metadata": {},
          "execution_count": 27
        }
      ]
    },
    {
      "cell_type": "markdown",
      "source": [
        "## Filling the internal gaps"
      ],
      "metadata": {
        "id": "bQi8vcZBHJmN"
      }
    },
    {
      "cell_type": "code",
      "source": [
        "def preprocess_and_fill(mask_bool, kernel_size=15, iterations=2):\n",
        "    # Convert boolean mask to uint8 for cv2 operations (0 and 255)\n",
        "    mask_uint8 = mask_bool.astype(np.uint8) * 255\n",
        "\n",
        "    kernel = cv2.getStructuringElement(cv2.MORPH_ELLIPSE, (kernel_size, kernel_size))\n",
        "    closed = cv2.morphologyEx(mask_uint8, cv2.MORPH_CLOSE, kernel, iterations=iterations)\n",
        "\n",
        "    # Convert back to boolean for filling holes\n",
        "    closed_bool = closed.astype(bool)\n",
        "\n",
        "    # Fill holes on the boolean mask\n",
        "    filled = binary_fill_holes(closed_bool)\n",
        "\n",
        "    return filled\n",
        "\n",
        "# Apply separately\n",
        "femur_mask_filled = preprocess_and_fill(femur_mask)\n",
        "tibia_mask_filled = preprocess_and_fill(tibia_mask)"
      ],
      "metadata": {
        "id": "QLo06juGF4pn"
      },
      "execution_count": null,
      "outputs": []
    },
    {
      "cell_type": "code",
      "source": [
        "def update_mask_slice(slice_index):\n",
        "    fig, axs = plt.subplots(1, 2, figsize=(12, 5))\n",
        "\n",
        "    im1 = axs[0].pcolormesh(tibia_mask_filled[slice_index])\n",
        "    axs[0].set_title(f\"Tibia Filled Slice {slice_index}\")\n",
        "    plt.colorbar(im1, ax=axs[0])\n",
        "\n",
        "    im2 = axs[1].pcolormesh(femur_mask_filled[slice_index])\n",
        "    axs[1].set_title(f\"Femur Filled Slice {slice_index}\")\n",
        "    plt.colorbar(im2, ax=axs[1])\n",
        "\n",
        "    plt.show()\n",
        "\n",
        "slider = widgets.IntSlider(value=0, min=200, max=300, step=1, description='Slice:')\n",
        "widgets.interact(update_mask_slice, slice_index=slider)"
      ],
      "metadata": {
        "colab": {
          "base_uri": "https://localhost:8080/",
          "height": 426,
          "referenced_widgets": [
            "463b16a6a4004b76a108df7cbe368f86",
            "d02b5f07218c45979efeb47bb20d4c5e",
            "050307368cb049e59a74bb64ae221403",
            "7ea760b345984ff8b9672244b0d0c416",
            "77d35ad8d0d64af983864ef6203da97b",
            "aeab298b66d44354b447844a358c8e25",
            "66004fa17d6246e98d8122faf93e6115"
          ]
        },
        "id": "fkDLqGl-HRtf",
        "outputId": "dd7f13d4-d797-471a-88ca-5e85d207c815"
      },
      "execution_count": null,
      "outputs": [
        {
          "output_type": "display_data",
          "data": {
            "text/plain": [
              "interactive(children=(IntSlider(value=200, description='Slice:', max=300, min=200), Output()), _dom_classes=('…"
            ],
            "application/vnd.jupyter.widget-view+json": {
              "version_major": 2,
              "version_minor": 0,
              "model_id": "463b16a6a4004b76a108df7cbe368f86"
            }
          },
          "metadata": {}
        },
        {
          "output_type": "execute_result",
          "data": {
            "text/plain": [
              "<function __main__.update_mask_slice(slice_index)>"
            ],
            "text/html": [
              "<div style=\"max-width:800px; border: 1px solid var(--colab-border-color);\"><style>\n",
              "      pre.function-repr-contents {\n",
              "        overflow-x: auto;\n",
              "        padding: 8px 12px;\n",
              "        max-height: 500px;\n",
              "      }\n",
              "\n",
              "      pre.function-repr-contents.function-repr-contents-collapsed {\n",
              "        cursor: pointer;\n",
              "        max-height: 100px;\n",
              "      }\n",
              "    </style>\n",
              "    <pre style=\"white-space: initial; background:\n",
              "         var(--colab-secondary-surface-color); padding: 8px 12px;\n",
              "         border-bottom: 1px solid var(--colab-border-color);\"><b>update_mask_slice</b><br/>def update_mask_slice(slice_index)</pre><pre class=\"function-repr-contents function-repr-contents-collapsed\" style=\"\"><a class=\"filepath\" style=\"display:none\" href=\"#\">/content/&lt;ipython-input-29-1709157071&gt;</a>&lt;no docstring&gt;</pre></div>"
            ]
          },
          "metadata": {},
          "execution_count": 29
        }
      ]
    },
    {
      "cell_type": "code",
      "source": [
        "femur_segment = img * femur_mask_filled\n",
        "tibia_segment = img * tibia_mask_filled\n",
        "overall_mask = femur_mask_filled | tibia_mask_filled\n",
        "overall_segment = img * overall_mask"
      ],
      "metadata": {
        "id": "fFSz6kvzHhof"
      },
      "execution_count": null,
      "outputs": []
    },
    {
      "cell_type": "code",
      "source": [
        "def update_mask_slice(slice_index):\n",
        "    fig, axs = plt.subplots(1, 3, figsize=(18, 5))\n",
        "\n",
        "    im1 = axs[0].pcolormesh(femur_segment[slice_index])\n",
        "    axs[0].set_title(f\"Femur Segment Slice {slice_index}\")\n",
        "    plt.colorbar(im1, ax=axs[0])\n",
        "\n",
        "    im2 = axs[1].pcolormesh(tibia_segment[slice_index])\n",
        "    axs[1].set_title(f\"Tibia Segment Slice {slice_index}\")\n",
        "    plt.colorbar(im2, ax=axs[1])\n",
        "\n",
        "    im3 = axs[2].pcolormesh(overall_segment[slice_index])\n",
        "    axs[2].set_title(f\"Overall Segment Slice {slice_index}\")\n",
        "    plt.colorbar(im3, ax=axs[2])\n",
        "\n",
        "    plt.tight_layout()\n",
        "    plt.show()\n",
        "\n",
        "slider = widgets.IntSlider(value=0, min=200, max=300, step=1, description='Slice:')\n",
        "widgets.interact(update_mask_slice, slice_index=slider)\n"
      ],
      "metadata": {
        "colab": {
          "base_uri": "https://localhost:8080/",
          "height": 309,
          "referenced_widgets": [
            "5d3c54a52fb644b19de9c8cfaaede1a1",
            "cda7363b2325416983c04386b0ec0d7b",
            "75524e088f40422c9f2fccf67cefd360",
            "179320e41ae543468e44b4717d054c39",
            "c4c62e505089491693ffadafa4463a33",
            "1dba0879010b4e9ca12d420cb239b47e",
            "55218861c53948b6898bbe1d834e87e9"
          ]
        },
        "id": "8Q2w53uZHliq",
        "outputId": "001baca7-617d-4a66-e473-1f9106d46487"
      },
      "execution_count": null,
      "outputs": [
        {
          "output_type": "display_data",
          "data": {
            "text/plain": [
              "interactive(children=(IntSlider(value=200, description='Slice:', max=300, min=200), Output()), _dom_classes=('…"
            ],
            "application/vnd.jupyter.widget-view+json": {
              "version_major": 2,
              "version_minor": 0,
              "model_id": "5d3c54a52fb644b19de9c8cfaaede1a1"
            }
          },
          "metadata": {}
        },
        {
          "output_type": "execute_result",
          "data": {
            "text/plain": [
              "<function __main__.update_mask_slice(slice_index)>"
            ],
            "text/html": [
              "<div style=\"max-width:800px; border: 1px solid var(--colab-border-color);\"><style>\n",
              "      pre.function-repr-contents {\n",
              "        overflow-x: auto;\n",
              "        padding: 8px 12px;\n",
              "        max-height: 500px;\n",
              "      }\n",
              "\n",
              "      pre.function-repr-contents.function-repr-contents-collapsed {\n",
              "        cursor: pointer;\n",
              "        max-height: 100px;\n",
              "      }\n",
              "    </style>\n",
              "    <pre style=\"white-space: initial; background:\n",
              "         var(--colab-secondary-surface-color); padding: 8px 12px;\n",
              "         border-bottom: 1px solid var(--colab-border-color);\"><b>update_mask_slice</b><br/>def update_mask_slice(slice_index)</pre><pre class=\"function-repr-contents function-repr-contents-collapsed\" style=\"\"><a class=\"filepath\" style=\"display:none\" href=\"#\">/content/&lt;ipython-input-31-793071154&gt;</a>&lt;no docstring&gt;</pre></div>"
            ]
          },
          "metadata": {},
          "execution_count": 31
        }
      ]
    },
    {
      "cell_type": "code",
      "source": [
        "start_slice = 200\n",
        "end_slice = 300\n",
        "\n",
        "# Cropped femur and tibia segments\n",
        "femur_segment_cropped = femur_segment[start_slice:end_slice]\n",
        "tibia_segment_cropped = tibia_segment[start_slice:end_slice]\n"
      ],
      "metadata": {
        "id": "N9jA0igyBELN"
      },
      "execution_count": null,
      "outputs": []
    },
    {
      "cell_type": "code",
      "execution_count": null,
      "metadata": {
        "id": "1nXQFKtZXOwE"
      },
      "outputs": [],
      "source": [
        "# # Optional visualization\n",
        "# plt.figure(figsize=(10, 4))\n",
        "# plt.subplot(1, 2, 1)\n",
        "# plt.imshow(femur_mask[:, 255, :].T, cmap='gray', origin='lower')\n",
        "# plt.title('Femur Mask')\n",
        "\n",
        "# plt.subplot(1, 2, 2)\n",
        "# plt.imshow(tibia_mask[:, 267, :].T, cmap='gray', origin='lower')\n",
        "# plt.title('Tibia Mask')\n",
        "# plt.show()"
      ]
    },
    {
      "cell_type": "markdown",
      "source": [
        "# 2. Conversion of 2D Pretrained Model to 3D"
      ],
      "metadata": {
        "id": "-ejLW5kUI9X4"
      }
    },
    {
      "cell_type": "code",
      "source": [
        "import torch\n",
        "import torch.nn as nn\n",
        "import torchvision.models as models\n",
        "import torch.nn.functional as F\n",
        "import torchvision.models as models\n",
        "from collections import OrderedDict\n",
        "import copy"
      ],
      "metadata": {
        "id": "XuCVs9ioajjG"
      },
      "execution_count": null,
      "outputs": []
    },
    {
      "cell_type": "code",
      "source": [
        "def inflate_conv2d_to_conv3d(conv2d, depth=3):\n",
        "    \"\"\"\n",
        "    Inflate a Conv2d to Conv3d by repeating the weights along a new depth\n",
        "    dimension and padding so that D is preserved.\n",
        "    \"\"\"\n",
        "    w2d = conv2d.weight.data\n",
        "    w3d = w2d.unsqueeze(2).repeat(1, 1, depth, 1, 1) / depth\n",
        "\n",
        "    pad_d = depth // 2\n",
        "\n",
        "    conv3d = nn.Conv3d(\n",
        "        in_channels=conv2d.in_channels,\n",
        "        out_channels=conv2d.out_channels,\n",
        "        kernel_size=(depth, *conv2d.kernel_size),\n",
        "        stride=(1, *conv2d.stride),\n",
        "        padding=(pad_d, *conv2d.padding),\n",
        "        bias=(conv2d.bias is not None)\n",
        "    )\n",
        "    conv3d.weight.data = w3d\n",
        "    if conv2d.bias is not None:\n",
        "        conv3d.bias.data = conv2d.bias.data.clone()\n",
        "    return conv3d\n",
        "\n",
        "\n",
        "def pad_to_match(x, target):\n",
        "    \"\"\"Pad tensor `x` to match the spatial shape of `target`.\"\"\"\n",
        "    diff = [t - s for s, t in zip(x.shape[2:], target.shape[2:])]\n",
        "    pad = [p for d in reversed(diff) for p in (0, d)]  # [W, H, D]\n",
        "    return F.pad(x, pad)\n",
        "\n",
        "\n",
        "\n",
        "def convert_densenet2d_to_3d(model2d, depth=3):\n",
        "    model3d = copy.deepcopy(model2d)\n",
        "\n",
        "    def recursively_convert(module):\n",
        "        for name, child in list(module.named_children()):\n",
        "            if isinstance(child, nn.Conv2d):\n",
        "                setattr(module, name, inflate_conv2d_to_conv3d(child, depth))\n",
        "            elif isinstance(child, nn.BatchNorm2d):\n",
        "                new_bn = nn.BatchNorm3d(child.num_features)\n",
        "                new_bn.weight.data = child.weight.data.clone()\n",
        "                new_bn.bias.data = child.bias.data.clone()\n",
        "                new_bn.running_mean = child.running_mean.clone()\n",
        "                new_bn.running_var = child.running_var.clone()\n",
        "                setattr(module, name, new_bn)\n",
        "            elif isinstance(child, nn.AdaptiveAvgPool2d):\n",
        "                setattr(module, name, nn.AdaptiveAvgPool3d((1, 1, 1)))\n",
        "            elif isinstance(child, nn.MaxPool2d):\n",
        "                setattr(module, name, nn.MaxPool3d(kernel_size=(1, 2, 2), stride=(1, 2, 2)))\n",
        "            elif isinstance(child, nn.AvgPool2d):\n",
        "                setattr(module, name, nn.AvgPool3d(kernel_size=(1, 2, 2), stride=(1, 2, 2)))\n",
        "            else:\n",
        "                recursively_convert(child)\n",
        "\n",
        "    recursively_convert(model3d.features)\n",
        "    return model3d"
      ],
      "metadata": {
        "id": "hD9LNccRpEAM"
      },
      "execution_count": null,
      "outputs": []
    },
    {
      "cell_type": "code",
      "source": [
        "model2d = models.densenet121(pretrained=True)\n",
        "model3d = convert_densenet2d_to_3d(model2d)\n",
        "model3d.eval()\n",
        "print(\"Done\")"
      ],
      "metadata": {
        "colab": {
          "base_uri": "https://localhost:8080/"
        },
        "id": "Ny-kSizUpEx9",
        "outputId": "281e5abf-5fbc-445f-fd1e-369d6e431ce9"
      },
      "execution_count": null,
      "outputs": [
        {
          "output_type": "stream",
          "name": "stderr",
          "text": [
            "/usr/local/lib/python3.11/dist-packages/torchvision/models/_utils.py:208: UserWarning: The parameter 'pretrained' is deprecated since 0.13 and may be removed in the future, please use 'weights' instead.\n",
            "  warnings.warn(\n",
            "/usr/local/lib/python3.11/dist-packages/torchvision/models/_utils.py:223: UserWarning: Arguments other than a weight enum or `None` for 'weights' are deprecated since 0.13 and may be removed in the future. The current behavior is equivalent to passing `weights=DenseNet121_Weights.IMAGENET1K_V1`. You can also use `weights=DenseNet121_Weights.DEFAULT` to get the most up-to-date weights.\n",
            "  warnings.warn(msg)\n",
            "Downloading: \"https://download.pytorch.org/models/densenet121-a639ec97.pth\" to /root/.cache/torch/hub/checkpoints/densenet121-a639ec97.pth\n",
            "100%|██████████| 30.8M/30.8M [00:00<00:00, 86.8MB/s]\n"
          ]
        },
        {
          "output_type": "stream",
          "name": "stdout",
          "text": [
            "Done\n"
          ]
        }
      ]
    },
    {
      "cell_type": "code",
      "source": [
        "def extract_feature_vector(model, volume_tensor):\n",
        "    with torch.no_grad():\n",
        "        x = model.features(volume_tensor)\n",
        "        print(\"feature map shape:\", x.shape)      #torch.Size([1, 1024, D', H', W'])\n",
        "        pooled = F.adaptive_avg_pool3d(x, (1, 1, 1))\n",
        "        print(\"after pooling:\", pooled.shape)\n",
        "        vector = pooled.view(pooled.size(0), -1).cpu().numpy()\n",
        "    return vector"
      ],
      "metadata": {
        "id": "Wiy7FNVMpJQM"
      },
      "execution_count": null,
      "outputs": []
    },
    {
      "cell_type": "code",
      "source": [
        "from collections import OrderedDict\n",
        "\n",
        "feat_maps = OrderedDict()\n",
        "\n",
        "conv_layers = []\n",
        "for name, module in model3d.features.named_modules():\n",
        "    if isinstance(module, torch.nn.Conv3d):\n",
        "        conv_layers.append(name)\n",
        "\n",
        "# Pick indices: last (-1), third-last (-3), fifth-last (-5)\n",
        "targets = {\n",
        "    'last':   conv_layers[-1],\n",
        "    'third':  conv_layers[-3],\n",
        "    'fifth':  conv_layers[-5],\n",
        "}\n",
        "\n",
        "# Register hooks\n",
        "for key, layer_name in targets.items():\n",
        "    module = dict(model3d.features.named_modules())[layer_name]\n",
        "    module.register_forward_hook(\n",
        "        lambda self, input, output, k=key: feat_maps.__setitem__(k, output)\n",
        "    )"
      ],
      "metadata": {
        "id": "Zj1AhVqyuKfL"
      },
      "execution_count": null,
      "outputs": []
    },
    {
      "cell_type": "code",
      "source": [
        "def preprocess(volume, hu_min=-1000, hu_max=1000):\n",
        "    clipped = np.clip(volume, hu_min, hu_max)\n",
        "    normed = (clipped - hu_min) / (hu_max - hu_min)\n",
        "    tensor = torch.tensor(normed[None, None], dtype=torch.float32)  # (1,1,D,H,W)\n",
        "    # Reduce the input dimensions\n",
        "    tensor = F.interpolate(tensor, size=(256, 128, 256), mode='trilinear', align_corners=False)\n",
        "    tensor = tensor.repeat(1, 3, 1, 1, 1)  # (1,3,D,H,W)\n",
        "\n",
        "    # _, _, d, h, w = tensor.shape\n",
        "    # pad_d = (32 - d % 32) % 32\n",
        "    # pad_h = (32 - h % 32) % 32\n",
        "    # pad_w = (32 - w % 32) % 32\n",
        "\n",
        "    # padding = (0, pad_w, 0, pad_h, 0, pad_d)\n",
        "    # tensor = F.pad(tensor, padding)\n",
        "\n",
        "    return tensor\n",
        "\n",
        "\n",
        "\n",
        "tibia_tensor = preprocess(tibia_segment_cropped)\n",
        "femur_tensor = preprocess(femur_segment_cropped)\n",
        "background_tensor = preprocess(img_background)"
      ],
      "metadata": {
        "id": "pJyPfs6gua6W"
      },
      "execution_count": null,
      "outputs": []
    },
    {
      "cell_type": "code",
      "source": [
        "from torch.nn import CosineSimilarity\n",
        "import torch.nn.functional as F\n",
        "\n",
        "cos = CosineSimilarity(dim=1, eps=1e-6)\n",
        "\n",
        "def get_region_features(volume_tensor):\n",
        "    \"\"\"\n",
        "    volume_tensor: torch.Tensor shape (1,3,D,H,W) on CPU\n",
        "    returns dict: {'last': torch.Tensor, 'third': torch.Tensor, 'fifth': torch.Tensor}\n",
        "    \"\"\"\n",
        "    feat_maps.clear()\n",
        "    with torch.no_grad():\n",
        "        _ = model3d.features(volume_tensor)   # forward through features\n",
        "\n",
        "    vectors = {}\n",
        "    for key, fmap in feat_maps.items():\n",
        "        # Global average pooling to (1, C, 1, 1, 1)\n",
        "        pooled = F.adaptive_avg_pool3d(fmap, (1,1,1))\n",
        "        vec = pooled.view(pooled.size(0), -1)  # (1, C)\n",
        "        vectors[key] = vec\n",
        "    return vectors"
      ],
      "metadata": {
        "id": "NZia4cOSuNnU"
      },
      "execution_count": null,
      "outputs": []
    },
    {
      "cell_type": "code",
      "source": [
        "regions = {\n",
        "    'tibia': tibia_tensor,\n",
        "    'femur': femur_tensor,\n",
        "    'background': background_tensor\n",
        "}\n",
        "\n",
        "rows = []\n",
        "pairs = [('tibia','femur'), ('tibia','background'), ('femur','background')]\n",
        "\n",
        "layers = ['last','third','fifth']\n",
        "\n",
        "# Precompute features per region\n",
        "region_feats = {r: get_region_features(t) for r, t in regions.items()}\n",
        "\n",
        "for img_idx in [0]:\n",
        "    for (r1, r2) in pairs:\n",
        "        feats1 = region_feats[r1]\n",
        "        feats2 = region_feats[r2]\n",
        "        row = {\n",
        "            'image': img_idx,\n",
        "            'pair': f\"{r1}_{r2}\"\n",
        "        }\n",
        "        for layer in layers:\n",
        "            sim = cos(feats1[layer], feats2[layer]).item()\n",
        "            row[f\"cos_{layer}\"] = sim\n",
        "        rows.append(row)\n",
        "\n",
        "df = pd.DataFrame(rows)\n",
        "csv_path = \"knee_region_cosine_similarities.csv\"\n",
        "df.to_csv(csv_path, index=False)\n",
        "print(f\"Saved similarities to {csv_path}\")\n"
      ],
      "metadata": {
        "colab": {
          "base_uri": "https://localhost:8080/",
          "height": 160
        },
        "id": "rkl-txbeuuYJ",
        "outputId": "f6ab7034-dbe3-4754-abf7-d3a2c7d79c35"
      },
      "execution_count": null,
      "outputs": [
        {
          "output_type": "stream",
          "name": "stdout",
          "text": [
            "Saved similarities to knee_region_cosine_similarities.csv\n"
          ]
        },
        {
          "output_type": "execute_result",
          "data": {
            "text/plain": [
              "   image              pair  cos_last  cos_third  cos_fifth\n",
              "0      0       tibia_femur  0.873247   0.751816   0.437909\n",
              "1      0  tibia_background  0.794982   0.769413   0.651196\n",
              "2      0  femur_background  0.804413   0.727484   0.478395"
            ],
            "text/html": [
              "\n",
              "  <div id=\"df-7ac857c4-b7e5-41d1-891d-e211d5751537\" class=\"colab-df-container\">\n",
              "    <div>\n",
              "<style scoped>\n",
              "    .dataframe tbody tr th:only-of-type {\n",
              "        vertical-align: middle;\n",
              "    }\n",
              "\n",
              "    .dataframe tbody tr th {\n",
              "        vertical-align: top;\n",
              "    }\n",
              "\n",
              "    .dataframe thead th {\n",
              "        text-align: right;\n",
              "    }\n",
              "</style>\n",
              "<table border=\"1\" class=\"dataframe\">\n",
              "  <thead>\n",
              "    <tr style=\"text-align: right;\">\n",
              "      <th></th>\n",
              "      <th>image</th>\n",
              "      <th>pair</th>\n",
              "      <th>cos_last</th>\n",
              "      <th>cos_third</th>\n",
              "      <th>cos_fifth</th>\n",
              "    </tr>\n",
              "  </thead>\n",
              "  <tbody>\n",
              "    <tr>\n",
              "      <th>0</th>\n",
              "      <td>0</td>\n",
              "      <td>tibia_femur</td>\n",
              "      <td>0.873247</td>\n",
              "      <td>0.751816</td>\n",
              "      <td>0.437909</td>\n",
              "    </tr>\n",
              "    <tr>\n",
              "      <th>1</th>\n",
              "      <td>0</td>\n",
              "      <td>tibia_background</td>\n",
              "      <td>0.794982</td>\n",
              "      <td>0.769413</td>\n",
              "      <td>0.651196</td>\n",
              "    </tr>\n",
              "    <tr>\n",
              "      <th>2</th>\n",
              "      <td>0</td>\n",
              "      <td>femur_background</td>\n",
              "      <td>0.804413</td>\n",
              "      <td>0.727484</td>\n",
              "      <td>0.478395</td>\n",
              "    </tr>\n",
              "  </tbody>\n",
              "</table>\n",
              "</div>\n",
              "    <div class=\"colab-df-buttons\">\n",
              "\n",
              "  <div class=\"colab-df-container\">\n",
              "    <button class=\"colab-df-convert\" onclick=\"convertToInteractive('df-7ac857c4-b7e5-41d1-891d-e211d5751537')\"\n",
              "            title=\"Convert this dataframe to an interactive table.\"\n",
              "            style=\"display:none;\">\n",
              "\n",
              "  <svg xmlns=\"http://www.w3.org/2000/svg\" height=\"24px\" viewBox=\"0 -960 960 960\">\n",
              "    <path d=\"M120-120v-720h720v720H120Zm60-500h600v-160H180v160Zm220 220h160v-160H400v160Zm0 220h160v-160H400v160ZM180-400h160v-160H180v160Zm440 0h160v-160H620v160ZM180-180h160v-160H180v160Zm440 0h160v-160H620v160Z\"/>\n",
              "  </svg>\n",
              "    </button>\n",
              "\n",
              "  <style>\n",
              "    .colab-df-container {\n",
              "      display:flex;\n",
              "      gap: 12px;\n",
              "    }\n",
              "\n",
              "    .colab-df-convert {\n",
              "      background-color: #E8F0FE;\n",
              "      border: none;\n",
              "      border-radius: 50%;\n",
              "      cursor: pointer;\n",
              "      display: none;\n",
              "      fill: #1967D2;\n",
              "      height: 32px;\n",
              "      padding: 0 0 0 0;\n",
              "      width: 32px;\n",
              "    }\n",
              "\n",
              "    .colab-df-convert:hover {\n",
              "      background-color: #E2EBFA;\n",
              "      box-shadow: 0px 1px 2px rgba(60, 64, 67, 0.3), 0px 1px 3px 1px rgba(60, 64, 67, 0.15);\n",
              "      fill: #174EA6;\n",
              "    }\n",
              "\n",
              "    .colab-df-buttons div {\n",
              "      margin-bottom: 4px;\n",
              "    }\n",
              "\n",
              "    [theme=dark] .colab-df-convert {\n",
              "      background-color: #3B4455;\n",
              "      fill: #D2E3FC;\n",
              "    }\n",
              "\n",
              "    [theme=dark] .colab-df-convert:hover {\n",
              "      background-color: #434B5C;\n",
              "      box-shadow: 0px 1px 3px 1px rgba(0, 0, 0, 0.15);\n",
              "      filter: drop-shadow(0px 1px 2px rgba(0, 0, 0, 0.3));\n",
              "      fill: #FFFFFF;\n",
              "    }\n",
              "  </style>\n",
              "\n",
              "    <script>\n",
              "      const buttonEl =\n",
              "        document.querySelector('#df-7ac857c4-b7e5-41d1-891d-e211d5751537 button.colab-df-convert');\n",
              "      buttonEl.style.display =\n",
              "        google.colab.kernel.accessAllowed ? 'block' : 'none';\n",
              "\n",
              "      async function convertToInteractive(key) {\n",
              "        const element = document.querySelector('#df-7ac857c4-b7e5-41d1-891d-e211d5751537');\n",
              "        const dataTable =\n",
              "          await google.colab.kernel.invokeFunction('convertToInteractive',\n",
              "                                                    [key], {});\n",
              "        if (!dataTable) return;\n",
              "\n",
              "        const docLinkHtml = 'Like what you see? Visit the ' +\n",
              "          '<a target=\"_blank\" href=https://colab.research.google.com/notebooks/data_table.ipynb>data table notebook</a>'\n",
              "          + ' to learn more about interactive tables.';\n",
              "        element.innerHTML = '';\n",
              "        dataTable['output_type'] = 'display_data';\n",
              "        await google.colab.output.renderOutput(dataTable, element);\n",
              "        const docLink = document.createElement('div');\n",
              "        docLink.innerHTML = docLinkHtml;\n",
              "        element.appendChild(docLink);\n",
              "      }\n",
              "    </script>\n",
              "  </div>\n",
              "\n",
              "\n",
              "    <div id=\"df-0409fb21-2c0a-4da7-97e1-33189e8adec9\">\n",
              "      <button class=\"colab-df-quickchart\" onclick=\"quickchart('df-0409fb21-2c0a-4da7-97e1-33189e8adec9')\"\n",
              "                title=\"Suggest charts\"\n",
              "                style=\"display:none;\">\n",
              "\n",
              "<svg xmlns=\"http://www.w3.org/2000/svg\" height=\"24px\"viewBox=\"0 0 24 24\"\n",
              "     width=\"24px\">\n",
              "    <g>\n",
              "        <path d=\"M19 3H5c-1.1 0-2 .9-2 2v14c0 1.1.9 2 2 2h14c1.1 0 2-.9 2-2V5c0-1.1-.9-2-2-2zM9 17H7v-7h2v7zm4 0h-2V7h2v10zm4 0h-2v-4h2v4z\"/>\n",
              "    </g>\n",
              "</svg>\n",
              "      </button>\n",
              "\n",
              "<style>\n",
              "  .colab-df-quickchart {\n",
              "      --bg-color: #E8F0FE;\n",
              "      --fill-color: #1967D2;\n",
              "      --hover-bg-color: #E2EBFA;\n",
              "      --hover-fill-color: #174EA6;\n",
              "      --disabled-fill-color: #AAA;\n",
              "      --disabled-bg-color: #DDD;\n",
              "  }\n",
              "\n",
              "  [theme=dark] .colab-df-quickchart {\n",
              "      --bg-color: #3B4455;\n",
              "      --fill-color: #D2E3FC;\n",
              "      --hover-bg-color: #434B5C;\n",
              "      --hover-fill-color: #FFFFFF;\n",
              "      --disabled-bg-color: #3B4455;\n",
              "      --disabled-fill-color: #666;\n",
              "  }\n",
              "\n",
              "  .colab-df-quickchart {\n",
              "    background-color: var(--bg-color);\n",
              "    border: none;\n",
              "    border-radius: 50%;\n",
              "    cursor: pointer;\n",
              "    display: none;\n",
              "    fill: var(--fill-color);\n",
              "    height: 32px;\n",
              "    padding: 0;\n",
              "    width: 32px;\n",
              "  }\n",
              "\n",
              "  .colab-df-quickchart:hover {\n",
              "    background-color: var(--hover-bg-color);\n",
              "    box-shadow: 0 1px 2px rgba(60, 64, 67, 0.3), 0 1px 3px 1px rgba(60, 64, 67, 0.15);\n",
              "    fill: var(--button-hover-fill-color);\n",
              "  }\n",
              "\n",
              "  .colab-df-quickchart-complete:disabled,\n",
              "  .colab-df-quickchart-complete:disabled:hover {\n",
              "    background-color: var(--disabled-bg-color);\n",
              "    fill: var(--disabled-fill-color);\n",
              "    box-shadow: none;\n",
              "  }\n",
              "\n",
              "  .colab-df-spinner {\n",
              "    border: 2px solid var(--fill-color);\n",
              "    border-color: transparent;\n",
              "    border-bottom-color: var(--fill-color);\n",
              "    animation:\n",
              "      spin 1s steps(1) infinite;\n",
              "  }\n",
              "\n",
              "  @keyframes spin {\n",
              "    0% {\n",
              "      border-color: transparent;\n",
              "      border-bottom-color: var(--fill-color);\n",
              "      border-left-color: var(--fill-color);\n",
              "    }\n",
              "    20% {\n",
              "      border-color: transparent;\n",
              "      border-left-color: var(--fill-color);\n",
              "      border-top-color: var(--fill-color);\n",
              "    }\n",
              "    30% {\n",
              "      border-color: transparent;\n",
              "      border-left-color: var(--fill-color);\n",
              "      border-top-color: var(--fill-color);\n",
              "      border-right-color: var(--fill-color);\n",
              "    }\n",
              "    40% {\n",
              "      border-color: transparent;\n",
              "      border-right-color: var(--fill-color);\n",
              "      border-top-color: var(--fill-color);\n",
              "    }\n",
              "    60% {\n",
              "      border-color: transparent;\n",
              "      border-right-color: var(--fill-color);\n",
              "    }\n",
              "    80% {\n",
              "      border-color: transparent;\n",
              "      border-right-color: var(--fill-color);\n",
              "      border-bottom-color: var(--fill-color);\n",
              "    }\n",
              "    90% {\n",
              "      border-color: transparent;\n",
              "      border-bottom-color: var(--fill-color);\n",
              "    }\n",
              "  }\n",
              "</style>\n",
              "\n",
              "      <script>\n",
              "        async function quickchart(key) {\n",
              "          const quickchartButtonEl =\n",
              "            document.querySelector('#' + key + ' button');\n",
              "          quickchartButtonEl.disabled = true;  // To prevent multiple clicks.\n",
              "          quickchartButtonEl.classList.add('colab-df-spinner');\n",
              "          try {\n",
              "            const charts = await google.colab.kernel.invokeFunction(\n",
              "                'suggestCharts', [key], {});\n",
              "          } catch (error) {\n",
              "            console.error('Error during call to suggestCharts:', error);\n",
              "          }\n",
              "          quickchartButtonEl.classList.remove('colab-df-spinner');\n",
              "          quickchartButtonEl.classList.add('colab-df-quickchart-complete');\n",
              "        }\n",
              "        (() => {\n",
              "          let quickchartButtonEl =\n",
              "            document.querySelector('#df-0409fb21-2c0a-4da7-97e1-33189e8adec9 button');\n",
              "          quickchartButtonEl.style.display =\n",
              "            google.colab.kernel.accessAllowed ? 'block' : 'none';\n",
              "        })();\n",
              "      </script>\n",
              "    </div>\n",
              "\n",
              "  <div id=\"id_d88fadbe-28b7-4144-ad93-1e7d2b7d3a8a\">\n",
              "    <style>\n",
              "      .colab-df-generate {\n",
              "        background-color: #E8F0FE;\n",
              "        border: none;\n",
              "        border-radius: 50%;\n",
              "        cursor: pointer;\n",
              "        display: none;\n",
              "        fill: #1967D2;\n",
              "        height: 32px;\n",
              "        padding: 0 0 0 0;\n",
              "        width: 32px;\n",
              "      }\n",
              "\n",
              "      .colab-df-generate:hover {\n",
              "        background-color: #E2EBFA;\n",
              "        box-shadow: 0px 1px 2px rgba(60, 64, 67, 0.3), 0px 1px 3px 1px rgba(60, 64, 67, 0.15);\n",
              "        fill: #174EA6;\n",
              "      }\n",
              "\n",
              "      [theme=dark] .colab-df-generate {\n",
              "        background-color: #3B4455;\n",
              "        fill: #D2E3FC;\n",
              "      }\n",
              "\n",
              "      [theme=dark] .colab-df-generate:hover {\n",
              "        background-color: #434B5C;\n",
              "        box-shadow: 0px 1px 3px 1px rgba(0, 0, 0, 0.15);\n",
              "        filter: drop-shadow(0px 1px 2px rgba(0, 0, 0, 0.3));\n",
              "        fill: #FFFFFF;\n",
              "      }\n",
              "    </style>\n",
              "    <button class=\"colab-df-generate\" onclick=\"generateWithVariable('df')\"\n",
              "            title=\"Generate code using this dataframe.\"\n",
              "            style=\"display:none;\">\n",
              "\n",
              "  <svg xmlns=\"http://www.w3.org/2000/svg\" height=\"24px\"viewBox=\"0 0 24 24\"\n",
              "       width=\"24px\">\n",
              "    <path d=\"M7,19H8.4L18.45,9,17,7.55,7,17.6ZM5,21V16.75L18.45,3.32a2,2,0,0,1,2.83,0l1.4,1.43a1.91,1.91,0,0,1,.58,1.4,1.91,1.91,0,0,1-.58,1.4L9.25,21ZM18.45,9,17,7.55Zm-12,3A5.31,5.31,0,0,0,4.9,8.1,5.31,5.31,0,0,0,1,6.5,5.31,5.31,0,0,0,4.9,4.9,5.31,5.31,0,0,0,6.5,1,5.31,5.31,0,0,0,8.1,4.9,5.31,5.31,0,0,0,12,6.5,5.46,5.46,0,0,0,6.5,12Z\"/>\n",
              "  </svg>\n",
              "    </button>\n",
              "    <script>\n",
              "      (() => {\n",
              "      const buttonEl =\n",
              "        document.querySelector('#id_d88fadbe-28b7-4144-ad93-1e7d2b7d3a8a button.colab-df-generate');\n",
              "      buttonEl.style.display =\n",
              "        google.colab.kernel.accessAllowed ? 'block' : 'none';\n",
              "\n",
              "      buttonEl.onclick = () => {\n",
              "        google.colab.notebook.generateWithVariable('df');\n",
              "      }\n",
              "      })();\n",
              "    </script>\n",
              "  </div>\n",
              "\n",
              "    </div>\n",
              "  </div>\n"
            ],
            "application/vnd.google.colaboratory.intrinsic+json": {
              "type": "dataframe",
              "variable_name": "df",
              "summary": "{\n  \"name\": \"df\",\n  \"rows\": 3,\n  \"fields\": [\n    {\n      \"column\": \"image\",\n      \"properties\": {\n        \"dtype\": \"number\",\n        \"std\": 0,\n        \"min\": 0,\n        \"max\": 0,\n        \"num_unique_values\": 1,\n        \"samples\": [\n          0\n        ],\n        \"semantic_type\": \"\",\n        \"description\": \"\"\n      }\n    },\n    {\n      \"column\": \"pair\",\n      \"properties\": {\n        \"dtype\": \"string\",\n        \"num_unique_values\": 3,\n        \"samples\": [\n          \"tibia_femur\"\n        ],\n        \"semantic_type\": \"\",\n        \"description\": \"\"\n      }\n    },\n    {\n      \"column\": \"cos_last\",\n      \"properties\": {\n        \"dtype\": \"number\",\n        \"std\": 0.04272484373220361,\n        \"min\": 0.7949823141098022,\n        \"max\": 0.8732470273971558,\n        \"num_unique_values\": 3,\n        \"samples\": [\n          0.8732470273971558\n        ],\n        \"semantic_type\": \"\",\n        \"description\": \"\"\n      }\n    },\n    {\n      \"column\": \"cos_third\",\n      \"properties\": {\n        \"dtype\": \"number\",\n        \"std\": 0.0210542158190267,\n        \"min\": 0.7274843454360962,\n        \"max\": 0.7694128155708313,\n        \"num_unique_values\": 3,\n        \"samples\": [\n          0.75181645154953\n        ],\n        \"semantic_type\": \"\",\n        \"description\": \"\"\n      }\n    },\n    {\n      \"column\": \"cos_fifth\",\n      \"properties\": {\n        \"dtype\": \"number\",\n        \"std\": 0.1132774172832733,\n        \"min\": 0.4379091262817383,\n        \"max\": 0.6511961817741394,\n        \"num_unique_values\": 3,\n        \"samples\": [\n          0.4379091262817383\n        ],\n        \"semantic_type\": \"\",\n        \"description\": \"\"\n      }\n    }\n  ]\n}"
            }
          },
          "metadata": {},
          "execution_count": 49
        }
      ]
    },
    {
      "cell_type": "code",
      "source": [
        "df"
      ],
      "metadata": {
        "colab": {
          "base_uri": "https://localhost:8080/",
          "height": 143
        },
        "id": "cYiv7XO5JzHn",
        "outputId": "b4db6acd-ae75-4ba3-e787-de4a2301b5d1"
      },
      "execution_count": null,
      "outputs": [
        {
          "output_type": "execute_result",
          "data": {
            "text/plain": [
              "   image              pair  cos_last  cos_third  cos_fifth\n",
              "0      0       tibia_femur  0.873247   0.751816   0.437909\n",
              "1      0  tibia_background  0.794982   0.769413   0.651196\n",
              "2      0  femur_background  0.804413   0.727484   0.478395"
            ],
            "text/html": [
              "\n",
              "  <div id=\"df-f9ebb145-51d1-4786-8622-79a52dfd4edb\" class=\"colab-df-container\">\n",
              "    <div>\n",
              "<style scoped>\n",
              "    .dataframe tbody tr th:only-of-type {\n",
              "        vertical-align: middle;\n",
              "    }\n",
              "\n",
              "    .dataframe tbody tr th {\n",
              "        vertical-align: top;\n",
              "    }\n",
              "\n",
              "    .dataframe thead th {\n",
              "        text-align: right;\n",
              "    }\n",
              "</style>\n",
              "<table border=\"1\" class=\"dataframe\">\n",
              "  <thead>\n",
              "    <tr style=\"text-align: right;\">\n",
              "      <th></th>\n",
              "      <th>image</th>\n",
              "      <th>pair</th>\n",
              "      <th>cos_last</th>\n",
              "      <th>cos_third</th>\n",
              "      <th>cos_fifth</th>\n",
              "    </tr>\n",
              "  </thead>\n",
              "  <tbody>\n",
              "    <tr>\n",
              "      <th>0</th>\n",
              "      <td>0</td>\n",
              "      <td>tibia_femur</td>\n",
              "      <td>0.873247</td>\n",
              "      <td>0.751816</td>\n",
              "      <td>0.437909</td>\n",
              "    </tr>\n",
              "    <tr>\n",
              "      <th>1</th>\n",
              "      <td>0</td>\n",
              "      <td>tibia_background</td>\n",
              "      <td>0.794982</td>\n",
              "      <td>0.769413</td>\n",
              "      <td>0.651196</td>\n",
              "    </tr>\n",
              "    <tr>\n",
              "      <th>2</th>\n",
              "      <td>0</td>\n",
              "      <td>femur_background</td>\n",
              "      <td>0.804413</td>\n",
              "      <td>0.727484</td>\n",
              "      <td>0.478395</td>\n",
              "    </tr>\n",
              "  </tbody>\n",
              "</table>\n",
              "</div>\n",
              "    <div class=\"colab-df-buttons\">\n",
              "\n",
              "  <div class=\"colab-df-container\">\n",
              "    <button class=\"colab-df-convert\" onclick=\"convertToInteractive('df-f9ebb145-51d1-4786-8622-79a52dfd4edb')\"\n",
              "            title=\"Convert this dataframe to an interactive table.\"\n",
              "            style=\"display:none;\">\n",
              "\n",
              "  <svg xmlns=\"http://www.w3.org/2000/svg\" height=\"24px\" viewBox=\"0 -960 960 960\">\n",
              "    <path d=\"M120-120v-720h720v720H120Zm60-500h600v-160H180v160Zm220 220h160v-160H400v160Zm0 220h160v-160H400v160ZM180-400h160v-160H180v160Zm440 0h160v-160H620v160ZM180-180h160v-160H180v160Zm440 0h160v-160H620v160Z\"/>\n",
              "  </svg>\n",
              "    </button>\n",
              "\n",
              "  <style>\n",
              "    .colab-df-container {\n",
              "      display:flex;\n",
              "      gap: 12px;\n",
              "    }\n",
              "\n",
              "    .colab-df-convert {\n",
              "      background-color: #E8F0FE;\n",
              "      border: none;\n",
              "      border-radius: 50%;\n",
              "      cursor: pointer;\n",
              "      display: none;\n",
              "      fill: #1967D2;\n",
              "      height: 32px;\n",
              "      padding: 0 0 0 0;\n",
              "      width: 32px;\n",
              "    }\n",
              "\n",
              "    .colab-df-convert:hover {\n",
              "      background-color: #E2EBFA;\n",
              "      box-shadow: 0px 1px 2px rgba(60, 64, 67, 0.3), 0px 1px 3px 1px rgba(60, 64, 67, 0.15);\n",
              "      fill: #174EA6;\n",
              "    }\n",
              "\n",
              "    .colab-df-buttons div {\n",
              "      margin-bottom: 4px;\n",
              "    }\n",
              "\n",
              "    [theme=dark] .colab-df-convert {\n",
              "      background-color: #3B4455;\n",
              "      fill: #D2E3FC;\n",
              "    }\n",
              "\n",
              "    [theme=dark] .colab-df-convert:hover {\n",
              "      background-color: #434B5C;\n",
              "      box-shadow: 0px 1px 3px 1px rgba(0, 0, 0, 0.15);\n",
              "      filter: drop-shadow(0px 1px 2px rgba(0, 0, 0, 0.3));\n",
              "      fill: #FFFFFF;\n",
              "    }\n",
              "  </style>\n",
              "\n",
              "    <script>\n",
              "      const buttonEl =\n",
              "        document.querySelector('#df-f9ebb145-51d1-4786-8622-79a52dfd4edb button.colab-df-convert');\n",
              "      buttonEl.style.display =\n",
              "        google.colab.kernel.accessAllowed ? 'block' : 'none';\n",
              "\n",
              "      async function convertToInteractive(key) {\n",
              "        const element = document.querySelector('#df-f9ebb145-51d1-4786-8622-79a52dfd4edb');\n",
              "        const dataTable =\n",
              "          await google.colab.kernel.invokeFunction('convertToInteractive',\n",
              "                                                    [key], {});\n",
              "        if (!dataTable) return;\n",
              "\n",
              "        const docLinkHtml = 'Like what you see? Visit the ' +\n",
              "          '<a target=\"_blank\" href=https://colab.research.google.com/notebooks/data_table.ipynb>data table notebook</a>'\n",
              "          + ' to learn more about interactive tables.';\n",
              "        element.innerHTML = '';\n",
              "        dataTable['output_type'] = 'display_data';\n",
              "        await google.colab.output.renderOutput(dataTable, element);\n",
              "        const docLink = document.createElement('div');\n",
              "        docLink.innerHTML = docLinkHtml;\n",
              "        element.appendChild(docLink);\n",
              "      }\n",
              "    </script>\n",
              "  </div>\n",
              "\n",
              "\n",
              "    <div id=\"df-e4d2a04c-d7e1-451b-a1ba-64a8547e3ab6\">\n",
              "      <button class=\"colab-df-quickchart\" onclick=\"quickchart('df-e4d2a04c-d7e1-451b-a1ba-64a8547e3ab6')\"\n",
              "                title=\"Suggest charts\"\n",
              "                style=\"display:none;\">\n",
              "\n",
              "<svg xmlns=\"http://www.w3.org/2000/svg\" height=\"24px\"viewBox=\"0 0 24 24\"\n",
              "     width=\"24px\">\n",
              "    <g>\n",
              "        <path d=\"M19 3H5c-1.1 0-2 .9-2 2v14c0 1.1.9 2 2 2h14c1.1 0 2-.9 2-2V5c0-1.1-.9-2-2-2zM9 17H7v-7h2v7zm4 0h-2V7h2v10zm4 0h-2v-4h2v4z\"/>\n",
              "    </g>\n",
              "</svg>\n",
              "      </button>\n",
              "\n",
              "<style>\n",
              "  .colab-df-quickchart {\n",
              "      --bg-color: #E8F0FE;\n",
              "      --fill-color: #1967D2;\n",
              "      --hover-bg-color: #E2EBFA;\n",
              "      --hover-fill-color: #174EA6;\n",
              "      --disabled-fill-color: #AAA;\n",
              "      --disabled-bg-color: #DDD;\n",
              "  }\n",
              "\n",
              "  [theme=dark] .colab-df-quickchart {\n",
              "      --bg-color: #3B4455;\n",
              "      --fill-color: #D2E3FC;\n",
              "      --hover-bg-color: #434B5C;\n",
              "      --hover-fill-color: #FFFFFF;\n",
              "      --disabled-bg-color: #3B4455;\n",
              "      --disabled-fill-color: #666;\n",
              "  }\n",
              "\n",
              "  .colab-df-quickchart {\n",
              "    background-color: var(--bg-color);\n",
              "    border: none;\n",
              "    border-radius: 50%;\n",
              "    cursor: pointer;\n",
              "    display: none;\n",
              "    fill: var(--fill-color);\n",
              "    height: 32px;\n",
              "    padding: 0;\n",
              "    width: 32px;\n",
              "  }\n",
              "\n",
              "  .colab-df-quickchart:hover {\n",
              "    background-color: var(--hover-bg-color);\n",
              "    box-shadow: 0 1px 2px rgba(60, 64, 67, 0.3), 0 1px 3px 1px rgba(60, 64, 67, 0.15);\n",
              "    fill: var(--button-hover-fill-color);\n",
              "  }\n",
              "\n",
              "  .colab-df-quickchart-complete:disabled,\n",
              "  .colab-df-quickchart-complete:disabled:hover {\n",
              "    background-color: var(--disabled-bg-color);\n",
              "    fill: var(--disabled-fill-color);\n",
              "    box-shadow: none;\n",
              "  }\n",
              "\n",
              "  .colab-df-spinner {\n",
              "    border: 2px solid var(--fill-color);\n",
              "    border-color: transparent;\n",
              "    border-bottom-color: var(--fill-color);\n",
              "    animation:\n",
              "      spin 1s steps(1) infinite;\n",
              "  }\n",
              "\n",
              "  @keyframes spin {\n",
              "    0% {\n",
              "      border-color: transparent;\n",
              "      border-bottom-color: var(--fill-color);\n",
              "      border-left-color: var(--fill-color);\n",
              "    }\n",
              "    20% {\n",
              "      border-color: transparent;\n",
              "      border-left-color: var(--fill-color);\n",
              "      border-top-color: var(--fill-color);\n",
              "    }\n",
              "    30% {\n",
              "      border-color: transparent;\n",
              "      border-left-color: var(--fill-color);\n",
              "      border-top-color: var(--fill-color);\n",
              "      border-right-color: var(--fill-color);\n",
              "    }\n",
              "    40% {\n",
              "      border-color: transparent;\n",
              "      border-right-color: var(--fill-color);\n",
              "      border-top-color: var(--fill-color);\n",
              "    }\n",
              "    60% {\n",
              "      border-color: transparent;\n",
              "      border-right-color: var(--fill-color);\n",
              "    }\n",
              "    80% {\n",
              "      border-color: transparent;\n",
              "      border-right-color: var(--fill-color);\n",
              "      border-bottom-color: var(--fill-color);\n",
              "    }\n",
              "    90% {\n",
              "      border-color: transparent;\n",
              "      border-bottom-color: var(--fill-color);\n",
              "    }\n",
              "  }\n",
              "</style>\n",
              "\n",
              "      <script>\n",
              "        async function quickchart(key) {\n",
              "          const quickchartButtonEl =\n",
              "            document.querySelector('#' + key + ' button');\n",
              "          quickchartButtonEl.disabled = true;  // To prevent multiple clicks.\n",
              "          quickchartButtonEl.classList.add('colab-df-spinner');\n",
              "          try {\n",
              "            const charts = await google.colab.kernel.invokeFunction(\n",
              "                'suggestCharts', [key], {});\n",
              "          } catch (error) {\n",
              "            console.error('Error during call to suggestCharts:', error);\n",
              "          }\n",
              "          quickchartButtonEl.classList.remove('colab-df-spinner');\n",
              "          quickchartButtonEl.classList.add('colab-df-quickchart-complete');\n",
              "        }\n",
              "        (() => {\n",
              "          let quickchartButtonEl =\n",
              "            document.querySelector('#df-e4d2a04c-d7e1-451b-a1ba-64a8547e3ab6 button');\n",
              "          quickchartButtonEl.style.display =\n",
              "            google.colab.kernel.accessAllowed ? 'block' : 'none';\n",
              "        })();\n",
              "      </script>\n",
              "    </div>\n",
              "\n",
              "  <div id=\"id_4c30a0d2-0561-442e-be31-a03db3a4906d\">\n",
              "    <style>\n",
              "      .colab-df-generate {\n",
              "        background-color: #E8F0FE;\n",
              "        border: none;\n",
              "        border-radius: 50%;\n",
              "        cursor: pointer;\n",
              "        display: none;\n",
              "        fill: #1967D2;\n",
              "        height: 32px;\n",
              "        padding: 0 0 0 0;\n",
              "        width: 32px;\n",
              "      }\n",
              "\n",
              "      .colab-df-generate:hover {\n",
              "        background-color: #E2EBFA;\n",
              "        box-shadow: 0px 1px 2px rgba(60, 64, 67, 0.3), 0px 1px 3px 1px rgba(60, 64, 67, 0.15);\n",
              "        fill: #174EA6;\n",
              "      }\n",
              "\n",
              "      [theme=dark] .colab-df-generate {\n",
              "        background-color: #3B4455;\n",
              "        fill: #D2E3FC;\n",
              "      }\n",
              "\n",
              "      [theme=dark] .colab-df-generate:hover {\n",
              "        background-color: #434B5C;\n",
              "        box-shadow: 0px 1px 3px 1px rgba(0, 0, 0, 0.15);\n",
              "        filter: drop-shadow(0px 1px 2px rgba(0, 0, 0, 0.3));\n",
              "        fill: #FFFFFF;\n",
              "      }\n",
              "    </style>\n",
              "    <button class=\"colab-df-generate\" onclick=\"generateWithVariable('df')\"\n",
              "            title=\"Generate code using this dataframe.\"\n",
              "            style=\"display:none;\">\n",
              "\n",
              "  <svg xmlns=\"http://www.w3.org/2000/svg\" height=\"24px\"viewBox=\"0 0 24 24\"\n",
              "       width=\"24px\">\n",
              "    <path d=\"M7,19H8.4L18.45,9,17,7.55,7,17.6ZM5,21V16.75L18.45,3.32a2,2,0,0,1,2.83,0l1.4,1.43a1.91,1.91,0,0,1,.58,1.4,1.91,1.91,0,0,1-.58,1.4L9.25,21ZM18.45,9,17,7.55Zm-12,3A5.31,5.31,0,0,0,4.9,8.1,5.31,5.31,0,0,0,1,6.5,5.31,5.31,0,0,0,4.9,4.9,5.31,5.31,0,0,0,6.5,1,5.31,5.31,0,0,0,8.1,4.9,5.31,5.31,0,0,0,12,6.5,5.46,5.46,0,0,0,6.5,12Z\"/>\n",
              "  </svg>\n",
              "    </button>\n",
              "    <script>\n",
              "      (() => {\n",
              "      const buttonEl =\n",
              "        document.querySelector('#id_4c30a0d2-0561-442e-be31-a03db3a4906d button.colab-df-generate');\n",
              "      buttonEl.style.display =\n",
              "        google.colab.kernel.accessAllowed ? 'block' : 'none';\n",
              "\n",
              "      buttonEl.onclick = () => {\n",
              "        google.colab.notebook.generateWithVariable('df');\n",
              "      }\n",
              "      })();\n",
              "    </script>\n",
              "  </div>\n",
              "\n",
              "    </div>\n",
              "  </div>\n"
            ],
            "application/vnd.google.colaboratory.intrinsic+json": {
              "type": "dataframe",
              "variable_name": "df",
              "summary": "{\n  \"name\": \"df\",\n  \"rows\": 3,\n  \"fields\": [\n    {\n      \"column\": \"image\",\n      \"properties\": {\n        \"dtype\": \"number\",\n        \"std\": 0,\n        \"min\": 0,\n        \"max\": 0,\n        \"num_unique_values\": 1,\n        \"samples\": [\n          0\n        ],\n        \"semantic_type\": \"\",\n        \"description\": \"\"\n      }\n    },\n    {\n      \"column\": \"pair\",\n      \"properties\": {\n        \"dtype\": \"string\",\n        \"num_unique_values\": 3,\n        \"samples\": [\n          \"tibia_femur\"\n        ],\n        \"semantic_type\": \"\",\n        \"description\": \"\"\n      }\n    },\n    {\n      \"column\": \"cos_last\",\n      \"properties\": {\n        \"dtype\": \"number\",\n        \"std\": 0.04272484373220361,\n        \"min\": 0.7949823141098022,\n        \"max\": 0.8732470273971558,\n        \"num_unique_values\": 3,\n        \"samples\": [\n          0.8732470273971558\n        ],\n        \"semantic_type\": \"\",\n        \"description\": \"\"\n      }\n    },\n    {\n      \"column\": \"cos_third\",\n      \"properties\": {\n        \"dtype\": \"number\",\n        \"std\": 0.0210542158190267,\n        \"min\": 0.7274843454360962,\n        \"max\": 0.7694128155708313,\n        \"num_unique_values\": 3,\n        \"samples\": [\n          0.75181645154953\n        ],\n        \"semantic_type\": \"\",\n        \"description\": \"\"\n      }\n    },\n    {\n      \"column\": \"cos_fifth\",\n      \"properties\": {\n        \"dtype\": \"number\",\n        \"std\": 0.1132774172832733,\n        \"min\": 0.4379091262817383,\n        \"max\": 0.6511961817741394,\n        \"num_unique_values\": 3,\n        \"samples\": [\n          0.4379091262817383\n        ],\n        \"semantic_type\": \"\",\n        \"description\": \"\"\n      }\n    }\n  ]\n}"
            }
          },
          "metadata": {},
          "execution_count": 54
        }
      ]
    },
    {
      "cell_type": "code",
      "source": [],
      "metadata": {
        "id": "MTVHBwTeJ0IB"
      },
      "execution_count": null,
      "outputs": []
    }
  ],
  "metadata": {
    "colab": {
      "provenance": [],
      "gpuType": "V28",
      "include_colab_link": true
    },
    "kernelspec": {
      "display_name": "Python 3",
      "name": "python3"
    },
    "language_info": {
      "name": "python"
    },
    "accelerator": "TPU",
    "widgets": {
      "application/vnd.jupyter.widget-state+json": {
        "1d8a53c83b0c4ab39277377ec42264ad": {
          "model_module": "@jupyter-widgets/controls",
          "model_name": "VBoxModel",
          "model_module_version": "1.5.0",
          "state": {
            "_dom_classes": [
              "widget-interact"
            ],
            "_model_module": "@jupyter-widgets/controls",
            "_model_module_version": "1.5.0",
            "_model_name": "VBoxModel",
            "_view_count": null,
            "_view_module": "@jupyter-widgets/controls",
            "_view_module_version": "1.5.0",
            "_view_name": "VBoxView",
            "box_style": "",
            "children": [
              "IPY_MODEL_5413270e820f4be88c3c272c29cdfd16",
              "IPY_MODEL_dc0048412c404649bbbb763ec00063e5"
            ],
            "layout": "IPY_MODEL_a811c7a5295b4669b1aa03a1be38e25d"
          }
        },
        "5413270e820f4be88c3c272c29cdfd16": {
          "model_module": "@jupyter-widgets/controls",
          "model_name": "IntSliderModel",
          "model_module_version": "1.5.0",
          "state": {
            "_dom_classes": [],
            "_model_module": "@jupyter-widgets/controls",
            "_model_module_version": "1.5.0",
            "_model_name": "IntSliderModel",
            "_view_count": null,
            "_view_module": "@jupyter-widgets/controls",
            "_view_module_version": "1.5.0",
            "_view_name": "IntSliderView",
            "continuous_update": true,
            "description": "Slice:",
            "description_tooltip": null,
            "disabled": false,
            "layout": "IPY_MODEL_daa4a195cab04b3fbb906d9a53468877",
            "max": 320,
            "min": 200,
            "orientation": "horizontal",
            "readout": true,
            "readout_format": "d",
            "step": 1,
            "style": "IPY_MODEL_22062dd866e44bfdba5dcc4dc0cdb397",
            "value": 286
          }
        },
        "dc0048412c404649bbbb763ec00063e5": {
          "model_module": "@jupyter-widgets/output",
          "model_name": "OutputModel",
          "model_module_version": "1.0.0",
          "state": {
            "_dom_classes": [],
            "_model_module": "@jupyter-widgets/output",
            "_model_module_version": "1.0.0",
            "_model_name": "OutputModel",
            "_view_count": null,
            "_view_module": "@jupyter-widgets/output",
            "_view_module_version": "1.0.0",
            "_view_name": "OutputView",
            "layout": "IPY_MODEL_6655de202fd54785b39ff9afe49754bb",
            "msg_id": "",
            "outputs": [
              {
                "output_type": "display_data",
                "data": {
                  "text/plain": "<Figure size 2000x500 with 2 Axes>",
                  "image/png": "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\n"
                },
                "metadata": {}
              }
            ]
          }
        },
        "a811c7a5295b4669b1aa03a1be38e25d": {
          "model_module": "@jupyter-widgets/base",
          "model_name": "LayoutModel",
          "model_module_version": "1.2.0",
          "state": {
            "_model_module": "@jupyter-widgets/base",
            "_model_module_version": "1.2.0",
            "_model_name": "LayoutModel",
            "_view_count": null,
            "_view_module": "@jupyter-widgets/base",
            "_view_module_version": "1.2.0",
            "_view_name": "LayoutView",
            "align_content": null,
            "align_items": null,
            "align_self": null,
            "border": null,
            "bottom": null,
            "display": null,
            "flex": null,
            "flex_flow": null,
            "grid_area": null,
            "grid_auto_columns": null,
            "grid_auto_flow": null,
            "grid_auto_rows": null,
            "grid_column": null,
            "grid_gap": null,
            "grid_row": null,
            "grid_template_areas": null,
            "grid_template_columns": null,
            "grid_template_rows": null,
            "height": null,
            "justify_content": null,
            "justify_items": null,
            "left": null,
            "margin": null,
            "max_height": null,
            "max_width": null,
            "min_height": null,
            "min_width": null,
            "object_fit": null,
            "object_position": null,
            "order": null,
            "overflow": null,
            "overflow_x": null,
            "overflow_y": null,
            "padding": null,
            "right": null,
            "top": null,
            "visibility": null,
            "width": null
          }
        },
        "daa4a195cab04b3fbb906d9a53468877": {
          "model_module": "@jupyter-widgets/base",
          "model_name": "LayoutModel",
          "model_module_version": "1.2.0",
          "state": {
            "_model_module": "@jupyter-widgets/base",
            "_model_module_version": "1.2.0",
            "_model_name": "LayoutModel",
            "_view_count": null,
            "_view_module": "@jupyter-widgets/base",
            "_view_module_version": "1.2.0",
            "_view_name": "LayoutView",
            "align_content": null,
            "align_items": null,
            "align_self": null,
            "border": null,
            "bottom": null,
            "display": null,
            "flex": null,
            "flex_flow": null,
            "grid_area": null,
            "grid_auto_columns": null,
            "grid_auto_flow": null,
            "grid_auto_rows": null,
            "grid_column": null,
            "grid_gap": null,
            "grid_row": null,
            "grid_template_areas": null,
            "grid_template_columns": null,
            "grid_template_rows": null,
            "height": null,
            "justify_content": null,
            "justify_items": null,
            "left": null,
            "margin": null,
            "max_height": null,
            "max_width": null,
            "min_height": null,
            "min_width": null,
            "object_fit": null,
            "object_position": null,
            "order": null,
            "overflow": null,
            "overflow_x": null,
            "overflow_y": null,
            "padding": null,
            "right": null,
            "top": null,
            "visibility": null,
            "width": null
          }
        },
        "22062dd866e44bfdba5dcc4dc0cdb397": {
          "model_module": "@jupyter-widgets/controls",
          "model_name": "SliderStyleModel",
          "model_module_version": "1.5.0",
          "state": {
            "_model_module": "@jupyter-widgets/controls",
            "_model_module_version": "1.5.0",
            "_model_name": "SliderStyleModel",
            "_view_count": null,
            "_view_module": "@jupyter-widgets/base",
            "_view_module_version": "1.2.0",
            "_view_name": "StyleView",
            "description_width": "",
            "handle_color": null
          }
        },
        "6655de202fd54785b39ff9afe49754bb": {
          "model_module": "@jupyter-widgets/base",
          "model_name": "LayoutModel",
          "model_module_version": "1.2.0",
          "state": {
            "_model_module": "@jupyter-widgets/base",
            "_model_module_version": "1.2.0",
            "_model_name": "LayoutModel",
            "_view_count": null,
            "_view_module": "@jupyter-widgets/base",
            "_view_module_version": "1.2.0",
            "_view_name": "LayoutView",
            "align_content": null,
            "align_items": null,
            "align_self": null,
            "border": null,
            "bottom": null,
            "display": null,
            "flex": null,
            "flex_flow": null,
            "grid_area": null,
            "grid_auto_columns": null,
            "grid_auto_flow": null,
            "grid_auto_rows": null,
            "grid_column": null,
            "grid_gap": null,
            "grid_row": null,
            "grid_template_areas": null,
            "grid_template_columns": null,
            "grid_template_rows": null,
            "height": null,
            "justify_content": null,
            "justify_items": null,
            "left": null,
            "margin": null,
            "max_height": null,
            "max_width": null,
            "min_height": null,
            "min_width": null,
            "object_fit": null,
            "object_position": null,
            "order": null,
            "overflow": null,
            "overflow_x": null,
            "overflow_y": null,
            "padding": null,
            "right": null,
            "top": null,
            "visibility": null,
            "width": null
          }
        },
        "37e4b17b49aa405ebc5b9461b1e130a6": {
          "model_module": "@jupyter-widgets/controls",
          "model_name": "VBoxModel",
          "model_module_version": "1.5.0",
          "state": {
            "_dom_classes": [
              "widget-interact"
            ],
            "_model_module": "@jupyter-widgets/controls",
            "_model_module_version": "1.5.0",
            "_model_name": "VBoxModel",
            "_view_count": null,
            "_view_module": "@jupyter-widgets/controls",
            "_view_module_version": "1.5.0",
            "_view_name": "VBoxView",
            "box_style": "",
            "children": [
              "IPY_MODEL_0dc401539c394633ab2377e9ba6e5062",
              "IPY_MODEL_4a979f7a36f34c4381184a3fa4e81c15"
            ],
            "layout": "IPY_MODEL_f4619e1c9cbb4c9a8354650df6ad1159"
          }
        },
        "0dc401539c394633ab2377e9ba6e5062": {
          "model_module": "@jupyter-widgets/controls",
          "model_name": "IntSliderModel",
          "model_module_version": "1.5.0",
          "state": {
            "_dom_classes": [],
            "_model_module": "@jupyter-widgets/controls",
            "_model_module_version": "1.5.0",
            "_model_name": "IntSliderModel",
            "_view_count": null,
            "_view_module": "@jupyter-widgets/controls",
            "_view_module_version": "1.5.0",
            "_view_name": "IntSliderView",
            "continuous_update": true,
            "description": "Slice:",
            "description_tooltip": null,
            "disabled": false,
            "layout": "IPY_MODEL_16a0a490d4284e1580969e5a5db9818f",
            "max": 320,
            "min": 200,
            "orientation": "horizontal",
            "readout": true,
            "readout_format": "d",
            "step": 1,
            "style": "IPY_MODEL_74fdad86555d45a7bfd8fcd4720238e3",
            "value": 260
          }
        },
        "4a979f7a36f34c4381184a3fa4e81c15": {
          "model_module": "@jupyter-widgets/output",
          "model_name": "OutputModel",
          "model_module_version": "1.0.0",
          "state": {
            "_dom_classes": [],
            "_model_module": "@jupyter-widgets/output",
            "_model_module_version": "1.0.0",
            "_model_name": "OutputModel",
            "_view_count": null,
            "_view_module": "@jupyter-widgets/output",
            "_view_module_version": "1.0.0",
            "_view_name": "OutputView",
            "layout": "IPY_MODEL_cbe47bc5495f4d6599d294bc3839b887",
            "msg_id": "",
            "outputs": [
              {
                "output_type": "display_data",
                "data": {
                  "text/plain": "<Figure size 2000x500 with 2 Axes>",
                  "image/png": "iVBORw0KGgoAAAANSUhEUgAABZ0AAAHDCAYAAABPgrSnAAAAOnRFWHRTb2Z0d2FyZQBNYXRwbG90bGliIHZlcnNpb24zLjEwLjAsIGh0dHBzOi8vbWF0cGxvdGxpYi5vcmcvlHJYcgAAAAlwSFlzAAAPYQAAD2EBqD+naQAAyf9JREFUeJzs3Xl8VdW9Pv5n7zNmHoAkBMIgKoIDKFrEqaJUQK+tldaiOFS90tuCVum3er11QGrrWMdauXZQW+W2t79WnK5UFFtsRQQsdUIEZYYAEkLGM+79+2ONh3MSEhIEwvN+vfLKydrrrL32PulJXefhsxzf930QEREREREREREREXUDd39PgIiIiIiIiIiIiIh6Di46ExEREREREREREVG34aIzEREREREREREREXUbLjoTERERERERERERUbfhojMRERERERERERERdRsuOhMRERERERERERFRt+GiMxERERERERERERF1Gy46ExEREREREREREVG34aIzEREREREREREREXUbLjoTERERUYc99dRTcBwHa9eu/ULPu3btWjiOg6eeekq3zZw5E47jfKHzICIiIiKiPeOiMxEREdFu1MKq/VVRUYGxY8filVde2d/T65BkMolHHnkEJ510EoqKilBYWIiTTjoJjzzyCJLJ5P6eXoYXX3wRX/7yl1FRUYH8/HwcdthhuOiiizBv3rz9PbUsH3/8MW688UaMHDkSRUVF6Nu3L8477zwsXbq0zef84Q9/wJgxY1BQUIDS0lKccsopWLBgQVa/X//61xg2bBii0SiOOOIIPProo/vyUoiIiIiI9hkuOhMRERG1YdasWfjd736H3/72t7jxxhuxfft2nHvuuXjppZf299Ta1dzcjK985Sv4/ve/j6qqKtx999247777UF1dje9///v4yle+gubm5v09TQDA/fffj69+9atwHAc333wzHnzwQUyaNAmrVq3C73//+3afe8stt6C1tfULmqnwq1/9Cr/85S9x4okn4mc/+xlmzJiBlStX4uSTT8Zrr72W1X/mzJm4+OKLUVNTgwceeAB33nknjjvuOGzatCmj33//93/j3//933H00Ufj0UcfxZgxY3Ddddfhnnvu+aIujYiIiIio2zi+7/v7exJEREREB5KnnnoKV155JZYsWYITTzxRt+/cuROVlZX45je/iWeffXY/zrB93/nOd/DEE0/g0UcfxfTp0zOOPfbYY5g+fTr+4z/+A48//ninx1b3Zs2aNRg0aFCX5plKpdCrVy+MHj0ar776atbxbdu2oaKiAoAorzF48GA8+eST+Pa3v92l83bFsmXLMHToUBQWFuq2HTt2YNiwYTjyyCPx97//Xbe//fbbOOWUU/Czn/0MN9xwQ5tjtra2oqamBieffHLGBxqXXnop5s6diw0bNqCsrGzfXBARERER0T7ApDMRERFRB5WWliIvLw/BYDCjvbm5GT/4wQ9QU1ODSCSCoUOH4v7778fun+07joPp06dj7ty5OOaYYxCJRHD00UfnLCOxadMmXHXVVaisrNT9fvOb3+xxjhs3bsSvf/1rnHXWWVkLzgAwbdo0jB07Fr/61a+wcePGvZqb7YorrkDv3r1zluw455xzMHTo0Daf+/nnn6OhoQGnnnpqzuNqwbktbdV0fuaZZ/ClL30J+fn5KCsrwxlnnJG1qP3KK6/g9NNPR0FBAYqKinDeeefhww8/bPd8ADBq1KiMBWcA6NWrF04//XSsWLEio/2hhx5CVVUVvv/978P3fTQ1NeUc84033sCOHTvwve99L6N92rRpaG5uxssvv7zHeRERERERHUi46ExERETUhl27duHzzz/H9u3b8eGHH+K73/0umpqacOmll+o+vu/jq1/9Kh588EFMmDABDzzwAIYOHYof/vCHmDFjRtaYf//73/G9730PkydPxr333otYLIZJkyZhx44dus/WrVt1uYbp06fj4YcfxuGHH46rr74aDz30ULtzfuWVV5BOp3H55Ze32efyyy9HKpXKWlDuyNx2d9lll2HHjh34y1/+ktFeW1uLBQsWZNyr3VVUVCAvLw8vvvgi6urq2r2ujrrjjjtw2WWXIRQKYdasWbjjjjtQU1OTUUP5d7/7Hc477zwUFhbinnvuwa233oqPPvoIp5122l5vkFhbW4vevXtntL3++uu6jnafPn10Deif//znGf3++c9/AkBGqh4QC9yu6+rjREREREQHDZ+IiIiIMjz55JM+gKyvSCTiP/XUUxl9586d6wPw77zzzoz2b3zjG77jOP7q1at1GwA/HA5ntP3rX//yAfiPPvqobrv66qv9vn37+p9//nnGmJMnT/ZLSkr8lpaWNud+/fXX+wD8f/7zn232effdd30A/owZMzo9N3Vv1qxZ4/u+76fTab9///7+t771rYxzPPDAA77jOP5nn33W5jx83/dvu+02H4BfUFDgT5w40f/JT37iL1u2LKvfmjVrfAD+k08+qdtuv/123/6/s6tWrfJd1/W//vWv++l0OuP5nuf5vu/7jY2NfmlpqX/NNddkHK+trfVLSkqy2jti4cKFvuM4/q233qrb6urqfAB+r169/MLCQv++++7z//CHP/gTJkzwAfizZ8/WfadNm+YHAoGcY/fp08efPHlyp+dERERERLQ/MelMRERE1IbHHnsM8+fPx/z58/HMM89g7Nix+Pd//3f8+c9/1n3+7//+D4FAANddd13Gc3/wgx/A93288sorGe3jxo3DkCFD9M/HHXcciouL8dlnnwEQyek//elPOP/88+H7Pj7//HP9NX78eOzatQvvvvtum3NubGwEABQVFbXZRx1raGjo1NxycV0XU6ZMwQsvvKDPDQDPPvssTjnlFAwePLjN5wIimTxnzhwcf/zx+Mtf/oIf/ehHGDVqFE444YSschV7MnfuXHieh9tuuw2um/l/c1UZjvnz56O+vh4XX3xxxr0NBAIYPXo03njjjU6dc9u2bbjkkkswePBg3HjjjbpdldLYsWMHfvWrX+H//b//h4suuggvv/wyhg8fjjvvvFP3bW1tRTgczjl+NBr9wjdLJCIiIiLqKi46ExEREbXhS1/6EsaNG4dx48ZhypQpesFw+vTpSCQSAIB169ahuro6a5F32LBh+rhtwIABWecpKyvDzp07AQDbt29HfX09nnjiCfTp0yfj68orrwQgFjrbouZhLwDvrq2F6T3NrS2XX345Wltb8dxzzwEAVq5ciWXLluGyyy5r93nKxRdfjDfffBM7d+7Eq6++iksuuQT//Oc/cf755yMWi3VoDAD49NNP4bouhg8f3mafVatWAQDOOuusrPv76quvtntvd9fc3Ix/+7d/Q2NjI55//vmMWs95eXkAgFAohG984xu63XVdfOtb38LGjRuxfv163Vf9Pu0uFovpsYiIiIiIDhbBPXchIiIiIkAsGI4dOxYPP/wwVq1ahaOPPrrTYwQCgZztvtx00PM8AMCll16KK664Imff4447rs3x1WL3e++9h5EjR+bs89577wFA1uLsnubWluHDh2PUqFF45plncPnll+OZZ55BOBzGRRdd1O7zdldcXIyvfOUr+MpXvoJQKISnn34aixcvxpe//OVOjdMedX9/97vfoaqqKuv47ptEtiWRSODCCy/Ee++9h7/85S845phjMo6Xl5cjGo2itLQ0676qDRJ37tyJAQMGoG/fvkin09i2bVvG5omJRAI7duxAdXV1p66RiIiIiGh/46IzERERUSekUikApnzCwIED8dprr6GxsTEjOfzxxx/r452hNpxLp9MYN25cp+c3ceJEBAIB/O53v2tzM8Hf/va3CAaDmDBhQqfHb8vll1+OGTNmYMuWLZgzZw7OO+88lJWV7fV4J554Ip5++mls2bKlw88ZMmQIPM/DRx991OaCuyofUlFRsVf3FxAL15dffjlef/11/O///m/ORXHXdTFy5EgsWbIEiUQio3zG5s2bAYjXGoCe69KlS3HuuefqfkuXLoXneW1eCxERERHRgYrlNYiIiIg6KJlM4tVXX0U4HNaJ4nPPPRfpdBo///nPM/o++OCDcBwHEydO7NQ5AoEAJk2ahD/96U/44IMPso5v37693efX1NTgyiuvxGuvvYbHH3886/js2bOxYMECXH311ejfv3+n5taeiy++GI7j4Pvf/z4+++wzXHrppXt8TktLCxYtWpTzmKqFPXTo0A7P4YILLoDrupg1a5ZONCsqrT1+/HgUFxfjpz/9KZLJZNYYe7q/AHDttdfiD3/4A37xi1/gwgsvbLPft771LaTTaTz99NO6LRaL4dlnn8Xw4cN1gvmss85CeXl51uv1+OOPIz8/H+edd94e50REREREdCBh0pmIiIioDa+88opOLG/btg1z5szBqlWr8J//+Z8oLi4GAJx//vkYO3YsfvSjH2Ht2rUYMWIEXn31VTz//PO4/vrrMzbm66i7774bb7zxBkaPHo1rrrkGw4cPR11dHd5991289tprqKura/f5Dz74ID7++GN873vfw7x583Si+S9/+Quef/55fPnLX8bPfvazTs+rPX369MGECRPwxz/+EaWlpR1aKG1pacEpp5yCk08+GRMmTEBNTQ3q6+sxd+5cvPnmm7jgggtw/PHHd3gOhx9+OH70ox/hxz/+MU4//XRceOGFiEQiWLJkCaqrq3HXXXehuLgYjz/+OC677DKccMIJmDx5Mvr06YP169fj5Zdfxqmnnpr1AYLtoYcewi9+8QuMGTMG+fn5eOaZZzKOf/3rX0dBQQEA4Dvf+Q5+9atfYdq0afjkk08wYMAA/O53v8O6devw4osv6ufk5eXhxz/+MaZNm4ZvfvObGD9+PN58800888wz+MlPfoLy8vIO3wMiIiIiogMBF52JiIiI2nDbbbfpx9FoFEcddRQef/xxfOc739HtruvihRdewG233YY//OEPePLJJzFo0CDcd999+MEPfrBX562srMQ777yDWbNm4c9//jN+8YtfoFevXjj66KNxzz337PH5hYWFeP311/GLX/wCzzzzDH74wx/C930cddRReOihh/C9730PoVBor+bWnssvvxwvvfQSLrroIkQikT32Ly0txS9/+Uu8/PLLePLJJ1FbW4tAIIChQ4fivvvuw3XXXdfpOcyaNQuDBw/Go48+ih/96EfIz8/Hcccdl7Gp4SWXXILq6mrcfffduO+++xCPx9GvXz+cfvrperPGtixfvhwAsGjRopwp7TVr1uhF57y8PCxYsAA33ngjfvOb36C5uRkjR47Eyy+/jPHjx2c8T70mP/vZz/DCCy+gpqYGDz74IL7//e93+h4QEREREe1vjr+nnWGIiIiIiDrg+eefxwUXXICFCxfi9NNP39/TISIiIiKi/YSLzkRERETULf7t3/4NK1aswOrVq+E4zv6eDhERERER7Scsr0FEREREXfL73/8e7733Hl5++WU8/PDDXHAmIiIiIjrEMelMRERERF3iOA4KCwvxrW99C7Nnz0YwyFwDEREREdGhjP9FQERERERdwgwDERERERHZ3P09ASIiIiIiIiIiIiLqObjoTERERERERERERETd5qAsr+F5HjZv3oyioiJuVENERERERERERNRJvu+jsbER1dXVcF3mUjsjFoshkUh0y1jhcBjRaLRbxjqQHJSLzps3b0ZNTc3+ngYREREREREREdFBbcOGDejfv//+nsZBIxaLYfDAQtRuS3fLeFVVVVizZk2PW3g+KBedi4qKAACn4VwEEdrPsyGi/SHYr292o9rIKhjIPpb2xHfXyW6z/sVE4/H9AAC1F4hPLK8f+bo+NiD0uejj5em2xU1DAAD/t/Jo3Rb9QBzv/2qdOM1Hq/Z0OURERERERERfqBSS+Dv+T6+zUcckEgnUbktj3bJBKC7qWkK8odHDwFFrkUgkuOh8IFAlNYIIIehw0ZnokLT58051D/arFg98q9GRP1j/jCiCiGwLi+75BfpYUVQsIpc6rbotv2gtAGBHoI9ue6flCPHcinJx7hV8nyIiIiIiIqIDjPxPYpau3TuFRQ4Ki7p27zz03Ht/UC46ExEREREREREREe0vad9D2t9zvz2N0VNx0ZmIDgmpTZsBAMH+/TrUX73vh5yUbusVaM7q18ttAQCc2/s93fbRwEoAQKx3MQAgv/PTJSIiIiIiIiI6aHHRmYiIiIiIiIiIiKgTPPjw0LWoc1effyDjojMRHbJypp/lv41x4qLOc6NnCvnHfPGWGXLsf/4iHpcHmnTLUb23AQBW9ykFwKQzERERERERUU/jwUNXi2N0fYQDFxedieigFqzua36Qmx+oxWTA2kBQbYzgtl+k301lfsro+WaTwQInCQBIW4X+A/JTyag8BgBHFdUCAP5VfSQAoOqIIfpYatWn7Z6fiIiIiIiIiOhgx0VnIiIiIiIiIiIiok5I+z7SftfKY3T1+QcyLjoT0QEv5+Z/KrGctv4pikwzBwf0N21e22/gOgWdI/3spB15yIyvymq4VtI5KZPQ9iaDw/JE0jp9eCsAINGvxEx7VZvTISIiIiIiIqKDBGs6t8/dcxciIiIiIiIiIiIi2p8WLlyI888/H9XV1XAcB3Pnzs3qs2LFCnz1q19FSUkJCgoKcNJJJ2H9+vX6eCwWw7Rp09CrVy8UFhZi0qRJ2Lp1a8YY69evx3nnnYf8/HxUVFTghz/8IVKpVKfmykVnIjp4BFzz5QbEl+OYL98XXx2lnpf29JcXdOAFHTgp8bUnabhIw0XSD+ivfsGd6BfciZo+dajpU4d4WUh/EREREREREdHBz4OPdBe/Opt0bm5uxogRI/DYY4/lPP7pp5/itNNOw1FHHYW//vWveO+993DrrbciGo3qPjfccANefPFF/PGPf8Tf/vY3bN68GRdeeKE+nk6ncd555yGRSOCtt97C008/jaeeegq33XZbp+bK8hpEREREREREREREnbA/ymtMnDgREydObPP4j370I5x77rm49957dduQIUP04127duHXv/415syZg7POOgsA8OSTT2LYsGF4++23cfLJJ+PVV1/FRx99hNdeew2VlZUYOXIkfvzjH+Omm27CzJkzEQ6HOzRXJp2J6ICX2rgJqY2bMhLJmueZL8VOP+/O882XSkbbCWrJTThwEw4839VfZghHf4WRRhhpuI6vv4rcGIrcGEaUb8KI8k1o7BfQX0RERERERERE3c3zPLz88ss48sgjMX78eFRUVGD06NEZJTiWLVuGZDKJcePG6bajjjoKAwYMwKJFiwAAixYtwrHHHovKykrdZ/z48WhoaMCHH37Y4flw0ZmIiIiIiIiIiIioE9K+3y1fANDQ0JDxFY/HOz2fbdu2oampCXfffTcmTJiAV199FV//+tdx4YUX4m9/+xsAoLa2FuFwGKWlpRnPraysRG1tre5jLzir4+pYR7G8BhEdNFIbN+nHwf79RNvmLVn91DEAOgGt+gX7VWePu36jfhwa2AcA4Hii/nLaSjgH5D97qfdNbeYCJwkACCOt26KOeHxC4ToAwIuHnaSPVbRxbURERERERER08PDkV1fHAICampqM9ttvvx0zZ87s3Fhy/eNrX/sabrjhBgDAyJEj8dZbb2H27Nn48pe/3MXZdg4XnYnooGQvQHfkWLC6r3hgl9zIsemgkxJv0qFm8fPGWJk+li4Rz406ZsfWNERb0jelM0KOGKNPsAEA0Puoz/Ux94SjAQDeux3/JylERERERERE1HNt2LABxcXF+udIJNLpMXr37o1gMIjhw4dntA8bNgx///vfAQBVVVVIJBKor6/PSDtv3boVVVVVus8777yTMcbWrVv1sY5ieQ0iIiIiIiIiIiKiTkjD75YvACguLs742ptF53A4jJNOOgkrV67MaP/kk08wcOBAAMCoUaMQCoXw+uuv6+MrV67E+vXrMWbMGADAmDFj8P7772Pbtm26z/z581FcXJy1oN0eJp2J6ICQs+zFps2ZfVRaGbnLarTLlZ+xBa23PV8kkoOHDdJNaU+84QdbxM87EgX6WMhRyWhTSkMlnQPWjrNJWZKjT6AJAHBW9Sf62MIh4k284N3OTZ+IiIiIiIiIDhxpX3x1dYzOaGpqwurVq/XPa9aswfLly1FeXo4BAwbghz/8Ib71rW/hjDPOwNixYzFv3jy8+OKL+Otf/woAKCkpwdVXX40ZM2agvLwcxcXFuPbaazFmzBicfPLJAIBzzjkHw4cPx2WXXYZ7770XtbW1uOWWWzBt2rROLYZz0ZmIiIiIiIiIiIjoALd06VKMHTtW/zxjxgwAwBVXXIGnnnoKX//61zF79mzcdddduO666zB06FD86U9/wmmnnaaf8+CDD8J1XUyaNAnxeBzjx4/HL37xC308EAjgpZdewne/+12MGTMGBQUFuOKKKzBr1qxOzdXx/RxFTQ9wDQ0NKCkpwZn4GoJOaM9PIKJDnk5SB6yqQunskv+pAWIjwW0nioRz9aS1+ti9g/8EAPB8J+t5tgQCGT9vSJq60Lc+cbkY9763OjZxIiIiIiIion0g5SfxVzyPXbt2ZdQTpvapdcnlH1WgqKhrlYsbGz2MHL6tR74GTDoTERERERERERERdYIHR5fc7MoYPRUXnYmoy1St5U7XWe7Gc9vseeRMOCuOfHO3/sGHFxYp5bgMJ1flNZhjMuHsOtn/QKTFM//qIuaLxy5EkrpXoFkfS5S2dSVERERERERERD0DF52JqMv2x2Jze+fO2HBQbkao2xwn65jNGyYWqZOFcgfZYEwfi/niLTPfSeq2qCMWlhutTyfz3USb800PbAUAuKOOMedc9kGb/YmIiIiIiIjowOP54qurY/RUnSo8ctddd+Gkk05CUVERKioqcMEFF2DlypUZfWKxGKZNm4ZevXqhsLAQkyZNwtatWzP6rF+/Hueddx7y8/NRUVGBH/7wh0ilUl2/GiIiIiIiIiIiIqJ9LC3La3T1q6fqVNL5b3/7G6ZNm4aTTjoJqVQK//Vf/4VzzjkHH330EQoKxKZbN9xwA15++WX88Y9/RElJCaZPn44LL7wQ//jHPwAA6XQa5513HqqqqvDWW29hy5YtuPzyyxEKhfDTn/60+6+QiHqkzpb0UP2C/fuZMVTpjaDZ+C+eJz6LSxfI0hghUxojV1mNmN/2Z3eqHEfUMR+qDetfCwD4/KhBuq14WYcugYiIiIiIiIjooNCpRed58+Zl/PzUU0+hoqICy5YtwxlnnIFdu3bh17/+NebMmYOzzjoLAPDkk09i2LBhePvtt3HyySfj1VdfxUcffYTXXnsNlZWVGDlyJH784x/jpptuwsyZMxEOh7vv6oiIiIiIiIiIiIi6WXcklXty0rlT5TV2t2vXLgBAeXk5AGDZsmVIJpMYN26c7nPUUUdhwIABWLRoEQBg0aJFOPbYY1FZWan7jB8/Hg0NDfjwww+7Mh0iOoSkNm9pM+Wsju2+oWCwXzUQDJov3xdf4bD+ShS6SBS6QNQDoh6KAjH9FUYaYaSR9F395fmOTjQr6pjiOr7+OrZ0M44t3YzGGkd/Bav75twQkYiIiIiIiIgOTGo9oKtfPdVebyToeR6uv/56nHrqqTjmGLEhVm1tLcLhMEpLSzP6VlZWora2VvexF5zVcXUsl3g8jng8rn9uaGjY22kTERERERERERER0T6014vO06ZNwwcffIC///3v3TmfnO666y7ccccd+/w8RNSD+bIes7Vpqa7zfMQQ05YnPmV0I6Kf63hZQwVgajurfwpjt+3O/uRyQGQHACBWZcb1S4rEgw7WpyYiIiIiIiKi/YvlNdq3V+U1pk+fjpdeeglvvPEG+vfvr9urqqqQSCRQX1+f0X/r1q2oqqrSfbZu3Zp1XB3L5eabb8auXbv014YNG/Zm2kRERERERERERERdlobbLV89VaeuzPd9TJ8+Hc899xwWLFiAwYMHZxwfNWoUQqEQXn/9dd22cuVKrF+/HmPGjAEAjBkzBu+//z62bdum+8yfPx/FxcUYPnx4zvNGIhEUFxdnfBERdYau8azqOPsmmewHA/orlecglecgHE0hHE2hPNCkv+zazOorF/Vpp/pq8CL6a1B4OwaFtyNY3aK/Ur0LkOpd8EXdCiIiIiIiIiKifapT5TWmTZuGOXPm4Pnnn0dRUZGuwVxSUoK8vDyUlJTg6quvxowZM1BeXo7i4mJce+21GDNmDE4++WQAwDnnnIPhw4fjsssuw7333ova2lrccsstmDZtGiKRSPdfIRGRJbVpc3ZjwPxzFi8kvhfnxwAApYEWfSwqS20krXIZSX3MlO2o9/Iyhs93E2YMNAEAxgxYq9tWVYkP3LjsTERERERERHRw8LthI0CfGwkKjz/+OADgzDPPzGh/8skn8e1vfxsA8OCDD8J1XUyaNAnxeBzjx4/HL37xC903EAjgpZdewne/+12MGTMGBQUFuOKKKzBr1qyuXQkRERERERERERHRF4A1ndvXqUVn3297oywlGo3isccew2OPPdZmn4EDB+L//u//OnNqIqI9Clb3zW50xBu4SjgH+/czx+R7mhc2b4WefBgOmuSyPibfApO+qUzU6EUBZP6haPbEv9oIyGR01E/qYyEnDQD4t17LddvtQ44BwKQzEREREREREfUMnVp0JiIiIiIiIiIiIjrUpX0Xab9rGwGm95zvPWhx0ZmIeozU5i1tHlMp6NTGTVnHAmVF5gf5hh+UKeWwVau52c9+y4zJtoR1TCWc1R+fZj+sj5U6rQCAQaEduq212mtz3kRERERERER04PHgwEPXFp099NxV567dGSIiIiIiIiIiIiIiC5PORHRocNouzu9FTRI5LUo0o09eMwCgPNCijxXI1HPMD+i2fCcBAHBzfDpZ5May2tLys75i+TwACFSI9HNwyGDdlvp0TZvzJSIiIiIiIqL9ixsJto+LzkR0SFAbCeaSLgzpx4kSsXjcK9IEAAgjbfrJPwbNvunfIktnqA0CAVNWIwmxOB2yxghAlNIosv6dybH9RFmQXYNqTD8uOhMREREREREdsLqnpjPLaxARERERERERERER7RGTzkR0yEsUm7fCdKFIIldHdgEASlyzkWDcF0nnkGM2/lPlNVSqOeOx/MAy4JhPLps9kYxutsb9UplINf9h6OG6rc/re3kxRERERERERLTPiY0Eu1Yeo6vPP5Bx0ZmIiIiIiIiIiIioEzy4et+mvR+j55bX4KIzER2ygv37AQCSBeaPhFMkksv5gTgAIGxtQJiU38O+qdEcdsXjHV6+biuQ6eeoI56xp40BTslfDQD47+Fn6ba+hw0CAKQ+W9uhayEiIiIiIiIiOlBw0ZmIiIiIiIiIiIioE7iRYPu46ExEh668KIDMpHN+oUg49wk2AsjcbdXL8bcgIes3h2DSzwFZ8znhi2MtflgfK3JjAICY9YepT6AZAFA1ZIduazmyDwAgzKQzERERERER0QHHgwuP5TXa1LU7Q0RERERERERERERkYdKZiA5ZXn4EABAvNW3VJbsAAKWBFgBA0vrUMdcGAUmZWM74dFM+JeaHAAANXp4+VC7H9XxT5zksk9Ffqf5Ytz139BkAgL7zOn49RERERERERPTFSPsO0n77ezh1ZIyeiovORHTI8qPiLTBRYtqGl9QCAPoEGtp8XtQxpTTUJoFJ37yd7v7Pa9SGgqKfPGb9XQlBLDqfVrhSt/3umJMBAIFhR4rzrPik/YshIiIiIiIioi9MGm7OcFrnxmB5DSIiIiIiIiIiIiKiPWLSmYgOWcliscFfssTTbTXROgBAVaAVABCwIsn5sgxG3PrnLwH5qWTa6peUGwgqdtI5kONTzB1pUX6jT6BJt40YskEcO2oQACBvRYcuiYiIiIiIiIi+AJ7vwvO7uJGg33OTzlx0JiIiIiIiIiIiIuoEltdoHxedieiQlSiSieTShG6rDO7K6GP/AQg7Is0ccExbwhOP7XSzK5+jNhIMOCZJrRLRCc/0V/2iSOm2M3uJGs7/fewQAEDNcx2/LiIiIiIiIiKi/YmLzkRERERERERERESd4AFIW+U393aMnoqLzkR0SAn2q9aP4yXin8GUlLXotkGhzwGYRHI6x790iVp/U7wcf2BUsjksk8v2P7dJy3pPdvq51BX1o4sdk7genb8aAPDfxzWKhpNHmBO8/a9cl0ZEREREREREXxAPLrwultfo6vMPZD33yoiIiIiIiIiIiIjoC8ekMxEdWgrz9cN4mUgpVxc26rZiNw4ACMm6zPEcSeYWqy0BUZs530opqxRzCOmMnwEgJB/bCemYJ96Kw25at/UJxAAAY2rWAAD+NeI4fazX2+1eIRERERERERHtY2nf1f+auStj9FQ998qIiHJIlRXor9Y+QGsf4PiyjfqrTyCNPgGz+JuGo79cB1lfBU4SBU4SUTelv1RbaSCG0kBM/1zgJBFGGmGkEXVS+ivmh+RXUH8F4CMAH8MKajGsoBa7hvj6K3DMUASOGbof7yIRERERERHRoc2D0y1fnbFw4UKcf/75qK6uhuM4mDt3bpt9/+M//gOO4+Chhx7KaK+rq8OUKVNQXFyM0tJSXH311Whqasro89577+H0009HNBpFTU0N7r333k7NE+CiMxEREREREREREdEBr7m5GSNGjMBjjz3Wbr/nnnsOb7/9Nqqrq7OOTZkyBR9++CHmz5+Pl156CQsXLsTUqVP18YaGBpxzzjkYOHAgli1bhvvuuw8zZ87EE0880am5srwGER1S4n0i+nGyTxIAcGS0VrdFHPFZXMKXpTFgdhJUJTeS1ieR6nipa8prxHb75zEhJ3s/2pgf0I/VJ5sJq02NMTS6RYxxmPnUsfHIUgBA/ge5rpCIiIiIiIiI9rX9UV5j4sSJmDhxYrt9Nm3ahGuvvRZ/+ctfcN5552UcW7FiBebNm4clS5bgxBNPBAA8+uijOPfcc3H//fejuroazz77LBKJBH7zm98gHA7j6KOPxvLly/HAAw9kLE7vCZPORERERERERERERJ2QhtstX4BIF9tf8Xh8r+bkeR4uu+wy/PCHP8TRRx+ddXzRokUoLS3VC84AMG7cOLiui8WLF+s+Z5xxBsLhsO4zfvx4rFy5Ejt37uzwXJh0JqJDSqzMpImLe+8CAAwKb9dtLTLhvEtu7lfkpvQxlXC2k8xJ+TgKUwdaUZsFBhyTlk7LMdLWZ37qccwPWeOKPzA1wToAwKh+G/Sx5UcMBwCYLRGJiIiIiIiI6GBVU1OT8fPtt9+OmTNndnqce+65B8FgENddd13O47W1taioqMhoCwaDKC8vR21tre4zePDgjD6VlZX6WFlZWYfmwkVnIiIiIiIiIiIiok7wfEeHzboyBgBs2LABxcXFuj0SibT1lDYtW7YMDz/8MN599104Ttfm1R246ExEh4TgEUMAALEy88Z7VO9tAICqQFNWf5VIbrbqLCdz1FqK+dlvo6rOcwLiuWnrj5BKNef6w9ToRfXjXoFmAECBI5LWxxev18f+cdiRAADnS8fqNv+d97PGIyIiIiIiIqJ9w7PKY3RlDAAoLi7OWHTeG2+++Sa2bduGAQMG6LZ0Oo0f/OAHeOihh7B27VpUVVVh27ZtGc9LpVKoq6tDVVUVAKCqqgpbt27N6KN+Vn06govORHRISJcXAABaK03bUUXin47kWxv9JWUlDHsBWLE3+lPCjiirkblZYObGgfZmhNlFOICoIzY0tP9WqT9cIVmaoyZUp4/l9W4BALRUF5i2HOMSERERERER0aHhsssuw7hx4zLaxo8fj8suuwxXXnklAGDMmDGor6/HsmXLMGrUKADAggUL4HkeRo8erfv86Ec/QjKZRCgkyoDOnz8fQ4cO7XBpDYCLzkRERERERERERESd4vkuvBz/IrqzY3RGU1MTVq9erX9es2YNli9fjvLycgwYMAC9evXK6B8KhVBVVYWhQ4cCAIYNG4YJEybgmmuuwezZs5FMJjF9+nRMnjwZ1dXVAIBLLrkEd9xxB66++mrcdNNN+OCDD/Dwww/jwQcf7NRcuehMRIeEVKH4dC7R22wMODDyOQAgYFW68GQoud4T2/TFPLO5nyvTzEmrpEapLIPheibdHLU2HwQyS3CEZDLag0lNh2T+Oeoms+YdknM7zNrssCQ/BgCIlxbpNiadiYiIiIiIiL44aTi6NGdXxuiMpUuXYuzYsfrnGTNmAACuuOIKPPXUUx0a49lnn8X06dNx9tlnw3VdTJo0CY888og+XlJSgldffRXTpk3DqFGj0Lt3b9x2222YOnVqp+bKRWciIiIiIiIiIiKiA9yZZ54J3/f33FFau3ZtVlt5eTnmzJnT7vOOO+44vPnmm52dXgYuOhPRISFZIJLF4ZK4bqsM7hLHrPfr3f9hy9tNQ/RjlVIuDJgxqsM7AQDDI5t0W3i3ys0x661WpZ6jjklDq0827brQgd3qQvdyzTn75IuNDzfmVei2YHVfAEBq8xYQERERERER0b61P8prHEw6fWULFy7E+eefj+rqajiOg7lz52Ycdxwn59d9992n+wwaNCjr+N13393liyEiIiIiIiIiIiLa19IwJTb2/qvn6nTSubm5GSNGjMBVV12FCy+8MOv4li2ZKbtXXnkFV199NSZNmpTRPmvWLFxzzTX656KiIhAR7SvxEpF0rixr0G1VQfE46ZsaSjFf9PsoJgrof1DfVx/LD4qay6XhVt3W4oUBADWhHbotFBApZZVmDll/RkyFaEMlnO10cwC+HF/MzbXKPFXmNQIA1uRbg+SzqjMRERERERERHRg6veg8ceJETJw4sc3jVVVVGT8///zzGDt2LA477LCM9qKioqy+RERERERERERERAc6ltdo3z6t6bx161a8/PLLePrpp7OO3X333fjxj3+MAQMG4JJLLsENN9yAYDD3dOLxOOJxU8+0oaEhZz8iot2pWseJYhEVHlJYr4+pOsnNMt0MADs8Oz4MVOeb95vPYwUAgOXbqnXburwyAEDUTeq2viFxjmOjGwAAaeuPSFjWhbZ3qFWp5rBjiku78rFKOBdYSecTitYBABb0O063JapLRP/VICIiIiIiIqJ9LO27Gf+9v7dj9FT7dNH56aefRlFRUVYZjuuuuw4nnHACysvL8dZbb+Hmm2/Gli1b8MADD+Qc56677sIdd9yxL6dKRD1VNAIAaO0jfhyYX6cPqbf2qLWBX1IuQH/aIjbpW9NYro993igWnZvrzMJ0Y54oa/FXHKHb+uQ1AwCKKmLi54BZuA7IcxU4ZpHaXoDW05b9QnJBOuSYP0Rn5n8CAJg9pF63tVaIReeCrJGIiIiIiIiIiL5Y+3TR+Te/+Q2mTJmCaDSa0T5jxgz9+LjjjkM4HMZ3vvMd3HXXXYhEIlnj3HzzzRnPaWhoQE1Nzb6bOBEREREREREREVEbfDjwcoTIOjtGT7XPFp3ffPNNrFy5En/4wx/22Hf06NFIpVJYu3Ythg4dmnU8EonkXIwmItoTP09s9BfvLcpaHBmt1ceS8s09Zv1zlh1psampSjhvqDVJZ79JbAPoWNvLegkx/tpUb93W3Fu0LYoeDgA4PH+rPnZYeBsAoCC4M2uurlVew5MP5T6CaPZMGrtU1twY1nubblvVS5T5YNKZiIiIiIiIaN9jeY327bMr+/Wvf41Ro0ZhxIgRe+y7fPlyuK6LioqKfTUdIiIiIiIiIiIiIvoCdDrp3NTUhNWrzU5Va9aswfLly1FeXo4BAwYAEOUv/vjHP+JnP/tZ1vMXLVqExYsXY+zYsSgqKsKiRYtwww034NJLL0VZWVkXLoWIKFu6SNRcdkpEDeXSQLM+ptLESeuTxZgn0sz9C3YBAD7z++hjgUbRz4uYRHKoTrSlW8wY2z1RX3lBQtR5Xl1mUtAjSkvFOQs+1W01IZF6Dvhm3LQj0syqpnPcN//kpsgV5zqlzLwXvztQ/CuRyoGi9FBq3QYQERERERER0b7h+Q48v2vlMbr6/ANZpxedly5dirFjx+qfVa3lK664Ak899RQA4Pe//z1838fFF1+c9fxIJILf//73mDlzJuLxOAYPHowbbrgho2YzERERERERERER0YEqDRfpLhaR6OrzD2SdXnQ+88wz4VtpvFymTp2KqVOn5jx2wgkn4O233+7saYmI9kqyWCSXi0uaAAB9Ao36WMwPiD7yu2gT/VMy/ZxfFNfH4pvFpqhu0oyvnhraZX06KcdobhYHV+zM04ca+4v69ANqdui2IjcGAOhlpbCLHFHDOS3rTqetzQWSvjh2QnStbnOPFNeVHCBS1Q6TzkRERERERES0n+yzjQSJiA4EsV7ibe6wsjoAQNRNZfXZ4Znt99bGxKLtpiZRIqO53iwYR1vFd9/N/ucvkXrzONgqjidKxaJzOmY+uazNLwYAvFfWX7d5BaL/6fmrdFtInUJ+yGe2EQQCsvTGUeFW3falfusBAB8fNhwAUPpm1hSJiIiIiIiIqJuwvEb7uOhMRERERERERERE1AkeXHhdLI/R1ecfyLjoTEQ9WnOleAM/sXQdACCMdFafzUmziemyOrER3+adIumcvyqcPahVYchTh60PJ4Mt4ntKBqjt0hutbr44T1GNbkv1EYnomnCddRJRfqNIJrPtcLUrT1bomLmNLfsYALDoqKMBAL379zPjb9yUfQ1ERERERERERPsIF52JiIiIiIiIiIiIOiHtO0h3sTxGV59/IOOiMxH1OEEr5RsXJZoxOLIdABByTHVktZFgfTpft6l6SqmEOOZa75KqHLQ1BAKqrLLVpjYajOyU3+tNNDqdL8bfvr1Yty1Ji3P1jezK6ndsZGvui9zNSXlrAQDBI8SGgvGhVWaOTDoTERERERERdSvWdG5fzy0cQkRERERERERERERfOCadiajH8YsK9ONEuajhXBWsBwBErZjyjnSebEvqtp2tMvW8PSoHM+Om5CH7g8iwDCeHWkzHQEJ8V8lo9R0AHFlSOrIuotuaIqKx1TM1mrenRBJ6c6AZAFAeaNHH4r66hoRuqwqI85824DMAwNKhI/SxPq+DiIiIiIiIiLqR77vw/K7lef0uPv9A1nOvjIiIiIiIiIiIiIi+cEw6E1GP4+eF9ONAWRwA0C8gah2nYWLKMV/0+6ilWrfV7ygEAORvFf2CMTNuSiaWww2mLdQkEsZu2rQF4rJNJZ0TJgUdbhD1mxOmpDPSMfFW/GlTb90WlJHoooA1ASnqNMlHJrVd4oprGV/2PgDg9aOO1ceqjhkqzvPByqyxiIiIiIiIiKjz0nAy1hj2doyeiovORNTjeBHz1lZYIBZt3Rzv442eKKGxNWZWgAPbxOJtSFazCMRNf0cuIgetUhqqWoeTNm3BmCf7W7U51PjxgBzDavtcnHNFUaUZQw58dN5GAJklQEK65kf2RZ0U2QwAOPLYDbpt54gBAIDiD7K6ExEREREREdFe8PyubwToZS8b9Bgsr0FERERERERERERE3YZJZyLqcZJFprxGWV595jHrU8jV8SoAwIptFbotUi+Ou3KPPlUqAwC8gDjmhcwYnjxVsNWcI14s0syRhrQcK/ujy1CjeRzOF+PFNxTqtiWfHybGPU6M0avyLX2sSE4u7JhxY77o1ycgNiP89/5v6mM3nTgFAFD2r6G6jaU2iIiIiIiIiPae1w0bCXb1+QcyLjoTERERERERERERdYIHB14XazJ39fkHMi46E1GPkyoI6Mc1BWLXv4Csg9zim2MhuVlfy8583VbcLL47amNAK6SsUs1e2LS5stSyl7TaZO3nVER8YumEzCCRelGr2QuaPyyhteJ7S7OVoA6Kt+dF0SEAgIH5dfrYEeUi9Wx/Hpr0xbhRR1zfWXlb9bGjT1gDAKhdPli3lbK+MxERERERERHtI1x0JiIiIiIiIiIiIuqEtO8g3cWNBLv6/AMZF52JqMeJF5sMcEVEFE9WZZgTMEnnFhVZDnpZY7hpkU4ON5pjjqy11Fxl/VFQIWb774R8nI6IB9G6tD7kpWRdaCvpnL8lJubYHNVtzZVinv7HYo5LagboYxeXLlaT1G0FcrgWX8Ssi52IPnZp37cBADd9aaBu67VM1HdmbWciIiIiIiKizmNN5/b13CsjIiIiIiIiIiIioi8ck85E1OMkC0yKuCqyCwAQkvFjz/qnK64jU8xp05aWYWOvRbQlisxnc+oDSFWzGQACiew2lX4ONYvx3aSp6ZyWdZ5916rfHBap5kCrSVXnb5PjJsWxDTvK9LHflZ8CAPhy0QrddnR4u5ivL84VsSZ0UnQjAGDEsWt129ZjRX3nItZ2JiIiIiIiIuo0D07GGsPejtFTcdGZiHqcZIF5XBkUGwmGHFkawze7AK5p6QMAcBqtt0K5PuzI76pEBgCoNepgq+keiIuOnqnaofs5njgWakxY/UXHphpTSiOVJ9rCu0w/Nx3KGKt1eaE+9v+1Hi+u8xizIF7VaxEAoJcbBwDEYUpv9AvkAQC+UblUt90xQmxQWPbPI8w8Pl4FIiIiIiIiItozH06XF439HrzozPIaRERERERERERERNRtmHQmoh4j2L8fACBZZNr6yKSzJyPMSd9Ekj9t7AUACO0yn7+FmuX3FlMSQ4mVik8g0yYsjYAIFutkNGDKcJgG3zomxgjE7A0Ks6/FTYjjEfm99/um07ag2CRw85BS3VaXzgcA9AuYtLQScsRb/YSCDbrt0eNEOY7GYeW6Le/j7HkQERERERERUTbP74byGl18/oGMi85EREREREREREREneD5Lrys1Fnnx+ipuOhMRD1GauMmAIAXGaDbwo7YUM+VdZK2pYr1sc31JeKB9cGiLKWMoNzUL5AwCeOWiuDu3eGFxE/2ZoHROvHccIM4t9ooUPTzMsYHgEBM1F9OR81bsqoHrZLR4fqkPpa3TfTb0mIi3Z8mKgEAQ0M7sbsmLwYAKHRMRPuigcsAAE+cMEG3DflA1HlOrfo0awwiIiIiIiIioo7qucvpRERERERERERERPuAKq/R1a/OWLhwIc4//3xUV1fDcRzMnTtXH0smk7jppptw7LHHoqCgANXV1bj88suxefPmjDHq6uowZcoUFBcXo7S0FFdffTWampoy+rz33ns4/fTTEY1GUVNTg3vvvbfT94dJZyLqMYL9qgEA6ahJHZcHWjL6RF2TGG5tjAIAImlz3Jfviiq5nMzP/mwuZL0XqxLR6bD5Q+Gm5PllWlmlmwHAbRXnDwVM/9B2MWCiolC3qXS0m5LPtepCp/LE940beuu2xcWHAQBGRtcBAErduD6WcJKyzYxxYdF7AID/78QTdFvTElHjOsqkMxEREREREVG7PDjw0MWazp18fnNzM0aMGIGrrroKF154YcaxlpYWvPvuu7j11lsxYsQI7Ny5E9///vfx1a9+FUuXLtX9pkyZgi1btmD+/PlIJpO48sorMXXqVMyZMwcA0NDQgHPOOQfjxo3D7Nmz8f777+Oqq65CaWkppk6d2uG5ctGZiHoOR7xZ+0GzuBqGWFHe5Ynvq+OVpnuDeAsMtpoh1EaCXlCMFS82i86qX6jZLCKr8hdeKHs66ahYOA7EUrotWSoWuu2FaD/gZLWpx15InD+dZ96ui9el5RzNSZeW1wAAvlwqFt5HycVnAEjKnQrTMPelX0CsXN98xCu6bcZplwMAjvj0SNH/w0+yL4qIiIiIiIiI9ouJEydi4sSJOY+VlJRg/vz5GW0///nP8aUvfQnr16/HgAEDsGLFCsybNw9LlizBiSeeCAB49NFHce655+L+++9HdXU1nn32WSQSCfzmN79BOBzG0UcfjeXLl+OBBx7o1KIzy2sQERERERERERERdUJ3ltdoaGjI+IrH43s4e8fs2rULjuOgtLQUALBo0SKUlpbqBWcAGDduHFzXxeLFi3WfM844A+Gw2Rdq/PjxWLlyJXbuzN5Hqi1MOhNRzxGUb2n5pl5GkStSxukc/2TFLxD9nJT5/C3cKNLAsfLsz+TcRObmfoBJOHtWuQwnrcpqmGSxPqdMLiOVfSxY12x+SMukc5FIRjv1pn9ol7jORJEpx7F9o9hU8P2B/UUfx6Srj4uIDRaLHKuOiJzu+fmm/MiLZ4qSG0vWjwAAVDDpTERERERERJTT3tRkzjUGANTU1GS033777Zg5c2aXxo7FYrjppptw8cUXo7i4GABQW1uLioqKjH7BYBDl5eWora3VfQYPHpzRp7KyUh8rKyvr0Pm56ExERERERERERES0n2zYsEEvDANAJBLp0njJZBIXXXQRfN/H448/3tXp7RUuOhNRj+EXilRwXnFMt4Xkh471afF291FjtT7mNImay74Vag7ERaI4USgaPetdMtwozxMwbWpfQpVuFm0q6SySxX7QPCFUL/+JjGfVdA6Lkzj19bottUnsLhscerjoXmD+4PgBMbfILjNGXq04x2vrhwIA1vcuN/OuEPPIj27SbS1pUaB6ULBIt32vYgEA4MpzxCessQ2j9bHo84tBREREREREREJ3Jp2Li4szFp27Qi04r1u3DgsWLMgYt6qqCtu2bcvon0qlUFdXh6qqKt1n69atGX3Uz6pPR7CmMxEREREREREREVEndGdN5+6iFpxXrVqF1157Db169co4PmbMGNTX12PZsmW6bcGCBfA8D6NHj9Z9Fi5ciGQyqfvMnz8fQ4cO7XBpDYBJZyLqQfyIKLBcWtCq21QAud7LAwBsbC7Rx8L14nO3YI76/I4MEXthu1G2WUnnvHpZF9oq0ezL+s5uUgzixEx9ZTO+l9WGooKsJj8o5pguMBNRtZ8D5Sb9XLRBTODzcnF9y1vMMfVHLFFh/qgMCn0unueaOtKHy0T2XUc/BwD43rlX6GNHbB8pHry1PHveRERERERERLTPNTU1YfXq1frnNWvWYPny5SgvL0ffvn3xjW98A++++y5eeuklpNNpXae5vLwc4XAYw4YNw4QJE3DNNddg9uzZSCaTmD59OiZPnozqavEvwy+55BLccccduPrqq3HTTTfhgw8+wMMPP4wHH3ywU3PlojMRERERERERERFRJ/gAPHQtqezvuUuGpUuXYuzYsfrnGTNmAACuuOIKzJw5Ey+88AIAYOTIkRnPe+ONN3DmmWcCAJ599llMnz4dZ599NlzXxaRJk/DII4/oviUlJXj11Vcxbdo0jBo1Cr1798Ztt92GqVOndmqunV50XrhwIe677z4sW7YMW7ZswXPPPYcLLrhAH//2t7+Np59+OuM548ePx7x58/TPdXV1uPbaa/Hiiy/qi3v44YdRWFjY2ekQEWkqYVyR36TbVJ445osU9I5mkybOkyWKAlbS2a7XDAChJuuY/FvipHOc27X+0Pgy4SxrOrvNpsY0ZD1mP2RO5KSyU8/B6r7iwS6ZRC7L18fSJeJxeIeZeHiH+N7cV1xfPJmnjy1P9QcAbGo0Ke9vDPgnAKBX4D3dViQLVJ8U2QkA+M6pb+hjv/n8KwCAw3ccrttSK82nq0RERERERESHku6s6dxRZ555Jny/7aXq9o4p5eXlmDNnTrt9jjvuOLz55pudmtvuOr3o3NzcjBEjRuCqq67ChRdemLPPhAkT8OSTT+qfd99xccqUKdiyZQvmz5+PZDKJK6+8ElOnTt3jBRMRtSedJxaWK6ONui0p38A3JEQdo4adZvG2VH53rU0A1YKyKq9hbxAYyLFpYDriZvQHgHBcLjonZFmNlLVK7Yj5qM0DAcBJysXjtBkktXlLxrW51WZjQC8inhuqrTdtReK68reKuQWbzR+ueIvYYHHnxqhu+7MzEgCQ7G8Wv79avBwA0McV87i05J/62Mdni0Xw5VuP0W0VXHQmIiIiIiIiohw6veg8ceJETJw4sd0+kUikzd0MV6xYgXnz5mHJkiU48cQTAQCPPvoozj33XNx///26fggRERERERERERHRgWh/JJ0PJvukpvNf//pXVFRUoKysDGeddRbuvPNOvVviokWLUFpaqhecAWDcuHFwXReLFy/G17/+9X0xJSI6BCSLxVtan7BJOtd74l9afNwqkrpufUgfU6U00mHzJh+M+Rnf7fd/lXAOxNv/5yp+UD7JFSlohMxbrS9Tyr46BpN6dmJmZ9jduc2mlEZgh6z5kTYJaj8iLibU5Mu5mud6ITEfO439+Xt9AAC/2XmKbis7XpTyODP/EzGWde3fq1wAAPjBv5mdb+sbxgAASp9a1Oa8iYiIiIiIiHoiLjq3r9sXnSdMmIALL7wQgwcPxqeffor/+q//wsSJE7Fo0SIEAgHU1taioqIicxLBIMrLy/WOiruLx+OIx82CS0NDQ3dPm4iIiIiIiIiIiIi6QbcvOk+ePFk/PvbYY3HcccdhyJAh+Otf/4qzzz57r8a86667cMcdd3TXFImoh2rpLdK+FWHzwVSzHwYA1MuN9QLNJmGsUsHISDOL74F0dprZTeZIOMvnpqJmEN/Z8yeVjpVSduRGg6nP1rbd305Bx+SHcEVmU0Q/KJPOzWLcQMKq6Vwm3uqt24LwLnE8VWc2HPx59MsAgOhwuaFgnplPZUDM8a7D/6zb/vPiSQCA1l2jdVvec4vbvAYiIiIiIiKinoJJ5/a5e+7SNYcddhh69+6N1avFhlNVVVXYtm1bRp9UKoW6uro260DffPPN2LVrl/7asGHDvp42ERERERERERERUU6+73TLV0+1T2o62zZu3IgdO3agb19RT3XMmDGor6/HsmXLMGrUKADAggUL4HkeRo8enXOMSCSCSCSyr6dKRAe51j7izbomtEO3BSDSyZ/HCsXPMdPfkcHlgKneg1SefMOXx0LNphCyHxDHfOvjOpV+tusle7Kms5cn6kcHWhPmoC/7J03Sub2Ec3DQQPG0qKlFjbB4rGpBA4Ark9BhT4yfKjT9oztkm5XG9uThYKsZtml1MQDgocBZAIAfHPWaPjY8shkA0C/YrNseGvoHAMAlk/9dt9XUi/f1wBvL2rwmIiIiIiIiIurZOr3o3NTUpFPLALBmzRosX74c5eXlKC8vxx133IFJkyahqqoKn376KW688UYcfvjhGD9+PABg2LBhmDBhAq655hrMnj0byWQS06dPx+TJk1FdXd19V0ZEh5zWarHyOyT0uW77MCHeVz7aLP4lRdRa/01HxCKsmzJlM9SCst5IMGCVqSgWBwMJ0z+vUS4eO9n/cESX2WgxK7tOi3piVLcFjzpCPGhq0W1w5XMj2QvMasHaLtEB9VBtVGjNW218mCy064jI01j3I1IvGhNLywAADzimJNJFg/8JADgmb6NuGxutAwD8/MQ5um3ady4BAAyOjRANi/4FIiIiIiIiop7GgwMPXSyv0cXnH8g6XV5j6dKlOP7443H88ccDAGbMmIHjjz8et912GwKBAN577z189atfxZFHHomrr74ao0aNwptvvpmRVH722Wdx1FFH4eyzz8a5556L0047DU888UT3XRURERERERERERHRPqJqOnf1q6fqdNL5zDPPhO/n2ExL+stf/rLHMcrLyzFnzpw99iMi6gynUtTOKHJTuu3Dln4AAH+L3EjQKqWh3ts9651QlcZwUtnvcwFZSiPSYGppOLKchZurf6NIOKc2bc46Fjz8MHNOmWZ2Y9ZEUvIaUjLVHDPX5Mj34HShSUu7CXE8WSTHSpg5hhtU0tmU3EjI1HPATjrvFN/zt4nn7kyV62PPJE8CABzWy8x7VZ+VAIDxhR/qtv89WXyAODlwDQCg5rETzBz/+i6IiIiIiIiIqOfb5zWdiYiIiIiIiIiIiHqS7tgIkBsJEhEdoOzEcL/e9QCAes8ket/bJZLO+ZvFG7m1D57e/M8LZG+wl8yRBM7bLtPGbvYfhXB90owRlpWLZE3nYD+rXn0wkHEMANzGlsxjNtnPabUi2gE5vlUgyZM1n4MtYo5u0iSdvZDomL/drqgkzuVYZaHVtYeaRGNkp+nf8FkRAODTfxXrto8LBwEA5o4codueGPosAOBPX/pvAMC386/Qx/KLvwQAiL7wTvZ1EhERERERER1EuqM8Rk8ur9Hpms5ERERERERERERERG1h0pmIDmqNx/TRj0/uvSTr+CfbxfHCevGzqsEMmJSvbwWMw42Zz/esY66s6WzXgDZt5jM831V1oUXa2K7pHBx6uOxj+qdXfZo172B/WYta1m328gvMOVsScv7WtcREmxtz5DWZiTuurPMcN+nnwk1ybnlmHoli8ZxEkfgeiJvxw7vEuHnbrUluEW11O/vqpqu9ywAA/3n4PADAL4/+nT52x//7KgBgU+8xuq3sN4t2v3QiIiIiIiKiAx7La7SPi85EREREREREREREneB3Q3kNLjoTER2gto80id4TCtYCAHakTSo43hQBABSnRGrXMWFfBBKizX6PVzWcfRkATuWZg+moaHQTZhA/oGpFm5rOipcfFseqTRIYSVFz2Qllv/2qdDMAIBzKOObGUtYPcnKemYcTE+f3SsW1OwnT302ISHfQyf5jFi+JZrWFWsW4QauMdDoi5puRfm4Q/cLNJi3d9JdKAMCNTRcCAC4fauo33zLgJQDAb793qm77W/EpAIDKh97KmgcRERERERERHZy46ExEB7XEYTH9uMhtBQCsjFuLvHG5UCzXYNPWWm5IrhPbi86q/IYqm6FXn2EWmH17I0H5MJ1v3k71orRctE1t3qKP6YVla1FZL0oX5JlzyY0BIUt0ODGzAuwViYViJ2l2AfSjocw23ywOeyGxMO82m10RHblgHW4w804n5QK+LNvhwFxn/nbR375XasNBx5wKhXLDxvrlYuPBXzadpo/FjhdzvLz3P3Rb8bfFazY3fDoAoPpeLj4TERERERHRgc9Hxn967/UYPRUXnYmIiIiIiIiIiIg6wYOTEdba2zF6Ki46E9FByT1+OACgsk+Dbmv0RFL4b3VDdVtgl0z5yvIa6bB5Q09F5eZ4n5tSFGpzvlS+SDgHktbnjvIjTM8aQ5WbSIetRLQsYxFoyPGZpUw4p4tNWYuALLmhSm8AACIyCa2GDVo7GqqqGtZmhE6LTEK3NokulWXZ57b4cuPDcL1JUCd9UYrESeWYt7wv8TIzj4DcmDCVb7XJkiUln4nv4YaIPva7VlFW460jB+u2i/uJzR/Pv0Skn190TOmNAc+uE+Nv3NTutRARERERERHRgYWLzkRERERERERERESd4PtOlzcC5EaCREQHmB0jSwAAX+rzrm7bmhRtS1YN0m0l61UdZvGza4WJVS3ijE0AZUrZi4gneNa7pKrprNLQAOAH5fh2rePtMTl+dmLYj4QzzpPx2KrbrGpL+wUyKWyN5cZMbWatVda2jkbkvEwK2o0n5Zhm40EvGpbXZPp58voC8tywN11Mih8iDWbeXkimwWOmY7JIJstlQjxaZ8bwV4pjmzfW6LZ7jisHAPzbER8AAL415Q197DdHinrQQ39hUtvesg9AREREREREtL95vgOni4vGXg9edHb33IWIiIiIiIiIiIiIqGOYdCaig0ZwoEnIfj46DQAYnr9Zt61s6QsAiKwP67a8OpG4dWWtYXtrWJV6tpPLKg3sxlWdYrtWs+xjB5hlKjiYMGlfNYYXFW+xwaGHm+55ITmWVVt69We7X6oW7Fct+mwy1xmsFteJkPUWLhPUXqGoa+0k02Y+6vqspLPbmsyYDwCEG0RbslCMG0iZ/oFGccx3TY1mfSxu+qUKxH1Lh7O6wZHdIjut63u7AADw/KYvAQCGjNygj913xh8AAA/XnG2e8PhoAEDec4uzT0BERERERET0BfH9jH+UvNdj9FRcdCYiIiIiIiIiIiLqBNZ0bh8XnYnooLHjjP768ahjVgMAyoPNum3p5yIJHd2e/VxVIzmQsGoSq3dA65NFJyHiz4GYSDj7AZME9sPyuSmrvrJ8HGi2i0XLOs9Bkfr1I2YMLyxOms4zb78RmeBOrTMpX8VOOGsq4Rw0Y/j5IoGs6kj7nrlOPyTrLCfMHH1XzntXq3V9YrxEiZivumcA4DaLetOhgPUHUZ7Li5h5BJtFwtp35LXbtaiTsmZ03LRF69VY4tj6xgH62O3Hng8A+P4wU+d52c2DAAD/OPwU3Tbgf9YBAFIbN4GIiIiIiIiI9j8uOhPRQWPbaFPG4Wsl6wEA9el83bZlXS8AQO9ms6gZbLV2w0Pmhn9eSPwQ721KRuRtEYumqhSEa5XN8B2xEK3KUACAk5BlLHIsxjopU+JCCbTk2AQwuOe3Yl1SAwDyolnH1WK53pTQsTf8k5sLhgLmCap0hjXHdJm8l654riqzIZ4sjjn27VSbHbrmXGoRXi9Yp82xUHN2iRPVL9QsN2m0hk8uExtD3rXlfN129NHidb/iild12y+GnwkAOPJxsSmh/877ICIiIiIiItqXmHRuHxediYiIiIiIiIiIiDrB8x04XVw09rjoTES0/6TPHgUAGDS0VreVybIar2w7RrdFN4m3NDdlbwy421jWBneqn5u0+sskciAu0swB12wkmCrJThirhHM6at5OnZArxxUn960UtCMTxmojP5u9UWKuUhuaKqFhzc1pjcknyuRyebHpHpT94mYItdkhglb6Wd6GyOdirGSxuVmqHEhkS6PpLzcoTFcVWQOLb66cRsq636qciUqYAwBaxLdQixwrYiejxff8f5o5rvtsMADgVyf30W2XnfA2AOD/bh8OAAj8fow+VvK7RSAiIiIiIiKiLxYXnYmIiIiIiIiIiIg6wfd1JqxLY/RUXHQmogPe5lNETeJLKj/RbbvSeQCA9z8YqNvKZRA61GzizfZmeAAQsNK+qt5zoDWF3TlJEdX1Cuy6xjJhHLA3I5Qb5tl1jWWIWbU5diI5JiaQ8Q9o4iJd3d5GeKnNW8y8ZSLaiZpa1LoudFqmq4PWOdVfsdRuse/d+gWaRMI5XZgj0S2HcBrMxo2p9RvFg6pRppu8sFCDuKduwoyfDmXv3JjKk/dIlca2Sl772S8LCmplOv3vhbrtfz47HQDQ+zixg+QR3/tIH1s8VGw4OGiuSWj7S1nzmYiIiIiIiLpGLDp3taZzN03mAOTuuQsRERERERERERERUccw6UxEB6z0WJGgLTpZJFjzrZjyL5Z/GQBQstLU+1VpWbtmcKhJNPqqzrL9MaJ8rOoVA0CgWKR8Vc1lL5z9NmmnmtNRcX7XShF7QXVcfHdjVv3mZI74bmDPn/8FB/Q3P8g0c86xZPpZJbXFBOT4VkIbcoiMfk7mJ7ShXeZ++3KOXp9S00Emne2keDpfpq/TYtxAwtyXYKtMiltp5tbe4pyRZpUiN8dUCtq3bo8r60iHms1cSz8W35u3VAAAlp5uktqjz/4QAPD3gUN0W83/fkmc88V3QERERERERLQ3fN/phqQzNxIkIvpCBAeZchlrJohd6L7VT6wq/u7TL+ljxW+J8hqRerOIrBYn7c0DVSkMR24a6Iez39BDjUmrvxzEU2Uq7AXmtt8yPXuzQEesnAZbUvLcZkK+LF2RsdgrNy20F5Z16YocPwf7VYsHVtkOP6J26ZNzaDUru35AlgAJWSu6cvHWabXrjYjjqsxGxvhyQdoeI3jUEeKU1rUEG9VivSo7YobXC9DW4rb6++rIl9H+TEB9iJCxMaRss8umqE0L8+pEW+vfzSaKb/UTmwsWHr5LtzV9RzyhTpbeAICa57cCAFKrPgURERERERHRnviwi0fu/Rg9FctrEBEREREREREREVG3YdKZiA4o28dW68dDR68FALxbLzbOi71bro+V1clNAK1SDZ58R8uVdHaTotGN2wnZ7Hit6q8SvXYpDbUhn5O2+suorm+ldwNxVedDpautt9pUdtrXaWoRhzZt1m3B6r6izdpAUA8h+wUPP8w0qmtWHyXakWHV5rrZbZ6VuJb3yJEpb4RD5piTnRD3IqGsNjex22aFGfdPTs0aqmCr+EG9dm7auo9N8jWzqpPkeo11Ilq+LuFGM0b0A9nnXyW6bdto8eSSM+p028p+ojRHvzd6iee9wNIbRERERERE1DaW12gfk85EREREREREREREneF301cnLFy4EOeffz6qq6vhOA7mzp2bOSXfx2233Ya+ffsiLy8P48aNw6pVqzL61NXVYcqUKSguLkZpaSmuvvpqNDU1ZfR57733cPrppyMajaKmpgb33ntv5yYKJp2J6ACRGnciACD+NVN715Mb8X32t0EAgLJPzLtxQCaWg1ZyORUVn6PZ9X5VutaklM05VZ1nL+Rm9dfniVmb5Dki2atS04CVpE6YgR35HC8vJMe36iA3xzOeBwAIiX4ZmwWmrIm2xfOymnT9aLvmcYuIg/tBO+msCmDn+FRVPdeagyPrPTsxq1a0HMO3/5SE1caKMuXtWvNQz7OuXW30mI7IjQqt8LQaI5AwY6RlTW77dZS/JgjE5bXbIW/58gWbzROq/ybm2DDQJOe9IeL4xm+KJ+Rb9Z6r32wWD97+F4iIiIiIiIj2l+bmZowYMQJXXXUVLrzwwqzj9957Lx555BE8/fTTGDx4MG699VaMHz8eH330EaJRscfUlClTsGXLFsyfPx/JZBJXXnklpk6dijlz5gAAGhoacM4552DcuHGYPXs23n//fVx11VUoLS3F1KlTOzxXLjoTERERERERERERdUY3lNdAJ58/ceJETJw4MfdQvo+HHnoIt9xyC772ta8BAH7729+isrISc+fOxeTJk7FixQrMmzcPS5YswYknivDfo48+inPPPRf3338/qqur8eyzzyKRSOA3v/kNwuEwjj76aCxfvhwPPPAAF52J6ODgjD5OP15zifg+onyHbvv4jSEAgMqlIn0aaLUL+Ypvduo4LWsQ2/V+VY3hXKlm9Q7omDAznKQqECxTvFYdZJXGteslq/rNOmFsX5/sZ9d71o/thLGqe5yyUts5ajlniZvUsROSFxNPZvdrbhV9gtZbfjQsL8CksHXCOZCdglY1rpHrOu3EtRzClYloLy9sjsnnBppM6tgrjwAAQjKJnMoz91ul2e0a2qmITFJbbeqc+rW1bq0vm1IF5jpVIrrXh2YepatFxx1Hi09+mw8zx1YNEm29jjbp54qFW8W4qz4FERERERERHXp8P3M7pb0do7usWbMGtbW1GDdunG4rKSnB6NGjsWjRIkyePBmLFi1CaWmpXnAGgHHjxsF1XSxevBhf//rXsWjRIpxxxhkIh81/z48fPx733HMPdu7cibKysg7Nh4vORERERERERERERPtJQ0NDxs+RSASRSKRTY9TW1gIAKisrM9orKyv1sdraWlRUVGQcDwaDKC8vz+gzePDgrDHUMS46E9EBK3DcMADAJ98q0G1HDNoAAPhg8WG6rd8SEUGO7Miug5xRn1iNG/PkMdMv0CrGUEnnjI8RZcI4owZ02svo54Wt88jkrxexUrOyfnPGfOQ8M1LVagiVCrYDw2mZ8t24Kat/h8k0c3tjBPtVW3PMnpufJ/6gObnqSavUc67tZ61EtEp8qzrSXsQUaXblMcd6DVQqXbWp1xAAQk0ygm69PskiK5mtx1CFu+W3tPX6y3rQXjD7nyy5SavetLzmPu+Jtvg6c56mavHc+qNM/+Zq8Qe379vmj21w/tKscxAREREREVHP5HdDeQ31/Jqamoz222+/HTNnzuzS2PsbF52J6AuhFpoB4NNviYU6t7pZt61+X2yiV7TJWjCMZW4MZ5fNUKUa7NILAbUobapO6MVgRy7sqnIbAOCqUhpWyQh3t/IUAWsTQLXJYNpadE7ny0XVXJsXqgXYmDVmUi6khqy33+BevhXbC+g5FpH18Gqx2e6TlHOyF4wTycxx7dIb8v7Z91uV3LAX3NV9VmVJ7Pvph4Oyv/UaxzMXuB3rgwW1UKw3CITZENCLWOfU6/iynEkk+3fItW+P+vzB/pxAnkOVa3GsBeno5+J7vMzcj4ZB4hxbTjH/3Cg8XJTf6P2B+JAk8PoyEBERERERUQ/lO52uyZxzDAAbNmxAcXGxbu5syhkAqqqqAABbt25F3759dfvWrVsxcuRI3Wfbtm0Zz0ulUqirq9PPr6qqwtatWzP6qJ9Vn45oe5WCiIiIiIiIiIiIiPap4uLijK+9WXQePHgwqqqq8Prrr+u2hoYGLF68GGPGjAEAjBkzBvX19Vi2zISkFixYAM/zMHr0aN1n4cKFSCZNiGz+/PkYOnRoh0trAEw6E9G+dspIAMAnk/J0kx8UadLiv5vyGuojsFCjlVyWpSvcVvFG5+WZUg0qZesmzS6AapM+O43rqaSzTB0HG+LmnLLUhZdv0qq+p5Ku6YxzZ7TFzed1flDMI9AYM+M6u33SmbTSvDIJbCej4eUoZ9EB9maDwf792u6oksveHpLRu6efw+Z+q/tnb6yoHjuJVHY/OYYqswGYiiIq8QxkvlZAZgkVV5ZEcWJm/Igcv6VfvhlDfVelOqyNIVP5Yo6hRnOPVSkP+9z2hpQAEPSyy7C4n1vp5zrRliw06efGGnGuzaeI/3OQd6TZeLDyHzsBAOn3VoCIiIiIiIgOfvtjI8GmpiasXr1a/7xmzRosX74c5eXlGDBgAK6//nrceeedOOKIIzB48GDceuutqK6uxgUXXAAAGDZsGCZMmIBrrrkGs2fPRjKZxPTp0zF58mRUV4t/JX3JJZfgjjvuwNVXX42bbroJH3zwAR5++GE8+OCDnZprp5POCxcuxPnnn4/q6mo4joO5c+fqY8lkEjfddBOOPfZYFBQUoLq6Gpdffjk2b96cMcagQYPgOE7G1913393ZqRARERERERERERF98fxu+uqEpUuX4vjjj8fxxx8PAJgxYwaOP/543HbbbQCAG2+8Eddeey2mTp2Kk046CU1NTZg3bx6i0age49lnn8VRRx2Fs88+G+eeey5OO+00PPHEE/p4SUkJXn31VaxZswajRo3CD37wA9x2222YOnVqp+ba6aRzc3MzRowYgauuugoXXnhhxrGWlha8++67uPXWWzFixAjs3LkT3//+9/HVr34VS5dmbrA0a9YsXHPNNfrnoqKizk6FiA5g6bGjAADrz5Gb01nJ0d7LREo0utNEUhNyg7hQs1VfOSHrCKfUZoAmVeqqTeOslG0gLo4ni01CN14i2iI7ZQo6ZeaRK72rNr5zd08rAzoB7FjJ5d2Tuhm87I3zUuvEhonBalNfKbPg8N7p0CaE9keoaS/rsBpDp6ZbrfS2rO/sWLWodU1kz7pXclxHJamt112lxn3rnqWKI3IsOYY1RbWhof0a+644v2uFw1WdbvXaOvZLks5ONee0+2aE1u3x5LVklOqS91LVmAaA3u+L64uXit+hxv7mdd3yZfFPkEr7naTbwq8saX9ORERERERERJYzzzwTfjvxaMdxMGvWLMyaNavNPuXl5ZgzZ0675znuuOPw5ptv7vU8gb1YdJ44cSImTpyY81hJSQnmz5+f0fbzn/8cX/rSl7B+/XoMGDBAtxcVFXWq+DQRERERERERERHRgcD3Hfhd3Eiwq88/kO3zms67du2C4zgoLS3NaL/77rvx4x//GAMGDMAll1yCG264AcFg7unE43HE46YOa0NDw76cMhF1kkrt7jp1oG6rP1ykPAtkALdoo5VglqnT8E5T7zfUIPp7YZMOVelUp1X0c6Km9rJO1KayE7t2ujYQz/wE0E1m10924knrB/mGL/s5Vs1oREOZfcTJxDf7k0b1WM7fz5GazqjHLO+fnX62j3eETifLdLX9/M6OpeavUtkZ4wdM2jznvVf3K53jD2daJdfNaxCQtbk9+V1H2AG4spZzxmug5tOcXUfaTrHrY+q1sEs0x7N/BwJNItWt6k37Qev3UF+muXZVe9quBa1+t/I3ibkVbDQnbekrapo39TMp/Mg3TwYAFK5rFmO+837WvIiIiIiIiOgA1sWazj3ZPl10jsViuOmmm3DxxRejuLhYt1933XU44YQTUF5ejrfeegs333wztmzZggceeCDnOHfddRfuuOOOfTlVIuqCxtHiXzHUH2EW6np9KBbgCtaID4nsRbxkmaglZC8Sqg0B3bhZdNRlLGT5CbfJlHvwCuROrtaCbqApLsc1C4GOJxaq9QK2vejsqZ3nrAVStYCZkAvRVhkKR87Nj2S/dTpxa2FULnSqfhnHclHnt+YRHFgjpmMt/LanQ+U19mD3zQiDA/qbH1y54Govrqeyy4fAl/dL3WZrkdr0sUqcyI0G9eKztVmkfn1sAVUmxVrsjcnFbLmo7QfNfUxH5Wtglddwco2rfj9UKQ/fWlxXvzN+aPdnwW2xNprUC9y7fQdQ+Km4zoL1ZtxEuViIbqkWmyKGZUkaAIh8tg1Ax19/IiIiIiIiogPJPlt0TiaTuOiii+D7Ph5//PGMYzNmzNCPjzvuOITDYXznO9/BXXfdhUgkkjXWzTffnPGchoYG1NTU7KupExEREREREREREbWJ5TXat08WndWC87p167BgwYKMlHMuo0ePRiqVwtq1azF06NCs45FIJOdiNBF98YKDRAmNlqMrdVusVCSRe79vEr0Fn9RlPjFpks7BHBvnqZSoa5W60AnToEyHZqSOZT9rLEeWOnBCJk0aUClYLzt9motOqwZzJHS97JIeqsyCKh1hP3ZyjSFlpIhVwtne3C8czuzfhdIb7cnY0FCVOErIsicB60+E3ugvR2I4x6aEcOTrYt8X1WYlxXXpDDmu/dqZhHF26RK1yWRGvxz7MerNKO2XPceGkAjtluTOcUn2P5sKNLZm9dPXou6L/XsufxecmPn9Dst0dahBHEuUmd2EW48Sex5E8/N0W3rFJzkmRURERERERPuFj66X1+jB5Tm6fdFZLTivWrUKb7zxBnr16rXH5yxfvhyu66KioqK7p0NEREREREREREREX6BOLzo3NTVh9erV+uc1a9Zg+fLlKC8vR9++ffGNb3wD7777Ll566SWk02nU1tYCAMrLyxEOh7Fo0SIsXrwYY8eORVFRERYtWoQbbrgBl156KcrKyrrvyohon2g8XiQwVboZAAo3i4Rn3tqdpmM6c4M9x7Fq8MqQaEYtZVVTN242F8TuG/DZKVu5QaAfst7GAtn/LCXQLJKlOpWbUe9ZPPZzJK+zzt1WmxrO2rxQX7vaMC+ZRBY7HRyRqWbHmoecm04i5zp3d8iRxlZJ6owUtLqWgDXHXAlnnRSX/ex/KqTukX2v1OuSkCnyXNeZM3VuHqpazvBkgtmu36weW+P6MrVtn0sn1lXtaqvus0q2B5rNhrZOIsf90HOT5wyZY2p8xw5+y/rRbrOoVR6xNjhsHVAIAGg+0vxdLPQOBwCkVpq/wURERERERLS/OPKrq2P0TJ1edF66dCnGjh2rf1a1lq+44grMnDkTL7zwAgBg5MiRGc974403cOaZZyISieD3v/89Zs6ciXg8jsGDB+OGG27IqNlMREREREREREREdMBieY12dXrR+cwzz4TfTk3U9o4BwAknnIC33367s6clov0oec6J+nFLb5EELaw19ZtDu0Q6OSMxrJKuTo5awDJ9aodgHZWktZOuajxVT9iq9wxP9reTzqpWr5UY1YdkqtTxcySSrXn7aoxc72XymB90s9oQCbXZP5fUps36cbB/P/HATs3KdG131m+26XOGrHnvNt9c5w4OtDZxVffetZ6XdDKPWfwc98PZvf6xlVb3ZY1p+377svayb6WfPTez/nXGdcjUsV2/2Q/LMaxzOerXWRZ/9gNWutrbba7WGBmn9VW6W/7uJM3/RhyZuE9t3JT1PCV41BH6cahBPLe5n9nPwCuMZj2HiIiIiIiI6EC0TzYSJCIiIiIiIiIiIuqxmHRuFxediWiP4uXmrSLSKNKeke1WfVsvR21fSSVG7eSwL+s7q9QqAHgBkejU9XltMrnq2jWEVa1oe1w5D8eu26yOy+92GtvJVY+3jXMDAOTcnNbsecCet2pTieuUOabqJNspYpV+1enjHIL9qk1/mZK229Q8cyVpg4cNyh4wIVPjdg1tmVhW87DH0mPkSDDb16cSyyqdbL8WuWpu63rN6j672XWQM9t2SxPDqtusfiesc7qqDrP1u5MuLRDHYubanSZRVxnRcFZ/c3Lr/w2oeTS36qb2Uszt0a97a8y0NYgEeqC3leLew78kIiIiIiIioi+Q72T+E+69HaOH4qIzEbUpeMSQrLb8zWIRL7iz2TTuvnEeoBcwHU8u+nlWeYOi/KxxUyVicS3QbEoSqI3b/LAssxA1pSB0uYSMzQVzbO6mSnLINsd61/NzlHTQ46rSCCkzH70wGrQGsY8rsqRDZxchMxZ57QVlZJbjyNUWHNA/41jOMhjxHBsa2guZarFWXmeuRe2M11hde64PA1Q/3/oAQJby8PNNyQg0Noih1OaF9nUUF8ixzLydpLiWVLEZw2kRi8dOjrIWelE9bP3uqA8P6hrMpajzDxksx7DuldxcMLV2nW7S99f6XVP3K9dr1Z5cHzrkKkHjRXOUcCEiIiIiIiI6AHHRmYiIiIiIiIiIiKgTfL/r/yC1J/+DVi46E1Gb0mUikZwOm7hlqF6WALDTpO0kXnWCNEeK02k05QTC6ewyFU5cbv4nNwFEzJT00OwN32Sa1d6wzlEJa1k2QaWmAcBpEeN5+SZ57csNAfXGg42mfIJKb3vFeabNy5PXZCWA5bWo1G5q/cbsee9JMHujunZFIhnnzLgvuUpFBHOVydgttZ1nNq7zI6K/vSGfFraS5bv/xQya8hBevnicKjIp5bBMX6tUvZ1m9+RrEdheb8YLifRzoNXMNb3iEzFGR8uCqGC+VeJEp7rVfbdKXcDJvn+pdRsyzmnTr4G1SWPq0zVZ/bIEcmxo6VlJ/oS49z34/5MQEREREREdPFjTuV0dKGhKRERERERERERERNQxTDoTUZt8mfr0rY+nPJkUdiMmweqoerl2ynW3VHKuesUZNYlVLd32Nqqzx5fpXZU4BYDA0UfKCZmks6ofvftmcwCAhKwFHDPn1EloVd/YtYrqqvRpMjvV7OSoZ50zTZzD7vWbAWQmyTtCJnPbqyMdHDTQ/KBqLVvn0al0NZ+MzRHV74L1y5An26xUtU6lq6dZyXL13GCT2cBPbSbp7GyUY1ob56lTWYnhZJlIlgcbc6Tew9k1j1OfrRX9jzrCNMoa3hn1o1W9aTnfXFs55Hqdcm7cqO5zrnrfucZVaWnr90Vvsmmn9tVmmB0alYiIiIiIiPYpbiTYLi46ExEREREREREREXWC44uvro7RU3HRmYjaFNjZAgAItpravslSUY83lKM4j50AdmQ93uDhh4kGz6qLKxO0GfVwZXLZt+pHOyrlqb67JlGbq06yqgHtW2lZ3aZq9drzkOM5u5qtecvnqkRvjvSsnT7VNyKRNG27pX3t61TJ2GB1X9NmJb71c6zjbbGTt+0lnDXfXLudEN+dmk9GHW55P3wriW4nnHU/eX91IjpoflHU74fbYqWUVfI8GpFjWq+/TJuretIAkI6KcwZactS8tl8DSaWOE5VFui20Q77eOZLoTl0DgMx6z3qsgTXZ884lKeaR63XNSc3Dqr2dLsz+1wPuziYAuiQ1ERERERER0QGLi85EREREREREREREncGNBNvFRWcialN6xScAgGi/E3WbSqI6cSvVLNOtGfV8Va1gVRfYMYnX9lK2GWnS3ROgfvsZz9TqzwBYtZ0BnWx2EvK5ds1olX6OWnWE20uwyrrNjtXHV0neoJW8Vcc9leI1aemM2sJKjkCsrq8sk7qpteuy+3Q0SatYtZH1fbbStVlpaatut06I28llVbPYqvOsazj72TW03bhMItv1qmUi3pff7bF0XW2L+qdHGa9BW/MH4BeJGtC+VZvbiSWzzyWvr917ap0zV9JeC+ZIYefqpmpKq9rp1u/JrsNE8rvkM5MKV/WpiYiIiIiI6ADAms7t4qIzEe1RZEuDftwyuBQA4OWbBbJAQysAa/MzAI5acFWlKOJm87j22AvSpjSHWrg2b8aq9EOuhUa9KR0A5ItFR7VpoFecZ/olxHheQcS0yRIQauNBL2reJt0WufGgvRiqHmaU3NjtrdVa2FX3yN6Qzyw+Ws+T46lSIcGhh5tjctPAjHOqBVE5hleSnzVvvQgOIN2nFAAQqLPulZqPLNthlynJOg+sexS2Fp3V74DahzFmbRqo5ptn7rfaLNDLC8mxzO+Qm0jLU9pt6gMIMw+9CaW8p6lVn5rx5WsV3t5k5iHLddivo/rAIhf1+rS70Ayr3ImcW8ZGhWqjSbs8SWFexjxi/Yr1sYBcaw5/ts0M0e7ZiYiIiIiIiA4cXHQmIiIiIiIiIiIi6gyW12gXF52JaI/SH36iH4fLRgIAksUmBasTqdYmcKpkRaBJpnKtpHPGBoK7C1glD3SZAnkuexNAWa4jYzM9WRrB3gQucNww8SBfbVRnlT6IyKSztVGdI88faBTztpO3flAkUwO7WnSbTknb+xO2ipiqLhlhUQlnJ23Kk/jFBfLk1v2Tjz1ZrsIvMvfFjYXlGFa5hxKx2WM6Esg6pmbhWeUbYn3EvPOtexo49ihxLpWyDmWXDLE3i9TzaTUb+HnyuXoTQPt+q9Pb5ThkuQ5V/sJOTatr8a1fiVCDPJd1r/yCqLw+ca/sVHhavj5usylT4ajUcbJj2eH2Es7275/+3U1np7FNKReT8la/H82HFwIAWsvNhfZ6d9cez01ERERERET7ERed2+XuuQsRERERERERERERUccw6UxEnRL6bKt4MKRKt8X6yNq0Vs1glVwN5Ym3GTvz6zvZhfKdhEywWvWPdRJVbbSWH8Hu7M0L9QaCVrpW11DeLVELAGlZXzfYZNUdlilcvSGeJVkoU8euqZesNxLM8elkukBcdbLYjBVsyU4KB1qz21T9ZbVhXtqqLe2F5Dmt+5iScws2p7Lm48nazKkCK9EtjyfKTY3rgNwc0knKlHLISiTLU+maygCg28z87dT47px02xtBqt+dQLOVPpavlbrv4lzieMamlSpdLVPYdkJbXYPTapLOUBsgeu1vTLnX/N3qmQOmXreqxw2gZWg5AGDn4WK+ff5lfg+9f320b+ZGRERERERE3YNJ53Zx0ZmIiIiIiIiIiIioM3zHJLS6MkYPxUVnIuoUVS/ZseomB884HgDQMDiq2wIJ8XFdMCbSp+lCc0zVM86oD6zr4NpJZ5lclbWI7YS0SrO6Vm1kVUfYs2opq0Ssk8yskQwAyV4iOR1osdO14lusj0gz23WqU3niYLIoO7kcsBLAyVIxrheSSd2C7MRwOmLVaE4F5XfzEWeg1ZNtXlZ/Vc8aVmrbU+FeNYT1dyveSySd06HsmtEZye+oGFfVTbbrWet55JlrV/fGDdlzy6zNHLSSy/r1s86p0s96Hjk+5dV1nC1OzLT5Kl3tBuUxkyZ25e9Cau26rDEy6jHvfmxAf/243brKdppZprXV/0aCA2vMMZmuTlX30k3bR4j5Fm2Q/1t5bWnb5yEiIiIiIiI6iHDRmYi6zF34TwBAYeRE3dZSKRb70nLx0Ss1pTHUJnfBFrNwGFCLiEGzQaEqr+HEc2z4psplBK2SEQlZQsHaRE+XyZCLpm7cnNNJi4XwRC+zIK7KR6hF3mRh9oKxvbGdp0s52JvuiW+RerkgHTfzUeP6VveEXMwON5qFaz9ftKXl/D2rPkmwVZXesOYRFJNLlASzzpmUY6k+gPlQwM+o7C+Op4rkyaxyKYmSsBzDmkdMlsSwFubtEitA5saAapHa3uTQVfOU31y7bIbs58ayy58gaS06F8sSIapcRszaNLCdch+ImN81vcico/SLPparPEjE/n1NZva3NxJ0xQted0yB6V4sjpd+bDamJCIiIiIiooOD42f+d/nejtFTcdGZiIiIiIiIiIiIqDNY07ldXHQmom4TnG/KA5SceCwAoGmwSHY6Vkg0EJepY6u8hlMiy1k4dukFeTxHwFSVfnCCJkmbjshNA13TpkpuQG0oaCWS1ZzstG+qUBxXpTECMSs1LZ9qJ4ZdGbhNFJk2lQBWSVe7bIYqI2GfU8/DCtmqeSQKspO36YjcXDBslcYIq3OLgVWS2e5np6tTKbnRY6s9N/FdpaQz5q0qY1hBZH0fonapEPkcmVL2rE0dPZnytjdTdNXmhZ7avNB6feSN8azSLBnpYdNRfGvNUYZDvv7BIYOz+vshKyWvHsuktm+VFtGlPFzrF1GW7cj8XZM3JxrJuhZTzsQ0hRpFW3B7AwAgR56fiIiIiIiI6KDk7rkLEREREREREREREVHHMOlMRPuEv/R9AECRfwwAoGmgqWWr6iYHrJrObqPc/M3aGBAyfarqMqdK8/ShVJ7cSDCZnXz1g9k1hp1UZvoYAAJqk8OoSaQmdC1lmUK1ks7B1hyb+knhxuzEcDqa3U/VZo6VWglZecmpiJlHOpI5lmvvuSjT0nZ9ZbVxoBo/HbE2GZT9MmpFyWR0Ks+q8xxX37OT1Dqpbo2h0s/2GE5K3TeZXLbqPdvJaT03uQmhSqxn1IDOUV85VC8nmWeKXKvUu6suKpjj81SrzcuTN9eeW5P8/cuRqodMM/t5pn6zLxPcdo1wv1D+fspjGaltWavartvdUiXHDVsFu4mIiIiIiOig4KAbajp3y0wOTEw6ExEREREREREREVG3YdKZiPYpb9kHAICixFGmTaZUfTt9WiTq9roNrebJSZEOdVTN3pRJiQZbxMeJqXzzNqZStXa6Vj12ZI1hOxkdbBHjB1pNNV0V7k3KmsrNVfZnc7ImsTVFVTvZTiLrBLKv6iubeaukq514DTaJ87sJq8Z1Uta9lklalZQVJ8hObauawQio9Ky5L+l8kdD1rCR1okQcTxSbNpVcVilpu/6wSjjb1+nvlq4GTEraS6s0dnbS2bNeH69IRbPVfczxMbHVlC4Q/QNW/WY3npLzlWnpgog5pu6bdTF2vWbTJu6Hvs9WytrLlzWarfvnyFrUGb/DUZOEFic3D9VoQbuGthwu3q9YHFuRNS0iIiIiIiI6UPlO5uZMeztGD8VFZyIiIiIiIiIiIqLO8JERktrrMXooLjoT0Rci/f7HWW3BgTX6sZ8v6uFm1M1VKVJVU9dOyMp6uXYytqWXTKvab9r6cfanh6r2s53o9WW9ZDVGdKedJhbfQs0mpaySziqtDJgUbmBni2iIx/Wx1PqNWfPIRZ013W6vzrGDy1H5vbB/P3POIlF32ysSyd5EqUkMq+S3Z9V5VrWc7ddF1X5Wd8O1AtrpkOgX8LL/qurX0a4ZHch+zZJ5QTkPczWhXfL+ynSyXdPbk3/mHM8q1iwT4qqeNAAgKhLUjvy9cqzfK1Uz2rHmrVLPvmP9GVXJc3kqewxV3zleYs4Z3iUf9NwPtomIiIiIiOgQxUVnItpvUus2dKhfcMhgAICTjOq2ZFmebLNKVzTJhT2rZIRaPFYLgKr8AwC4cS/jGAC4soRHoDkhjlkbxTmq/EUiYSYnS4CkNm/RTWo0a731gBMc0F8+MH8GnBZRN8Rf8QkAwN7eLk9+QKA3ywPgFYrXI1lsPihQmyem5aKwvdlhXG6e6Hhm4VUv2rdkz1EtOtvlONJR8Tjs2hslRtEWPUYoe2G8vX/FlFFaRJXayFXOxGoLqt8t+ftkL1InisWNaDgse+PGYKP5HSMiIiIiIqKDxH5IOqfTacycORPPPPMMamtrUV1djW9/+9u45ZZbdGlS3/dx++2345e//CXq6+tx6qmn4vHHH8cRRxyhx6mrq8O1116LF198Ea7rYtKkSXj44YdRWFjYxQsyuJEgERERERERERERUSc4fvd8dcY999yDxx9/HD//+c+xYsUK3HPPPbj33nvx6KOP6j733nsvHnnkEcyePRuLFy9GQUEBxo8fj1gspvtMmTIFH374IebPn4+XXnoJCxcuxNSpU7vr1gBg0pmIDgKpT9dkteX6xEwVgyiwynbAUSU61K531jt6SqaUN27KGsvLajm4BK2yGV5FKQAg3tuklJvlRoK+taeeI4PcgZHVAIC8WmvHxLpm0afJtPkfikS0/YckqhLUslyKFzF56VSJeIXszR/tch1AZskLtUGhnXRWnwKr0h4A4OdnbwxoLkqlpe02+c2qXaJSySYZb46pDRDVdwDwncz+gNk0MV4uS2+42cfya01b4WZxkuCWOnFNbV8FEREREREREd566y187Wtfw3nnnQcAGDRoEP7nf/4H77zzDgCRcn7ooYdwyy234Gtf+xoA4Le//S0qKysxd+5cTJ48GStWrMC8efOwZMkSnHjiiQCARx99FOeeey7uv/9+VFdXd8tcmXQmIiIiIiIiIiIi6gy/m74ANDQ0ZHzFrb2hbKeccgpef/11fPKJCIH961//wt///ndMnDgRALBmzRrU1tZi3Lhx+jklJSUYPXo0Fi1aBABYtGgRSktL9YIzAIwbNw6u62Lx4sXdcGMEJp2JqMfpaK3og0mwuq/5ISTfuq16zGqzRQTE98Zh5fpQoki0uUlrczyZvE0WWPWSZVRcpZ9jZQX6WKRe1tC2kuKBoZViXHvTPZkGDsREbtdtNfWKw1sbxXc7ba5qIqsayQHzWWiujQQ1xzrmZn5+6js5npfjI1a7lreeh/puHdObECatLHKq7VxyQUG+eBDKTmDbNcLRJApZpzZtbnMsIiIiIiIiOkB1Y03nmpqajObbb78dM2fOzOr+n//5n2hoaMBRRx2FQCCAdDqNn/zkJ5gyZQoAoLZW/PPaysrKjOdVVlbqY7W1taioqMg4HgwGUV5ervt0By46ExEREREREREREe0nGzZsQHFxsf45Eonk7Pe///u/ePbZZzFnzhwcffTRWL58Oa6//npUV1fjiiuu+KKm2yFcdCYi2g+Chx+mH/vRUNZxX9ZCVqndtJXUTeeJY17YNKaj4nG8RKRrU1GT9o3sEknd8C6Tzk0ViH6BpOmn0s+ODPaGmkxhY9WmUtMAkCxws9pUWlr1t+sauzLkG2rxrTY/o79rBYhVEtmupaxqKOeql+zLut2e9ZctV1paPTcdtsaQ/dLR7GPqnG7CtOV/LiYcqbMnLMZI5bkZzwOAUJPoF6ozNbHdtBgjKOtgp9ZvzJorERERERERHZj2ZiPAXGMAQHFxccaic1t++MMf4j//8z8xefJkAMCxxx6LdevW4a677sIVV1yBqqoqAMDWrVvRt6/5F9Nbt27FyJEjAQBVVVXYtm1bxripVAp1dXX6+d2h04vOCxcuxH333Ydly5Zhy5YteO6553DBBRfo477v4/bbb8cvf/lL1NfX49RTT8Xjjz+OI444Qvepq6vDtddeixdffBGu62LSpEl4+OGHUVhY2C0XRUQHh2A/qzh9KHvhFb5ciVSbAQatcgXqcdra8i8tF0nt8gqqDEKuMVKif2rtuk7OvH3u8cPFuEVqBdaaj3zYkmfNw81eGHWS4rp0SQxrkTVRJN66vZC1mZ66vFbRP2+7WQwN7zA71Oq2XXKh1ipnoRaxvaCbMaZ9DaFmc7/1Yqy17qpKc6Tl3OJlZo6JIvHdLumhN/qTi7wZm/upx3YVjGDmecR85fccv0JqMTtjgTkiBvQKrJOF1Kq3fF7Auk5X9o+ZP5mNDeJxuN4a2M+cj2sNr3YyDDeYT6sLauXCdb3oGK4q08cCO5oA5N5Ek4iIiIiIiA4AviO+ujpGJ7S0tMDdrcRkIBCAJ8tCDh48GFVVVXj99df1InNDQwMWL16M7373uwCAMWPGoL6+HsuWLcOoUaMAAAsWLIDneRg9enTXrsfS6Y0Em5ubMWLECDz22GM5j99777145JFHMHv2bCxevBgFBQUYP348YjGz6DFlyhR8+OGHmD9/Pl566SUsXLgQU6dO3furICIiIiIiIiIiIurBzj//fPzkJz/Byy+/jLVr1+K5557DAw88gK9//esAAMdxcP311+POO+/ECy+8gPfffx+XX345qqurdWh42LBhmDBhAq655hq88847+Mc//oHp06dj8uTJqK6ubufsndPppPPEiRP1joi7830fDz30EG655RZ87WtfAwD89re/RWVlJebOnYvJkydjxYoVmDdvHpYsWaJ3SXz00Udx7rnn4v777+/WiyOi7hc8SvyrhVj/kqxjbtLLastJfpDXGs7eNM5O76qUqiqfkGuMQKuX1WaXY1BzUuldL5L9WVu42kqY7hKbu6U/FDvBZmzgl2uDuqhIrsYG99JNTf1D8tzi58guE3kNNsvHVno3HZZlLazN69y0uhhZYiJhrlOVyXBTps1tFW2BRlm+wd70Tm3cFzJv+X5YJG+9wqhuU/cyKMf1rI3w1GZ6vvWJqh+SGxRaqe1AXD5XvrZBKx0cL1YxYjM1dc3qdc8om2GFiBV9J62XPSQ/01SlMewPigPymJtn2vyYPFejmVuyUJb5sNPJqn9YHAu1WNcuH3pW4lolv3WpEKsch0pmZ1yfvOZYuTjoB80k83e2ZE+EiIiIiIiIDhzduJFgRz366KO49dZb8b3vfQ/btm1DdXU1vvOd7+C2227TfW688UY0Nzdj6tSpqK+vx2mnnYZ58+YhGjX//f/ss89i+vTpOPvss3UVikceeaSLF5OpW2s6r1mzBrW1tRg3bpxuKykpwejRo7Fo0SJMnjwZixYtQmlpqV5wBoBx48bBdV0sXrxYr8zb4vE44vG4/rmhoaE7p01ERERERERERETUYd1Z07mjioqK8NBDD+Ghhx5qe0zHwaxZszBr1qw2+5SXl2POnDmdO3kndeuic21tLQCgsrIyo72yslIfq62tRUVFReYkgkGUl5frPru76667cMcdd3TnVIloL6WLxSdj9Udk17ItXW2inYGYSNqqtKydYHZVutVKHaei2XWEAwnRLx2RSWC7dnBQnceanK6pa22OF7CiqABSEXMslS9O1lpuEqbhRpFcDvUVH4xZp9Rz860azAm5cZ+9YZ3auE8lh0NNSexO3R8A8JvltdsJYJlODu4SF+g0Wxeq0sYBOzYrLz4hXwPHOqbmmzCvjxMQr6OTMPNwW+U8fZn6tVLNTiqdcQwA/Ih4EQJh86dEJZfV/Qg2mkLL4eJQxjF7bqoGdNp6fezHui2cY2NAFQpXt9n6o63qTYcbTZuu/Wz1i+yU85VBcVV/GgCSReJYdLvVJrcgsGtLq4SzTkvbr6ecR8gKMEd3ylrOO8SHqoEm6zWWH7Sqf1kAAJ7cQNLdYT545eaDREREREREdCDqdE3n/eHmm2/Grl279NeGDRv295SIiIiIiIiIiIjoUOV301cP1a1J56qqKgDA1q1b0bevqYO6detWvWNiVVUVtm3blvG8VCqFuro6/fzdRSIRRCKR7pwqEe0lX6Zr7dRxpEEmehtNklalgV1ZhTcQsxKyMunqhMznXgFZu9hOsrpJmbhV9XutlK2nYsdW6lilfe0krUreBlvFPHwrcY1W2d8O3qr+zSI2G2gypX2UdIF5PwrGAhnnAYBAQ1yeS8Zgc3y8F6hrNj/4Of7KtIrUa2rzluxjOWTUnt7L56nnBIcMBgA4aZPQTq1dJ44N6K/bHJWItq7dl7WzHfnaBawkdWCXjBHbSWdZJ9vLF8l536qbrWpG269Pokz0s+t2q18FlZa3j3mB7GS0SpHbiXUvrJLOsq51q3nRks3iWKjZjOv4KqFtxk3nqbHE96CVag7LcHLBVnM/8ld+Lua9+jPxfGuOwX5yf4NWk3521e8E081ERERERET7XzeU1+jJi87dmnQePHgwqqqq8Prrr+u2hoYGLF68GGPGjAEAjBkzBvX19Vi2bJnus2DBAnieh9GjR3fndIiIiIiIiIiIiIjoC9bppHNTUxNWr16tf16zZg2WL1+O8vJyDBgwANdffz3uvPNOHHHEERg8eDBuvfVWVFdX44ILLgAADBs2DBMmTMA111yD2bNnI5lMYvr06Zg8eTKqq6u77cKIqPsEhh2pH+8ckg/A1FQGTDo0lW9in6lCmQCWqdNwvUlBq3SrayVk3RaR83QT2Sll1c9O1HoqUWu1OWkxDy9sF9oV39Lh7M/YVCI21GTVNU548vpE/2RZXlZ/dR67vxszqWAnbWdWATdu1XSWz1Xp1u7S0WRze8/T6VolmV2LGkHrhVep5IR17eplDsv6zVZhY5WM9u3bIxPuKgVtJ50hX4N0kdlh188OLiPUIF6/kKzbnCix4sdyusGYec0C8nGiyPyeBFszf8fCjaa/+nzWTuHr9L31a6XqPBdsEt9L1pnfq8h2cX2B2p26rb3EcmrT5jaPERERERER0QGgO8pj9OCkc6cXnZcuXYqxY8fqn2fMmAEAuOKKK/DUU0/hxhtvRHNzM6ZOnYr6+nqcdtppmDdvHqJRs2jw7LPPYvr06Tj77LPhui4mTZqERx55pBsuh4j2BT9q3ipUKQPPeveIy8300pHshV3V3/HsjQflRoJhe6M6+U5rlTxQJRr0QrC14BiIy3IZdn8vszQGYBaI03ITtkDcXkyUp4ybVVAnlXncSdrHxCKi02otoMfFY3uRUC/elsnd6KwSCUhnn7876fIX9uJwSD5OmWtJfbom67ntLXQGB9aIB/aCupfjr2Mwc+PGjPspz+8XmoV89bulS2/Yv0K+2kjSjBkvzf4dK5YfGgR3ivucLDTXHt4lP8ywP+CQv09B6/dv98Vse+NLT56+1doDVy0we0Ezbv5m8ZyKZU3imjaYnQfV4r69MSUREREREREdxLjo3K5OLzqfeeaZ8HPVH5Ucx8GsWbMwa9asNvuUl5djzpw5nT01ERERERERERERER3gunUjQSLqWYKHDQIANNUU6jZVViBgh3dV2QErLRpqkulkuZFbxmZ9egyTglWlF9KOSZ8GW0QuNNAgSy9ETNkEVf7CLsegxoBdckMmlYMqGR0yqVm1UZ2dxrWTzQDg7jIb/qnN9PZEJYaDTj/x88ZNWX3sUhbdWUpBlWwIHjFEt3ly40O3xSS0dXI5mOPPgC6bYSW6o+1s5molnv1IMGMMp9n6RXHlaxu00srytVIbCWaQx/ygeY0ju2QJlRwbBPoyEW3/XqnfId86pd5c0iqrohLxsT7iOhOF9maH8ptdJSUixojuMP36viXqe/jvvA+AqWYiIiIiIqKezOmGjQS7vBHhAaxbNxIkIiIiIiIiIiIiokMbk85ElCXYXyR0W47sAwBo6mfeKlTSOW0FU1XN28guZPVzE9lp1WCDiIz6dlpV1Xm2UrA6Ja0SzlZpHychc6Rh621MHs+ow7xbOSD9PACI+9ltSflYpXdzbabXQbkSzvrYPtooTieok9bmiDIpbtd01vfSvj+5ajQrqi512HrhZZrZDweyuqvXwM8z/X35Wnl22lz+Xjjyl8j+nbDrdSuROvF62PXD1eO03DvA/l1LyT9zntXmyWS+vbmkqvmcynPlz+acibzseQSbRVuff5n7rBLORERERERERIc6LjoTERERERERERERdQY3EmwXF52JKFtBHgBg12EiYZwsModcGfz1rHBrMC6+B6wSwKoObiAp3kHdhKmzq+rruons5G3Is5pk6jVVIOYRaDGp0sDnDWIe5abetCeTtIGWlqxxEcxO0upazo1W3ebNW2Czay8fDPZVglpRKXgAQJ5IFsOqq63racsayY71Euv77ZqEsefI10XV6LZeH5VEdqzfCTvhrKhEtEoweyHTJ1Umxk9FrdddJboz/rg7GWP51u93okSdx7SVrxCTyv+XSbOzhjMREREREdGhgzWd28eazkRERERERERERETUbZh0JqJsMqWqkp12/eZga+Z3AAg1+bLNRFJVOtWRSedARtJZpk7tGs0qIevY/WR93ZSsvexZkdeAPNZi4tVeJMdbmnqOjKE6CTs2K2K4u6ebMzjZ9XwPaXad5bSKMWffd18myx0rRY6I/EVKWa9xvkzTF8ray1adZfX74SbN70myUI6btn535ENPpqQTxWaO8RJVM9oMG0hkt6lzpPLFz60VWZeEindNbLtomUg4t1e3m4iIiIiIiHq4HpxU7iouOhMRACBY3Vc/jteUAQDSEXnMWmAOyMeRRrNiF5Ab8gWbrVoKily0dayFxkBL9uZ8vtxczrcWec1CdPbCrx8Vi5WOVaLDkYvlakE6g2qzF53lxnp2yQi1iBgc0F80hEL6WHDIYPEgbtURCYq30dTadVmn1KU5cswntX6j6afuvVV24oBdzExb90+t5PvWpxKB3V7vaEQfUq+ZH7E2EpSL2GoxOZlvXuuA/DXxrZdfHXfT2X/ZvZAcK99qU1OzX3ZRPSZj40v13Ob+ckPLiBm//F/iWNHi9WaM9j6oICIiIiIiop6PNZ3bxfIaRERERERERERERNRtmHQmOsSplG/TqP66rbG/SJ1mbAwoqVIXtnRElSswCVa1WZsqr2GXMnASMiHr5tgULmzeltyYjLrmKnGh2qwUsSrHkS7JM2O0ijG8PJWMNsllt0WeyzPXFDxsUObc7HOrciDWOXMlnPWxDm7qd6CkZnW6W7LT2Jp9P1z5etvh590+plXpZgDwA9mlMdSGk+r3ygtar2dAtKnfLwBIRbPnoTa31OVgovoQPHl6e0ND1d9ORKvNAt2kGLfPu2aOpcu3i3MfIK8TERERERER7X/cSLB9XHQmIiIiIiIiIiIi6gyW12gXF52JDnF+UQGAzFq60Z3iXS/UnLmhIJCZOlXcHLV3/YBKIovvfrNVqzmZluPam8HJTePsFKw8r9os0E4wezJB68ZTpns8u1a02khQbzhobV6I5tasto6mk3u0PBEVDg6sMW2y/rVdazo4aCCAzA0efZlU9h35PWTS7yo97ttpZplYDshNKFP5Vn95zArQI52nnmfagmojQfkXzbf7y5LS9qfHaoyAVas8f6v43uuDmJjq397Vx8xvGBERERERERF1BBediYiIiIiIiIiIiDqB5TXax0VnokOc0yLinuEmk1Zt7SVrOovQJyI7TdZTJZLTYbuWsoidJkpMxDRZINpc+dRgizkWjMhCu1ZCFimZSE7ETVtIvkXJOQZSpjCvqhXsWElnyHnYSVonkc48l1VH2k7tkqnhrBLMCJl6zOpx8PDDTJu6p1ZNbD8oXzOZcPesGt1+KMfeta46lp1q1s+znqZ+J+0a4arOs6rL7IXNfNIl4vfDSZpBCj4TJ+nzL1O0PO8TWbe5nRrdRERERERERBrLa7SLi85Eh7jUug0AgLxexbqtpY943NRPLM7Fys1KYN4OsYgbajQLwIG4eJwoNf1ae8nNBeUbqJM2C5jhOvHW47ZaC8xqoThlrTCqRWa9kGkd83O8M6fFSqRjb3aXTmd+D+RY1TwEBav7ige5NmmU/Lyw+UH202VTADjygwJ7DD8SkP3crP6pPLmRoP3Sycfqg46QVfIiUaSeZ01DntK3/nrFqsRrW1zdIH6OW4vlG0X5mD7LTFP522JDwNSna8zcQERERERERETdhYvORERERERERERERJ3BpHO7uOhMRAAA790P9eM+daK8gl8gdmFLF5uoabyXaIv1Nm8f6ZBKwZrxIg2yf6n43lhjpWEDhQCA/NqIbgs1ik0AXWvjObdZJqGDMj2bI5WrymwA0CU6YI3hqLS0KgFhJZ1V2je1eYtp61ct2g7yDQXVdQBtXIsqM+LaqXB5/1Ii92uXKVH9PeveerKcSujzZtNPDpEsFa9LIGYS8SoRnWszynRYlmNJWqU6ZP9UoVUuo1r8ThSXtOi2ijxRc2PT9jIAQOEi8/ta9fd6Ma1/fqTbmGomIiIiIiKirmJN5/blKLBJRERERERERERERLR3mHQmoiztbaamsskFhw3SbelyUXw3WWaSy3pzwSKRhm2pNJ9xqdRzS4WpGZy3XSRj8z83yVhV+9lRCVxr8zhHbWKXNh8LOgH5OG2la1XtZ5XotetCh8X5gwNrsq7zoBe0Et1qY8Bcx5PJ7GPyXjkJkwn2CiJZ3VS9Zt9KjztJce9T+aItWWT+zDhe9ke4sTJV+1n+XGRS0M2HibEGHV6r244tE6n0f9b1022bl4lUd80b4lryVqzXx9TmiERERERERETdiuU12sVFZyIiIiIiIiIiIqLO4KJzu7joTER7JfXZWvPDZ+JbVNZIBkyd5DyZIi4uNHV2Y/2KAQCNNSbp3NRfpp+rzNtSRCadw00i1RxpMFHnYJNI4QaaraSuTN46rVabqgetaxibQ07EqgetyDSuTj+nTGq6o3Weg/1FCje1cVOH+u8LqXUb9GOddPbsBLi8EaEc9yAoE+Zxk3RW98oPmxuoay6XRk0/mUpXdZsThaa/eh29oEkzq36tFeLnxJGt+thJA8U1HFts7uMrm4cDAFr+r1K3DXmzXowr6zazZjMRERERERHR/sVFZyIiIiIiIiIiIqJO4EaC7eOiMxF1G5VuzmizErdK6EPxvcKqpZwc0BsAsPNIk4hu7i++NwVFWjZ/i0nNlqiy0755h3ZT4nEgZRLRvgr3qqSz1R8yqYu0VSxakWlfO+ncUfsz4ZyTn+P64gnxPWwlna3azOJ52ffKt1LKOcl+blI817OGTxSJ1yCVb7eJ794xTQCA8w/7SB8rC7UAMOlmAIg9LxLO1S+s1W0dTaATERERERERdRuW12gXF52JaL+xF6Qd+bhiXX/dlhgsai7sOFqUb2g2e8chHRFvX+UrzDt05PMYALPBHQAgKFY9HbUQ7ZhjvnwHdHItRMs2e0EzqMqHWGPsqwXPYL/qbhtf3eegVf5EX0PCKkWiFqDV/QiZPxGevN9eyFqYlkPYGwSmI+K4m87sAwDJQvG9xVTGgDdAlNO46Ih/AQBKgi362F+3HwkAqH/TPGHQfLGpIBeaiYiIiIiIiA5cXHQmIiIiIiIiIiIi6gSW12gfF52J6ICSWr9RP3bl476fiohz0wkm6rxjuHj7+vxYU7+h8l2RZg42JnSbLzcSdJtlm52CTsuNB1M5yk/IJHBwgElew5Up31zlKtphj2FfX7tk2rg7NyXMVf5EjQ/ApJ/lPbNLi6j754XMpoFuTNwH37qlqQLx3GSBKKURiJu/oK29ZYmOgWazwHGHrwQA9A41AgD+2TBAH/t0sdgAcfDrzWb81Z+1eX1EREREREREXxiW12iXu+cuREREREREREREREQdw6QzER3wVMo3aqV9B6wS9X63nN1bt206PQIAKPksrNsKtoiaxSGV2rVDympvwbRJ9OrUs6tSv9bbpNpoz+rfkSRyh9PN9nNkKjkjidxFQWvjRs3eRDGVymzz7PsiEuXB+ph5apG8z675/NJJi49pk/ni/sV6meFj/cX4w6q36raTiz8FAHwSqwIAvL1msD7W7+9yPm//q93rIiIiIiIiIvrCMencLiadiYiIiIiIiIiIiDrB6aavztq0aRMuvfRS9OrVC3l5eTj22GOxdOlSfdz3fdx2223o27cv8vLyMG7cOKxatSpjjLq6OkyZMgXFxcUoLS3F1Vdfjaampr2YTduYdCaig1J6xScAgOoWUx945ykiFbx9lHnbTsg0bql8fw3ErWSvrJvsWMllXddYJp4dlW4GAE8+1+rfHbWWc9EJZ7djf4KCg0T949TadR07QSC7bjOSIlmsU9ZHDMnub/GD4nPLjJrY6vblie/xMnMov4+ozXxsyWbdVuDGAQDrWsoBAKGVeebYqm1irI5cDxEREREREVEPt3PnTpx66qkYO3YsXnnlFfTp0werVq1CWZn5j+97770XjzzyCJ5++mkMHjwYt956K8aPH4+PPvoI0ajYp2nKlCnYsmUL5s+fj2QyiSuvvBJTp07FnDlzum2uXHQmooNaat0G/bhIPnZTJ+u2LaeLheVYuVh87vOeWWSN1MnNBR2zsOvLUhGOKxdSfevfuqh+0YhuCh42SMzjs7V7fxG5qAXujv6DlERij13sexXsV519fLeNBv2wWWj2wvLPhbURoyqlkc4zf0ocVZlDrWn3jetjoyprAQB9w7t02450IQBgZV0FAKDsY7OAnVq5eg9XRERERERERLSf7IfyGvfccw9qamrw5JNP6rbBg02ZSt/38dBDD+GWW27B1772NQDAb3/7W1RWVmLu3LmYPHkyVqxYgXnz5mHJkiU48cQTAQCPPvoozj33XNx///2ors5eL9gbLK9BRERERERERERE1AmO3z1fANDQ0JDxFY/Hc57zhRdewIknnohvfvObqKiowPHHH49f/vKX+viaNWtQW1uLcePG6baSkhKMHj0aixYtAgAsWrQIpaWlesEZAMaNGwfXdbF48eJuuz9MOhNRj1Pwx7f1474QqefN54k37E3lZpPB6oXicdR6bjoqIrpuQiRuQztN+Q4nnpQPrJIXIfE2GhxiPlnUG/Lpn61yHJs2oyN2Tx3byeSOjBGs7tvmWBmsa1GpbcRlarre1HNyZQI8XWTulpMU9yhl3dNUnhivpVr85Rwx2GyiOLjgczGWY9LMO1MFAIC6DaUAgCPWmftNREREREREdCioqanJ+Pn222/HzJkzs/p99tlnePzxxzFjxgz813/9F5YsWYLrrrsO4XAYV1xxBWprxb8wrqyszHheZWWlPlZbW4uKioqM48FgEOXl5bpPd+j2pPOgQYPgOE7W17Rp0wAAZ555Ztax//iP/+juaRARERERERERERHtG343fQHYsGEDdu3apb9uvvnmnKf0PA8nnHACfvrTn+L444/H1KlTcc0112D27Nn77jr3UrcnnZcsWYK0tcnWBx98gK985Sv45je/qduuueYazJo1S/+cn5/f3dMgIgIAlPxDbKwXKxNJ5KZxJr279URRT7jv2yHdFoiJFG46Ims7F1v1m3fJvwZ2nWeZAEbQ+gzPlc9RmxE2NnfxKjLTzcGBNTk6pDN/Dpp6zMEB/cUDz8w71waI7vHDxXdZctmuU+1WlmX1V5sGhneaetJuStzLcIP487IzbjYGDDlijkVuTLe9s0u8LgVrxHyD2xvMHLPPSERERERERHTg6GpNZ6m4uBjFxcV77Ne3b18MHz48o23YsGH405/+BACoqqoCAGzduhV9+5p/Ab1161aMHDlS99m2bVvGGKlUCnV1dfr53aHbk859+vRBVVWV/nrppZcwZMgQfPnLX9Z98vPzM/p05KYSERERERERERERHapOPfVUrFy5MqPtk08+wcCBAwGITQWrqqrw+uuv6+MNDQ1YvHgxxowZAwAYM2YM6uvrsWzZMt1nwYIF8DwPo0eP7ra57tOazolEAs888wxmzJgBx6ob+uyzz+KZZ55BVVUVzj//fNx6661MOxPRPqHqGVe+LmoRJwusWseniVTtpkiRbqtYIj6Ly98ii/Zb712pEjGGVZIYvgo67zLpXfUcPyreYp2EqXmsai23W2c5B7tGMxx50pD1Fp5sEf369xM/W6lmROT5XfM5Y3CQ+IOUWrtOt7kNsp5yerfUNABfPtdJ2xcvzuHnm3l4QXHtblJNw9y/kqCYowfT9sF28Slq4SYxVurTNVnnJiIiIiIiIjrQ2BsBdmWMzrjhhhtwyimn4Kc//SkuuugivPPOO3jiiSfwxBNPiPEcB9dffz3uvPNOHHHEERg8eDBuvfVWVFdX44ILLgAgktETJkzQZTmSySSmT5+OyZMno7q6up2zd84+XXSeO3cu6uvr8e1vf1u3XXLJJRg4cCCqq6vx3nvv4aabbsLKlSvx5z//uc1x4vF4xq6NDQ0NbfYlIiIiIiIiIiIi2qesmsxdGqMTTjrpJDz33HO4+eabMWvWLAwePBgPPfQQpkyZovvceOONaG5uxtSpU/H/t3fvQVKWZ/7/P33uOfUMc+Y4gidEBRUUZhONPyGwhvIXI78q12Vd1vg1te5gqWysFFsqYFKL5X5/iXGXaCqbxVQlrIn7XWNJEiOgYozgYQgriKIQZUZgGDnMkZk+Pt8/7qefp9sZB4ZpGLp5v6q65pnrvvvp+8F6usurr7nujo4OffnLX9aLL76ocDjszPnFL36hpUuXau7cufJ6vVq0aJGeeOKJEV5MNo9lWTnqPjLQggULFAwG9cILL3zhnJdffllz587Vnj17dP755w86Z+XKlVq1atWA+PX6uvyewCDPAIDB+aZf4hx/crPpUxycecyJ9eytkCSN+4Op6A12uZ2FkwFT7euLu9W+/m63n3Gat8+U+aaKg1m/S1Ly3fdPap2fr4jOqnRO92sOZLz/JT7XATmjIjndv9k/5byMcbua2ZPRZSmVzH5uRpW3VVZipkTcD6lkyF6H153XX2nWdHSaGZsyz61c/quxb0mSDifclko/fP2rkqQLfm7+jTx/+JMAAAAAAKdfworrVT2vzs5OWt8OQ1dXl8rLy3XZXf8sXzB84icMIRnr186f/FNB/jc4bZXO+/bt08aNG4esYJbk9AoZKum8fPlyLVu2zPm9q6tLEycOspEWAJxAZtJ3YskMSdKeqnIndtlMkyR9PzbFzNmY0WrCZ5KrsSL3rdOTMN/beTMS0Z4+s3GgJ725YMZ3e4NuApgez9wM0G6dkZ6f2NfqnmO8/ecu/ozvDH12AjhmkreDbRSYJZ1stjLaZYTsDRBTA5PO6WtX0n1NX9SsN5nx72HZCehYhZk3pfSIMxbxmRYk7/RMdmLh/fZ1Hu4w5xp61QAAAAAAnBVGo71GPjltSee1a9eqtrZWCxcuHHLe9u3bJSlrR8XPC4VCCqWTIQAAAAAAAAAwmkahvUY+OS1J51QqpbVr12rJkiXy+92X2Lt3r9atW6evfe1rqqqq0rvvvqv7779f1113naZPn346lgIAX8jfeliSVLfVrT7+aHyNJKn00qOSpGMtlc5YySFTAZx09wWUr9hUGAd63E8Ky65S9h6P2b/73LHiIkmSp8/tU5/YZzbzczYBlNzq58xq4zR7Y0CryF2IJ12BHPjit/XM+UoXM3f3OqHkGLOhq6/L3hSxz90c0SoxfzJk+TPacdiiFW6bj/5KM26NNZsS1gS7B8w/Gitxjova7XX0Hv/CdQMAAAAAgPxyWpLOGzduVEtLi775zW9mxYPBoDZu3KjHH39cvb29mjhxohYtWqQHH3zwdCwDAAAAAAAAAHKO9hpDOy1J5/nz52uw/QknTpyozZs3n46XBIBhS/c9rnjXrbw9XlctSUpe3yFJ6rrC3aAv8IapWA4fzeg8bPcwThS7b6e+Irvy195A0PK5lc4er3lvTLy/7wvXI0n+8xrMgd1z2enjLDnVzFbIrTB23nHtymj/hRk98u0ezalgZi9qO1Zb4U4L2RXa9rzkB24fadnLjc+f5YSilWZetMytfu6rNT9rK02Fc0pupXbAY/4tj0aLnVjRYbOORMunAgAAAAAgb9BeY0gD/04aAAAAAAAAAIBTdNo2EgSAfJF870PnuHJCuSTp40tN9XPD5HZn7NABU22cyuhVHzhuvpZ0eipLCnTaFcN21XEqo6fzYJxeznZFsjmJPzsWHriZamblcrqg2BO3K5gjRe6Y/Zcnltf9ntETN9XaiTL3vMmwz74WE/NPOW/ga0bdNab85kXjZe54X70576Sw6elc7utzxsIeU/nd3lvqxEq6M6rGAQAAAADIF1Q6D4mkMwAAAAAAAAAMAz2dh0bSGcA5L7Nfsv+jzyRJdX8YK0nqH+/2TY5fYKp2U21uFXHKfhf1eNzexdEaUykc7DCVvcmQW+mcCph5RZdPdRfQbVcDe91zpMrCJnQ8ZgKJjIpgu3LZG427MbuK2fKbn4mwu25fr5nn6+l35yczqqrTrxn0ZJ3fCgXdlwzbfaQz1ug/bs5heXwZ80ysNGDWPSXkVor3psy/y+Ejbml0RVdswDoAAAAAAEB+I+kM4JyX2H/AOfaPM8nmyuYjkqQPr6pyxi698hNJ0u7xU5xYyX47iXzYTeIm7cRyomhgW41U0CSFo/Vui4lAekPAjC776fYXlp3MtkrC7ljSTkBn5Y3NL97egYnuRHkw+3mSvF0m0e3vykhEe8L2Gs1zfZltQezX8ibcF41WmAUnMzp5pDdKnFraJkmq8XU5Yy91Xy5JCn7sXouv47A5hwAAAAAAyCO01xgSSWcAAAAAAAAAGAaPZcljjSxrPNLnn81IOgPAINKbC9ZtnePEei4zFcPeS7qdWMJuFZEMu20nZJnjdPuJYJfbBsPXb9f0ZrSpSJaYSud0FbQk+Xvs5xSZ14yNcVtdeO3N/LyxjMplewNBX7oSOfP89gaBqnRLkgN2Ow5PRosOj/3cfrs9iDI+/LwJc9xf7a6jr8a8RizizvMVJSRJIa/5Gbfcj5n/6ZwgSSpuc0Ly9B4XAAAAAAAoLCSdAQAAAAAAAGA4aK8xJJLOAJAhceBg1u8VfzrsHO/eaTYcXPjlbU7sN/2XSpKS77lVxKFj5meg11QTx1PuW62/z+7VnPEaqYCZl65WzoxZPrtvcjCjkjpljr2JjI0H7R7OnripmvYkB35yJQNuJbUvZNbkzahmTtk9nNObBSaK3XXHys1YMpRRQW0XPSfL3HVXlJoe0ZX+HvM8y+0L3X7c9LEOH3PnJ1o+HbBOAAAAAADOdh7LPEZ6jkLlPfEUAAAAAAAAAABODpXOADCExO49znF1c40kyX+d20t55nmtkqS3O853Yp6EXXWcND9DXW51cLzUrib2ubF0VXLRZ+550/2V0zXBgZ6M/s1Rc5xZGR0vMxXOieqweX4q4+tS+/ypkPs9Y6LEvP17itxK5HipiSXs/tSWxx3z2C8V7HJf09dvxgOV/U7s0mrTsLnGb/petyXKnbH9bWMkSVM+c/tIAwAAAACQl2ivMSSSzgCQwT9urKSBbTYkaczOTknS7z+Z6sS+MeVdSdKfqsc7seShEklS3HSTyGqD4bfzs6mAG/PaOdi+GneTvvQmhF47YezvTThj6bYX6c39JHeDQmfTQE9GOw770BtzE8bJULp9R0aLDl96bZ97otwkti/mntYfNT9rKjuc2PiwOQ54zHp39k1wxgL7zQaFgaPufHdFAAAAAADkD9prDI32GgAAAAAAAACAnKHSGQAyDFbhnOZt7zAHb5/nxEIXmIrehpqjTmxvvWlxkew0pcO+2MCqY09GiW96k8BEUUbVcebGgZKKMtplpPxmLJnRGsNKVzanf2ZsECjLbpeRUV2dtI8z15Gueg51mmC6zUamzFi0wvzsjoWcWMhr/j36LVO1/WFPnTNWbP/TejuPu9cy4BUAAAAAAMgDtNcYEklnAAAAAAAAABgG2msMjaQzAAwh3eNZkhL7D0iSav7k9m/ePO8CSdINtR86sdajZsO8eLJYkhSLuJ2M0tXEfrfY19lI0PK6VcSxErs62S5mToTdfs92MbF8/e6n0+c/qNLnNK9lb0KYsX+fle7pPEiTpXSvaH+fG0uGzHr6K90nxMvMvN4+t9LZmW9XVx/uL3Zixe12BfWfPxn4ogAAAAAAoGCQdAYAAAAAAACA4aC9xpBIOgPAEDJ7PKernn37Op3YnncmSJLqvv62E5tYeUyStLfNVPn2V7ufIvEyUwFc9on7GukK50SRG0tXM6clM3o8B46b8/mi7njKroj2xgd+YqWrqzPH/FFTdRyNuH2hU/70Oezezh1uaXS8zAx2XOBWOifKTQX1pAr33yPsNc8p8ZrFHetzK50jxz53UQAAAAAA5LFCbo8xUoP8YTUAAAAAAAAAAKeGSmcAOEnpqme/360OHvd6hSRp29wGJzan6hNJ0p/LayRJqZT7/Z43bCqBe+MlTixkCqOdSmMpo4rZLnBOuNPl70/3e7Yy5md/vZoMu5XRKXu9nlRGD+iU/byYG0tXRKef642lnLHwQdPg2XNZmROL1PZIkipC/e712SfuTZk+z8eOuguv6s5oKg0AAAAAQD6zLPMY6TkKFElnABiujORtybsmEf2bbTOc2Pe+8n8kSePqOiRJ7R1uojYcMonX7uqkEwt2mKRwKuC+RNLem88Xy/4pScFuk9gNdbjn6K8050gnji0356yU3bbDkxEM9Az8YEsGsp/bX+1uXphuARKLuPNLfWYdRzI2C4zbmfNu+0WtTvccvq6j5nUGvDIAAAAAACgkJJ0BAAAAAAAAYBg81sh7OhdyT2iSzgAwAol9rZKkcS+Pd2LbZp0nSbqh/kNJ0guxy5yxjnS7iRK33rev3rTfyKpO9ptfgl0aMNZfaeZntcawK5GTdmGxJ7Oc2H6ur98aEEsF3BP77I0G05sS9ox3PyLS3UDiNW6LjNKQ6QFSEnDLsIvtviBxy5wk0O22FvEc6xYAAAAAAAXBsh8jPUeBYiNBAAAAAAAAAEDOUOkMAMOVcjfY848bK0mq+NNhJ/bcWzMlSd/9f0xv50uqapyxnUkzP1Lkbr63X5WSJE9XRmWx/ZVgrML89LgvqUB3uveyu6Gh1y5AtgZ5V/fahcixiCcjZr5OzfxTnvBRUx6drpruHeueP93L2Rt0S6i99pPHF3c6sTKvua7OpOnzHOhxz5/eiBEAAAAAgHznSWX/v/qpnqNQkXQGAAAAAAAAgOGgvcaQSDoDwDANVrGbrniWpPEbqiVJf7jqYknSlZFWZ6y9r9TM97pfZwZLTClyNO5WIqfC5niwTQVSQbsM2uN2SPJG7ZBdiJz5PJ/9Tm+3W5YkxUs99k835rGbOSftPs/Rioz55Wa9xWXuSfpiAXMtGQ2ka/ymCfWfeiZJkgK0cQYAAAAA4JxD0hkAciAzER15x7y1bnx9hiTp2oW/csamjzkgSfqgq86J1VeYRO1hX4kT6+sNSZKsHpPYtXwZmwYWmQRwoiijLX/Y/PAfNz9TAXfIaXGRkYhOj0fHZJzXZye67RxytCpjLGRe05uRzQ4FEuZ6/W6rkBI7+30sVpK1HgAAAAAAConHGrxQbLjnKFQknQEAAAAAAABgOCzLPEZ6jgJF0hkAciyxz7TTmPSiqWb+yeXXOmP3nPeyJCmact9+j8XMpnt1Re6ue9taJ0iSknYXjlC1W02crliOpcJOyHvcbo2Rclt0pMXtTQAzCpKVtJ+aCrkfcOmWG+mvWlPBjA+/oFmIz+e2BRkT6pMkVWfsFui1F9feZyqdQ50FvCsCAAAAAAAYlPfEUwAAAAAAAAAAaen2GiN9nKpHH31UHo9H9913nxPr7+9XU1OTqqqqVFpaqkWLFunQoUNZz2tpadHChQtVXFys2tpaPfDAA0okEqe+kC9ApTMAnCZFu0yf5wPPNzix7f/LHM8q/cSJ/U/vRDPfF3diB6vKJEmtvWZTwqqyXmfMZ29C2FMUc2Id+005s6/fvK1nVilbpgha8RK3CjpWZo+VupsAervt7yHtaunU+IzSaDuW2dN5bJHpRd0QPKzPa+82L1DdmxwwBgAAAABA3rOUtXfSKZ/jFLz99tv68Y9/rOnTp2fF77//fv3mN7/Rs88+q/Lyci1dulS33HKL/vjHP0qSksmkFi5cqPr6er3xxhs6ePCg/vZv/1aBQED//M//PMKLyUalMwAAAAAAAADkgZ6eHi1evFg/+clPNGbMGCfe2dmpn/70p/r+97+vG264QTNnztTatWv1xhtvaOvWrZKkl156Sbt27dLPf/5zXXHFFbrxxhv13e9+V2vWrFEsFvuilzwlVDoDwGmS+HS/JGnsphIntu7CL0mSVv7l/3FiFxe3SZKOJdx5k8uOSpKSEwZ+N2hZpuq4ofyYE+s9HjKvGTXzfcfd51l+UxkdrXTP4UnaVc9xt/o53WY62GF+xhLuOYrKopKknr6QE/N7TRXzlOBnTuyTeJV5bsyczENLZwAAAABAARppe4z0OYarqalJCxcu1Lx58/S9733PiTc3Nysej2vevHlObOrUqZo0aZK2bNmiOXPmaMuWLbr88stVV1fnzFmwYIHuvvtuvffee7ryyitHdD2Zcl7pvHLlSnk8nqzH1KlTnfGT6S0CAAAAAAAAAGcty8rNQ1JXV1fWIxqNDvqSzzzzjLZt26bVq1cPGGtra1MwGFRFRUVWvK6uTm1tbc6czIRzejw9lkunpdL50ksv1caNG90X8bsvc6LeIgBQaJLvf+gcN/xmliTph+ff4MT+97RnJUm7rPFO7PwSUz1c4jcfNHu7q52xvkRAknSkv9iJebz216OV5s9hkp7gwIX43ENPyp4fd797TIwxGwcki0zMe9Q9R7/PzC+vOO7EehNu1XPa0USpOVfMN2AMAAAAAAAMNHHixKzfV6xYoZUrV2bFWltbde+992rDhg0Kh8NncHWn5rQknf1+v+rr6wfE071F1q1bpxtuMAmXtWvX6pJLLtHWrVs1Z86c07EcADhrBF56xxw0/IUT2zThUknSFSX7Bswv9pokcspyk8OfRU1i92BPxIlVlPRJkhJ2wjgR6XPGenvNh1HiuPuWb+8LKG/I3aHWYyeWfZWmJ0bsUJE7ZiegI/VHnVhdyGwkWOJxN0As9pokuZVuzWGNdFcFAAAAAADOPrlsr9Ha2qpIxP1//FBoYJFXc3Oz2tvbddVVVzmxZDKp1157Tf/2b/+m3//+94rFYuro6Miqdj506JCTp62vr9dbb72Vdd50B4rBcrkjcVo2Evzoo480btw4TZkyRYsXL1ZLS4ukE/cW+SLRaHRAmTkAAAAAAAAAjAorRw9JkUgk6zFY0nnu3LnasWOHtm/f7jxmzZqlxYsXO8eBQECbNm1ynrN79261tLSosbFRktTY2KgdO3aovb3dmbNhwwZFIhFNmzYtp/88Oa90nj17tp5++mldfPHFOnjwoFatWqVrr71WO3fuPKneIoNZvXq1Vq1aleulAsCoqX39sHO87jKzueDkBe6GfDX+bklSUr2SpFJfvzP2x+QFkqSg361SjidNO4tue6O/siK3/1PxGHOu9lSZE0vZ7S/KMiqiozHTtiNubwJYPK7HGYvY57uo3F3j+NAxe43uZoRxy/5YsT842UgQAAAAAICRKysr02WXXZYVKykpUVVVlRO/8847tWzZMlVWVioSieiee+5RY2Oj011i/vz5mjZtmm6//XY99thjamtr04MPPqimpqZBE90jkfOk84033ugcT58+XbNnz1ZDQ4N+9atfqaioaIhnfrHly5dr2bJlzu9dXV0Dep0AAAAAAAAAwJmQy/YaufKDH/xAXq9XixYtUjQa1YIFC/SjH/3IGff5fFq/fr3uvvtuNTY2qqSkREuWLNEjjzyS24XoNPV0zlRRUaGLLrpIe/bs0Ve/+tUT9hYZTCgUynm2HQBGU+bmguetN5sLfn/iXCe2evqvJUnFHlNhXOZ1K5JnlJkezSnLrTBO93yuLjKV0a1dFc5YT695/4yUu+foi5qq5n67ulmSQgFTOR20f1aV9DpjM6s+lSTVBzucWLoaO57Rb7o7ZdaW7unsTbjV2AAAAAAAFIyUZR4jPccIvPrqq1m/h8NhrVmzRmvWrPnC5zQ0NOi3v/3tiF73ZJyWns6Zenp6tHfvXo0dO1YzZ848YW8RAAAAAAAAAED+ynml87e//W3ddNNNamho0IEDB7RixQr5fD7ddtttKi8vP2FvEQA414Q/NDvFFq+f4MR+Pf5KSdLf1fxRkpTK6JtcF+iUJE0pdlsWHYiWS5Lqw2asOuz2Y/6wo1aSVFvsxtqPl0qS2o66u+P6vKYB84z6A5Kk8UWdztiUsNlkILPiusrXPeBaWqNV5lzdpme0NxYb7JIBAAAAAMhvGRsBjugcBSrnSedPP/1Ut912m44cOaKamhp9+ctf1tatW1VTUyPpxL1FAAAAAAAAAOBs5lEOejrnZCVnp5wnnZ955pkhx0+mtwgAnEsS+1olSTWb3bfkP1w4XZI0/f/dL0maFv7UGQt4kpKkyeHPnJjX/qTrSwUlSRPCHc5YXZ2pSO5NuL3xEynTXam3NOjE0pXOZX7TR7o20OWMVfl67NdJObGYZdZ7JFnixPb3mYrrYIf56PT1RJ2x5IArBwAAAAAAhei0byQIADg5ib0fO8cNL46RJD15/rWSpP//qmedsQqf2eAv4HE36Uu33Ehv5OfL+BuddKI47I07sb5UwB7LnGeO/V6THj6echPS/ZaZH8hIHac3L4x7fE6sI2ZafgTtfLWnt3+IKwYAAAAAIE9ZlnmM9BwFiqQzAAAAAAAAAAyDx8pBe43CzTmTdAaAs1FwT5skqeTl8yRJL0253Bn7/yrfliTFPe5beLE3e8O+zApmn0ylc7oyWZKqg6ZdRpnfrUROWZ6s5x5PupXOcctUM1f63M0Iwx5TOX3cctt2HO41rTbCx8w5Mqu3AQAAAADAuYGkMwAAAAAAAAAMh2U/RnqOAkXSGQDOQon9ByRJtVsqJEkvzLjSGZt1g6kezqw6rvGbJspHk6WSpH67Z7MkFXvNZn7pDQglt89zNGNeMqMSWpIC3sSAsRKvuzFglfe4JGl7dIwT6+k3Vc/VHWwbCAAAAAAoXB7LkmeEPZlH+vyzmffEUwAAAAAAAAAAODlUOgPAWSz1P7skSXV/bHRi/zVtpiTpjnGvO7F0FXO64jluuW/vSbtXc8Bz3In1W6bCObPSOew1PZor/aaCelzgmDPWmwrZ5xr4XWVmLBY15/P3pU7m8gAAAAAAyE8p+zHScxQoks4AkAcq3ut0jnfsbJAkddc3O7Fx/mNZ88u87gaBcZlNANObAWbKjKVbbqQ3JfRlfPpFvH32T/e8xV6T6E7J48SSMZOA9sYK+JMTAAAAAHDOo73G0GivAQAAAAAAAADIGSqdASAPpP60yzmuedu02nhn9mQndltVmyTpiL2RoM/jVhr77O1wkxnb4qbbcBxPBZ1Y2GPaa6Srn/std6zC3jQwczPCgH2+zE0L1Ws+Vnz9pjK6cL+zBQAAAACc0yyN/H96C/h/mkk6AwAAAAAAAMBwWJZ5jPQcBYqkMwDkmaptHZKk9bsuc2Lz/2KHJCk1SNek3oyK5bRaX7ckqSQcdWIBmSrmjlSxpOwK5oAvIUlKZpw/XUt9NFHqxLz9ZtyTMKOF+/EJAAAAAAC+CElnAAAAAAAAABgGj2UeIz1HoSLpDAB5Jvnu+5Kkijf+wom9MPVKSdLi6i2SJK/cns79MhXLvoxYwGMql6vsPs6SlJQn63XSFc+ZMs8Rt8z8Ywl3nq/fxDzRuAAAAAAAKFi01xjSwL/DBgAAAAAAAADgFFHpDAB5quadbuf4pTmXSJK++qWdktyezZKUtOzvFzMKmfstU/1c5nV7OqcbMMflkySFM6qgA56UPT/hxDpSplf0J71VTizYYb9U9/HhXg4AAAAAAHnDkzKPkZ6jUJF0BoA8Zb2zwzmObDetNt6ccYEk6a/HbHHGBttIMJ2IDnvcJHK//ZGQ3lAw7HWTzul5JRmJ64+SZgPBjzsqnVjxZyZzndjXOtzLAQAAAAAgf9BeY0i01wAAAAAAAAAA5AyVzgBQAKp3mDYZGz+9SJL09fJmZyxduZxumyFJKbvXRspyS5fTx0GPmV/sjTljJXasN2P+zr6JkqSO9jInNvFocqSXAgAAAADA2c+S06ZyROcoUCSdAQAAAAAAAGAYPJYlzwjbY4z0+Wczks4AUABCe9olST27JkiSPrmo2hk7P2jGjtg9mCWp1wpJkgIetzLZZ3/FmrSroINyxwJ2gXN30q2Wfr+33jzviPtREuzoH+GVAAAAAACAfEfSGQAAAAAAAACGg40Eh0TSGQAKQGJfqySp4gNT6fxOz2RnbGa1GetIFbtPsD/XOpJurMRr+kKHPQlJktcz8MOvI1XkHH/SXWnmH3H7PPu7zTlSp3YZAAAAAADkB0sj/5/fws05k3QGgEJSvte0t3i9bYoTW1L1R0nuhoKZelMh5zjdaiOddM7cZPB4yhy3xCudWFtnxMzvdM/nPW42HyTpDAAAAADAuYukMwAAAAAAAAAMAxsJDo2kMwAUkGB7jyTp6N4qJ/bZVLOBYLqCWZJSlleSFLfcj4Fuu3VGhfe4JKkrowo65jXP/bB/rBM7fszMr/wso665t2/kFwEAAAAAwNnOUg56OudkJWcl72gvAAAAAAAAAABQOKh0BoACkvjgI0nSmPdqnNiW6y+UJDWWfOTE0hsIJjO/e7QLlrut8IDzdiTMvA+6652Y/6j5CAkfibqv/+n+kSwfAAAAAID8YFk5qHQu3FJnks4AAAAAAAAAMBwpSZ4cnKNAkXQGgAJU8aFbffz7A5dIkmZe8LET67cCktzezpIU9Jm+zUk7lsqogv4oWidJ+vBotRMrbjOfroHDvU4smZvlAwAAAACAPEbSGQAAAAAAAACGwWNZ8oywPcZIn382I+kMAAUo9Od25/iTXRMkSQcaxjixEq+phI5Z7sdAsTeWdY4jiVLn+I9HL5AkdbaUO7Hx+8zfAXmOdedq2QAAAAAA5Ad6Og/Je+IpAIB8k9jX6jwqd0iVO6T17dOdR7E3pmJvTGFP3HkkLY+SlkefJSL6LBHRW92TnceO/WO1Y/9Yle31OY+S1l6VtPYqsf+A8wAAAAAAAKfH6tWrdfXVV6usrEy1tbW6+eabtXv37qw5/f39ampqUlVVlUpLS7Vo0SIdOnQoa05LS4sWLlyo4uJi1dbW6oEHHlAikcjpWnOedD6Zi7/++uvl8XiyHn//93+f66UAAAAAAAAAQO6lK51H+hiGzZs3q6mpSVu3btWGDRsUj8c1f/589fa6ey3df//9euGFF/Tss89q8+bNOnDggG655RZnPJlMauHChYrFYnrjjTf0s5/9TE8//bQefvjhnP3TSKehvUb64q+++molEgn90z/9k+bPn69du3appKTEmXfXXXfpkUcecX4vLi7O9VIAAJKq3jXtL3bsanBiX6n+UJIU9sSdWFJhSdKf+2okSX/49HxnzPNn8/4daXG31vUd6ZEk5fa7UAAAAAAA8sAotNd48cUXs35/+umnVVtbq+bmZl133XXq7OzUT3/6U61bt0433HCDJGnt2rW65JJLtHXrVs2ZM0cvvfSSdu3apY0bN6qurk5XXHGFvvvd7+o73/mOVq5cqWAwOLJrsuU86Xyii08rLi5WfX19rl8eAAAAAAAAAPJGV1dX1u+hUEihUOiEz+vs7JQkVVZWSpKam5sVj8c1b948Z87UqVM1adIkbdmyRXPmzNGWLVt0+eWXq66uzpmzYMEC3X333Xrvvfd05ZVX5uKSTv9Ggp+/+LRf/OIX+vnPf676+nrddNNNeuihh6h2BoDTINW8U5JUPaPRif3npFmSpJk1nw6Yv+PoWElS374yJ1bxsflZss/9k53E3o9zvlYAAAAAAPJCSpInB+eQNHHixKzwihUrtHLlyqGfmkrpvvvu05e+9CVddtllkqS2tjYFg0FVVFRkza2rq1NbW5szJzPhnB5Pj+XKaU06D3bxkvTXf/3Xamho0Lhx4/Tuu+/qO9/5jnbv3q3//u//HvQ80WhU0WjU+f3z2X8AAAAAAAAAOFM8liXPCNtrpJ/f2tqqSCTixE+myrmpqUk7d+7U66+/PqI1nC6nNen8RRf/rW99yzm+/PLLNXbsWM2dO1d79+7V+eef//nTaPXq1Vq1atXpXCoAFLzqt446xy311ZKkV2YUObHiIvPlXke7qXCOfOLuNVvWano/+z7rcGL0cgYAAAAAYOQikUhW0vlEli5dqvXr1+u1117ThAkTnHh9fb1isZg6Ojqyqp0PHTrktDmur6/XW2+9lXW+Q4cOOWO54j3xlFOTvvhXXnkl6+IHM3v2bEnSnj17Bh1fvny5Ojs7nUdra2vO1wsAAAAAAAAAJyW9keBIH8N6SUtLly7Vc889p5dfflmTJ0/OGp85c6YCgYA2bdrkxHbv3q2WlhY1NpqWm42NjdqxY4fa29udORs2bFAkEtG0adNG8A+SLeeVzpZl6Z577tFzzz2nV199dcDFD2b79u2SpLFjxw46frLNswEAXyy5c7dzXF8zU5J00FvixLpqTNVzuMN8H1n2acoZKzrQI0lK7ONLPwAAAAAAlLIkz8jaayg1vOc3NTVp3bp1ev7551VWVub0YC4vL1dRUZHKy8t15513atmyZaqsrFQkEtE999yjxsZGzZkzR5I0f/58TZs2Tbfffrsee+wxtbW16cEHH1RTU1NO8685Tzqf6OL37t2rdevW6Wtf+5qqqqr07rvv6v7779d1112n6dOn53o5AIBB+F5pliRVjpntxHom+CRJwS7zoVfyaZ8z5jnSeQZXBwAAAAAAPu/JJ5+UJF1//fVZ8bVr1+rv/u7vJEk/+MEP5PV6tWjRIkWjUS1YsEA/+tGPnLk+n0/r16/X3XffrcbGRpWUlGjJkiV65JFHcrpWj2WNsOP150/oGXzbxvTFt7a26m/+5m+0c+dO9fb2auLEifrGN76hBx988KR7l3R1dam8vFzX6+vyewK5XD4AnFOO3/LFSeeKD447Y/7WzyRJif0HzuDqAAAAAACnS8KK61U9r87OzmH1Ez7XpfOS86bcK79vZJXBiWRUG//8w4L8b3Ba2msMZeLEidq8eXOuXxYAcArK3j/mHPv7yiVJvphpq+E/3O2MkWwGAAAAACDT8HsyD3qOAnXaNhIEAAAAAAAAAJx7cl7pDADIH8n3P3SOi6PnmQO7TVJi78ejsCIAAAAAAPKAlYNK59x2PT6rkHQGAAAAAAAAgOFIWRpxe4wUSWcAQIFL/PmT0V4CAAAAAAAoACSdAQAAAAAAAGA4rJR5jPQcBYqkMwAAAAAAAAAMBz2dh+Qd7QUAAAAAAAAAAAoHlc4AAAAAAAAAMBxsJDgkks4AAAAAAAAAMBy01xgS7TUAAAAAAAAAADlDpTMAAAAAAAAADIelHFQ652QlZyWSzgAAAAAAAAAwHLTXGBLtNQAAAAAAAAAAOUOlMwAAAAAAAAAMRyolKZWDcxQmks4AAAAAAAAAMBy01xgS7TUAAAAAAAAAADlDpTMAAAAAAAAADAeVzkMi6QwAAAAAAAAAw5GyJI0waZwq3KQz7TUAAAAAAAAAADlDpTMAAAAAAAAADINlpWRZqRGfo1CRdAYAAAAAAACA4bCskbfHKOCezrTXAAAAAAAAAADkDJXOAAAAAAAAADAcVg42EizgSmeSzgAAAAAAAAAwHKmU5BlhT+YC7ulMew0AAAAAAAAAQM5Q6QwAAAAAAAAAw0F7jSGRdAYAAAAAAACAYbBSKVkjbK9h0V4DAAAAAAAAAIATo9IZAAAAAAAAAIaD9hpDIukMAAAAAAAAAMORsiQPSecvQnsNAAAAAAAAAEDOUOkMAAAAAAAAAMNhWZJGuBFgAVc6k3QGAAAAAAAAgGGwUpasEbbXsAo46Ux7DQAAAAAAAABAzoxq0nnNmjU677zzFA6HNXv2bL311lujuRwAAAAAAAAAODErlZvHMOVLPnXUks6//OUvtWzZMq1YsULbtm3TjBkztGDBArW3t4/WkgAAAAAAAADghKyUlZPHcORTPnXUks7f//73ddddd+mOO+7QtGnT9NRTT6m4uFj/8R//MVpLAgAAAAAAAICzUj7lU0dlI8FYLKbm5mYtX77ciXm9Xs2bN09btmwZMD8ajSoajTq/d3Z2SpISikuF228bAAAAAAAAOC0Siksq7M3sTqeEFT2l9hhZ57D/G3R1dWXFQ6GQQqFQVmy4+dTRNipJ58OHDyuZTKquri4rXldXpw8++GDA/NWrV2vVqlUD4q/rt6dtjQAAAAAAAECh6+7uVnl5+WgvI28Eg0HV19fr9bbc5CVLS0s1ceLErNiKFSu0cuXKrNhw86mjbVSSzsO1fPlyLVu2zPm9o6NDDQ0Namlp4aYA8lRXV5cmTpyo1tZWRSKR0V4OgFPAfQwUBu5lIP9xHwP5bzTuY8uy1N3drXHjxp2R1ysU4XBYH3/8sWKxWE7OZ1mWPB5PVuzzVc75aFSSztXV1fL5fDp06FBW/NChQ6qvrx8wf7CSckkqLy/nAxXIc5FIhPsYyHPcx0Bh4F4G8h/3MZD/zvR9TDHnqQmHwwqHw2f0NYebTx1to7KRYDAY1MyZM7Vp0yYnlkqltGnTJjU2No7GkgAAAAAAAADgrJRv+dRRa6+xbNkyLVmyRLNmzdI111yjxx9/XL29vbrjjjtGa0kAAAAAAAAAcFbKp3zqqCWdb731Vn322Wd6+OGH1dbWpiuuuEIvvvjigGbYgwmFQlqxYkVB9DcBzlXcx0D+4z4GCgP3MpD/uI+B/Md9jJMxknzqmeaxLMsa7UUAAAAAAAAAAArDqPR0BgAAAAAAAAAUJpLOAAAAAAAAAICcIekMAAAAAAAAAMgZks4AAAAAAAAAgJzJy6TzmjVrdN555ykcDmv27Nl66623RntJAGyvvfaabrrpJo0bN04ej0e//vWvs8Yty9LDDz+ssWPHqqioSPPmzdNHH32UNefo0aNavHixIpGIKioqdOedd6qnp+cMXgVw7lq9erWuvvpqlZWVqba2VjfffLN2796dNae/v19NTU2qqqpSaWmpFi1apEOHDmXNaWlp0cKFC1VcXKza2lo98MADSiQSZ/JSgHPak08+qenTpysSiSgSiaixsVG/+93vnHHuYyC/PProo/J4PLrvvvucGPcxcPZbuXKlPB5P1mPq1KnOOPcxClneJZ1/+ctfatmyZVqxYoW2bdumGTNmaMGCBWpvbx/tpQGQ1NvbqxkzZmjNmjWDjj/22GN64okn9NRTT+nNN99USUmJFixYoP7+fmfO4sWL9d5772nDhg1av369XnvtNX3rW986U5cAnNM2b96spqYmbd26VRs2bFA8Htf8+fPV29vrzLn//vv1wgsv6Nlnn9XmzZt14MAB3XLLLc54MpnUwoULFYvF9MYbb+hnP/uZnn76aT388MOjcUnAOWnChAl69NFH1dzcrHfeeUc33HCDvv71r+u9996TxH0M5JO3335bP/7xjzV9+vSsOPcxkB8uvfRSHTx40Hm8/vrrzhj3MQqalWeuueYaq6mpyfk9mUxa48aNs1avXj2KqwIwGEnWc8895/yeSqWs+vp661/+5V+cWEdHhxUKhaz//M//tCzLsnbt2mVJst5++21nzu9+9zvL4/FY+/fvP2NrB2C0t7dbkqzNmzdblmXu2UAgYD377LPOnPfff9+SZG3ZssWyLMv67W9/a3m9Xqutrc2Z8+STT1qRSMSKRqNn9gIAOMaMGWP9+7//O/cxkEe6u7utCy+80NqwYYP1la98xbr33nsty+LzGMgXK1assGbMmDHoGPcxCl1eVTrHYjE1Nzdr3rx5Tszr9WrevHnasmXLKK4MwMn4+OOP1dbWlnUPl5eXa/bs2c49vGXLFlVUVGjWrFnOnHnz5snr9erNN98842sGznWdnZ2SpMrKSklSc3Oz4vF41n08depUTZo0Kes+vvzyy1VXV+fMWbBggbq6upwqSwBnTjKZ1DPPPKPe3l41NjZyHwN5pKmpSQsXLsy6XyU+j4F88tFHH2ncuHGaMmWKFi9erJaWFkncxyh8/tFewHAcPnxYyWQy62aTpLq6On3wwQejtCoAJ6utrU2SBr2H02NtbW2qra3NGvf7/aqsrHTmADgzUqmU7rvvPn3pS1/SZZddJsnco8FgUBUVFVlzP38fD3afp8cAnBk7duxQY2Oj+vv7VVpaqueee07Tpk3T9u3buY+BPPDMM89o27ZtevvttweM8XkM5IfZs2fr6aef1sUXX6yDBw9q1apVuvbaa7Vz507uYxS8vEo6AwCAM6epqUk7d+7M6jsHIH9cfPHF2r59uzo7O/Vf//VfWrJkiTZv3jzaywJwElpbW3Xvvfdqw4YNCofDo70cAKfoxhtvdI6nT5+u2bNnq6GhQb/61a9UVFQ0iisDTr+8aq9RXV0tn883YCfPQ4cOqb6+fpRWBeBkpe/Toe7h+vr6ARuDJhIJHT16lPscOIOWLl2q9evX65VXXtGECROceH19vWKxmDo6OrLmf/4+Huw+T48BODOCwaAuuOACzZw5U6tXr9aMGTP0wx/+kPsYyAPNzc1qb2/XVVddJb/fL7/fr82bN+uJJ56Q3+9XXV0d9zGQhyoqKnTRRRdpz549fB6j4OVV0jkYDGrmzJnatGmTE0ulUtq0aZMaGxtHcWUATsbkyZNVX1+fdQ93dXXpzTffdO7hxsZGdXR0qLm52Znz8ssvK5VKafbs2Wd8zcC5xrIsLV26VM8995xefvllTZ48OWt85syZCgQCWffx7t271dLSknUf79ixI+sLpA0bNigSiWjatGln5kIADJBKpRSNRrmPgTwwd+5c7dixQ9u3b3ces2bN0uLFi51j7mMg//T09Gjv3r0aO3Ysn8coeHnXXmPZsmVasmSJZs2apWuuuUaPP/64ent7dccdd4z20gDIfIju2bPH+f3jjz/W9u3bVVlZqUmTJum+++7T9773PV144YWaPHmyHnroIY0bN04333yzJOmSSy7RX/7lX+quu+7SU089pXg8rqVLl+qv/uqvNG7cuFG6KuDc0dTUpHXr1un5559XWVmZ0yuuvLxcRUVFKi8v15133qlly5apsrJSkUhE99xzjxobGzVnzhxJ0vz58zVt2jTdfvvteuyxx9TW1qYHH3xQTU1NCoVCo3l5wDlj+fLluvHGGzVp0iR1d3dr3bp1evXVV/X73/+e+xjIA2VlZc5+CmklJSWqqqpy4tzHwNnv29/+tm666SY1NDTowIEDWrFihXw+n2677TY+j1H4rDz0r//6r9akSZOsYDBoXXPNNdbWrVtHe0kAbK+88oolacBjyZIllmVZViqVsh566CGrrq7OCoVC1ty5c63du3dnnePIkSPWbbfdZpWWllqRSMS64447rO7u7lG4GuDcM9j9K8lau3atM6evr8/6h3/4B2vMmDFWcXGx9Y1vfMM6ePBg1nk++eQT68Ybb7SKioqs6upq6x//8R+teDx+hq8GOHd985vftBoaGqxgMGjV1NRYc+fOtV566SVnnPsYyD9f+cpXrHvvvdf5nfsYOPvdeuut1tixY61gMGiNHz/euvXWW609e/Y449zHKGQey7KsUcp3AwAAAAAAAAAKTF71dAYAAAAAAAAAnN1IOgMAAAAAAAAAcoakMwAAAAAAAAAgZ0g6AwAAAAAAAAByhqQzAAAAAAAAACBnSDoDAAAAAAAAAHKGpDMAAAAAAAAAIGdIOgMAAAAAAAAAcoakMwAAAAAAAAAgZ0g6AwAAAAAAAAByhqQzAAAAAAAAACBnSDoDAAAAAAAAAHLm/wIRDTRjOmm0/wAAAABJRU5ErkJggg==\n"
                },
                "metadata": {}
              }
            ]
          }
        },
        "f4619e1c9cbb4c9a8354650df6ad1159": {
          "model_module": "@jupyter-widgets/base",
          "model_name": "LayoutModel",
          "model_module_version": "1.2.0",
          "state": {
            "_model_module": "@jupyter-widgets/base",
            "_model_module_version": "1.2.0",
            "_model_name": "LayoutModel",
            "_view_count": null,
            "_view_module": "@jupyter-widgets/base",
            "_view_module_version": "1.2.0",
            "_view_name": "LayoutView",
            "align_content": null,
            "align_items": null,
            "align_self": null,
            "border": null,
            "bottom": null,
            "display": null,
            "flex": null,
            "flex_flow": null,
            "grid_area": null,
            "grid_auto_columns": null,
            "grid_auto_flow": null,
            "grid_auto_rows": null,
            "grid_column": null,
            "grid_gap": null,
            "grid_row": null,
            "grid_template_areas": null,
            "grid_template_columns": null,
            "grid_template_rows": null,
            "height": null,
            "justify_content": null,
            "justify_items": null,
            "left": null,
            "margin": null,
            "max_height": null,
            "max_width": null,
            "min_height": null,
            "min_width": null,
            "object_fit": null,
            "object_position": null,
            "order": null,
            "overflow": null,
            "overflow_x": null,
            "overflow_y": null,
            "padding": null,
            "right": null,
            "top": null,
            "visibility": null,
            "width": null
          }
        },
        "16a0a490d4284e1580969e5a5db9818f": {
          "model_module": "@jupyter-widgets/base",
          "model_name": "LayoutModel",
          "model_module_version": "1.2.0",
          "state": {
            "_model_module": "@jupyter-widgets/base",
            "_model_module_version": "1.2.0",
            "_model_name": "LayoutModel",
            "_view_count": null,
            "_view_module": "@jupyter-widgets/base",
            "_view_module_version": "1.2.0",
            "_view_name": "LayoutView",
            "align_content": null,
            "align_items": null,
            "align_self": null,
            "border": null,
            "bottom": null,
            "display": null,
            "flex": null,
            "flex_flow": null,
            "grid_area": null,
            "grid_auto_columns": null,
            "grid_auto_flow": null,
            "grid_auto_rows": null,
            "grid_column": null,
            "grid_gap": null,
            "grid_row": null,
            "grid_template_areas": null,
            "grid_template_columns": null,
            "grid_template_rows": null,
            "height": null,
            "justify_content": null,
            "justify_items": null,
            "left": null,
            "margin": null,
            "max_height": null,
            "max_width": null,
            "min_height": null,
            "min_width": null,
            "object_fit": null,
            "object_position": null,
            "order": null,
            "overflow": null,
            "overflow_x": null,
            "overflow_y": null,
            "padding": null,
            "right": null,
            "top": null,
            "visibility": null,
            "width": null
          }
        },
        "74fdad86555d45a7bfd8fcd4720238e3": {
          "model_module": "@jupyter-widgets/controls",
          "model_name": "SliderStyleModel",
          "model_module_version": "1.5.0",
          "state": {
            "_model_module": "@jupyter-widgets/controls",
            "_model_module_version": "1.5.0",
            "_model_name": "SliderStyleModel",
            "_view_count": null,
            "_view_module": "@jupyter-widgets/base",
            "_view_module_version": "1.2.0",
            "_view_name": "StyleView",
            "description_width": "",
            "handle_color": null
          }
        },
        "cbe47bc5495f4d6599d294bc3839b887": {
          "model_module": "@jupyter-widgets/base",
          "model_name": "LayoutModel",
          "model_module_version": "1.2.0",
          "state": {
            "_model_module": "@jupyter-widgets/base",
            "_model_module_version": "1.2.0",
            "_model_name": "LayoutModel",
            "_view_count": null,
            "_view_module": "@jupyter-widgets/base",
            "_view_module_version": "1.2.0",
            "_view_name": "LayoutView",
            "align_content": null,
            "align_items": null,
            "align_self": null,
            "border": null,
            "bottom": null,
            "display": null,
            "flex": null,
            "flex_flow": null,
            "grid_area": null,
            "grid_auto_columns": null,
            "grid_auto_flow": null,
            "grid_auto_rows": null,
            "grid_column": null,
            "grid_gap": null,
            "grid_row": null,
            "grid_template_areas": null,
            "grid_template_columns": null,
            "grid_template_rows": null,
            "height": null,
            "justify_content": null,
            "justify_items": null,
            "left": null,
            "margin": null,
            "max_height": null,
            "max_width": null,
            "min_height": null,
            "min_width": null,
            "object_fit": null,
            "object_position": null,
            "order": null,
            "overflow": null,
            "overflow_x": null,
            "overflow_y": null,
            "padding": null,
            "right": null,
            "top": null,
            "visibility": null,
            "width": null
          }
        },
        "267e45c375144fcb95e6ca2d55e97ea7": {
          "model_module": "@jupyter-widgets/controls",
          "model_name": "VBoxModel",
          "model_module_version": "1.5.0",
          "state": {
            "_dom_classes": [
              "widget-interact"
            ],
            "_model_module": "@jupyter-widgets/controls",
            "_model_module_version": "1.5.0",
            "_model_name": "VBoxModel",
            "_view_count": null,
            "_view_module": "@jupyter-widgets/controls",
            "_view_module_version": "1.5.0",
            "_view_name": "VBoxView",
            "box_style": "",
            "children": [
              "IPY_MODEL_2c8bc92c0ff44bab874835089d4aae42",
              "IPY_MODEL_75847493f9c44da2b13777f8291a7155"
            ],
            "layout": "IPY_MODEL_71179a0c150f4372ac1fddd3832694e3"
          }
        },
        "2c8bc92c0ff44bab874835089d4aae42": {
          "model_module": "@jupyter-widgets/controls",
          "model_name": "IntSliderModel",
          "model_module_version": "1.5.0",
          "state": {
            "_dom_classes": [],
            "_model_module": "@jupyter-widgets/controls",
            "_model_module_version": "1.5.0",
            "_model_name": "IntSliderModel",
            "_view_count": null,
            "_view_module": "@jupyter-widgets/controls",
            "_view_module_version": "1.5.0",
            "_view_name": "IntSliderView",
            "continuous_update": true,
            "description": "Slice:",
            "description_tooltip": null,
            "disabled": false,
            "layout": "IPY_MODEL_714b73ee7f364fd08a36928a7aa033ca",
            "max": 320,
            "min": 200,
            "orientation": "horizontal",
            "readout": true,
            "readout_format": "d",
            "step": 1,
            "style": "IPY_MODEL_090510ed4fb94621af792a3ea4a95f36",
            "value": 200
          }
        },
        "75847493f9c44da2b13777f8291a7155": {
          "model_module": "@jupyter-widgets/output",
          "model_name": "OutputModel",
          "model_module_version": "1.0.0",
          "state": {
            "_dom_classes": [],
            "_model_module": "@jupyter-widgets/output",
            "_model_module_version": "1.0.0",
            "_model_name": "OutputModel",
            "_view_count": null,
            "_view_module": "@jupyter-widgets/output",
            "_view_module_version": "1.0.0",
            "_view_name": "OutputView",
            "layout": "IPY_MODEL_e39713aeb6b34c66982c439bd5a90a80",
            "msg_id": "",
            "outputs": [
              {
                "output_type": "display_data",
                "data": {
                  "text/plain": "<Figure size 2000x500 with 2 Axes>",
                  "image/png": "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\n"
                },
                "metadata": {}
              }
            ]
          }
        },
        "71179a0c150f4372ac1fddd3832694e3": {
          "model_module": "@jupyter-widgets/base",
          "model_name": "LayoutModel",
          "model_module_version": "1.2.0",
          "state": {
            "_model_module": "@jupyter-widgets/base",
            "_model_module_version": "1.2.0",
            "_model_name": "LayoutModel",
            "_view_count": null,
            "_view_module": "@jupyter-widgets/base",
            "_view_module_version": "1.2.0",
            "_view_name": "LayoutView",
            "align_content": null,
            "align_items": null,
            "align_self": null,
            "border": null,
            "bottom": null,
            "display": null,
            "flex": null,
            "flex_flow": null,
            "grid_area": null,
            "grid_auto_columns": null,
            "grid_auto_flow": null,
            "grid_auto_rows": null,
            "grid_column": null,
            "grid_gap": null,
            "grid_row": null,
            "grid_template_areas": null,
            "grid_template_columns": null,
            "grid_template_rows": null,
            "height": null,
            "justify_content": null,
            "justify_items": null,
            "left": null,
            "margin": null,
            "max_height": null,
            "max_width": null,
            "min_height": null,
            "min_width": null,
            "object_fit": null,
            "object_position": null,
            "order": null,
            "overflow": null,
            "overflow_x": null,
            "overflow_y": null,
            "padding": null,
            "right": null,
            "top": null,
            "visibility": null,
            "width": null
          }
        },
        "714b73ee7f364fd08a36928a7aa033ca": {
          "model_module": "@jupyter-widgets/base",
          "model_name": "LayoutModel",
          "model_module_version": "1.2.0",
          "state": {
            "_model_module": "@jupyter-widgets/base",
            "_model_module_version": "1.2.0",
            "_model_name": "LayoutModel",
            "_view_count": null,
            "_view_module": "@jupyter-widgets/base",
            "_view_module_version": "1.2.0",
            "_view_name": "LayoutView",
            "align_content": null,
            "align_items": null,
            "align_self": null,
            "border": null,
            "bottom": null,
            "display": null,
            "flex": null,
            "flex_flow": null,
            "grid_area": null,
            "grid_auto_columns": null,
            "grid_auto_flow": null,
            "grid_auto_rows": null,
            "grid_column": null,
            "grid_gap": null,
            "grid_row": null,
            "grid_template_areas": null,
            "grid_template_columns": null,
            "grid_template_rows": null,
            "height": null,
            "justify_content": null,
            "justify_items": null,
            "left": null,
            "margin": null,
            "max_height": null,
            "max_width": null,
            "min_height": null,
            "min_width": null,
            "object_fit": null,
            "object_position": null,
            "order": null,
            "overflow": null,
            "overflow_x": null,
            "overflow_y": null,
            "padding": null,
            "right": null,
            "top": null,
            "visibility": null,
            "width": null
          }
        },
        "090510ed4fb94621af792a3ea4a95f36": {
          "model_module": "@jupyter-widgets/controls",
          "model_name": "SliderStyleModel",
          "model_module_version": "1.5.0",
          "state": {
            "_model_module": "@jupyter-widgets/controls",
            "_model_module_version": "1.5.0",
            "_model_name": "SliderStyleModel",
            "_view_count": null,
            "_view_module": "@jupyter-widgets/base",
            "_view_module_version": "1.2.0",
            "_view_name": "StyleView",
            "description_width": "",
            "handle_color": null
          }
        },
        "e39713aeb6b34c66982c439bd5a90a80": {
          "model_module": "@jupyter-widgets/base",
          "model_name": "LayoutModel",
          "model_module_version": "1.2.0",
          "state": {
            "_model_module": "@jupyter-widgets/base",
            "_model_module_version": "1.2.0",
            "_model_name": "LayoutModel",
            "_view_count": null,
            "_view_module": "@jupyter-widgets/base",
            "_view_module_version": "1.2.0",
            "_view_name": "LayoutView",
            "align_content": null,
            "align_items": null,
            "align_self": null,
            "border": null,
            "bottom": null,
            "display": null,
            "flex": null,
            "flex_flow": null,
            "grid_area": null,
            "grid_auto_columns": null,
            "grid_auto_flow": null,
            "grid_auto_rows": null,
            "grid_column": null,
            "grid_gap": null,
            "grid_row": null,
            "grid_template_areas": null,
            "grid_template_columns": null,
            "grid_template_rows": null,
            "height": null,
            "justify_content": null,
            "justify_items": null,
            "left": null,
            "margin": null,
            "max_height": null,
            "max_width": null,
            "min_height": null,
            "min_width": null,
            "object_fit": null,
            "object_position": null,
            "order": null,
            "overflow": null,
            "overflow_x": null,
            "overflow_y": null,
            "padding": null,
            "right": null,
            "top": null,
            "visibility": null,
            "width": null
          }
        },
        "fa352b0b2cbf4253b7869129fb8b7a3b": {
          "model_module": "@jupyter-widgets/controls",
          "model_name": "VBoxModel",
          "model_module_version": "1.5.0",
          "state": {
            "_dom_classes": [
              "widget-interact"
            ],
            "_model_module": "@jupyter-widgets/controls",
            "_model_module_version": "1.5.0",
            "_model_name": "VBoxModel",
            "_view_count": null,
            "_view_module": "@jupyter-widgets/controls",
            "_view_module_version": "1.5.0",
            "_view_name": "VBoxView",
            "box_style": "",
            "children": [
              "IPY_MODEL_16130eb538d24926b910e203120fefce",
              "IPY_MODEL_926a846c06c74c56ad26054307caa1ee"
            ],
            "layout": "IPY_MODEL_2cf6c598b1434ef49660fb4b5d4378bb"
          }
        },
        "16130eb538d24926b910e203120fefce": {
          "model_module": "@jupyter-widgets/controls",
          "model_name": "IntSliderModel",
          "model_module_version": "1.5.0",
          "state": {
            "_dom_classes": [],
            "_model_module": "@jupyter-widgets/controls",
            "_model_module_version": "1.5.0",
            "_model_name": "IntSliderModel",
            "_view_count": null,
            "_view_module": "@jupyter-widgets/controls",
            "_view_module_version": "1.5.0",
            "_view_name": "IntSliderView",
            "continuous_update": true,
            "description": "Slice:",
            "description_tooltip": null,
            "disabled": false,
            "layout": "IPY_MODEL_5738eba289464c46853723126fe8ca13",
            "max": 300,
            "min": 200,
            "orientation": "horizontal",
            "readout": true,
            "readout_format": "d",
            "step": 1,
            "style": "IPY_MODEL_ca370106c9fe436db85d8e3130068732",
            "value": 200
          }
        },
        "926a846c06c74c56ad26054307caa1ee": {
          "model_module": "@jupyter-widgets/output",
          "model_name": "OutputModel",
          "model_module_version": "1.0.0",
          "state": {
            "_dom_classes": [],
            "_model_module": "@jupyter-widgets/output",
            "_model_module_version": "1.0.0",
            "_model_name": "OutputModel",
            "_view_count": null,
            "_view_module": "@jupyter-widgets/output",
            "_view_module_version": "1.0.0",
            "_view_name": "OutputView",
            "layout": "IPY_MODEL_a73192156c554bf1af7ccee7c47d1f03",
            "msg_id": "",
            "outputs": [
              {
                "output_type": "display_data",
                "data": {
                  "text/plain": "<Figure size 2000x500 with 2 Axes>",
                  "image/png": "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\n"
                },
                "metadata": {}
              }
            ]
          }
        },
        "2cf6c598b1434ef49660fb4b5d4378bb": {
          "model_module": "@jupyter-widgets/base",
          "model_name": "LayoutModel",
          "model_module_version": "1.2.0",
          "state": {
            "_model_module": "@jupyter-widgets/base",
            "_model_module_version": "1.2.0",
            "_model_name": "LayoutModel",
            "_view_count": null,
            "_view_module": "@jupyter-widgets/base",
            "_view_module_version": "1.2.0",
            "_view_name": "LayoutView",
            "align_content": null,
            "align_items": null,
            "align_self": null,
            "border": null,
            "bottom": null,
            "display": null,
            "flex": null,
            "flex_flow": null,
            "grid_area": null,
            "grid_auto_columns": null,
            "grid_auto_flow": null,
            "grid_auto_rows": null,
            "grid_column": null,
            "grid_gap": null,
            "grid_row": null,
            "grid_template_areas": null,
            "grid_template_columns": null,
            "grid_template_rows": null,
            "height": null,
            "justify_content": null,
            "justify_items": null,
            "left": null,
            "margin": null,
            "max_height": null,
            "max_width": null,
            "min_height": null,
            "min_width": null,
            "object_fit": null,
            "object_position": null,
            "order": null,
            "overflow": null,
            "overflow_x": null,
            "overflow_y": null,
            "padding": null,
            "right": null,
            "top": null,
            "visibility": null,
            "width": null
          }
        },
        "5738eba289464c46853723126fe8ca13": {
          "model_module": "@jupyter-widgets/base",
          "model_name": "LayoutModel",
          "model_module_version": "1.2.0",
          "state": {
            "_model_module": "@jupyter-widgets/base",
            "_model_module_version": "1.2.0",
            "_model_name": "LayoutModel",
            "_view_count": null,
            "_view_module": "@jupyter-widgets/base",
            "_view_module_version": "1.2.0",
            "_view_name": "LayoutView",
            "align_content": null,
            "align_items": null,
            "align_self": null,
            "border": null,
            "bottom": null,
            "display": null,
            "flex": null,
            "flex_flow": null,
            "grid_area": null,
            "grid_auto_columns": null,
            "grid_auto_flow": null,
            "grid_auto_rows": null,
            "grid_column": null,
            "grid_gap": null,
            "grid_row": null,
            "grid_template_areas": null,
            "grid_template_columns": null,
            "grid_template_rows": null,
            "height": null,
            "justify_content": null,
            "justify_items": null,
            "left": null,
            "margin": null,
            "max_height": null,
            "max_width": null,
            "min_height": null,
            "min_width": null,
            "object_fit": null,
            "object_position": null,
            "order": null,
            "overflow": null,
            "overflow_x": null,
            "overflow_y": null,
            "padding": null,
            "right": null,
            "top": null,
            "visibility": null,
            "width": null
          }
        },
        "ca370106c9fe436db85d8e3130068732": {
          "model_module": "@jupyter-widgets/controls",
          "model_name": "SliderStyleModel",
          "model_module_version": "1.5.0",
          "state": {
            "_model_module": "@jupyter-widgets/controls",
            "_model_module_version": "1.5.0",
            "_model_name": "SliderStyleModel",
            "_view_count": null,
            "_view_module": "@jupyter-widgets/base",
            "_view_module_version": "1.2.0",
            "_view_name": "StyleView",
            "description_width": "",
            "handle_color": null
          }
        },
        "a73192156c554bf1af7ccee7c47d1f03": {
          "model_module": "@jupyter-widgets/base",
          "model_name": "LayoutModel",
          "model_module_version": "1.2.0",
          "state": {
            "_model_module": "@jupyter-widgets/base",
            "_model_module_version": "1.2.0",
            "_model_name": "LayoutModel",
            "_view_count": null,
            "_view_module": "@jupyter-widgets/base",
            "_view_module_version": "1.2.0",
            "_view_name": "LayoutView",
            "align_content": null,
            "align_items": null,
            "align_self": null,
            "border": null,
            "bottom": null,
            "display": null,
            "flex": null,
            "flex_flow": null,
            "grid_area": null,
            "grid_auto_columns": null,
            "grid_auto_flow": null,
            "grid_auto_rows": null,
            "grid_column": null,
            "grid_gap": null,
            "grid_row": null,
            "grid_template_areas": null,
            "grid_template_columns": null,
            "grid_template_rows": null,
            "height": null,
            "justify_content": null,
            "justify_items": null,
            "left": null,
            "margin": null,
            "max_height": null,
            "max_width": null,
            "min_height": null,
            "min_width": null,
            "object_fit": null,
            "object_position": null,
            "order": null,
            "overflow": null,
            "overflow_x": null,
            "overflow_y": null,
            "padding": null,
            "right": null,
            "top": null,
            "visibility": null,
            "width": null
          }
        },
        "8e3734e3b65e4e6b8081c120c5f1ced8": {
          "model_module": "@jupyter-widgets/controls",
          "model_name": "VBoxModel",
          "model_module_version": "1.5.0",
          "state": {
            "_dom_classes": [
              "widget-interact"
            ],
            "_model_module": "@jupyter-widgets/controls",
            "_model_module_version": "1.5.0",
            "_model_name": "VBoxModel",
            "_view_count": null,
            "_view_module": "@jupyter-widgets/controls",
            "_view_module_version": "1.5.0",
            "_view_name": "VBoxView",
            "box_style": "",
            "children": [
              "IPY_MODEL_38624251f0c24154ac30a3547f6431c9",
              "IPY_MODEL_67b41b9fd7b342f88bb81b60f19508c5"
            ],
            "layout": "IPY_MODEL_dc273b0f52e8420386d7f57687982e60"
          }
        },
        "38624251f0c24154ac30a3547f6431c9": {
          "model_module": "@jupyter-widgets/controls",
          "model_name": "IntSliderModel",
          "model_module_version": "1.5.0",
          "state": {
            "_dom_classes": [],
            "_model_module": "@jupyter-widgets/controls",
            "_model_module_version": "1.5.0",
            "_model_name": "IntSliderModel",
            "_view_count": null,
            "_view_module": "@jupyter-widgets/controls",
            "_view_module_version": "1.5.0",
            "_view_name": "IntSliderView",
            "continuous_update": true,
            "description": "Slice:",
            "description_tooltip": null,
            "disabled": false,
            "layout": "IPY_MODEL_d7a25d37146d421f9e550d0fb57295b0",
            "max": 300,
            "min": 200,
            "orientation": "horizontal",
            "readout": true,
            "readout_format": "d",
            "step": 1,
            "style": "IPY_MODEL_3ecb807ad48b48d7b2f5538e43d1c50c",
            "value": 200
          }
        },
        "67b41b9fd7b342f88bb81b60f19508c5": {
          "model_module": "@jupyter-widgets/output",
          "model_name": "OutputModel",
          "model_module_version": "1.0.0",
          "state": {
            "_dom_classes": [],
            "_model_module": "@jupyter-widgets/output",
            "_model_module_version": "1.0.0",
            "_model_name": "OutputModel",
            "_view_count": null,
            "_view_module": "@jupyter-widgets/output",
            "_view_module_version": "1.0.0",
            "_view_name": "OutputView",
            "layout": "IPY_MODEL_62798845690d445b974d088616a04df3",
            "msg_id": "",
            "outputs": [
              {
                "output_type": "display_data",
                "data": {
                  "text/plain": "<Figure size 2000x500 with 2 Axes>",
                  "image/png": "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\n"
                },
                "metadata": {}
              }
            ]
          }
        },
        "dc273b0f52e8420386d7f57687982e60": {
          "model_module": "@jupyter-widgets/base",
          "model_name": "LayoutModel",
          "model_module_version": "1.2.0",
          "state": {
            "_model_module": "@jupyter-widgets/base",
            "_model_module_version": "1.2.0",
            "_model_name": "LayoutModel",
            "_view_count": null,
            "_view_module": "@jupyter-widgets/base",
            "_view_module_version": "1.2.0",
            "_view_name": "LayoutView",
            "align_content": null,
            "align_items": null,
            "align_self": null,
            "border": null,
            "bottom": null,
            "display": null,
            "flex": null,
            "flex_flow": null,
            "grid_area": null,
            "grid_auto_columns": null,
            "grid_auto_flow": null,
            "grid_auto_rows": null,
            "grid_column": null,
            "grid_gap": null,
            "grid_row": null,
            "grid_template_areas": null,
            "grid_template_columns": null,
            "grid_template_rows": null,
            "height": null,
            "justify_content": null,
            "justify_items": null,
            "left": null,
            "margin": null,
            "max_height": null,
            "max_width": null,
            "min_height": null,
            "min_width": null,
            "object_fit": null,
            "object_position": null,
            "order": null,
            "overflow": null,
            "overflow_x": null,
            "overflow_y": null,
            "padding": null,
            "right": null,
            "top": null,
            "visibility": null,
            "width": null
          }
        },
        "d7a25d37146d421f9e550d0fb57295b0": {
          "model_module": "@jupyter-widgets/base",
          "model_name": "LayoutModel",
          "model_module_version": "1.2.0",
          "state": {
            "_model_module": "@jupyter-widgets/base",
            "_model_module_version": "1.2.0",
            "_model_name": "LayoutModel",
            "_view_count": null,
            "_view_module": "@jupyter-widgets/base",
            "_view_module_version": "1.2.0",
            "_view_name": "LayoutView",
            "align_content": null,
            "align_items": null,
            "align_self": null,
            "border": null,
            "bottom": null,
            "display": null,
            "flex": null,
            "flex_flow": null,
            "grid_area": null,
            "grid_auto_columns": null,
            "grid_auto_flow": null,
            "grid_auto_rows": null,
            "grid_column": null,
            "grid_gap": null,
            "grid_row": null,
            "grid_template_areas": null,
            "grid_template_columns": null,
            "grid_template_rows": null,
            "height": null,
            "justify_content": null,
            "justify_items": null,
            "left": null,
            "margin": null,
            "max_height": null,
            "max_width": null,
            "min_height": null,
            "min_width": null,
            "object_fit": null,
            "object_position": null,
            "order": null,
            "overflow": null,
            "overflow_x": null,
            "overflow_y": null,
            "padding": null,
            "right": null,
            "top": null,
            "visibility": null,
            "width": null
          }
        },
        "3ecb807ad48b48d7b2f5538e43d1c50c": {
          "model_module": "@jupyter-widgets/controls",
          "model_name": "SliderStyleModel",
          "model_module_version": "1.5.0",
          "state": {
            "_model_module": "@jupyter-widgets/controls",
            "_model_module_version": "1.5.0",
            "_model_name": "SliderStyleModel",
            "_view_count": null,
            "_view_module": "@jupyter-widgets/base",
            "_view_module_version": "1.2.0",
            "_view_name": "StyleView",
            "description_width": "",
            "handle_color": null
          }
        },
        "62798845690d445b974d088616a04df3": {
          "model_module": "@jupyter-widgets/base",
          "model_name": "LayoutModel",
          "model_module_version": "1.2.0",
          "state": {
            "_model_module": "@jupyter-widgets/base",
            "_model_module_version": "1.2.0",
            "_model_name": "LayoutModel",
            "_view_count": null,
            "_view_module": "@jupyter-widgets/base",
            "_view_module_version": "1.2.0",
            "_view_name": "LayoutView",
            "align_content": null,
            "align_items": null,
            "align_self": null,
            "border": null,
            "bottom": null,
            "display": null,
            "flex": null,
            "flex_flow": null,
            "grid_area": null,
            "grid_auto_columns": null,
            "grid_auto_flow": null,
            "grid_auto_rows": null,
            "grid_column": null,
            "grid_gap": null,
            "grid_row": null,
            "grid_template_areas": null,
            "grid_template_columns": null,
            "grid_template_rows": null,
            "height": null,
            "justify_content": null,
            "justify_items": null,
            "left": null,
            "margin": null,
            "max_height": null,
            "max_width": null,
            "min_height": null,
            "min_width": null,
            "object_fit": null,
            "object_position": null,
            "order": null,
            "overflow": null,
            "overflow_x": null,
            "overflow_y": null,
            "padding": null,
            "right": null,
            "top": null,
            "visibility": null,
            "width": null
          }
        },
        "d0e8ba348b064e67a5c258a7b49df05f": {
          "model_module": "@jupyter-widgets/controls",
          "model_name": "VBoxModel",
          "model_module_version": "1.5.0",
          "state": {
            "_dom_classes": [
              "widget-interact"
            ],
            "_model_module": "@jupyter-widgets/controls",
            "_model_module_version": "1.5.0",
            "_model_name": "VBoxModel",
            "_view_count": null,
            "_view_module": "@jupyter-widgets/controls",
            "_view_module_version": "1.5.0",
            "_view_name": "VBoxView",
            "box_style": "",
            "children": [
              "IPY_MODEL_354288a7c3fc46119301a43c315634a4",
              "IPY_MODEL_03976b9e7bb441b3904fc505bd06387e"
            ],
            "layout": "IPY_MODEL_52f1932e64254aff8f01b1e3583d602e"
          }
        },
        "354288a7c3fc46119301a43c315634a4": {
          "model_module": "@jupyter-widgets/controls",
          "model_name": "IntSliderModel",
          "model_module_version": "1.5.0",
          "state": {
            "_dom_classes": [],
            "_model_module": "@jupyter-widgets/controls",
            "_model_module_version": "1.5.0",
            "_model_name": "IntSliderModel",
            "_view_count": null,
            "_view_module": "@jupyter-widgets/controls",
            "_view_module_version": "1.5.0",
            "_view_name": "IntSliderView",
            "continuous_update": true,
            "description": "Slice:",
            "description_tooltip": null,
            "disabled": false,
            "layout": "IPY_MODEL_e4ba911d9d634330a04ab67e6b363f16",
            "max": 300,
            "min": 200,
            "orientation": "horizontal",
            "readout": true,
            "readout_format": "d",
            "step": 1,
            "style": "IPY_MODEL_9104f35d7d36419a9eaad17e0327851a",
            "value": 200
          }
        },
        "03976b9e7bb441b3904fc505bd06387e": {
          "model_module": "@jupyter-widgets/output",
          "model_name": "OutputModel",
          "model_module_version": "1.0.0",
          "state": {
            "_dom_classes": [],
            "_model_module": "@jupyter-widgets/output",
            "_model_module_version": "1.0.0",
            "_model_name": "OutputModel",
            "_view_count": null,
            "_view_module": "@jupyter-widgets/output",
            "_view_module_version": "1.0.0",
            "_view_name": "OutputView",
            "layout": "IPY_MODEL_3cb6c68573f94ce0ab4f15ead8d64f18",
            "msg_id": "",
            "outputs": [
              {
                "output_type": "display_data",
                "data": {
                  "text/plain": "<Figure size 2000x500 with 2 Axes>",
                  "image/png": "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\n"
                },
                "metadata": {}
              }
            ]
          }
        },
        "52f1932e64254aff8f01b1e3583d602e": {
          "model_module": "@jupyter-widgets/base",
          "model_name": "LayoutModel",
          "model_module_version": "1.2.0",
          "state": {
            "_model_module": "@jupyter-widgets/base",
            "_model_module_version": "1.2.0",
            "_model_name": "LayoutModel",
            "_view_count": null,
            "_view_module": "@jupyter-widgets/base",
            "_view_module_version": "1.2.0",
            "_view_name": "LayoutView",
            "align_content": null,
            "align_items": null,
            "align_self": null,
            "border": null,
            "bottom": null,
            "display": null,
            "flex": null,
            "flex_flow": null,
            "grid_area": null,
            "grid_auto_columns": null,
            "grid_auto_flow": null,
            "grid_auto_rows": null,
            "grid_column": null,
            "grid_gap": null,
            "grid_row": null,
            "grid_template_areas": null,
            "grid_template_columns": null,
            "grid_template_rows": null,
            "height": null,
            "justify_content": null,
            "justify_items": null,
            "left": null,
            "margin": null,
            "max_height": null,
            "max_width": null,
            "min_height": null,
            "min_width": null,
            "object_fit": null,
            "object_position": null,
            "order": null,
            "overflow": null,
            "overflow_x": null,
            "overflow_y": null,
            "padding": null,
            "right": null,
            "top": null,
            "visibility": null,
            "width": null
          }
        },
        "e4ba911d9d634330a04ab67e6b363f16": {
          "model_module": "@jupyter-widgets/base",
          "model_name": "LayoutModel",
          "model_module_version": "1.2.0",
          "state": {
            "_model_module": "@jupyter-widgets/base",
            "_model_module_version": "1.2.0",
            "_model_name": "LayoutModel",
            "_view_count": null,
            "_view_module": "@jupyter-widgets/base",
            "_view_module_version": "1.2.0",
            "_view_name": "LayoutView",
            "align_content": null,
            "align_items": null,
            "align_self": null,
            "border": null,
            "bottom": null,
            "display": null,
            "flex": null,
            "flex_flow": null,
            "grid_area": null,
            "grid_auto_columns": null,
            "grid_auto_flow": null,
            "grid_auto_rows": null,
            "grid_column": null,
            "grid_gap": null,
            "grid_row": null,
            "grid_template_areas": null,
            "grid_template_columns": null,
            "grid_template_rows": null,
            "height": null,
            "justify_content": null,
            "justify_items": null,
            "left": null,
            "margin": null,
            "max_height": null,
            "max_width": null,
            "min_height": null,
            "min_width": null,
            "object_fit": null,
            "object_position": null,
            "order": null,
            "overflow": null,
            "overflow_x": null,
            "overflow_y": null,
            "padding": null,
            "right": null,
            "top": null,
            "visibility": null,
            "width": null
          }
        },
        "9104f35d7d36419a9eaad17e0327851a": {
          "model_module": "@jupyter-widgets/controls",
          "model_name": "SliderStyleModel",
          "model_module_version": "1.5.0",
          "state": {
            "_model_module": "@jupyter-widgets/controls",
            "_model_module_version": "1.5.0",
            "_model_name": "SliderStyleModel",
            "_view_count": null,
            "_view_module": "@jupyter-widgets/base",
            "_view_module_version": "1.2.0",
            "_view_name": "StyleView",
            "description_width": "",
            "handle_color": null
          }
        },
        "3cb6c68573f94ce0ab4f15ead8d64f18": {
          "model_module": "@jupyter-widgets/base",
          "model_name": "LayoutModel",
          "model_module_version": "1.2.0",
          "state": {
            "_model_module": "@jupyter-widgets/base",
            "_model_module_version": "1.2.0",
            "_model_name": "LayoutModel",
            "_view_count": null,
            "_view_module": "@jupyter-widgets/base",
            "_view_module_version": "1.2.0",
            "_view_name": "LayoutView",
            "align_content": null,
            "align_items": null,
            "align_self": null,
            "border": null,
            "bottom": null,
            "display": null,
            "flex": null,
            "flex_flow": null,
            "grid_area": null,
            "grid_auto_columns": null,
            "grid_auto_flow": null,
            "grid_auto_rows": null,
            "grid_column": null,
            "grid_gap": null,
            "grid_row": null,
            "grid_template_areas": null,
            "grid_template_columns": null,
            "grid_template_rows": null,
            "height": null,
            "justify_content": null,
            "justify_items": null,
            "left": null,
            "margin": null,
            "max_height": null,
            "max_width": null,
            "min_height": null,
            "min_width": null,
            "object_fit": null,
            "object_position": null,
            "order": null,
            "overflow": null,
            "overflow_x": null,
            "overflow_y": null,
            "padding": null,
            "right": null,
            "top": null,
            "visibility": null,
            "width": null
          }
        },
        "fba7b245246a42fcab3fc3fdd94e3dc0": {
          "model_module": "@jupyter-widgets/controls",
          "model_name": "VBoxModel",
          "model_module_version": "1.5.0",
          "state": {
            "_dom_classes": [
              "widget-interact"
            ],
            "_model_module": "@jupyter-widgets/controls",
            "_model_module_version": "1.5.0",
            "_model_name": "VBoxModel",
            "_view_count": null,
            "_view_module": "@jupyter-widgets/controls",
            "_view_module_version": "1.5.0",
            "_view_name": "VBoxView",
            "box_style": "",
            "children": [
              "IPY_MODEL_6553390008064b36b05041c4db1ca4ba",
              "IPY_MODEL_9ae90642d8f04b22be6b1b6bb4d471f5"
            ],
            "layout": "IPY_MODEL_0409106798534eeca8131bb4537fdcd4"
          }
        },
        "6553390008064b36b05041c4db1ca4ba": {
          "model_module": "@jupyter-widgets/controls",
          "model_name": "IntSliderModel",
          "model_module_version": "1.5.0",
          "state": {
            "_dom_classes": [],
            "_model_module": "@jupyter-widgets/controls",
            "_model_module_version": "1.5.0",
            "_model_name": "IntSliderModel",
            "_view_count": null,
            "_view_module": "@jupyter-widgets/controls",
            "_view_module_version": "1.5.0",
            "_view_name": "IntSliderView",
            "continuous_update": true,
            "description": "Slice:",
            "description_tooltip": null,
            "disabled": false,
            "layout": "IPY_MODEL_da73d1d6583f41e3bfec777787c6b240",
            "max": 300,
            "min": 200,
            "orientation": "horizontal",
            "readout": true,
            "readout_format": "d",
            "step": 1,
            "style": "IPY_MODEL_c533530aa28a4c7494a10255721ddbfc",
            "value": 200
          }
        },
        "9ae90642d8f04b22be6b1b6bb4d471f5": {
          "model_module": "@jupyter-widgets/output",
          "model_name": "OutputModel",
          "model_module_version": "1.0.0",
          "state": {
            "_dom_classes": [],
            "_model_module": "@jupyter-widgets/output",
            "_model_module_version": "1.0.0",
            "_model_name": "OutputModel",
            "_view_count": null,
            "_view_module": "@jupyter-widgets/output",
            "_view_module_version": "1.0.0",
            "_view_name": "OutputView",
            "layout": "IPY_MODEL_4f99c4e9f6f74f6188ee21fe826c18ae",
            "msg_id": "",
            "outputs": [
              {
                "output_type": "display_data",
                "data": {
                  "text/plain": "<Figure size 1200x500 with 4 Axes>",
                  "image/png": "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\n"
                },
                "metadata": {}
              }
            ]
          }
        },
        "0409106798534eeca8131bb4537fdcd4": {
          "model_module": "@jupyter-widgets/base",
          "model_name": "LayoutModel",
          "model_module_version": "1.2.0",
          "state": {
            "_model_module": "@jupyter-widgets/base",
            "_model_module_version": "1.2.0",
            "_model_name": "LayoutModel",
            "_view_count": null,
            "_view_module": "@jupyter-widgets/base",
            "_view_module_version": "1.2.0",
            "_view_name": "LayoutView",
            "align_content": null,
            "align_items": null,
            "align_self": null,
            "border": null,
            "bottom": null,
            "display": null,
            "flex": null,
            "flex_flow": null,
            "grid_area": null,
            "grid_auto_columns": null,
            "grid_auto_flow": null,
            "grid_auto_rows": null,
            "grid_column": null,
            "grid_gap": null,
            "grid_row": null,
            "grid_template_areas": null,
            "grid_template_columns": null,
            "grid_template_rows": null,
            "height": null,
            "justify_content": null,
            "justify_items": null,
            "left": null,
            "margin": null,
            "max_height": null,
            "max_width": null,
            "min_height": null,
            "min_width": null,
            "object_fit": null,
            "object_position": null,
            "order": null,
            "overflow": null,
            "overflow_x": null,
            "overflow_y": null,
            "padding": null,
            "right": null,
            "top": null,
            "visibility": null,
            "width": null
          }
        },
        "da73d1d6583f41e3bfec777787c6b240": {
          "model_module": "@jupyter-widgets/base",
          "model_name": "LayoutModel",
          "model_module_version": "1.2.0",
          "state": {
            "_model_module": "@jupyter-widgets/base",
            "_model_module_version": "1.2.0",
            "_model_name": "LayoutModel",
            "_view_count": null,
            "_view_module": "@jupyter-widgets/base",
            "_view_module_version": "1.2.0",
            "_view_name": "LayoutView",
            "align_content": null,
            "align_items": null,
            "align_self": null,
            "border": null,
            "bottom": null,
            "display": null,
            "flex": null,
            "flex_flow": null,
            "grid_area": null,
            "grid_auto_columns": null,
            "grid_auto_flow": null,
            "grid_auto_rows": null,
            "grid_column": null,
            "grid_gap": null,
            "grid_row": null,
            "grid_template_areas": null,
            "grid_template_columns": null,
            "grid_template_rows": null,
            "height": null,
            "justify_content": null,
            "justify_items": null,
            "left": null,
            "margin": null,
            "max_height": null,
            "max_width": null,
            "min_height": null,
            "min_width": null,
            "object_fit": null,
            "object_position": null,
            "order": null,
            "overflow": null,
            "overflow_x": null,
            "overflow_y": null,
            "padding": null,
            "right": null,
            "top": null,
            "visibility": null,
            "width": null
          }
        },
        "c533530aa28a4c7494a10255721ddbfc": {
          "model_module": "@jupyter-widgets/controls",
          "model_name": "SliderStyleModel",
          "model_module_version": "1.5.0",
          "state": {
            "_model_module": "@jupyter-widgets/controls",
            "_model_module_version": "1.5.0",
            "_model_name": "SliderStyleModel",
            "_view_count": null,
            "_view_module": "@jupyter-widgets/base",
            "_view_module_version": "1.2.0",
            "_view_name": "StyleView",
            "description_width": "",
            "handle_color": null
          }
        },
        "4f99c4e9f6f74f6188ee21fe826c18ae": {
          "model_module": "@jupyter-widgets/base",
          "model_name": "LayoutModel",
          "model_module_version": "1.2.0",
          "state": {
            "_model_module": "@jupyter-widgets/base",
            "_model_module_version": "1.2.0",
            "_model_name": "LayoutModel",
            "_view_count": null,
            "_view_module": "@jupyter-widgets/base",
            "_view_module_version": "1.2.0",
            "_view_name": "LayoutView",
            "align_content": null,
            "align_items": null,
            "align_self": null,
            "border": null,
            "bottom": null,
            "display": null,
            "flex": null,
            "flex_flow": null,
            "grid_area": null,
            "grid_auto_columns": null,
            "grid_auto_flow": null,
            "grid_auto_rows": null,
            "grid_column": null,
            "grid_gap": null,
            "grid_row": null,
            "grid_template_areas": null,
            "grid_template_columns": null,
            "grid_template_rows": null,
            "height": null,
            "justify_content": null,
            "justify_items": null,
            "left": null,
            "margin": null,
            "max_height": null,
            "max_width": null,
            "min_height": null,
            "min_width": null,
            "object_fit": null,
            "object_position": null,
            "order": null,
            "overflow": null,
            "overflow_x": null,
            "overflow_y": null,
            "padding": null,
            "right": null,
            "top": null,
            "visibility": null,
            "width": null
          }
        },
        "463b16a6a4004b76a108df7cbe368f86": {
          "model_module": "@jupyter-widgets/controls",
          "model_name": "VBoxModel",
          "model_module_version": "1.5.0",
          "state": {
            "_dom_classes": [
              "widget-interact"
            ],
            "_model_module": "@jupyter-widgets/controls",
            "_model_module_version": "1.5.0",
            "_model_name": "VBoxModel",
            "_view_count": null,
            "_view_module": "@jupyter-widgets/controls",
            "_view_module_version": "1.5.0",
            "_view_name": "VBoxView",
            "box_style": "",
            "children": [
              "IPY_MODEL_d02b5f07218c45979efeb47bb20d4c5e",
              "IPY_MODEL_050307368cb049e59a74bb64ae221403"
            ],
            "layout": "IPY_MODEL_7ea760b345984ff8b9672244b0d0c416"
          }
        },
        "d02b5f07218c45979efeb47bb20d4c5e": {
          "model_module": "@jupyter-widgets/controls",
          "model_name": "IntSliderModel",
          "model_module_version": "1.5.0",
          "state": {
            "_dom_classes": [],
            "_model_module": "@jupyter-widgets/controls",
            "_model_module_version": "1.5.0",
            "_model_name": "IntSliderModel",
            "_view_count": null,
            "_view_module": "@jupyter-widgets/controls",
            "_view_module_version": "1.5.0",
            "_view_name": "IntSliderView",
            "continuous_update": true,
            "description": "Slice:",
            "description_tooltip": null,
            "disabled": false,
            "layout": "IPY_MODEL_77d35ad8d0d64af983864ef6203da97b",
            "max": 300,
            "min": 200,
            "orientation": "horizontal",
            "readout": true,
            "readout_format": "d",
            "step": 1,
            "style": "IPY_MODEL_aeab298b66d44354b447844a358c8e25",
            "value": 200
          }
        },
        "050307368cb049e59a74bb64ae221403": {
          "model_module": "@jupyter-widgets/output",
          "model_name": "OutputModel",
          "model_module_version": "1.0.0",
          "state": {
            "_dom_classes": [],
            "_model_module": "@jupyter-widgets/output",
            "_model_module_version": "1.0.0",
            "_model_name": "OutputModel",
            "_view_count": null,
            "_view_module": "@jupyter-widgets/output",
            "_view_module_version": "1.0.0",
            "_view_name": "OutputView",
            "layout": "IPY_MODEL_66004fa17d6246e98d8122faf93e6115",
            "msg_id": "",
            "outputs": [
              {
                "output_type": "display_data",
                "data": {
                  "text/plain": "<Figure size 1200x500 with 4 Axes>",
                  "image/png": "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\n"
                },
                "metadata": {}
              }
            ]
          }
        },
        "7ea760b345984ff8b9672244b0d0c416": {
          "model_module": "@jupyter-widgets/base",
          "model_name": "LayoutModel",
          "model_module_version": "1.2.0",
          "state": {
            "_model_module": "@jupyter-widgets/base",
            "_model_module_version": "1.2.0",
            "_model_name": "LayoutModel",
            "_view_count": null,
            "_view_module": "@jupyter-widgets/base",
            "_view_module_version": "1.2.0",
            "_view_name": "LayoutView",
            "align_content": null,
            "align_items": null,
            "align_self": null,
            "border": null,
            "bottom": null,
            "display": null,
            "flex": null,
            "flex_flow": null,
            "grid_area": null,
            "grid_auto_columns": null,
            "grid_auto_flow": null,
            "grid_auto_rows": null,
            "grid_column": null,
            "grid_gap": null,
            "grid_row": null,
            "grid_template_areas": null,
            "grid_template_columns": null,
            "grid_template_rows": null,
            "height": null,
            "justify_content": null,
            "justify_items": null,
            "left": null,
            "margin": null,
            "max_height": null,
            "max_width": null,
            "min_height": null,
            "min_width": null,
            "object_fit": null,
            "object_position": null,
            "order": null,
            "overflow": null,
            "overflow_x": null,
            "overflow_y": null,
            "padding": null,
            "right": null,
            "top": null,
            "visibility": null,
            "width": null
          }
        },
        "77d35ad8d0d64af983864ef6203da97b": {
          "model_module": "@jupyter-widgets/base",
          "model_name": "LayoutModel",
          "model_module_version": "1.2.0",
          "state": {
            "_model_module": "@jupyter-widgets/base",
            "_model_module_version": "1.2.0",
            "_model_name": "LayoutModel",
            "_view_count": null,
            "_view_module": "@jupyter-widgets/base",
            "_view_module_version": "1.2.0",
            "_view_name": "LayoutView",
            "align_content": null,
            "align_items": null,
            "align_self": null,
            "border": null,
            "bottom": null,
            "display": null,
            "flex": null,
            "flex_flow": null,
            "grid_area": null,
            "grid_auto_columns": null,
            "grid_auto_flow": null,
            "grid_auto_rows": null,
            "grid_column": null,
            "grid_gap": null,
            "grid_row": null,
            "grid_template_areas": null,
            "grid_template_columns": null,
            "grid_template_rows": null,
            "height": null,
            "justify_content": null,
            "justify_items": null,
            "left": null,
            "margin": null,
            "max_height": null,
            "max_width": null,
            "min_height": null,
            "min_width": null,
            "object_fit": null,
            "object_position": null,
            "order": null,
            "overflow": null,
            "overflow_x": null,
            "overflow_y": null,
            "padding": null,
            "right": null,
            "top": null,
            "visibility": null,
            "width": null
          }
        },
        "aeab298b66d44354b447844a358c8e25": {
          "model_module": "@jupyter-widgets/controls",
          "model_name": "SliderStyleModel",
          "model_module_version": "1.5.0",
          "state": {
            "_model_module": "@jupyter-widgets/controls",
            "_model_module_version": "1.5.0",
            "_model_name": "SliderStyleModel",
            "_view_count": null,
            "_view_module": "@jupyter-widgets/base",
            "_view_module_version": "1.2.0",
            "_view_name": "StyleView",
            "description_width": "",
            "handle_color": null
          }
        },
        "66004fa17d6246e98d8122faf93e6115": {
          "model_module": "@jupyter-widgets/base",
          "model_name": "LayoutModel",
          "model_module_version": "1.2.0",
          "state": {
            "_model_module": "@jupyter-widgets/base",
            "_model_module_version": "1.2.0",
            "_model_name": "LayoutModel",
            "_view_count": null,
            "_view_module": "@jupyter-widgets/base",
            "_view_module_version": "1.2.0",
            "_view_name": "LayoutView",
            "align_content": null,
            "align_items": null,
            "align_self": null,
            "border": null,
            "bottom": null,
            "display": null,
            "flex": null,
            "flex_flow": null,
            "grid_area": null,
            "grid_auto_columns": null,
            "grid_auto_flow": null,
            "grid_auto_rows": null,
            "grid_column": null,
            "grid_gap": null,
            "grid_row": null,
            "grid_template_areas": null,
            "grid_template_columns": null,
            "grid_template_rows": null,
            "height": null,
            "justify_content": null,
            "justify_items": null,
            "left": null,
            "margin": null,
            "max_height": null,
            "max_width": null,
            "min_height": null,
            "min_width": null,
            "object_fit": null,
            "object_position": null,
            "order": null,
            "overflow": null,
            "overflow_x": null,
            "overflow_y": null,
            "padding": null,
            "right": null,
            "top": null,
            "visibility": null,
            "width": null
          }
        },
        "5d3c54a52fb644b19de9c8cfaaede1a1": {
          "model_module": "@jupyter-widgets/controls",
          "model_name": "VBoxModel",
          "model_module_version": "1.5.0",
          "state": {
            "_dom_classes": [
              "widget-interact"
            ],
            "_model_module": "@jupyter-widgets/controls",
            "_model_module_version": "1.5.0",
            "_model_name": "VBoxModel",
            "_view_count": null,
            "_view_module": "@jupyter-widgets/controls",
            "_view_module_version": "1.5.0",
            "_view_name": "VBoxView",
            "box_style": "",
            "children": [
              "IPY_MODEL_cda7363b2325416983c04386b0ec0d7b",
              "IPY_MODEL_75524e088f40422c9f2fccf67cefd360"
            ],
            "layout": "IPY_MODEL_179320e41ae543468e44b4717d054c39"
          }
        },
        "cda7363b2325416983c04386b0ec0d7b": {
          "model_module": "@jupyter-widgets/controls",
          "model_name": "IntSliderModel",
          "model_module_version": "1.5.0",
          "state": {
            "_dom_classes": [],
            "_model_module": "@jupyter-widgets/controls",
            "_model_module_version": "1.5.0",
            "_model_name": "IntSliderModel",
            "_view_count": null,
            "_view_module": "@jupyter-widgets/controls",
            "_view_module_version": "1.5.0",
            "_view_name": "IntSliderView",
            "continuous_update": true,
            "description": "Slice:",
            "description_tooltip": null,
            "disabled": false,
            "layout": "IPY_MODEL_c4c62e505089491693ffadafa4463a33",
            "max": 300,
            "min": 200,
            "orientation": "horizontal",
            "readout": true,
            "readout_format": "d",
            "step": 1,
            "style": "IPY_MODEL_1dba0879010b4e9ca12d420cb239b47e",
            "value": 200
          }
        },
        "75524e088f40422c9f2fccf67cefd360": {
          "model_module": "@jupyter-widgets/output",
          "model_name": "OutputModel",
          "model_module_version": "1.0.0",
          "state": {
            "_dom_classes": [],
            "_model_module": "@jupyter-widgets/output",
            "_model_module_version": "1.0.0",
            "_model_name": "OutputModel",
            "_view_count": null,
            "_view_module": "@jupyter-widgets/output",
            "_view_module_version": "1.0.0",
            "_view_name": "OutputView",
            "layout": "IPY_MODEL_55218861c53948b6898bbe1d834e87e9",
            "msg_id": "",
            "outputs": [
              {
                "output_type": "display_data",
                "data": {
                  "text/plain": "<Figure size 1800x500 with 6 Axes>",
                  "image/png": "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\n"
                },
                "metadata": {}
              }
            ]
          }
        },
        "179320e41ae543468e44b4717d054c39": {
          "model_module": "@jupyter-widgets/base",
          "model_name": "LayoutModel",
          "model_module_version": "1.2.0",
          "state": {
            "_model_module": "@jupyter-widgets/base",
            "_model_module_version": "1.2.0",
            "_model_name": "LayoutModel",
            "_view_count": null,
            "_view_module": "@jupyter-widgets/base",
            "_view_module_version": "1.2.0",
            "_view_name": "LayoutView",
            "align_content": null,
            "align_items": null,
            "align_self": null,
            "border": null,
            "bottom": null,
            "display": null,
            "flex": null,
            "flex_flow": null,
            "grid_area": null,
            "grid_auto_columns": null,
            "grid_auto_flow": null,
            "grid_auto_rows": null,
            "grid_column": null,
            "grid_gap": null,
            "grid_row": null,
            "grid_template_areas": null,
            "grid_template_columns": null,
            "grid_template_rows": null,
            "height": null,
            "justify_content": null,
            "justify_items": null,
            "left": null,
            "margin": null,
            "max_height": null,
            "max_width": null,
            "min_height": null,
            "min_width": null,
            "object_fit": null,
            "object_position": null,
            "order": null,
            "overflow": null,
            "overflow_x": null,
            "overflow_y": null,
            "padding": null,
            "right": null,
            "top": null,
            "visibility": null,
            "width": null
          }
        },
        "c4c62e505089491693ffadafa4463a33": {
          "model_module": "@jupyter-widgets/base",
          "model_name": "LayoutModel",
          "model_module_version": "1.2.0",
          "state": {
            "_model_module": "@jupyter-widgets/base",
            "_model_module_version": "1.2.0",
            "_model_name": "LayoutModel",
            "_view_count": null,
            "_view_module": "@jupyter-widgets/base",
            "_view_module_version": "1.2.0",
            "_view_name": "LayoutView",
            "align_content": null,
            "align_items": null,
            "align_self": null,
            "border": null,
            "bottom": null,
            "display": null,
            "flex": null,
            "flex_flow": null,
            "grid_area": null,
            "grid_auto_columns": null,
            "grid_auto_flow": null,
            "grid_auto_rows": null,
            "grid_column": null,
            "grid_gap": null,
            "grid_row": null,
            "grid_template_areas": null,
            "grid_template_columns": null,
            "grid_template_rows": null,
            "height": null,
            "justify_content": null,
            "justify_items": null,
            "left": null,
            "margin": null,
            "max_height": null,
            "max_width": null,
            "min_height": null,
            "min_width": null,
            "object_fit": null,
            "object_position": null,
            "order": null,
            "overflow": null,
            "overflow_x": null,
            "overflow_y": null,
            "padding": null,
            "right": null,
            "top": null,
            "visibility": null,
            "width": null
          }
        },
        "1dba0879010b4e9ca12d420cb239b47e": {
          "model_module": "@jupyter-widgets/controls",
          "model_name": "SliderStyleModel",
          "model_module_version": "1.5.0",
          "state": {
            "_model_module": "@jupyter-widgets/controls",
            "_model_module_version": "1.5.0",
            "_model_name": "SliderStyleModel",
            "_view_count": null,
            "_view_module": "@jupyter-widgets/base",
            "_view_module_version": "1.2.0",
            "_view_name": "StyleView",
            "description_width": "",
            "handle_color": null
          }
        },
        "55218861c53948b6898bbe1d834e87e9": {
          "model_module": "@jupyter-widgets/base",
          "model_name": "LayoutModel",
          "model_module_version": "1.2.0",
          "state": {
            "_model_module": "@jupyter-widgets/base",
            "_model_module_version": "1.2.0",
            "_model_name": "LayoutModel",
            "_view_count": null,
            "_view_module": "@jupyter-widgets/base",
            "_view_module_version": "1.2.0",
            "_view_name": "LayoutView",
            "align_content": null,
            "align_items": null,
            "align_self": null,
            "border": null,
            "bottom": null,
            "display": null,
            "flex": null,
            "flex_flow": null,
            "grid_area": null,
            "grid_auto_columns": null,
            "grid_auto_flow": null,
            "grid_auto_rows": null,
            "grid_column": null,
            "grid_gap": null,
            "grid_row": null,
            "grid_template_areas": null,
            "grid_template_columns": null,
            "grid_template_rows": null,
            "height": null,
            "justify_content": null,
            "justify_items": null,
            "left": null,
            "margin": null,
            "max_height": null,
            "max_width": null,
            "min_height": null,
            "min_width": null,
            "object_fit": null,
            "object_position": null,
            "order": null,
            "overflow": null,
            "overflow_x": null,
            "overflow_y": null,
            "padding": null,
            "right": null,
            "top": null,
            "visibility": null,
            "width": null
          }
        }
      }
    }
  },
  "nbformat": 4,
  "nbformat_minor": 0
}